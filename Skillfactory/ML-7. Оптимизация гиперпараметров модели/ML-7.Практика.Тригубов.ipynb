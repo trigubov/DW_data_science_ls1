{
 "cells": [
  {
   "cell_type": "markdown",
   "metadata": {},
   "source": [
    "# ML-7. Прогнозирование биологического ответа (HW-3)\n",
    "#### Необходимо предсказать биологический ответ молекул (столбец 'Activity') по их химическому составу (столбцы D1-D1776).\n",
    "\n",
    "Данные представлены в формате CSV.  Каждая строка представляет молекулу. \n",
    "\n",
    "Первый столбец Activity содержит экспериментальные данные, описывающие фактический биологический ответ [0, 1]; \n",
    "Остальные столбцы D1-D1776 представляют собой молекулярные дескрипторы — это вычисляемые свойства, которые могут фиксировать некоторые характеристики молекулы, например размер, форму или состав элементов.\n",
    "\n",
    "Предварительная обработка не требуется, данные уже закодированы и нормализованы.\n",
    "\n",
    "В качестве метрики будем использовать F1-score.\n",
    "\n",
    "Необходимо обучить две модели: логистическую регрессию и случайный лес. Далее нужно сделать подбор гиперпараметров с помощью базовых и продвинутых методов оптимизации. Важно использовать все четыре метода (GridSeachCV, RandomizedSearchCV, Hyperopt, Optuna) хотя бы по разу, максимальное количество итераций не должно превышать 50."
   ]
  },
  {
   "cell_type": "code",
   "execution_count": 1,
   "metadata": {},
   "outputs": [
    {
     "name": "stderr",
     "output_type": "stream",
     "text": [
      "C:\\Users\\trigubov\\AppData\\Local\\Temp\\ipykernel_12672\\2538845368.py:24: MatplotlibDeprecationWarning: The seaborn styles shipped by Matplotlib are deprecated since 3.6, as they no longer correspond to the styles shipped by seaborn. However, they will remain available as 'seaborn-v0_8-<style>'. Alternatively, directly use the seaborn API instead.\n",
      "  plt.style.use('seaborn')\n"
     ]
    }
   ],
   "source": [
    "#импорт библиотек\n",
    "import numpy as np #для матричных вычислений\n",
    "import pandas as pd #для анализа и предобработки данных\n",
    "import matplotlib.pyplot as plt #для визуализации\n",
    "import seaborn as sns #для визуализации\n",
    "\n",
    "from sklearn import linear_model #линейные моделиё\n",
    "from sklearn import tree #деревья решений\n",
    "from sklearn import ensemble #ансамбли\n",
    "from sklearn import metrics #метрики\n",
    "from sklearn import preprocessing #предобработка\n",
    "from sklearn.model_selection import train_test_split #сплитование выборки\n",
    "\n",
    "from scipy.stats import randint\n",
    "\n",
    "from sklearn.model_selection import GridSearchCV\n",
    "from sklearn.model_selection import RandomizedSearchCV\n",
    "from sklearn.model_selection import cross_val_score\n",
    "import hyperopt\n",
    "from hyperopt import hp, fmin, tpe, Trials\n",
    "import optuna\n",
    "\n",
    "%matplotlib inline\n",
    "plt.style.use('seaborn')"
   ]
  },
  {
   "cell_type": "code",
   "execution_count": 2,
   "metadata": {},
   "outputs": [
    {
     "data": {
      "text/html": [
       "<div>\n",
       "<style scoped>\n",
       "    .dataframe tbody tr th:only-of-type {\n",
       "        vertical-align: middle;\n",
       "    }\n",
       "\n",
       "    .dataframe tbody tr th {\n",
       "        vertical-align: top;\n",
       "    }\n",
       "\n",
       "    .dataframe thead th {\n",
       "        text-align: right;\n",
       "    }\n",
       "</style>\n",
       "<table border=\"1\" class=\"dataframe\">\n",
       "  <thead>\n",
       "    <tr style=\"text-align: right;\">\n",
       "      <th></th>\n",
       "      <th>Activity</th>\n",
       "      <th>D1</th>\n",
       "      <th>D2</th>\n",
       "      <th>D3</th>\n",
       "      <th>D4</th>\n",
       "      <th>D5</th>\n",
       "      <th>D6</th>\n",
       "      <th>D7</th>\n",
       "      <th>D8</th>\n",
       "      <th>D9</th>\n",
       "      <th>...</th>\n",
       "      <th>D1767</th>\n",
       "      <th>D1768</th>\n",
       "      <th>D1769</th>\n",
       "      <th>D1770</th>\n",
       "      <th>D1771</th>\n",
       "      <th>D1772</th>\n",
       "      <th>D1773</th>\n",
       "      <th>D1774</th>\n",
       "      <th>D1775</th>\n",
       "      <th>D1776</th>\n",
       "    </tr>\n",
       "  </thead>\n",
       "  <tbody>\n",
       "    <tr>\n",
       "      <th>0</th>\n",
       "      <td>1</td>\n",
       "      <td>0.000000</td>\n",
       "      <td>0.497009</td>\n",
       "      <td>0.10</td>\n",
       "      <td>0.0</td>\n",
       "      <td>0.132956</td>\n",
       "      <td>0.678031</td>\n",
       "      <td>0.273166</td>\n",
       "      <td>0.585445</td>\n",
       "      <td>0.743663</td>\n",
       "      <td>...</td>\n",
       "      <td>0</td>\n",
       "      <td>0</td>\n",
       "      <td>0</td>\n",
       "      <td>0</td>\n",
       "      <td>0</td>\n",
       "      <td>0</td>\n",
       "      <td>0</td>\n",
       "      <td>0</td>\n",
       "      <td>0</td>\n",
       "      <td>0</td>\n",
       "    </tr>\n",
       "    <tr>\n",
       "      <th>1</th>\n",
       "      <td>1</td>\n",
       "      <td>0.366667</td>\n",
       "      <td>0.606291</td>\n",
       "      <td>0.05</td>\n",
       "      <td>0.0</td>\n",
       "      <td>0.111209</td>\n",
       "      <td>0.803455</td>\n",
       "      <td>0.106105</td>\n",
       "      <td>0.411754</td>\n",
       "      <td>0.836582</td>\n",
       "      <td>...</td>\n",
       "      <td>1</td>\n",
       "      <td>1</td>\n",
       "      <td>1</td>\n",
       "      <td>1</td>\n",
       "      <td>0</td>\n",
       "      <td>1</td>\n",
       "      <td>0</td>\n",
       "      <td>0</td>\n",
       "      <td>1</td>\n",
       "      <td>0</td>\n",
       "    </tr>\n",
       "    <tr>\n",
       "      <th>2</th>\n",
       "      <td>1</td>\n",
       "      <td>0.033300</td>\n",
       "      <td>0.480124</td>\n",
       "      <td>0.00</td>\n",
       "      <td>0.0</td>\n",
       "      <td>0.209791</td>\n",
       "      <td>0.610350</td>\n",
       "      <td>0.356453</td>\n",
       "      <td>0.517720</td>\n",
       "      <td>0.679051</td>\n",
       "      <td>...</td>\n",
       "      <td>0</td>\n",
       "      <td>0</td>\n",
       "      <td>0</td>\n",
       "      <td>0</td>\n",
       "      <td>0</td>\n",
       "      <td>0</td>\n",
       "      <td>0</td>\n",
       "      <td>0</td>\n",
       "      <td>0</td>\n",
       "      <td>0</td>\n",
       "    </tr>\n",
       "  </tbody>\n",
       "</table>\n",
       "<p>3 rows × 1777 columns</p>\n",
       "</div>"
      ],
      "text/plain": [
       "   Activity        D1        D2    D3   D4        D5        D6        D7  \\\n",
       "0         1  0.000000  0.497009  0.10  0.0  0.132956  0.678031  0.273166   \n",
       "1         1  0.366667  0.606291  0.05  0.0  0.111209  0.803455  0.106105   \n",
       "2         1  0.033300  0.480124  0.00  0.0  0.209791  0.610350  0.356453   \n",
       "\n",
       "         D8        D9  ...  D1767  D1768  D1769  D1770  D1771  D1772  D1773  \\\n",
       "0  0.585445  0.743663  ...      0      0      0      0      0      0      0   \n",
       "1  0.411754  0.836582  ...      1      1      1      1      0      1      0   \n",
       "2  0.517720  0.679051  ...      0      0      0      0      0      0      0   \n",
       "\n",
       "   D1774  D1775  D1776  \n",
       "0      0      0      0  \n",
       "1      0      1      0  \n",
       "2      0      0      0  \n",
       "\n",
       "[3 rows x 1777 columns]"
      ]
     },
     "execution_count": 2,
     "metadata": {},
     "output_type": "execute_result"
    }
   ],
   "source": [
    "#загрузим данные, посмотрим на них\n",
    "data = pd.read_csv('data/_train_sem09__1_.zip')\n",
    "data.head(3)"
   ]
  },
  {
   "cell_type": "markdown",
   "metadata": {},
   "source": [
    "#### Предварительная обработка не требуется, данные уже закодированы и нормализованы."
   ]
  },
  {
   "cell_type": "code",
   "execution_count": 3,
   "metadata": {},
   "outputs": [
    {
     "data": {
      "image/png": "[encoded data removed]",
      "text/plain": [
       "<Figure size 800x550 with 1 Axes>"
      ]
     },
     "metadata": {},
     "output_type": "display_data"
    }
   ],
   "source": [
    "# Посмотрим на сбалансированность классов\n",
    "sns.countplot(data=data, x='Activity');"
   ]
  },
  {
   "cell_type": "markdown",
   "metadata": {},
   "source": [
    "Хорошо. Можнор сказать, что данные сбалансированы."
   ]
  },
  {
   "cell_type": "code",
   "execution_count": 4,
   "metadata": {},
   "outputs": [],
   "source": [
    "# создадим матрицу наблюдений и матрицу ответов\n",
    "X = data.drop(['Activity'], axis=1)\n",
    "y = data['Activity']"
   ]
  },
  {
   "cell_type": "markdown",
   "metadata": {},
   "source": [
    "Разделим выборку на тренировочную и тестовую в соотношении 80/20. Хоть мы и будем использовать кросс-валидацию, мы так-же будем использовать отдельную тестовую выборку, для контроля"
   ]
  },
  {
   "cell_type": "code",
   "execution_count": 5,
   "metadata": {},
   "outputs": [],
   "source": [
    "X_train, X_test, y_train, y_test = train_test_split(X, y, random_state = 42, test_size = 0.2)"
   ]
  },
  {
   "cell_type": "markdown",
   "metadata": {},
   "source": [
    "## Базовые модели\n",
    "Для начала построим базовые модели, с настройками по умолчанию, что-бы было с чем сравнивать результаты подборок гиперпараметров"
   ]
  },
  {
   "cell_type": "code",
   "execution_count": 6,
   "metadata": {},
   "outputs": [
    {
     "name": "stdout",
     "output_type": "stream",
     "text": [
      "Логистическая регрессия. f1_score на тестовом наборе: 0.79\n"
     ]
    }
   ],
   "source": [
    "#Создаем объект класса логистическая регрессия\n",
    "log_reg = linear_model.LogisticRegression(max_iter = 1000,random_state=42)\n",
    "log_reg.fit(X_train, y_train)\n",
    "y_test_pred = log_reg.predict(X_test)\n",
    "print('Логистическая регрессия. f1_score на тестовом наборе: {:.2f}'.format(metrics.f1_score(y_test, y_test_pred)))"
   ]
  },
  {
   "cell_type": "code",
   "execution_count": 7,
   "metadata": {},
   "outputs": [
    {
     "name": "stdout",
     "output_type": "stream",
     "text": [
      "Случайный лес. f1_score на тестовом наборе: 0.83\n"
     ]
    }
   ],
   "source": [
    "#Создаем объект класса случайный лес\n",
    "rf = ensemble.RandomForestClassifier(random_state=42)\n",
    "#Обучаем модель\n",
    "rf.fit(X_train, y_train)\n",
    "#Выводим значения метрики \n",
    "y_test_pred = rf.predict(X_test)\n",
    "print('Случайный лес. f1_score на тестовом наборе: {:.2f}'.format(metrics.f1_score(y_test, y_test_pred)))"
   ]
  },
  {
   "cell_type": "markdown",
   "metadata": {},
   "source": [
    "Базовые модели показали уже доввольно неплохие результаты. Посмотрим, как мы сможем их улучшить, используя различные методы подбора гиперпараметров"
   ]
  },
  {
   "cell_type": "markdown",
   "metadata": {},
   "source": [
    "## Метод GridSearchCV"
   ]
  },
  {
   "cell_type": "markdown",
   "metadata": {},
   "source": [
    "### Логистическая регрессия"
   ]
  },
  {
   "cell_type": "code",
   "execution_count": 9,
   "metadata": {},
   "outputs": [
    {
     "name": "stdout",
     "output_type": "stream",
     "text": [
      "CPU times: total: 5.81 s\n",
      "Wall time: 12min 37s\n",
      "f1_score на тестовом наборе: 0.79\n",
      "Наилучшие значения гиперпараметров: {'C': 0.1, 'penalty': 'l2', 'solver': 'lbfgs'}\n"
     ]
    }
   ],
   "source": [
    "param_grid = [{'penalty': ['l2', 'none'] ,#тип регурялизации\n",
    "              'solver': ['lbfgs', 'saga'], #алгоритм оптимизации\n",
    "              'C': [0.01, 0.1, 0.2, 0.4, 0.8, 1]}, # уровень силы регурялизации\n",
    "              \n",
    "              {'penalty': ['l1', 'l2'] ,\n",
    "              'solver': ['liblinear', 'saga'],\n",
    "              'C': [0.01, 0.1, 0.2, 0.4, 0.8, 1]\n",
    "              }\n",
    "            ]\n",
    "\n",
    "# 2 * 2 * 6   +  2 * 2 * 6 = 48 итераций. Количество итераций не превышает требуемые 50\n",
    "\n",
    "grid_search = GridSearchCV(\n",
    "    estimator=linear_model.LogisticRegression(\n",
    "        random_state=42, #генератор случайных чисел\n",
    "        max_iter=1000 #количество итераций на сходимость\n",
    "    ), \n",
    "    param_grid=param_grid,\n",
    "    scoring='f1', # наша целевая метрика, по которой ведётся поиск\n",
    "    cv=5, # количество кросс-валидаций\n",
    "    n_jobs = -1\n",
    ")  \n",
    "%time grid_search.fit(X_train, y_train) \n",
    "\n",
    "y_test_pred = grid_search.predict(X_test)\n",
    "\n",
    "print('f1_score на тестовом наборе: {:.2f}'.format(metrics.f1_score(y_test, y_test_pred)))\n",
    "print(\"Наилучшие значения гиперпараметров: {}\".format(grid_search.best_params_))\n"
   ]
  },
  {
   "cell_type": "markdown",
   "metadata": {},
   "source": [
    "Перебрав все возможные варианты (48 штук) метрику F1 не удалось улучшить. Как было с дефолтными настройками 0.79, так и осталось"
   ]
  },
  {
   "cell_type": "markdown",
   "metadata": {},
   "source": [
    "### Случайный лес"
   ]
  },
  {
   "cell_type": "code",
   "execution_count": 10,
   "metadata": {},
   "outputs": [
    {
     "name": "stdout",
     "output_type": "stream",
     "text": [
      "CPU times: total: 1.28 s\n",
      "Wall time: 23.7 s\n",
      "f1_score на тестовом наборе: 0.82\n",
      "Наилучшие значения гиперпараметров: {'criterion': 'entropy', 'max_depth': 9, 'min_samples_leaf': 1, 'n_estimators': 32}\n"
     ]
    }
   ],
   "source": [
    "param_grid = {'min_samples_leaf': [1,10,50],\n",
    "              'max_depth': [6,7,8,9],\n",
    "              'criterion':['entropy','gini'],\n",
    "              'n_estimators': [32,64], # количество деревьев в лесу\n",
    "              }\n",
    "\n",
    "# 3 * 4 * 2 * 2 = 48 возможных итераций. Это меньше максимального значения по условиям задачи\n",
    "\n",
    "grid_search_tree = GridSearchCV(\n",
    "    estimator=ensemble.RandomForestClassifier(random_state=42), \n",
    "    param_grid=param_grid,\n",
    "    scoring='f1', # наша целевая метрика, по которой ведётся поиск\n",
    "    cv=5, # количество кросс-валидаций\n",
    "    n_jobs = -1\n",
    ")\n",
    "\n",
    "%time grid_search_tree.fit(X_train, y_train) \n",
    "\n",
    "y_test_pred = grid_search_tree.predict(X_test)\n",
    "\n",
    "print('f1_score на тестовом наборе: {:.2f}'.format(metrics.f1_score(y_test, y_test_pred)))\n",
    "print(\"Наилучшие значения гиперпараметров: {}\".format(grid_search_tree.best_params_))"
   ]
  },
  {
   "cell_type": "markdown",
   "metadata": {},
   "source": [
    "Метрику F1 для случайного леса так-же не удалось улучшить. Но это и неудивительно. Мы заранее не знаем какие параметры нам подойдут, и взяли первые, примерно подходящие в параметрах, которые более-менее сильно влияют на результат. А перебирать вообще все возможные варианты всех возможных гиперпараметров - задача займёт огромное количество времени. "
   ]
  },
  {
   "cell_type": "markdown",
   "metadata": {},
   "source": [
    "## Метод RandomSearchCV"
   ]
  },
  {
   "cell_type": "markdown",
   "metadata": {},
   "source": [
    "С RandomSearchCV ситуация чуть получше. Мы смогли охватить намного больше гиперпараметров и их значений, ограничив лишь максимумом в 50 количество возможных случайных комбинаций."
   ]
  },
  {
   "cell_type": "markdown",
   "metadata": {},
   "source": [
    "### Логистическая регрессия"
   ]
  },
  {
   "cell_type": "code",
   "execution_count": 11,
   "metadata": {},
   "outputs": [
    {
     "name": "stdout",
     "output_type": "stream",
     "text": [
      "CPU times: total: 15.1 s\n",
      "Wall time: 14min 36s\n",
      "f1_score на тестовом наборе: 0.79\n",
      "Наилучшие значения гиперпараметров: {'solver': 'saga', 'penalty': 'l2', 'C': 0.06210526315789474}\n"
     ]
    }
   ],
   "source": [
    "param_distributions = [{'penalty': ['l2', 'none'] ,#тип регурялизации\n",
    "              'solver': ['lbfgs', 'saga','newton-cg','newton-cholesky'], #алгоритм оптимизации\n",
    "              'C': list(np.linspace(0.01, 1, 20, dtype=float))}, # уровень силы регурялизации\n",
    "              \n",
    "              {'penalty': ['l1', 'l2'] ,\n",
    "              'solver': ['liblinear', 'saga'],\n",
    "              'C': list(np.linspace(0.01, 1, 10, dtype=float))\n",
    "              }\n",
    "            ]\n",
    "            \n",
    "random_search = RandomizedSearchCV(\n",
    "    estimator=linear_model.LogisticRegression(random_state=42, max_iter=1000), \n",
    "    param_distributions=param_distributions, \n",
    "    cv=5,\n",
    "    scoring='f1', # наша целевая метрика, по которой ведётся поиск\n",
    "    n_iter = 50, \n",
    "    n_jobs = -1,\n",
    "    random_state=42\n",
    ")  \n",
    "%time random_search.fit(X_train, y_train) \n",
    "y_test_pred = random_search.predict(X_test)\n",
    "print('f1_score на тестовом наборе: {:.2f}'.format(metrics.f1_score(y_test, y_test_pred)))\n",
    "print(\"Наилучшие значения гиперпараметров: {}\".format(random_search.best_params_))"
   ]
  },
  {
   "cell_type": "markdown",
   "metadata": {},
   "source": [
    "### Случайный лес"
   ]
  },
  {
   "cell_type": "code",
   "execution_count": 15,
   "metadata": {},
   "outputs": [
    {
     "name": "stdout",
     "output_type": "stream",
     "text": [
      "CPU times: total: 2.47 s\n",
      "Wall time: 23.9 s\n",
      "f1_score на тестовом наборе: 0.82\n",
      "Наилучшие значения гиперпараметров: {'criterion': 'gini', 'max_depth': 13, 'max_features': 'sqrt', 'min_samples_leaf': 6, 'n_estimators': 96}\n"
     ]
    }
   ],
   "source": [
    "param_distributions = {'n_estimators': list(range(8, 128, 8)),\n",
    "              'min_samples_leaf': randint(1,100),\n",
    "              'max_depth': np.arange(5,15),\n",
    "              'criterion': ['entropy','gini'],\n",
    "              'max_features': ['sqrt', 'log2'],\n",
    "              }\n",
    "            \n",
    "random_search_forest = RandomizedSearchCV(\n",
    "    estimator=ensemble.RandomForestClassifier(random_state=42), \n",
    "    param_distributions=param_distributions, \n",
    "    cv=5,\n",
    "    n_iter = 50,\n",
    "    n_jobs = -1,\n",
    "    random_state=42\n",
    ")  \n",
    "%time random_search_forest.fit(X_train, y_train) \n",
    "\n",
    "y_train_pred = random_search_forest.predict(X_train)\n",
    "\n",
    "y_test_pred = random_search_forest.predict(X_test)\n",
    "print('f1_score на тестовом наборе: {:.2f}'.format(metrics.f1_score(y_test, y_test_pred)))\n",
    "print(\"Наилучшие значения гиперпараметров: {}\".format(random_search_forest.best_params_))"
   ]
  },
  {
   "cell_type": "markdown",
   "metadata": {},
   "source": [
    "Метрику всё еще не удалось улучшить, однако, возможности случайного перебора заметно выше - мы охватили значительно больше гиперпараметров и их значений при том-же количестве итераций."
   ]
  },
  {
   "cell_type": "markdown",
   "metadata": {},
   "source": [
    "## Hyperopt"
   ]
  },
  {
   "cell_type": "markdown",
   "metadata": {},
   "source": [
    "Я очень пытался разобраться, как для линейной регрессии сделать разные параметры solver, в зависимости от типа penalty, как мы это делали для GridSearchCV и RandomizedSearchCV. Тут это как-то очень непросто. Надеюсь, у меня получилось. Еле нашёл решение. Недостаток примеров и документации по Hyperopt - удручает"
   ]
  },
  {
   "cell_type": "markdown",
   "metadata": {},
   "source": [
    "### Линейная регрессия"
   ]
  },
  {
   "cell_type": "code",
   "execution_count": 148,
   "metadata": {},
   "outputs": [],
   "source": [
    "# зададим пространство поиска гиперпараметров\n",
    "\n",
    "solvers1 = [\"newton-cg\", \"lbfgs\", ]\n",
    "solvers2 = [\"liblinear\", ]\n",
    "#solvers3 = [\"saga\", ]\n",
    "penalties1 = [\"l2\", \"none\"]\n",
    "penalties2 = [\"l1\", \"l2\"]\n",
    "#penalties3 = [\"l1\", \"elasticnet\", \"l2\"]\n",
    "\n",
    "case1 = {\n",
    "        \"penalty1\": hp.choice(\"penalty1\", penalties1),\n",
    "        \"solver1\": hp.choice(\"solver1\", solvers1)\n",
    "}\n",
    "case2 = {\n",
    "        \"penalty2\": hp.choice(\"penalty2\", penalties2),\n",
    "        \"solver2\": hp.choice(\"solver2\", solvers2)\n",
    "}\n",
    "#case3 = {\n",
    "#        \"penalty3\": hp.choice(\"penalty3\", penalties3),\n",
    "#        \"solver3\": hp.choice(\"solver3\", solvers3)\n",
    "#}\n",
    "\n",
    "space = {\n",
    "    'C': hp.loguniform(label='C', low=-4*np.log(10), high=2*np.log(10)),    \n",
    "    \"cases\" : hp.choice(\"cases\", [(\"case1\", case1), (\"case2\", case2)])\n",
    "}"
   ]
  },
  {
   "cell_type": "code",
   "execution_count": 164,
   "metadata": {},
   "outputs": [],
   "source": [
    "def hyperopt_lr(params_, cv=5, X=X_train, y=y_train, random_state=42):\n",
    "    # функция получает комбинацию гиперпараметров в \"params\"    \n",
    "   \n",
    "    C = params_[\"C\"]\n",
    "    kwds = params_[\"cases\"]\n",
    "    \n",
    "\n",
    "    penalty = kwds[1][\"penalty1\"] if kwds[0] == \"case1\" else kwds[1][\"penalty2\"] if kwds[0] == \"case2\" else kwds[1][\"penalty3\"]\n",
    "    solver = kwds[1][\"solver1\"] if kwds[0] == \"case1\" else kwds[1][\"solver2\"] if kwds[0] == \"case2\" else kwds[1][\"solver3\"]   \n",
    "\n",
    "    # print (C,penalty,solver)\n",
    "    # используем эту комбинацию для построения модели\n",
    "    model = linear_model.LogisticRegression(C=C,\n",
    "                                            penalty=penalty,\n",
    "                                            solver=solver,\n",
    "                                            random_state=42,\n",
    "                                            max_iter=1000)\n",
    "        \n",
    "    # обучим модель с помощью кросс валидации\n",
    "    score = cross_val_score(model, X, y, cv=cv, scoring=\"f1\", n_jobs=-1).mean()    \n",
    "\n",
    "    # метрику необходимо минимизировать, поэтому ставим знак минус\n",
    "    return -score"
   ]
  },
  {
   "cell_type": "code",
   "execution_count": 165,
   "metadata": {},
   "outputs": [
    {
     "name": "stdout",
     "output_type": "stream",
     "text": [
      "  0%|          | 0/50 [00:00<?, ?trial/s, best loss=?]"
     ]
    },
    {
     "name": "stdout",
     "output_type": "stream",
     "text": [
      "100%|██████████| 50/50 [09:15<00:00, 11.11s/trial, best loss: -0.7849656593895886]\n"
     ]
    }
   ],
   "source": [
    "# начинаем подбор гиперпараметров\n",
    "\n",
    "trials = Trials() # используется для логирования результатов\n",
    "\n",
    "best=fmin(hyperopt_lr, # наша функция \n",
    "          space=space, # пространство гиперпараметров\n",
    "          algo=tpe.suggest, # алгоритм оптимизации, установлен по умолчанию, задавать необязательно\n",
    "          max_evals=50, # максимальное количество итераций\n",
    "          trials=trials, # логирование результатов          \n",
    "          rstate=np.random.default_rng(42)\n",
    "         )\n"
   ]
  },
  {
   "cell_type": "code",
   "execution_count": 166,
   "metadata": {},
   "outputs": [
    {
     "name": "stdout",
     "output_type": "stream",
     "text": [
      "Наилучшие значения гиперпараметров : {'C': 0.07037368830919978, 'penalty': 'l2', 'solver': 'newton-cg'}\n",
      "f1_score на тестовом наборе: 0.79\n"
     ]
    }
   ],
   "source": [
    "\n",
    "C = best[\"C\"]\n",
    "\n",
    "if best[\"cases\"] == 0:\n",
    "    penalty = penalties1[best[\"penalty1\"]]\n",
    "    solver = solvers1[best[\"solver1\"]]\n",
    "elif best[\"cases\"] == 1:\n",
    "    penalty = penalties2[best[\"penalty2\"]]\n",
    "    solver = solvers2[best[\"solver2\"]]\n",
    "#elif best[\"cases\"] == 2:\n",
    "#    penalty = penalties3[best[\"penalty3\"]]\n",
    "#    solver = solvers3[best[\"solver3\"]]\n",
    "\n",
    "model = linear_model.LogisticRegression(C=C,\n",
    "                                            penalty=penalty,\n",
    "                                            solver=solver,\n",
    "                                            random_state=50,\n",
    "                                            max_iter=1000)\n",
    "\n",
    "model.fit(X_train, y_train)\n",
    "y_test_pred = model.predict(X_test)\n",
    "\n",
    "print(\"Наилучшие значения гиперпараметров : {}\".format({\"C\":C,\n",
    "                                                   \"penalty\": penalty,                                                   \n",
    "                                                   \"solver\":solver,\n",
    "                                                  }))\n",
    "\n",
    "print('f1_score на тестовом наборе: {:.2f}'.format(metrics.f1_score(y_test, y_test_pred)))"
   ]
  },
  {
   "cell_type": "markdown",
   "metadata": {},
   "source": [
    "### Случайный лес"
   ]
  },
  {
   "cell_type": "code",
   "execution_count": 167,
   "metadata": {},
   "outputs": [],
   "source": [
    "# зададим пространство поиска гиперпараметров\n",
    "space={'n_estimators': hp.quniform('n_estimators', 50, 200, 1),\n",
    "       'max_depth' : hp.quniform('max_depth', 5, 30, 1),\n",
    "       'min_samples_leaf': hp.quniform('min_samples_leaf', 2, 10, 1)\n",
    "      }"
   ]
  },
  {
   "cell_type": "code",
   "execution_count": 169,
   "metadata": {},
   "outputs": [],
   "source": [
    "def hyperopt_rf(params, cv=5, X=X_train, y=y_train, random_state=42):\n",
    "    # функция получает комбинацию гиперпараметров в \"params\"\n",
    "    params = {'n_estimators': int(params['n_estimators']), \n",
    "              'max_depth': int(params['max_depth']), \n",
    "             'min_samples_leaf': int(params['min_samples_leaf'])\n",
    "              }\n",
    "  \n",
    "    # используем эту комбинацию для построения модели\n",
    "    model = ensemble.RandomForestClassifier(**params, random_state=42)\n",
    "\n",
    "    # обучаем модель\n",
    "    #model.fit(X, y)\n",
    "    #score = metrics.f1_score(y, model.predict(X))\n",
    "    \n",
    "    # обучать модель можно также с помощью кросс-валидации\n",
    "    # применим  cross validation с тем же количеством фолдов\n",
    "    \n",
    "    # Обучаем модель с помощью кросс-валидации\n",
    "    score = cross_val_score(model, X, y, cv=cv, scoring=\"f1\", n_jobs=-1).mean()\n",
    "\n",
    "    # метрику необходимо минимизировать, поэтому ставим знак минус\n",
    "    return -score"
   ]
  },
  {
   "cell_type": "code",
   "execution_count": 171,
   "metadata": {},
   "outputs": [
    {
     "name": "stdout",
     "output_type": "stream",
     "text": [
      "100%|██████████| 50/50 [02:24<00:00,  2.89s/trial, best loss: -0.8117589362318096]\n",
      "Наилучшие значения гиперпараметров {'max_depth': 18.0, 'min_samples_leaf': 2.0, 'n_estimators': 165.0}\n"
     ]
    }
   ],
   "source": [
    "# начинаем подбор гиперпараметров\n",
    "\n",
    "trials = Trials() # используется для логирования результатов\n",
    "\n",
    "best=fmin(hyperopt_rf, # наша функция \n",
    "          space=space, # пространство гиперпараметров\n",
    "          algo=tpe.suggest, # алгоритм оптимизации, установлен по умолчанию, задавать необязательно\n",
    "          max_evals=50, # максимальное количество итераций\n",
    "          trials=trials, # логирование результатов\n",
    "          #rstate=np.random.RandomState(random_state)# фиксируем для повторяемости результата !!! Это старый вариант!!!\n",
    "          rstate=np.random.default_rng(42)\n",
    "         )\n",
    "\n",
    "print(\"Наилучшие значения гиперпараметров {}\".format(best))"
   ]
  },
  {
   "cell_type": "code",
   "execution_count": 173,
   "metadata": {},
   "outputs": [
    {
     "name": "stdout",
     "output_type": "stream",
     "text": [
      "f1_score на тестовом наборе: 0.84\n"
     ]
    }
   ],
   "source": [
    "# рассчитаем точность для тестовой выборки\n",
    "model = ensemble.RandomForestClassifier(\n",
    "    random_state=42, \n",
    "    n_estimators=int(best['n_estimators']),\n",
    "    max_depth=int(best['max_depth']),\n",
    "    min_samples_leaf=int(best['min_samples_leaf'])\n",
    ")\n",
    "model.fit(X_train, y_train)\n",
    "y_test_pred = model.predict(X_test)\n",
    "print('f1_score на тестовом наборе: {:.2f}'.format(metrics.f1_score(y_test, y_test_pred)))"
   ]
  },
  {
   "cell_type": "markdown",
   "metadata": {},
   "source": [
    "Подведу вывод - HyperOpt - довольно неинтуитивная, и неудобная конструкция оптимизации, которая, судая по всему, не пользуется особой популярностью.\n",
    "Линейную регрессию ей улучшить не удалось, случайный леc смогли слегка улучшить с 0.83 до 0.84\n",
    "\n",
    "Хорошо, что есть Optuna. Ей работать намного удобней."
   ]
  },
  {
   "cell_type": "markdown",
   "metadata": {},
   "source": [
    "## Optuna"
   ]
  },
  {
   "cell_type": "markdown",
   "metadata": {},
   "source": [
    "### Логистическая регрессия"
   ]
  },
  {
   "cell_type": "code",
   "execution_count": 44,
   "metadata": {},
   "outputs": [],
   "source": [
    "# Настроим оптимизацию гиперпараметров для алгоритма случайного леса.\n",
    "\n",
    "def optuna_lr(trial):\n",
    "  # задаем пространства поиска гиперпараметров\n",
    "  \n",
    "  C = trial.suggest_float('C', 0.001, 1, log=True)\n",
    "  penalty = trial.suggest_categorical('penalty', ['l1', 'l2', 'none'])\n",
    "  \n",
    "  \n",
    "  solver1 = trial.suggest_categorical('solver1', ['liblinear', 'saga'])\n",
    "  solver2 = trial.suggest_categorical('solver2', ['liblinear', 'saga', 'lbfgs'])\n",
    "  solver3 = trial.suggest_categorical('solver3', ['saga', 'lbfgs'])\n",
    "  \n",
    "  if penalty == 'l1':\n",
    "    solver = solver1\n",
    "  elif penalty == 'l2':\n",
    "    solver = solver2\n",
    "  elif penalty == 'none':\n",
    "    solver = solver3    \n",
    "  \n",
    "  \n",
    "  # создаем модель\n",
    "  model = linear_model.LogisticRegression(penalty=penalty,\n",
    "                                          solver=solver,\n",
    "                                          C=C,\n",
    "                                          max_iter=1000,\n",
    "                                          random_state=42)\n",
    "    \n",
    "  #обучаем модель с помощью кросс-валидации\n",
    "  score = cross_val_score(model, X, y, cv=5, scoring=\"f1\", n_jobs=-1).mean()\n",
    "  \n",
    "  \n",
    "  # !!! а вот я еще так делал, и так быстрее в 5 раз !!!\n",
    "  # обучаем модель получая метрику сразу с тестовой выборки, а не с кросс-валидации тренировочной\n",
    "  \n",
    "  #model.fit(X_train, y_train)\n",
    "  #score = metrics.f1_score(y_test, model.predict(X_test))\n",
    "\n",
    "  return score"
   ]
  },
  {
   "cell_type": "code",
   "execution_count": 45,
   "metadata": {},
   "outputs": [
    {
     "name": "stderr",
     "output_type": "stream",
     "text": [
      "[I 2023-09-18 14:55:51,626] A new study created in memory with name: LogisticRegression\n",
      "[I 2023-09-18 14:56:25,624] Trial 0 finished with value: 0.7837306935843991 and parameters: {'C': 0.11031004517779804, 'penalty': 'l1', 'solver1': 'saga', 'solver2': 'liblinear', 'solver3': 'saga'}. Best is trial 0 with value: 0.7837306935843991.\n",
      "[I 2023-09-18 14:56:51,105] Trial 1 finished with value: 0.7222774173467272 and parameters: {'C': 0.10800550254432363, 'penalty': 'none', 'solver1': 'liblinear', 'solver2': 'saga', 'solver3': 'lbfgs'}. Best is trial 0 with value: 0.7837306935843991.\n",
      "[I 2023-09-18 14:56:58,458] Trial 2 finished with value: 0.7739117435780123 and parameters: {'C': 0.004053851084809973, 'penalty': 'l2', 'solver1': 'liblinear', 'solver2': 'saga', 'solver3': 'saga'}. Best is trial 0 with value: 0.7837306935843991.\n",
      "[I 2023-09-18 14:57:00,225] Trial 3 finished with value: 0.7786337204019699 and parameters: {'C': 0.5881969132957474, 'penalty': 'l2', 'solver1': 'saga', 'solver2': 'liblinear', 'solver3': 'lbfgs'}. Best is trial 0 with value: 0.7837306935843991.\n",
      "[I 2023-09-18 14:57:01,019] Trial 4 finished with value: 0.7738478531271181 and parameters: {'C': 0.05303475621171598, 'penalty': 'l1', 'solver1': 'liblinear', 'solver2': 'lbfgs', 'solver3': 'saga'}. Best is trial 0 with value: 0.7837306935843991.\n",
      "[I 2023-09-18 14:57:25,474] Trial 5 finished with value: 0.7222774173467272 and parameters: {'C': 0.0020708938970241614, 'penalty': 'none', 'solver1': 'liblinear', 'solver2': 'saga', 'solver3': 'lbfgs'}. Best is trial 0 with value: 0.7837306935843991.\n",
      "[I 2023-09-18 14:58:18,935] Trial 6 finished with value: 0.7856652639114788 and parameters: {'C': 0.16577893869819801, 'penalty': 'l1', 'solver1': 'saga', 'solver2': 'lbfgs', 'solver3': 'lbfgs'}. Best is trial 6 with value: 0.7856652639114788.\n",
      "[I 2023-09-18 14:58:42,868] Trial 7 finished with value: 0.7222774173467272 and parameters: {'C': 0.03639348694064557, 'penalty': 'none', 'solver1': 'saga', 'solver2': 'liblinear', 'solver3': 'lbfgs'}. Best is trial 6 with value: 0.7856652639114788.\n",
      "[I 2023-09-18 14:59:06,714] Trial 8 finished with value: 0.7222774173467272 and parameters: {'C': 0.0015966213870538075, 'penalty': 'none', 'solver1': 'liblinear', 'solver2': 'saga', 'solver3': 'lbfgs'}. Best is trial 6 with value: 0.7856652639114788.\n",
      "[I 2023-09-18 15:00:36,891] Trial 9 finished with value: 0.7821634818961659 and parameters: {'C': 0.5509687358290034, 'penalty': 'l1', 'solver1': 'saga', 'solver2': 'liblinear', 'solver3': 'lbfgs'}. Best is trial 6 with value: 0.7856652639114788.\n",
      "[I 2023-09-18 15:00:38,896] Trial 10 finished with value: 0.7522687790497345 and parameters: {'C': 0.00890302192783273, 'penalty': 'l1', 'solver1': 'saga', 'solver2': 'lbfgs', 'solver3': 'saga'}. Best is trial 6 with value: 0.7856652639114788.\n",
      "[I 2023-09-18 15:01:10,718] Trial 11 finished with value: 0.7854021264290028 and parameters: {'C': 0.13729278739318268, 'penalty': 'l1', 'solver1': 'saga', 'solver2': 'lbfgs', 'solver3': 'saga'}. Best is trial 6 with value: 0.7856652639114788.\n",
      "[I 2023-09-18 15:02:27,991] Trial 12 finished with value: 0.7894554589369205 and parameters: {'C': 0.2013637202243232, 'penalty': 'l1', 'solver1': 'saga', 'solver2': 'lbfgs', 'solver3': 'saga'}. Best is trial 12 with value: 0.7894554589369205.\n",
      "[I 2023-09-18 15:03:53,446] Trial 13 finished with value: 0.7874493591963907 and parameters: {'C': 0.2715853465165713, 'penalty': 'l1', 'solver1': 'saga', 'solver2': 'lbfgs', 'solver3': 'saga'}. Best is trial 12 with value: 0.7894554589369205.\n",
      "[I 2023-09-18 15:05:25,415] Trial 14 finished with value: 0.7789715711027455 and parameters: {'C': 0.889754773816756, 'penalty': 'l1', 'solver1': 'saga', 'solver2': 'lbfgs', 'solver3': 'saga'}. Best is trial 12 with value: 0.7894554589369205.\n",
      "[I 2023-09-18 15:06:52,363] Trial 15 finished with value: 0.7893266236815641 and parameters: {'C': 0.24552347511564765, 'penalty': 'l1', 'solver1': 'saga', 'solver2': 'lbfgs', 'solver3': 'saga'}. Best is trial 12 with value: 0.7894554589369205.\n",
      "[I 2023-09-18 15:06:59,421] Trial 16 finished with value: 0.7798202821497758 and parameters: {'C': 0.31192409124494663, 'penalty': 'l2', 'solver1': 'saga', 'solver2': 'lbfgs', 'solver3': 'saga'}. Best is trial 12 with value: 0.7894554589369205.\n",
      "[I 2023-09-18 15:07:02,125] Trial 17 finished with value: 0.7522687790497345 and parameters: {'C': 0.014039788783992264, 'penalty': 'l1', 'solver1': 'saga', 'solver2': 'lbfgs', 'solver3': 'saga'}. Best is trial 12 with value: 0.7894554589369205.\n",
      "[I 2023-09-18 15:07:15,706] Trial 18 finished with value: 0.771545866594938 and parameters: {'C': 0.057991143555077215, 'penalty': 'l1', 'solver1': 'saga', 'solver2': 'lbfgs', 'solver3': 'saga'}. Best is trial 12 with value: 0.7894554589369205.\n",
      "[I 2023-09-18 15:07:22,354] Trial 19 finished with value: 0.7809963502943591 and parameters: {'C': 0.25013137483890513, 'penalty': 'l2', 'solver1': 'saga', 'solver2': 'lbfgs', 'solver3': 'saga'}. Best is trial 12 with value: 0.7894554589369205.\n",
      "[I 2023-09-18 15:08:58,691] Trial 20 finished with value: 0.7786535850199158 and parameters: {'C': 0.9818298784762334, 'penalty': 'l1', 'solver1': 'saga', 'solver2': 'lbfgs', 'solver3': 'saga'}. Best is trial 12 with value: 0.7894554589369205.\n",
      "[I 2023-09-18 15:10:28,668] Trial 21 finished with value: 0.7872336395228605 and parameters: {'C': 0.31793145972160275, 'penalty': 'l1', 'solver1': 'saga', 'solver2': 'lbfgs', 'solver3': 'saga'}. Best is trial 12 with value: 0.7894554589369205.\n",
      "[I 2023-09-18 15:11:55,490] Trial 22 finished with value: 0.7891618274827722 and parameters: {'C': 0.22654115416456097, 'penalty': 'l1', 'solver1': 'saga', 'solver2': 'lbfgs', 'solver3': 'saga'}. Best is trial 12 with value: 0.7894554589369205.\n",
      "[I 2023-09-18 15:12:12,165] Trial 23 finished with value: 0.7767498605083609 and parameters: {'C': 0.067163492868442, 'penalty': 'l1', 'solver1': 'saga', 'solver2': 'lbfgs', 'solver3': 'saga'}. Best is trial 12 with value: 0.7894554589369205.\n",
      "[I 2023-09-18 15:13:32,056] Trial 24 finished with value: 0.7902323922037806 and parameters: {'C': 0.21172889134404593, 'penalty': 'l1', 'solver1': 'saga', 'solver2': 'lbfgs', 'solver3': 'saga'}. Best is trial 24 with value: 0.7902323922037806.\n",
      "[I 2023-09-18 15:14:59,836] Trial 25 finished with value: 0.786298187869712 and parameters: {'C': 0.44850233216333485, 'penalty': 'l1', 'solver1': 'saga', 'solver2': 'lbfgs', 'solver3': 'saga'}. Best is trial 24 with value: 0.7902323922037806.\n",
      "[I 2023-09-18 15:15:01,033] Trial 26 finished with value: 0.7840640492149921 and parameters: {'C': 0.1080526060586769, 'penalty': 'l1', 'solver1': 'liblinear', 'solver2': 'lbfgs', 'solver3': 'saga'}. Best is trial 24 with value: 0.7902323922037806.\n",
      "[I 2023-09-18 15:16:02,604] Trial 27 finished with value: 0.786121971182477 and parameters: {'C': 0.17569931754174345, 'penalty': 'l1', 'solver1': 'saga', 'solver2': 'lbfgs', 'solver3': 'saga'}. Best is trial 24 with value: 0.7902323922037806.\n",
      "[I 2023-09-18 15:16:30,533] Trial 28 finished with value: 0.7779147826057784 and parameters: {'C': 0.4869434311084891, 'penalty': 'l2', 'solver1': 'saga', 'solver2': 'saga', 'solver3': 'saga'}. Best is trial 24 with value: 0.7902323922037806.\n",
      "[I 2023-09-18 15:17:37,930] Trial 29 finished with value: 0.7567875582638045 and parameters: {'C': 0.11047886585362768, 'penalty': 'none', 'solver1': 'saga', 'solver2': 'liblinear', 'solver3': 'saga'}. Best is trial 24 with value: 0.7902323922037806.\n",
      "[I 2023-09-18 15:17:56,110] Trial 30 finished with value: 0.7770833539655823 and parameters: {'C': 0.07403794232711258, 'penalty': 'l1', 'solver1': 'saga', 'solver2': 'liblinear', 'solver3': 'saga'}. Best is trial 24 with value: 0.7902323922037806.\n",
      "[I 2023-09-18 15:19:12,055] Trial 31 finished with value: 0.7890670801228387 and parameters: {'C': 0.19432099095394284, 'penalty': 'l1', 'solver1': 'saga', 'solver2': 'lbfgs', 'solver3': 'saga'}. Best is trial 24 with value: 0.7902323922037806.\n",
      "[I 2023-09-18 15:20:38,819] Trial 32 finished with value: 0.7887937637069816 and parameters: {'C': 0.22977690838031925, 'penalty': 'l1', 'solver1': 'saga', 'solver2': 'lbfgs', 'solver3': 'saga'}. Best is trial 24 with value: 0.7902323922037806.\n",
      "[I 2023-09-18 15:21:04,585] Trial 33 finished with value: 0.7816227483437217 and parameters: {'C': 0.11824502986869563, 'penalty': 'l1', 'solver1': 'saga', 'solver2': 'lbfgs', 'solver3': 'saga'}. Best is trial 24 with value: 0.7902323922037806.\n",
      "[I 2023-09-18 15:21:05,823] Trial 34 finished with value: 0.7865607317463958 and parameters: {'C': 0.41796419137296303, 'penalty': 'l1', 'solver1': 'liblinear', 'solver2': 'saga', 'solver3': 'saga'}. Best is trial 24 with value: 0.7902323922037806.\n",
      "[I 2023-09-18 15:22:04,296] Trial 35 finished with value: 0.7860375076608965 and parameters: {'C': 0.17143298555864822, 'penalty': 'l1', 'solver1': 'saga', 'solver2': 'lbfgs', 'solver3': 'saga'}. Best is trial 24 with value: 0.7902323922037806.\n",
      "[I 2023-09-18 15:22:08,699] Trial 36 finished with value: 0.7862056374451247 and parameters: {'C': 0.08102862281148916, 'penalty': 'l2', 'solver1': 'liblinear', 'solver2': 'lbfgs', 'solver3': 'saga'}. Best is trial 24 with value: 0.7902323922037806.\n",
      "[I 2023-09-18 15:22:32,144] Trial 37 finished with value: 0.7222774173467272 and parameters: {'C': 0.6541359123597656, 'penalty': 'none', 'solver1': 'saga', 'solver2': 'lbfgs', 'solver3': 'lbfgs'}. Best is trial 24 with value: 0.7902323922037806.\n",
      "[I 2023-09-18 15:23:58,801] Trial 38 finished with value: 0.7856618496029236 and parameters: {'C': 0.36672740867417275, 'penalty': 'l1', 'solver1': 'saga', 'solver2': 'saga', 'solver3': 'saga'}. Best is trial 24 with value: 0.7902323922037806.\n",
      "[I 2023-09-18 15:24:22,205] Trial 39 finished with value: 0.7222774173467272 and parameters: {'C': 0.2060767737042883, 'penalty': 'none', 'solver1': 'liblinear', 'solver2': 'liblinear', 'solver3': 'lbfgs'}. Best is trial 24 with value: 0.7902323922037806.\n",
      "[I 2023-09-18 15:24:29,399] Trial 40 finished with value: 0.7649773164990123 and parameters: {'C': 0.04223272513678427, 'penalty': 'l1', 'solver1': 'saga', 'solver2': 'lbfgs', 'solver3': 'saga'}. Best is trial 24 with value: 0.7902323922037806.\n",
      "[I 2023-09-18 15:25:30,705] Trial 41 finished with value: 0.7859311672600855 and parameters: {'C': 0.174353427389653, 'penalty': 'l1', 'solver1': 'saga', 'solver2': 'lbfgs', 'solver3': 'saga'}. Best is trial 24 with value: 0.7902323922037806.\n",
      "[I 2023-09-18 15:26:56,978] Trial 42 finished with value: 0.7882097022935082 and parameters: {'C': 0.2616372412655516, 'penalty': 'l1', 'solver1': 'saga', 'solver2': 'lbfgs', 'solver3': 'saga'}. Best is trial 24 with value: 0.7902323922037806.\n",
      "[I 2023-09-18 15:27:27,361] Trial 43 finished with value: 0.7857797571049614 and parameters: {'C': 0.14161809820275117, 'penalty': 'l1', 'solver1': 'saga', 'solver2': 'lbfgs', 'solver3': 'saga'}. Best is trial 24 with value: 0.7902323922037806.\n",
      "[I 2023-09-18 15:27:48,664] Trial 44 finished with value: 0.7811901547179144 and parameters: {'C': 0.09086483635055177, 'penalty': 'l1', 'solver1': 'saga', 'solver2': 'lbfgs', 'solver3': 'lbfgs'}. Best is trial 24 with value: 0.7902323922037806.\n",
      "[I 2023-09-18 15:29:19,374] Trial 45 finished with value: 0.7867528997668005 and parameters: {'C': 0.33729874459779335, 'penalty': 'l1', 'solver1': 'saga', 'solver2': 'lbfgs', 'solver3': 'saga'}. Best is trial 24 with value: 0.7902323922037806.\n",
      "[I 2023-09-18 15:30:42,421] Trial 46 finished with value: 0.7902323922037806 and parameters: {'C': 0.21174289775751212, 'penalty': 'l1', 'solver1': 'saga', 'solver2': 'saga', 'solver3': 'saga'}. Best is trial 24 with value: 0.7902323922037806.\n",
      "[I 2023-09-18 15:31:16,491] Trial 47 finished with value: 0.7787609057124847 and parameters: {'C': 0.6326589785179251, 'penalty': 'l2', 'solver1': 'liblinear', 'solver2': 'saga', 'solver3': 'saga'}. Best is trial 24 with value: 0.7902323922037806.\n",
      "[I 2023-09-18 15:31:39,391] Trial 48 finished with value: 0.7222774173467272 and parameters: {'C': 0.23868439310943135, 'penalty': 'none', 'solver1': 'saga', 'solver2': 'saga', 'solver3': 'lbfgs'}. Best is trial 24 with value: 0.7902323922037806.\n",
      "[I 2023-09-18 15:32:10,064] Trial 49 finished with value: 0.7838734284461892 and parameters: {'C': 0.13309650865281863, 'penalty': 'l1', 'solver1': 'saga', 'solver2': 'saga', 'solver3': 'saga'}. Best is trial 24 with value: 0.7902323922037806.\n"
     ]
    }
   ],
   "source": [
    "# cоздаем объект исследования\n",
    "# можем напрямую указать, что нам необходимо максимизировать метрику direction=\"maximize\"\n",
    "study = optuna.create_study(study_name=\"LogisticRegression\", direction=\"maximize\")\n",
    "# ищем лучшую комбинацию гиперпараметров n_trials раз\n",
    "study.optimize(optuna_lr, n_trials=50)"
   ]
  },
  {
   "cell_type": "code",
   "execution_count": 52,
   "metadata": {},
   "outputs": [],
   "source": [
    "C = study.best_params['C']\n",
    "penalty = study.best_params['penalty']\n",
    "if penalty == 'l1':\n",
    "    solver = study.best_params['solver1']\n",
    "elif penalty == 'l2':\n",
    "    solver = study.best_params['solver2']\n",
    "elif penalty == 'none':\n",
    "    solver = study.best_params['solver3']    "
   ]
  },
  {
   "cell_type": "code",
   "execution_count": 54,
   "metadata": {},
   "outputs": [
    {
     "name": "stdout",
     "output_type": "stream",
     "text": [
      "f1_score на тестовом наборе: 0.79\n"
     ]
    }
   ],
   "source": [
    "# рассчитаем точность для тестовой выборки\n",
    "model = linear_model.LogisticRegression(C=C,\n",
    "                                        penalty=penalty,\n",
    "                                        solver=solver,\n",
    "                                        random_state=42, max_iter=1000 )\n",
    "\n",
    "model.fit(X_train, y_train)\n",
    "y_test_pred = model.predict(X_test)\n",
    "\n",
    "print('f1_score на тестовом наборе: {:.2f}'.format(metrics.f1_score(y_test, y_test_pred)))"
   ]
  },
  {
   "cell_type": "markdown",
   "metadata": {},
   "source": [
    "Не очень понятен смысл использования алгоритма кросс-валидации в данном случае, если есть возможность получать метрику сразу проверяя тестовую выборку (закоменнтированная часть). Время обработки при использовании кросс-валидации увеличивается в 5 раз, а на результат не влияет. Хотелось-бы комментарий ментора."
   ]
  },
  {
   "cell_type": "markdown",
   "metadata": {},
   "source": [
    "### Случайный лес"
   ]
  },
  {
   "cell_type": "code",
   "execution_count": 55,
   "metadata": {},
   "outputs": [],
   "source": [
    "def optuna_rf(trial):\n",
    "  # задаем пространства поиска гиперпараметров\n",
    "  n_estimators = trial.suggest_int('n_estimators', 50, 300, 10)\n",
    "  max_depth = trial.suggest_int('max_depth', 5, 40, 1)\n",
    "  min_samples_leaf = trial.suggest_int('min_samples_leaf', 1, 50, 1)\n",
    "\n",
    "  # создаем модель\n",
    "  model = ensemble.RandomForestClassifier(n_estimators=n_estimators,\n",
    "                                          max_depth=max_depth,\n",
    "                                          min_samples_leaf=min_samples_leaf,\n",
    "                                          random_state=42)\n",
    "  \n",
    "  score = cross_val_score(model, X, y, cv=5, scoring=\"f1\", n_jobs=-1).mean()\n",
    "  \n",
    "  return score"
   ]
  },
  {
   "cell_type": "code",
   "execution_count": 56,
   "metadata": {},
   "outputs": [
    {
     "name": "stderr",
     "output_type": "stream",
     "text": [
      "[I 2023-09-18 15:53:12,042] A new study created in memory with name: RandomForestClassifier\n",
      "[I 2023-09-18 15:53:23,255] Trial 0 finished with value: 0.7670670060855737 and parameters: {'n_estimators': 270, 'max_depth': 22, 'min_samples_leaf': 43}. Best is trial 0 with value: 0.7670670060855737.\n",
      "[I 2023-09-18 15:53:28,842] Trial 1 finished with value: 0.8079169442191955 and parameters: {'n_estimators': 150, 'max_depth': 35, 'min_samples_leaf': 4}. Best is trial 1 with value: 0.8079169442191955.\n",
      "[I 2023-09-18 15:53:30,982] Trial 2 finished with value: 0.779451711318524 and parameters: {'n_estimators': 120, 'max_depth': 37, 'min_samples_leaf': 26}. Best is trial 1 with value: 0.8079169442191955.\n",
      "[I 2023-09-18 15:53:33,046] Trial 3 finished with value: 0.7721534920656946 and parameters: {'n_estimators': 130, 'max_depth': 16, 'min_samples_leaf': 35}. Best is trial 1 with value: 0.8079169442191955.\n",
      "[I 2023-09-18 15:53:36,937] Trial 4 finished with value: 0.7793728848816392 and parameters: {'n_estimators': 270, 'max_depth': 33, 'min_samples_leaf': 26}. Best is trial 1 with value: 0.8079169442191955.\n",
      "[I 2023-09-18 15:53:39,861] Trial 5 finished with value: 0.7671703940250543 and parameters: {'n_estimators': 230, 'max_depth': 34, 'min_samples_leaf': 42}. Best is trial 1 with value: 0.8079169442191955.\n",
      "[I 2023-09-18 15:53:42,695] Trial 6 finished with value: 0.770417776035526 and parameters: {'n_estimators': 220, 'max_depth': 36, 'min_samples_leaf': 43}. Best is trial 1 with value: 0.8079169442191955.\n",
      "[I 2023-09-18 15:53:45,788] Trial 7 finished with value: 0.7747018047512373 and parameters: {'n_estimators': 230, 'max_depth': 19, 'min_samples_leaf': 34}. Best is trial 1 with value: 0.8079169442191955.\n",
      "[I 2023-09-18 15:53:48,702] Trial 8 finished with value: 0.7743487714518358 and parameters: {'n_estimators': 210, 'max_depth': 12, 'min_samples_leaf': 34}. Best is trial 1 with value: 0.8079169442191955.\n",
      "[I 2023-09-18 15:53:50,939] Trial 9 finished with value: 0.7579733343268463 and parameters: {'n_estimators': 210, 'max_depth': 5, 'min_samples_leaf': 32}. Best is trial 1 with value: 0.8079169442191955.\n",
      "[I 2023-09-18 15:53:52,935] Trial 10 finished with value: 0.8099653752247125 and parameters: {'n_estimators': 50, 'max_depth': 27, 'min_samples_leaf': 1}. Best is trial 10 with value: 0.8099653752247125.\n",
      "[I 2023-09-18 15:53:54,954] Trial 11 finished with value: 0.8078309892094163 and parameters: {'n_estimators': 50, 'max_depth': 28, 'min_samples_leaf': 1}. Best is trial 10 with value: 0.8099653752247125.\n",
      "[I 2023-09-18 15:53:56,949] Trial 12 finished with value: 0.8078309892094163 and parameters: {'n_estimators': 50, 'max_depth': 28, 'min_samples_leaf': 1}. Best is trial 10 with value: 0.8099653752247125.\n",
      "[I 2023-09-18 15:53:59,495] Trial 13 finished with value: 0.7972540776442412 and parameters: {'n_estimators': 120, 'max_depth': 27, 'min_samples_leaf': 12}. Best is trial 10 with value: 0.8099653752247125.\n",
      "[I 2023-09-18 15:54:02,664] Trial 14 finished with value: 0.7965855304925202 and parameters: {'n_estimators': 160, 'max_depth': 39, 'min_samples_leaf': 12}. Best is trial 10 with value: 0.8099653752247125.\n",
      "[I 2023-09-18 15:54:04,566] Trial 15 finished with value: 0.7949518360752953 and parameters: {'n_estimators': 80, 'max_depth': 31, 'min_samples_leaf': 11}. Best is trial 10 with value: 0.8099653752247125.\n",
      "[I 2023-09-18 15:54:06,803] Trial 16 finished with value: 0.7982460406444826 and parameters: {'n_estimators': 90, 'max_depth': 24, 'min_samples_leaf': 8}. Best is trial 10 with value: 0.8099653752247125.\n",
      "[I 2023-09-18 15:54:09,835] Trial 17 finished with value: 0.7832005275175394 and parameters: {'n_estimators': 170, 'max_depth': 40, 'min_samples_leaf': 19}. Best is trial 10 with value: 0.8099653752247125.\n",
      "[I 2023-09-18 15:54:11,662] Trial 18 finished with value: 0.7834237445328772 and parameters: {'n_estimators': 90, 'max_depth': 31, 'min_samples_leaf': 19}. Best is trial 10 with value: 0.8099653752247125.\n",
      "[I 2023-09-18 15:54:15,361] Trial 19 finished with value: 0.8026929257940256 and parameters: {'n_estimators': 160, 'max_depth': 22, 'min_samples_leaf': 6}. Best is trial 10 with value: 0.8099653752247125.\n",
      "[I 2023-09-18 15:54:17,948] Trial 20 finished with value: 0.7858890672477152 and parameters: {'n_estimators': 140, 'max_depth': 15, 'min_samples_leaf': 18}. Best is trial 10 with value: 0.8099653752247125.\n",
      "[I 2023-09-18 15:54:19,973] Trial 21 finished with value: 0.8099653752247125 and parameters: {'n_estimators': 50, 'max_depth': 27, 'min_samples_leaf': 1}. Best is trial 10 with value: 0.8099653752247125.\n",
      "[I 2023-09-18 15:54:22,259] Trial 22 finished with value: 0.8018692343568425 and parameters: {'n_estimators': 80, 'max_depth': 26, 'min_samples_leaf': 5}. Best is trial 10 with value: 0.8099653752247125.\n",
      "[I 2023-09-18 15:54:24,539] Trial 23 finished with value: 0.808768339206545 and parameters: {'n_estimators': 60, 'max_depth': 31, 'min_samples_leaf': 1}. Best is trial 10 with value: 0.8099653752247125.\n",
      "[I 2023-09-18 15:54:26,028] Trial 24 finished with value: 0.7904725948900128 and parameters: {'n_estimators': 60, 'max_depth': 30, 'min_samples_leaf': 15}. Best is trial 10 with value: 0.8099653752247125.\n",
      "[I 2023-09-18 15:54:29,376] Trial 25 finished with value: 0.8148352206123942 and parameters: {'n_estimators': 100, 'max_depth': 24, 'min_samples_leaf': 1}. Best is trial 25 with value: 0.8148352206123942.\n",
      "[I 2023-09-18 15:54:31,057] Trial 26 finished with value: 0.7626304290826574 and parameters: {'n_estimators': 110, 'max_depth': 20, 'min_samples_leaf': 50}. Best is trial 25 with value: 0.8148352206123942.\n",
      "[I 2023-09-18 15:54:33,465] Trial 27 finished with value: 0.7997156037510312 and parameters: {'n_estimators': 100, 'max_depth': 26, 'min_samples_leaf': 8}. Best is trial 25 with value: 0.8148352206123942.\n",
      "[I 2023-09-18 15:54:35,546] Trial 28 finished with value: 0.8016495326137415 and parameters: {'n_estimators': 70, 'max_depth': 19, 'min_samples_leaf': 4}. Best is trial 25 with value: 0.8148352206123942.\n",
      "[I 2023-09-18 15:54:37,135] Trial 29 finished with value: 0.7971957289427365 and parameters: {'n_estimators': 50, 'max_depth': 25, 'min_samples_leaf': 9}. Best is trial 25 with value: 0.8148352206123942.\n",
      "[I 2023-09-18 15:54:40,281] Trial 30 finished with value: 0.7797098500247156 and parameters: {'n_estimators': 190, 'max_depth': 23, 'min_samples_leaf': 23}. Best is trial 25 with value: 0.8148352206123942.\n",
      "[I 2023-09-18 15:54:42,877] Trial 31 finished with value: 0.8083454389582168 and parameters: {'n_estimators': 70, 'max_depth': 30, 'min_samples_leaf': 1}. Best is trial 25 with value: 0.8148352206123942.\n",
      "[I 2023-09-18 15:54:45,355] Trial 32 finished with value: 0.808713612828905 and parameters: {'n_estimators': 70, 'max_depth': 32, 'min_samples_leaf': 3}. Best is trial 25 with value: 0.8148352206123942.\n",
      "[I 2023-09-18 15:54:47,941] Trial 33 finished with value: 0.8011481381919159 and parameters: {'n_estimators': 100, 'max_depth': 29, 'min_samples_leaf': 6}. Best is trial 25 with value: 0.8148352206123942.\n",
      "[I 2023-09-18 15:54:49,717] Trial 34 finished with value: 0.8082684914746088 and parameters: {'n_estimators': 50, 'max_depth': 22, 'min_samples_leaf': 3}. Best is trial 25 with value: 0.8148352206123942.\n",
      "[I 2023-09-18 15:54:54,695] Trial 35 finished with value: 0.793820757220803 and parameters: {'n_estimators': 300, 'max_depth': 34, 'min_samples_leaf': 14}. Best is trial 25 with value: 0.8148352206123942.\n",
      "[I 2023-09-18 15:54:56,689] Trial 36 finished with value: 0.796792149163261 and parameters: {'n_estimators': 70, 'max_depth': 20, 'min_samples_leaf': 8}. Best is trial 25 with value: 0.8148352206123942.\n",
      "[I 2023-09-18 15:55:00,555] Trial 37 finished with value: 0.8123017196165669 and parameters: {'n_estimators': 120, 'max_depth': 37, 'min_samples_leaf': 1}. Best is trial 25 with value: 0.8148352206123942.\n",
      "[I 2023-09-18 15:55:03,742] Trial 38 finished with value: 0.8039189589515991 and parameters: {'n_estimators': 130, 'max_depth': 16, 'min_samples_leaf': 5}. Best is trial 25 with value: 0.8148352206123942.\n",
      "[I 2023-09-18 15:55:06,367] Trial 39 finished with value: 0.7952904138226985 and parameters: {'n_estimators': 120, 'max_depth': 38, 'min_samples_leaf': 10}. Best is trial 25 with value: 0.8148352206123942.\n",
      "[I 2023-09-18 15:55:08,475] Trial 40 finished with value: 0.7681212615440723 and parameters: {'n_estimators': 140, 'max_depth': 10, 'min_samples_leaf': 39}. Best is trial 25 with value: 0.8148352206123942.\n",
      "[I 2023-09-18 15:55:11,632] Trial 41 finished with value: 0.8130152347635897 and parameters: {'n_estimators': 90, 'max_depth': 36, 'min_samples_leaf': 1}. Best is trial 25 with value: 0.8148352206123942.\n",
      "[I 2023-09-18 15:55:14,435] Trial 42 finished with value: 0.812211664900935 and parameters: {'n_estimators': 100, 'max_depth': 35, 'min_samples_leaf': 3}. Best is trial 25 with value: 0.8148352206123942.\n",
      "[I 2023-09-18 15:55:17,396] Trial 43 finished with value: 0.8098519173746089 and parameters: {'n_estimators': 110, 'max_depth': 36, 'min_samples_leaf': 4}. Best is trial 25 with value: 0.8148352206123942.\n",
      "[I 2023-09-18 15:55:19,016] Trial 44 finished with value: 0.7723567270024511 and parameters: {'n_estimators': 90, 'max_depth': 37, 'min_samples_leaf': 30}. Best is trial 25 with value: 0.8148352206123942.\n",
      "[I 2023-09-18 15:55:21,593] Trial 45 finished with value: 0.8052680377194864 and parameters: {'n_estimators': 100, 'max_depth': 34, 'min_samples_leaf': 7}. Best is trial 25 with value: 0.8148352206123942.\n",
      "[I 2023-09-18 15:55:24,919] Trial 46 finished with value: 0.8101047015670787 and parameters: {'n_estimators': 120, 'max_depth': 36, 'min_samples_leaf': 3}. Best is trial 25 with value: 0.8148352206123942.\n",
      "[I 2023-09-18 15:55:28,376] Trial 47 finished with value: 0.8117581377456042 and parameters: {'n_estimators': 130, 'max_depth': 35, 'min_samples_leaf': 3}. Best is trial 25 with value: 0.8148352206123942.\n",
      "[I 2023-09-18 15:55:31,591] Trial 48 finished with value: 0.8015387499334226 and parameters: {'n_estimators': 140, 'max_depth': 40, 'min_samples_leaf': 6}. Best is trial 25 with value: 0.8148352206123942.\n",
      "[I 2023-09-18 15:55:34,381] Trial 49 finished with value: 0.7901252909371672 and parameters: {'n_estimators': 150, 'max_depth': 38, 'min_samples_leaf': 14}. Best is trial 25 with value: 0.8148352206123942.\n"
     ]
    }
   ],
   "source": [
    "# cоздаем объект исследования\n",
    "# можем напрямую указать, что нам необходимо максимизировать метрику direction=\"maximize\"\n",
    "study = optuna.create_study(study_name=\"RandomForestClassifier\", direction=\"maximize\")\n",
    "# ищем лучшую комбинацию гиперпараметров n_trials раз\n",
    "study.optimize(optuna_rf, n_trials=50)"
   ]
  },
  {
   "cell_type": "code",
   "execution_count": 57,
   "metadata": {},
   "outputs": [
    {
     "name": "stdout",
     "output_type": "stream",
     "text": [
      "f1_score на тестовом наборе: 0.83\n"
     ]
    }
   ],
   "source": [
    "# рассчитаем точность для тестовой выборки\n",
    "model = ensemble.RandomForestClassifier(**study.best_params,random_state=42)\n",
    "model.fit(X_train, y_train)\n",
    "\n",
    "y_test_pred = model.predict(X_test)\n",
    "print('f1_score на тестовом наборе: {:.2f}'.format(metrics.f1_score(y_test, y_test_pred)))"
   ]
  },
  {
   "cell_type": "markdown",
   "metadata": {},
   "source": [
    "Метрики так и не удалось улучшить, по сравнению с базовыми моделями, но, думаю, это из-за того, что мы взяли большое количество гиперпараметров и их значений, при относительно малом количестве проб.\n",
    "Впрочем, уже можно итак сказать, что метод Optuna - наиболее удобный и быстрый способ оптимизации гиперпараметров."
   ]
  }
 ],
 "metadata": {
  "kernelspec": {
   "display_name": "Python 3",
   "language": "python",
   "name": "python3"
  },
  "language_info": {
   "codemirror_mode": {
    "name": "ipython",
    "version": 3
   },
   "file_extension": ".py",
   "mimetype": "text/x-python",
   "name": "python",
   "nbconvert_exporter": "python",
   "pygments_lexer": "ipython3",
   "version": "3.11.0"
  },
  "orig_nbformat": 4
 },
 "nbformat": 4,
 "nbformat_minor": 2
}
