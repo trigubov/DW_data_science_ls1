{
 "cells": [
  {
   "cell_type": "code",
   "execution_count": 1,
   "metadata": {},
   "outputs": [],
   "source": [
    "import numpy as np #для матричных вычислений\n",
    "import pandas as pd #для анализа и предобработки данных\n",
    "import matplotlib.pyplot as plt #для визуализации\n",
    "import seaborn as sns #для визуализации\n",
    "\n",
    "plt.style.use('seaborn-v0_8') #стиль отрисовки seaborn\n",
    "%matplotlib inline\n",
    "\n",
    "import MetaTrader5 as mt5 # для работы с торговой платформой\n",
    "\n",
    "import threading # для многопоточности\n",
    "import pickle # сохранение объектов\n",
    "\n",
    "from sklearn import ensemble #ансамбли\n",
    "from sklearn import metrics #метрики\n",
    "from sklearn.metrics import make_scorer #создание метрики\n",
    "from sklearn import model_selection #методы разделения и валидации\n",
    "\n",
    "from prophet import Prophet\n",
    "#from neuralprophet import NeuralProphet\n",
    "\n",
    "from statsmodels.tsa.seasonal import seasonal_decompose\n",
    "import statsmodels.api as sm\n",
    "from statsmodels.graphics.tsaplots import plot_acf, plot_pacf\n",
    "\n",
    "import optuna # для оптимизации гиперпараметров\n",
    "import pmdarima as pm # для автоматического подбора гиперпараметров\n",
    "\n",
    "from statsmodels.tsa.arima.model import ARIMA # для модели ARIMA\n",
    "\n",
    "import datetime as dt\n",
    "from datetime import datetime\n",
    "\n",
    "from tqdm import tqdm  # для отображения прогресса долгих рассчетов\n",
    "tqdm.pandas()\n",
    "\n",
    "from IPython.display import clear_output # для очистки вывода\n",
    "import logging # для логирования\n",
    "import random # для генерации случайных чисел\n",
    "import winsound  # пищим динамиком, когда надо\n",
    "import time\n",
    "\n",
    "pd.options.mode.chained_assignment = None  # для подавления предупреждений"
   ]
  },
  {
   "cell_type": "code",
   "execution_count": 2,
   "metadata": {},
   "outputs": [],
   "source": [
    "# зададим переменные\n",
    "random_state = 42\n",
    "symbol = \"EURUSDrfd\"\n",
    "time_delta = 10 * 60 # 10 минут - время, которое нас интересует в качестве предсказания для пипсовой торговли\n",
    "pips_delta = 0.00025 # 25 пипсов - минимальное изменение цены, которое нас интересует в качестве предсказания для пипсовой торговли (это мы вычислим позже)"
   ]
  },
  {
   "cell_type": "code",
   "execution_count": 3,
   "metadata": {},
   "outputs": [],
   "source": [
    "# функция, что-бы попищать динамиком. Полезно, что-бы просигналить, что долгий рассчёт окончен\n",
    "\n",
    "def beep():\n",
    "    frequency = 2500  # Set Frequency To 2500 Hertz\n",
    "    duration = 500  # Set Duration To 1000 ms == 1 second\n",
    "    winsound.Beep(frequency, duration)\n",
    "    winsound.Beep(round(frequency/2), duration)\n",
    "    winsound.Beep(round(frequency/4), duration)\n",
    "    winsound.Beep(round(frequency/2), duration)\n",
    "    winsound.Beep(frequency, duration)"
   ]
  },
  {
   "cell_type": "markdown",
   "metadata": {},
   "source": [
    "# 4. Baseline"
   ]
  },
  {
   "cell_type": "code",
   "execution_count": 77,
   "metadata": {},
   "outputs": [],
   "source": [
    "# загрузим данные из файла\n",
    "ticks_frame_target = pd.read_pickle('pkl/ticks_frame_target.pkl')"
   ]
  },
  {
   "cell_type": "markdown",
   "metadata": {},
   "source": [
    "Конечно, ни логистическая регрессия, ни случайный лес - не могут напрямую работать с временным рядом. Поэтому нам придётся для начала преобразовать наш временной ряд в набор признаков для каждой секунды. Т.е. у каждой секунды будут отдельные признаки на каждую предидущие времена (секунды). Но зато мы сразу можем добавить новых признаков. Например, сглаженные средние линии за разные периоды времени. Или линии Боллинжера, или количество операций за последнее время в разные периоды. Это очень сильно разрастёт нашу базу, но зато, поскольку мы более не будем привязаны жестко к временному ряду, мы можем брать каждую 100ю (например) секунду. Что значительно ускорит процесс рассчётов, и не будет сильно влиять на финальный результат, который мы всё равно будет использовать для начальной оценки"
   ]
  },
  {
   "cell_type": "markdown",
   "metadata": {},
   "source": [
    "Проведем все необходимы преобразования и создания новых признаков"
   ]
  },
  {
   "cell_type": "markdown",
   "metadata": {},
   "source": [
    "## 4.1 Создание признаков для модели baseline"
   ]
  },
  {
   "cell_type": "code",
   "execution_count": 21,
   "metadata": {},
   "outputs": [],
   "source": [
    "X = ticks_frame_target.drop('signal', axis=1)\n",
    "y = ticks_frame_target['signal']"
   ]
  },
  {
   "cell_type": "code",
   "execution_count": null,
   "metadata": {},
   "outputs": [],
   "source": [
    "# Функция для подсчета RSI. Тоже возьмем за признак\n",
    "\n",
    "def calculate_rsi(prices):\n",
    "    deltas = np.diff(prices)\n",
    "    positive_deltas = np.where(deltas > 0, deltas, 0)\n",
    "    negative_deltas = np.where(deltas < 0, -deltas, 0)    \n",
    "    avg_gain = np.mean(positive_deltas)\n",
    "    avg_loss = np.mean(negative_deltas)    \n",
    "    rs = avg_gain / avg_loss if avg_loss != 0 else 0\n",
    "    rsi = 100 - (100 / (1 + rs))\n",
    "    return rsi"
   ]
  },
  {
   "cell_type": "markdown",
   "metadata": {},
   "source": [
    "Будем считать по скользящим средним, стандартному отклонению и линиям Боллинджера для отрезков в 5 секунд, 1 минута, 5 минут, полчаса и 2 часа.\n",
    "\n",
    "Причем сами по себе значения средних - нам ничего не дадут. Нам интересна будет разница между последним значением, и скользящим среднем. \n",
    "Фактически, мы дифференцируем наш ряд.\n",
    "\n",
    "Для ускорения - тоже считаем в несколько потоков (библиотека threading)"
   ]
  },
  {
   "cell_type": "code",
   "execution_count": null,
   "metadata": {},
   "outputs": [
    {
     "name": "stdout",
     "output_type": "stream",
     "text": [
      "10 18 bid_mean_5\n",
      "10 18 bid_mean_60\n",
      "10 18 bid_mean_300\n",
      "10 18 bid_mean_1800\n",
      "10 18 bid_mean_7200\n",
      "10 26 ask_mean_5\n",
      "10 26 ask_mean_60\n",
      "10 32 time_mean_5\n",
      "10 33 ask_mean_300\n",
      "10 34 time_mean_60\n",
      "10 41 time_mean_300\n",
      "10 51 ask_mean_1800\n",
      "10 58 time_mean_1800\n",
      "11 9 ask_mean_7200\n",
      "11 13 time_mean_7200\n"
     ]
    }
   ],
   "source": [
    "t_names = ['bid','ask','time'] # названия колонок для тиковых данных\n",
    "times_ticks = [5, 60, 5*60, 30*60, 120*60] # временные интервалы скользящих окон для тиков\n",
    "\n",
    "len_df = len(X) # длина датафрейма\n",
    "\n",
    "\n",
    "def worker(i): # тоже будем считать в потоках для ускорения\n",
    "\n",
    "    for t in t_names:\n",
    "        df_t = X[t].to_numpy() # преобразуем в Numpy. Как показали тесты - Numpy считается значительно быстрее Pandas    \n",
    "\n",
    "        name_col = t + '_mean_' + str(i) # название колонки\n",
    "        name_col_std = t + '_std_' + str(i)\n",
    "        name_col_bol1 = t + '_bol1_' + str(i)\n",
    "        name_col_bol2 = t + '_bol2_' + str(i)\n",
    "        name_col_rsi = 'rsi_' + str(i)\n",
    "\n",
    "        # Создаем пустой массив для хранения результатов\n",
    "        result = np.empty(len_df)\n",
    "        result_std = np.empty(len_df)\n",
    "        result_bol1 = np.empty(len_df)\n",
    "        result_bol2 = np.empty(len_df)\n",
    "        result_rsi = np.empty(len_df)\n",
    "        print (datetime.now().hour,datetime.now().minute,name_col)\n",
    "        \n",
    "        for j in range(times_ticks[-1]+1, len_df):\n",
    "            #x = df[t][j-i:j].copy() # выбрали наше окно\n",
    "            x = df_t[j-i:j].copy() # выбрали наше окно, исключив из него текущее значение\n",
    "            t_x = df_t[j] # выбрали наше значения\n",
    "            sma = np.mean(x)  # среднее значение\n",
    "            result[j] = sma - t_x\n",
    "            result_std[j] = np.std(x) # стандартное отклонение\n",
    "            result_bol1[j] = sma + (2 * result_std[j]) # верхняя полоса Боллинджера\n",
    "            result_bol2[j] = sma - (2 * result_std[j]) # нижняя полоса Боллинджера\n",
    "            result_rsi[j] = calculate_rsi(x)            \n",
    "        \n",
    "        X[name_col] = result\n",
    "        X[name_col_std] = result_std\n",
    "        X[name_col_bol1] = result_bol1\n",
    "        X[name_col_bol2] = result_bol2\n",
    "        X[name_col_rsi] = result_rsi\n",
    "\n",
    "# Создайте список потоков\n",
    "threads = []\n",
    "\n",
    "for i in times_ticks:\n",
    "    thread = threading.Thread(target=worker, args=(i,))\n",
    "    thread.start()\n",
    "    threads.append(thread)\n",
    "    \n",
    "# Дождитесь завершения всех потоков\n",
    "for thread in threads:\n",
    "    thread.join()\n"
   ]
  },
  {
   "cell_type": "code",
   "execution_count": null,
   "metadata": {},
   "outputs": [],
   "source": [
    "# сохраним данные в файл (чтобы не пересчитывать каждый раз)\n",
    "X.to_pickle('pkl/X.pkl')"
   ]
  },
  {
   "cell_type": "code",
   "execution_count": 167,
   "metadata": {},
   "outputs": [],
   "source": [
    "# загрузим данные из файла\n",
    "X = pd.read_pickle('pkl/X.pkl')"
   ]
  },
  {
   "cell_type": "code",
   "execution_count": 170,
   "metadata": {},
   "outputs": [],
   "source": [
    "#Названия колонок сохраним в файл. Нам это понадобится в дальнейшем\n",
    "colmn = X.columns.tolist()\n",
    "with open(\"pkl/columns.pkl\", \"wb\") as f:\n",
    "    pickle.dump(colmn, f)\n"
   ]
  },
  {
   "cell_type": "markdown",
   "metadata": {},
   "source": [
    "Теперь, когда временные признаки учтены для каждой строки датафрейма, можно удалить \"лишние строки\""
   ]
  },
  {
   "cell_type": "markdown",
   "metadata": {},
   "source": [
    "Сначала я оставил столбцы ask, bid и time.\n",
    "Но тест важности признаков - показал их слишком завышенное значение. Чего, по моему мнению, быть не должно.\n",
    "Не может прогноз зависить от абсолютного значения числа."
   ]
  },
  {
   "cell_type": "code",
   "execution_count": 24,
   "metadata": {},
   "outputs": [],
   "source": [
    "# Удалим признаки ask, bid\n",
    "X.drop(['ask','bid','time'], axis=1, inplace=True)"
   ]
  },
  {
   "cell_type": "markdown",
   "metadata": {},
   "source": [
    "## 4.2. Построение baseline-модели"
   ]
  },
  {
   "cell_type": "markdown",
   "metadata": {},
   "source": [
    "Теперь, когда у нас есть размеченные, и подготовленные данные, попробуем построить первую модель. Поскольку модель случайного леса не требует стандартизации - начнём с неё."
   ]
  },
  {
   "cell_type": "markdown",
   "metadata": {},
   "source": [
    "Для начала разобьем базу на тренировочную, и тестовую. Тут, всё еще, надо соблюдать временной ряд, что-бы не случилось утечки. Поэтому в тестовые данные у нас пойдет последняя неделя, а в тренировочные - первые 3"
   ]
  },
  {
   "cell_type": "code",
   "execution_count": 25,
   "metadata": {},
   "outputs": [
    {
     "name": "stdout",
     "output_type": "stream",
     "text": [
      "Размер обучающей выборки: (1720800, 65)\n",
      "Размер тестовой выборки: (766799, 65)\n"
     ]
    }
   ],
   "source": [
    "# разобьем данные на 2 части: обучающую и тестовую\n",
    "# обучающая часть - это данные за первые 3 недели\n",
    "# тестовая часть - это данные за последнюю неделю\n",
    "\n",
    "X_train = X.loc['2023-10-01':'2023-10-21']\n",
    "X_test = X.loc['2023-10-22':'2023-10-31']\n",
    "y_train = y.loc['2023-10-01':'2023-10-21']\n",
    "y_test = y.loc['2023-10-22':'2023-10-31']\n",
    "\n",
    "print('Размер обучающей выборки:', X_train.shape)\n",
    "print('Размер тестовой выборки:', X_test.shape)"
   ]
  },
  {
   "cell_type": "code",
   "execution_count": 26,
   "metadata": {},
   "outputs": [
    {
     "name": "stdout",
     "output_type": "stream",
     "text": [
      "Соотношение классов в обучающей выборке:\n",
      "signal\n",
      " 0    70.185669\n",
      " 1    15.766097\n",
      "-1    14.048233\n",
      "Name: proportion, dtype: float64\n",
      "\n",
      "Соотношение классов в тестовой выборке:\n",
      "signal\n",
      " 0    76.467758\n",
      " 1    11.997147\n",
      "-1    11.535096\n",
      "Name: proportion, dtype: float64\n"
     ]
    }
   ],
   "source": [
    "# проверим, что соотношение классов в обучающей и тестовой выборке примерно одинаковое\n",
    "print('Соотношение классов в обучающей выборке:')\n",
    "print(y_train.value_counts(normalize=True)*100)\n",
    "print()\n",
    "print('Соотношение классов в тестовой выборке:')\n",
    "print(y_test.value_counts(normalize=True)*100)\n"
   ]
  },
  {
   "cell_type": "markdown",
   "metadata": {},
   "source": [
    "Слегка упало из-за длинных выходных. Но, думаю, это несущественно."
   ]
  },
  {
   "cell_type": "markdown",
   "metadata": {},
   "source": [
    "Наконец, построим модель"
   ]
  },
  {
   "cell_type": "code",
   "execution_count": 27,
   "metadata": {},
   "outputs": [],
   "source": [
    "model = ensemble.RandomForestClassifier(\n",
    "    #n_estimators=128,\n",
    "    #max_depth=50,\n",
    "    #criterion='log_loss',\n",
    "    #min_samples_leaf=90,\n",
    "    random_state=random_state,\n",
    "    #verbose=2,\n",
    "    class_weight = {-1: 5, 0: 1, 1: 5}, # классы 1 и -1 для нас значимо более важны. Поэтому взвесим их выше\n",
    "    n_jobs=-1\n",
    "    )"
   ]
  },
  {
   "cell_type": "code",
   "execution_count": 28,
   "metadata": {},
   "outputs": [],
   "source": [
    "model.fit(X_train, y_train)\n",
    "    \n",
    "y_test_pred = model.predict(X_test)\n",
    "y_train_pred = model.predict(X_train)"
   ]
  },
  {
   "cell_type": "code",
   "execution_count": 31,
   "metadata": {},
   "outputs": [
    {
     "name": "stdout",
     "output_type": "stream",
     "text": [
      "              precision    recall  f1-score   support\n",
      "\n",
      "          -1       1.00      1.00      1.00    241742\n",
      "           0       1.00      1.00      1.00   1207755\n",
      "           1       1.00      1.00      1.00    271303\n",
      "\n",
      "    accuracy                           1.00   1720800\n",
      "   macro avg       1.00      1.00      1.00   1720800\n",
      "weighted avg       1.00      1.00      1.00   1720800\n",
      "\n",
      "              precision    recall  f1-score   support\n",
      "\n",
      "          -1       0.34      0.17      0.23     88451\n",
      "           0       0.83      0.95      0.89    586354\n",
      "           1       0.42      0.23      0.30     91994\n",
      "\n",
      "    accuracy                           0.78    766799\n",
      "   macro avg       0.53      0.45      0.47    766799\n",
      "weighted avg       0.73      0.78      0.74    766799\n",
      "\n"
     ]
    }
   ],
   "source": [
    "print(metrics.classification_report(y_train, y_train_pred))\n",
    "print(metrics.classification_report(y_test, y_test_pred))"
   ]
  },
  {
   "cell_type": "markdown",
   "metadata": {},
   "source": [
    "Главным параметром для нас является Precission. Мы должны давать точный прогноз сигнала, минимизируя ложноположительное срабатывание. Пусть мы упустим большое количество сигналов, но давать ложноположительный сигнал недопустимо - это прямые убытки.\n",
    "\n",
    "Впрочем, уже сейчас видим, что модель переобучена и неоптимальна. Попробуем подобрать гиперпараметры методом Optuna.\n",
    "\n",
    "но перед этим попробуем сохратить модель, для ускорения."
   ]
  },
  {
   "cell_type": "code",
   "execution_count": 33,
   "metadata": {},
   "outputs": [
    {
     "name": "stdout",
     "output_type": "stream",
     "text": [
      "              precision    recall  f1-score   support\n",
      "\n",
      "          -1       1.00      1.00      1.00      2462\n",
      "           0       1.00      1.00      1.00     12053\n",
      "           1       1.00      1.00      1.00      2693\n",
      "\n",
      "    accuracy                           1.00     17208\n",
      "   macro avg       1.00      1.00      1.00     17208\n",
      "weighted avg       1.00      1.00      1.00     17208\n",
      "\n",
      "              precision    recall  f1-score   support\n",
      "\n",
      "          -1       0.35      0.19      0.24     88451\n",
      "           0       0.83      0.96      0.89    586354\n",
      "           1       0.48      0.23      0.31     91994\n",
      "\n",
      "    accuracy                           0.78    766799\n",
      "   macro avg       0.56      0.46      0.48    766799\n",
      "weighted avg       0.74      0.78      0.75    766799\n",
      "\n"
     ]
    }
   ],
   "source": [
    "X_train = X_train[::100]\n",
    "y_train = y_train[::100]\n",
    "\n",
    "# сразу проверим, не потерялись-ли мы в точности, уменьшив выборку\n",
    "\n",
    "model.fit(X_train, y_train)\n",
    "    \n",
    "y_test_pred = model.predict(X_test)\n",
    "y_train_pred = model.predict(X_train)\n",
    "\n",
    "print(metrics.classification_report(y_train, y_train_pred))\n",
    "print(metrics.classification_report(y_test, y_test_pred))"
   ]
  },
  {
   "cell_type": "markdown",
   "metadata": {},
   "source": [
    "Ничего не потеряли, отлично. Можем продолжать."
   ]
  },
  {
   "cell_type": "markdown",
   "metadata": {},
   "source": [
    "## 4.3. Подбор гиперпараметров Optuna"
   ]
  },
  {
   "cell_type": "markdown",
   "metadata": {},
   "source": [
    "По умолчанию Optuna будет оптимизировать совсем не ту метрику, которая нам нужна, причем основной упор, разумеется, будет делать на класс 0, что нам вообще не интересно.<br> \n",
    "Поэтому напишем свою метрику, которая будет учитывать только нужные нам классы. Улучашать будем параметр F1, что-бы в дальнейшем еще немного поднять Precission за счет Recall путем подбора порогового значения"
   ]
  },
  {
   "cell_type": "code",
   "execution_count": null,
   "metadata": {},
   "outputs": [],
   "source": [
    "def my_custom_metric(y_true, y_pred_):\n",
    "    \n",
    "    # это метрики, которые я использовал для подбора параметров модели\n",
    "    # это среднее значение метрик f1 для классов -1 и 1\n",
    "    metr = (metrics.f1_score(y_true, y_pred_,labels=[-1],average='macro') + metrics.f1_score(y_true, y_pred_,labels=[1],average='macro')) / 2\n",
    "    \n",
    "    # это метрики я тоже пробовал, но они не дали прироста качества\n",
    "    \n",
    "    #metr = metrics.precision_score(y_true, y_pred_,labels=[0],average='macro')\n",
    "    #metr = (metrics.precision_score(y_true, y_pred_,labels=[-1],average='macro') + metrics.precision_score(y_true, y_pred_,labels=[1],average='macro')) / 2    \n",
    "    #metr = ((metrics.f1_score(y_true, y_pred_,labels=[-1],average='macro')*2) +\n",
    "    #        metrics.f1_score(y_true, y_pred_,labels=[0],average='macro') +\n",
    "    #        (metrics.f1_score(y_true, y_pred_,labels=[1],average='macro')*2)\n",
    "    #        ) / 5\n",
    "    \n",
    "    return metr\n",
    "\n",
    "score = make_scorer(my_custom_metric, greater_is_better=True)"
   ]
  },
  {
   "cell_type": "code",
   "execution_count": null,
   "metadata": {},
   "outputs": [],
   "source": [
    "# создадим функцию для подбора параметров модели\n",
    "\n",
    "def objective(trial):\n",
    "\n",
    "    params = {\n",
    "        'min_samples_leaf': trial.suggest_int('min_samples_leaf', 1, 100000, log=True),\n",
    "        'max_depth': trial.suggest_int('max_depth', 2, 10, step=1),        \n",
    "        'max_features': trial.suggest_categorical('max_features', ['sqrt', 'log2']),\n",
    "        'n_estimators': trial.suggest_int('n_estimators', 10, 500, step=1),\n",
    "        'criterion': trial.suggest_categorical('criterion', ['gini', 'entropy', 'log_loss']),\n",
    "        #'class_weight-1': trial.suggest_int('class_weight-1', 1, 10, step=1),\n",
    "        'class_weight1': trial.suggest_int('class_weight1', 1, 10, step=1),\n",
    "    }\n",
    "\n",
    "    model = ensemble.RandomForestClassifier(\n",
    "        min_samples_leaf=params['min_samples_leaf'],\n",
    "        max_depth=params['max_depth'],        \n",
    "        max_features=params['max_features'],\n",
    "        n_estimators=params['n_estimators'],        \n",
    "        criterion=params['criterion'],\n",
    "        class_weight={-1:  params['class_weight1'], 0:1, 1:  params['class_weight1']},        \n",
    "        random_state=random_state,\n",
    "        n_jobs=-1\n",
    "    )\n",
    "\n",
    "    #model.fit(X_train, y_train)\n",
    "    #y_pred_test = model.predict(X_test)\n",
    "    #metr = (metrics.f1_score(y_test, y_pred_test,labels=[-1],average='macro') + metrics.f1_score(y_test, y_pred_test,labels=[1],average='macro')) / 2\n",
    "\n",
    "    # используем метод кросс-валидации для подсчета метрики\n",
    "    metr = model_selection.cross_val_score(model, X_train, y_train, cv=5, scoring=score, n_jobs=-1).mean()\n",
    "    \n",
    "    return metr #mean_squared_error(y_valid, model.predict(X_valid), squared=False)"
   ]
  },
  {
   "cell_type": "code",
   "execution_count": null,
   "metadata": {},
   "outputs": [
    {
     "name": "stderr",
     "output_type": "stream",
     "text": [
      "[I 2023-11-20 11:51:37,463] A new study created in memory with name: no-name-846e999a-63c4-48bc-bdbc-6dbe3f2c0b9c\n"
     ]
    },
    {
     "name": "stderr",
     "output_type": "stream",
     "text": [
      "[I 2023-11-20 11:51:45,492] Trial 0 finished with value: 0.0 and parameters: {'min_samples_leaf': 22512, 'max_depth': 5, 'max_features': 'sqrt', 'n_estimators': 361, 'criterion': 'log_loss', 'class_weight1': 1}. Best is trial 0 with value: 0.0.\n",
      "[I 2023-11-20 11:51:59,321] Trial 1 finished with value: 0.2478988741508315 and parameters: {'min_samples_leaf': 1378, 'max_depth': 4, 'max_features': 'sqrt', 'n_estimators': 495, 'criterion': 'log_loss', 'class_weight1': 3}. Best is trial 1 with value: 0.2478988741508315.\n",
      "[I 2023-11-20 11:52:09,388] Trial 2 finished with value: 0.24737870703861517 and parameters: {'min_samples_leaf': 1080, 'max_depth': 2, 'max_features': 'sqrt', 'n_estimators': 420, 'criterion': 'log_loss', 'class_weight1': 10}. Best is trial 1 with value: 0.2478988741508315.\n",
      "[I 2023-11-20 11:52:10,156] Trial 3 finished with value: 0.0 and parameters: {'min_samples_leaf': 34492, 'max_depth': 4, 'max_features': 'log2', 'n_estimators': 114, 'criterion': 'gini', 'class_weight1': 4}. Best is trial 1 with value: 0.2478988741508315.\n",
      "[I 2023-11-20 11:52:11,477] Trial 4 finished with value: 0.1353198294915926 and parameters: {'min_samples_leaf': 88330, 'max_depth': 3, 'max_features': 'log2', 'n_estimators': 279, 'criterion': 'entropy', 'class_weight1': 10}. Best is trial 1 with value: 0.2478988741508315.\n",
      "[I 2023-11-20 11:52:14,012] Trial 5 finished with value: 0.2468817638321767 and parameters: {'min_samples_leaf': 2390, 'max_depth': 7, 'max_features': 'log2', 'n_estimators': 218, 'criterion': 'gini', 'class_weight1': 2}. Best is trial 1 with value: 0.2478988741508315.\n",
      "[I 2023-11-20 11:53:07,533] Trial 6 finished with value: 0.34056895351623717 and parameters: {'min_samples_leaf': 11, 'max_depth': 9, 'max_features': 'sqrt', 'n_estimators': 425, 'criterion': 'entropy', 'class_weight1': 4}. Best is trial 6 with value: 0.34056895351623717.\n",
      "[I 2023-11-20 11:53:43,642] Trial 7 finished with value: 0.32103061970113395 and parameters: {'min_samples_leaf': 3, 'max_depth': 7, 'max_features': 'log2', 'n_estimators': 448, 'criterion': 'log_loss', 'class_weight1': 2}. Best is trial 6 with value: 0.34056895351623717.\n",
      "[I 2023-11-20 11:54:08,747] Trial 8 finished with value: 0.34105246811747825 and parameters: {'min_samples_leaf': 2, 'max_depth': 8, 'max_features': 'log2', 'n_estimators': 271, 'criterion': 'entropy', 'class_weight1': 3}. Best is trial 8 with value: 0.34105246811747825.\n",
      "[I 2023-11-20 11:54:09,947] Trial 9 finished with value: 0.22263178267573114 and parameters: {'min_samples_leaf': 2623, 'max_depth': 7, 'max_features': 'log2', 'n_estimators': 83, 'criterion': 'gini', 'class_weight1': 9}. Best is trial 8 with value: 0.34105246811747825.\n",
      "[I 2023-11-20 11:54:32,278] Trial 10 finished with value: 0.3495283499155083 and parameters: {'min_samples_leaf': 1, 'max_depth': 10, 'max_features': 'log2', 'n_estimators': 197, 'criterion': 'entropy', 'class_weight1': 6}. Best is trial 10 with value: 0.3495283499155083.\n",
      "[I 2023-11-20 11:54:55,609] Trial 11 finished with value: 0.3509632507070153 and parameters: {'min_samples_leaf': 1, 'max_depth': 10, 'max_features': 'log2', 'n_estimators': 207, 'criterion': 'entropy', 'class_weight1': 7}. Best is trial 11 with value: 0.3509632507070153.\n",
      "[I 2023-11-20 11:55:15,963] Trial 12 finished with value: 0.35096017725597595 and parameters: {'min_samples_leaf': 1, 'max_depth': 10, 'max_features': 'log2', 'n_estimators': 179, 'criterion': 'entropy', 'class_weight1': 7}. Best is trial 11 with value: 0.3509632507070153.\n",
      "[I 2023-11-20 11:55:17,708] Trial 13 finished with value: 0.3417328065039009 and parameters: {'min_samples_leaf': 58, 'max_depth': 10, 'max_features': 'log2', 'n_estimators': 17, 'criterion': 'entropy', 'class_weight1': 7}. Best is trial 11 with value: 0.3509632507070153.\n",
      "[I 2023-11-20 11:55:32,346] Trial 14 finished with value: 0.3409046767661094 and parameters: {'min_samples_leaf': 13, 'max_depth': 9, 'max_features': 'log2', 'n_estimators': 148, 'criterion': 'entropy', 'class_weight1': 8}. Best is trial 11 with value: 0.3509632507070153.\n",
      "[I 2023-11-20 11:56:05,023] Trial 15 finished with value: 0.35323424691900385 and parameters: {'min_samples_leaf': 1, 'max_depth': 9, 'max_features': 'log2', 'n_estimators': 319, 'criterion': 'entropy', 'class_weight1': 6}. Best is trial 15 with value: 0.35323424691900385.\n",
      "[I 2023-11-20 11:56:34,536] Trial 16 finished with value: 0.34183809550403 and parameters: {'min_samples_leaf': 10, 'max_depth': 8, 'max_features': 'log2', 'n_estimators': 331, 'criterion': 'entropy', 'class_weight1': 5}. Best is trial 15 with value: 0.35323424691900385.\n",
      "[I 2023-11-20 11:56:58,526] Trial 17 finished with value: 0.35860967302368774 and parameters: {'min_samples_leaf': 76, 'max_depth': 9, 'max_features': 'log2', 'n_estimators': 325, 'criterion': 'entropy', 'class_weight1': 6}. Best is trial 17 with value: 0.35860967302368774.\n",
      "[I 2023-11-20 11:57:22,258] Trial 18 finished with value: 0.35201325613417794 and parameters: {'min_samples_leaf': 163, 'max_depth': 6, 'max_features': 'sqrt', 'n_estimators': 339, 'criterion': 'entropy', 'class_weight1': 5}. Best is trial 17 with value: 0.35860967302368774.\n",
      "[I 2023-11-20 11:57:41,619] Trial 19 finished with value: 0.34345757349701855 and parameters: {'min_samples_leaf': 49, 'max_depth': 8, 'max_features': 'log2', 'n_estimators': 303, 'criterion': 'gini', 'class_weight1': 6}. Best is trial 17 with value: 0.35860967302368774.\n",
      "[I 2023-11-20 11:57:58,216] Trial 20 finished with value: 0.3469622678947565 and parameters: {'min_samples_leaf': 287, 'max_depth': 9, 'max_features': 'log2', 'n_estimators': 357, 'criterion': 'entropy', 'class_weight1': 8}. Best is trial 17 with value: 0.35860967302368774.\n",
      "[I 2023-11-20 11:58:25,647] Trial 21 finished with value: 0.35076393502025505 and parameters: {'min_samples_leaf': 146, 'max_depth': 6, 'max_features': 'sqrt', 'n_estimators': 384, 'criterion': 'entropy', 'class_weight1': 5}. Best is trial 17 with value: 0.35860967302368774.\n",
      "[I 2023-11-20 11:58:54,202] Trial 22 finished with value: 0.3337863068489364 and parameters: {'min_samples_leaf': 5, 'max_depth': 6, 'max_features': 'sqrt', 'n_estimators': 314, 'criterion': 'entropy', 'class_weight1': 5}. Best is trial 17 with value: 0.35860967302368774.\n",
      "[I 2023-11-20 11:59:14,791] Trial 23 finished with value: 0.3425077845389636 and parameters: {'min_samples_leaf': 52, 'max_depth': 6, 'max_features': 'sqrt', 'n_estimators': 242, 'criterion': 'entropy', 'class_weight1': 6}. Best is trial 17 with value: 0.35860967302368774.\n",
      "[I 2023-11-20 11:59:58,129] Trial 24 finished with value: 0.3495847120674343 and parameters: {'min_samples_leaf': 19, 'max_depth': 8, 'max_features': 'sqrt', 'n_estimators': 389, 'criterion': 'entropy', 'class_weight1': 4}. Best is trial 17 with value: 0.35860967302368774.\n",
      "[I 2023-11-20 12:00:32,643] Trial 25 finished with value: 0.3316604555026242 and parameters: {'min_samples_leaf': 4, 'max_depth': 7, 'max_features': 'sqrt', 'n_estimators': 330, 'criterion': 'entropy', 'class_weight1': 8}. Best is trial 17 with value: 0.35860967302368774.\n",
      "[I 2023-11-20 12:00:47,721] Trial 26 finished with value: 0.3454141596640402 and parameters: {'min_samples_leaf': 211, 'max_depth': 5, 'max_features': 'sqrt', 'n_estimators': 251, 'criterion': 'entropy', 'class_weight1': 6}. Best is trial 17 with value: 0.35860967302368774.\n",
      "[I 2023-11-20 12:01:03,813] Trial 27 finished with value: 0.33178232299785604 and parameters: {'min_samples_leaf': 25, 'max_depth': 5, 'max_features': 'log2', 'n_estimators': 285, 'criterion': 'entropy', 'class_weight1': 7}. Best is trial 17 with value: 0.35860967302368774.\n",
      "[I 2023-11-20 12:02:04,431] Trial 28 finished with value: 0.34340327701056467 and parameters: {'min_samples_leaf': 5, 'max_depth': 9, 'max_features': 'sqrt', 'n_estimators': 473, 'criterion': 'log_loss', 'class_weight1': 5}. Best is trial 17 with value: 0.35860967302368774.\n",
      "[I 2023-11-20 12:02:18,670] Trial 29 finished with value: 0.3495631792961786 and parameters: {'min_samples_leaf': 393, 'max_depth': 4, 'max_features': 'sqrt', 'n_estimators': 356, 'criterion': 'gini', 'class_weight1': 4}. Best is trial 17 with value: 0.35860967302368774.\n",
      "[I 2023-11-20 12:02:39,930] Trial 30 finished with value: 0.3478720545575204 and parameters: {'min_samples_leaf': 96, 'max_depth': 5, 'max_features': 'log2', 'n_estimators': 391, 'criterion': 'log_loss', 'class_weight1': 3}. Best is trial 17 with value: 0.35860967302368774.\n",
      "[I 2023-11-20 12:03:06,512] Trial 31 finished with value: 0.35066597589893406 and parameters: {'min_samples_leaf': 1, 'max_depth': 10, 'max_features': 'log2', 'n_estimators': 220, 'criterion': 'entropy', 'class_weight1': 7}. Best is trial 17 with value: 0.35860967302368774.\n",
      "[I 2023-11-20 12:03:39,932] Trial 32 finished with value: 0.34887065208084156 and parameters: {'min_samples_leaf': 2, 'max_depth': 9, 'max_features': 'log2', 'n_estimators': 325, 'criterion': 'entropy', 'class_weight1': 6}. Best is trial 17 with value: 0.35860967302368774.\n",
      "[I 2023-11-20 12:04:19,680] Trial 33 finished with value: 0.34879161957971483 and parameters: {'min_samples_leaf': 1, 'max_depth': 10, 'max_features': 'log2', 'n_estimators': 356, 'criterion': 'entropy', 'class_weight1': 7}. Best is trial 17 with value: 0.35860967302368774.\n",
      "[I 2023-11-20 12:04:45,892] Trial 34 finished with value: 0.33296448874083007 and parameters: {'min_samples_leaf': 8, 'max_depth': 8, 'max_features': 'log2', 'n_estimators': 295, 'criterion': 'entropy', 'class_weight1': 9}. Best is trial 17 with value: 0.35860967302368774.\n",
      "[I 2023-11-20 12:04:49,834] Trial 35 finished with value: 0.2407562502885386 and parameters: {'min_samples_leaf': 33, 'max_depth': 2, 'max_features': 'log2', 'n_estimators': 158, 'criterion': 'log_loss', 'class_weight1': 5}. Best is trial 17 with value: 0.35860967302368774.\n",
      "[I 2023-11-20 12:05:01,464] Trial 36 finished with value: 0.35337859617439343 and parameters: {'min_samples_leaf': 506, 'max_depth': 9, 'max_features': 'sqrt', 'n_estimators': 250, 'criterion': 'entropy', 'class_weight1': 8}. Best is trial 17 with value: 0.35860967302368774.\n",
      "[I 2023-11-20 12:05:12,684] Trial 37 finished with value: 0.35705984883066233 and parameters: {'min_samples_leaf': 489, 'max_depth': 9, 'max_features': 'sqrt', 'n_estimators': 259, 'criterion': 'gini', 'class_weight1': 9}. Best is trial 17 with value: 0.35860967302368774.\n",
      "[I 2023-11-20 12:05:19,872] Trial 38 finished with value: 0.33416374632015267 and parameters: {'min_samples_leaf': 1082, 'max_depth': 9, 'max_features': 'sqrt', 'n_estimators': 244, 'criterion': 'gini', 'class_weight1': 10}. Best is trial 17 with value: 0.35860967302368774.\n",
      "[I 2023-11-20 12:05:31,569] Trial 39 finished with value: 0.35857204946269683 and parameters: {'min_samples_leaf': 475, 'max_depth': 9, 'max_features': 'sqrt', 'n_estimators': 268, 'criterion': 'gini', 'class_weight1': 9}. Best is trial 17 with value: 0.35860967302368774.\n",
      "[I 2023-11-20 12:05:40,694] Trial 40 finished with value: 0.35003616981415 and parameters: {'min_samples_leaf': 730, 'max_depth': 7, 'max_features': 'sqrt', 'n_estimators': 255, 'criterion': 'gini', 'class_weight1': 9}. Best is trial 17 with value: 0.35860967302368774.\n",
      "[I 2023-11-20 12:05:52,979] Trial 41 finished with value: 0.35517134643308484 and parameters: {'min_samples_leaf': 507, 'max_depth': 9, 'max_features': 'sqrt', 'n_estimators': 280, 'criterion': 'gini', 'class_weight1': 9}. Best is trial 17 with value: 0.35860967302368774.\n",
      "[I 2023-11-20 12:06:04,482] Trial 42 finished with value: 0.35591254219081475 and parameters: {'min_samples_leaf': 516, 'max_depth': 8, 'max_features': 'sqrt', 'n_estimators': 272, 'criterion': 'gini', 'class_weight1': 9}. Best is trial 17 with value: 0.35860967302368774.\n",
      "[I 2023-11-20 12:06:09,768] Trial 43 finished with value: 0.2470636734361796 and parameters: {'min_samples_leaf': 1902, 'max_depth': 8, 'max_features': 'sqrt', 'n_estimators': 276, 'criterion': 'gini', 'class_weight1': 9}. Best is trial 17 with value: 0.35860967302368774.\n",
      "[I 2023-11-20 12:06:12,192] Trial 44 finished with value: 0.23046490061088165 and parameters: {'min_samples_leaf': 4162, 'max_depth': 8, 'max_features': 'sqrt', 'n_estimators': 229, 'criterion': 'gini', 'class_weight1': 10}. Best is trial 17 with value: 0.35860967302368774.\n",
      "[I 2023-11-20 12:06:23,181] Trial 45 finished with value: 0.3483030965168692 and parameters: {'min_samples_leaf': 609, 'max_depth': 9, 'max_features': 'sqrt', 'n_estimators': 275, 'criterion': 'gini', 'class_weight1': 10}. Best is trial 17 with value: 0.35860967302368774.\n",
      "[I 2023-11-20 12:06:34,121] Trial 46 finished with value: 0.3504428107608967 and parameters: {'min_samples_leaf': 333, 'max_depth': 10, 'max_features': 'sqrt', 'n_estimators': 204, 'criterion': 'gini', 'class_weight1': 9}. Best is trial 17 with value: 0.35860967302368774.\n",
      "[I 2023-11-20 12:06:40,129] Trial 47 finished with value: 0.34883409007157684 and parameters: {'min_samples_leaf': 885, 'max_depth': 8, 'max_features': 'sqrt', 'n_estimators': 181, 'criterion': 'gini', 'class_weight1': 8}. Best is trial 17 with value: 0.35860967302368774.\n",
      "[I 2023-11-20 12:07:00,611] Trial 48 finished with value: 0.33230131633423565 and parameters: {'min_samples_leaf': 104, 'max_depth': 7, 'max_features': 'sqrt', 'n_estimators': 295, 'criterion': 'gini', 'class_weight1': 9}. Best is trial 17 with value: 0.35860967302368774.\n",
      "[I 2023-11-20 12:07:07,500] Trial 49 finished with value: 0.32379330435013287 and parameters: {'min_samples_leaf': 1276, 'max_depth': 10, 'max_features': 'sqrt', 'n_estimators': 266, 'criterion': 'gini', 'class_weight1': 10}. Best is trial 17 with value: 0.35860967302368774.\n",
      "[I 2023-11-20 12:07:13,035] Trial 50 finished with value: 0.34360764142889266 and parameters: {'min_samples_leaf': 263, 'max_depth': 9, 'max_features': 'sqrt', 'n_estimators': 93, 'criterion': 'gini', 'class_weight1': 9}. Best is trial 17 with value: 0.35860967302368774.\n",
      "[I 2023-11-20 12:07:22,912] Trial 51 finished with value: 0.3576398219213518 and parameters: {'min_samples_leaf': 513, 'max_depth': 9, 'max_features': 'sqrt', 'n_estimators': 228, 'criterion': 'gini', 'class_weight1': 8}. Best is trial 17 with value: 0.35860967302368774.\n",
      "[I 2023-11-20 12:07:33,211] Trial 52 finished with value: 0.35714814509079823 and parameters: {'min_samples_leaf': 483, 'max_depth': 9, 'max_features': 'sqrt', 'n_estimators': 231, 'criterion': 'gini', 'class_weight1': 8}. Best is trial 17 with value: 0.35860967302368774.\n",
      "[I 2023-11-20 12:07:45,147] Trial 53 finished with value: 0.3438139050179453 and parameters: {'min_samples_leaf': 193, 'max_depth': 8, 'max_features': 'sqrt', 'n_estimators': 189, 'criterion': 'gini', 'class_weight1': 8}. Best is trial 17 with value: 0.35860967302368774.\n",
      "[I 2023-11-20 12:07:53,299] Trial 54 finished with value: 0.3523373288243055 and parameters: {'min_samples_leaf': 389, 'max_depth': 10, 'max_features': 'sqrt', 'n_estimators': 165, 'criterion': 'gini', 'class_weight1': 8}. Best is trial 17 with value: 0.35860967302368774.\n",
      "[I 2023-11-20 12:07:55,992] Trial 55 finished with value: 0.0 and parameters: {'min_samples_leaf': 3796, 'max_depth': 9, 'max_features': 'sqrt', 'n_estimators': 225, 'criterion': 'gini', 'class_weight1': 1}. Best is trial 17 with value: 0.35860967302368774.\n",
      "[I 2023-11-20 12:08:00,890] Trial 56 finished with value: 0.34271872871623205 and parameters: {'min_samples_leaf': 854, 'max_depth': 10, 'max_features': 'sqrt', 'n_estimators': 138, 'criterion': 'gini', 'class_weight1': 10}. Best is trial 17 with value: 0.35860967302368774.\n",
      "[I 2023-11-20 12:08:08,423] Trial 57 finished with value: 0.2768213540702235 and parameters: {'min_samples_leaf': 1501, 'max_depth': 8, 'max_features': 'sqrt', 'n_estimators': 310, 'criterion': 'gini', 'class_weight1': 8}. Best is trial 17 with value: 0.35860967302368774.\n",
      "[I 2023-11-20 12:08:24,659] Trial 58 finished with value: 0.33737539701640207 and parameters: {'min_samples_leaf': 100, 'max_depth': 9, 'max_features': 'sqrt', 'n_estimators': 205, 'criterion': 'gini', 'class_weight1': 9}. Best is trial 17 with value: 0.35860967302368774.\n",
      "[I 2023-11-20 12:08:38,235] Trial 59 finished with value: 0.34400378526543257 and parameters: {'min_samples_leaf': 231, 'max_depth': 7, 'max_features': 'sqrt', 'n_estimators': 238, 'criterion': 'gini', 'class_weight1': 7}. Best is trial 17 with value: 0.35860967302368774.\n",
      "[I 2023-11-20 12:09:00,308] Trial 60 finished with value: 0.3462582922435129 and parameters: {'min_samples_leaf': 144, 'max_depth': 8, 'max_features': 'sqrt', 'n_estimators': 262, 'criterion': 'log_loss', 'class_weight1': 8}. Best is trial 17 with value: 0.35860967302368774.\n",
      "[I 2023-11-20 12:09:13,110] Trial 61 finished with value: 0.3575082924635459 and parameters: {'min_samples_leaf': 512, 'max_depth': 9, 'max_features': 'sqrt', 'n_estimators': 286, 'criterion': 'gini', 'class_weight1': 9}. Best is trial 17 with value: 0.35860967302368774.\n",
      "[I 2023-11-20 12:09:24,369] Trial 62 finished with value: 0.3556003972113444 and parameters: {'min_samples_leaf': 626, 'max_depth': 9, 'max_features': 'sqrt', 'n_estimators': 297, 'criterion': 'gini', 'class_weight1': 9}. Best is trial 17 with value: 0.35860967302368774.\n",
      "[I 2023-11-20 12:09:41,960] Trial 63 finished with value: 0.3456334868124409 and parameters: {'min_samples_leaf': 329, 'max_depth': 9, 'max_features': 'sqrt', 'n_estimators': 341, 'criterion': 'gini', 'class_weight1': 10}. Best is trial 17 with value: 0.35860967302368774.\n",
      "[I 2023-11-20 12:09:54,443] Trial 64 finished with value: 0.35688999627133355 and parameters: {'min_samples_leaf': 565, 'max_depth': 10, 'max_features': 'sqrt', 'n_estimators': 312, 'criterion': 'gini', 'class_weight1': 8}. Best is trial 17 with value: 0.35860967302368774.\n",
      "[I 2023-11-20 12:10:07,385] Trial 65 finished with value: 0.349053147171447 and parameters: {'min_samples_leaf': 975, 'max_depth': 10, 'max_features': 'sqrt', 'n_estimators': 411, 'criterion': 'gini', 'class_weight1': 7}. Best is trial 17 with value: 0.35860967302368774.\n",
      "[I 2023-11-20 12:10:29,870] Trial 66 finished with value: 0.34775191861635146 and parameters: {'min_samples_leaf': 268, 'max_depth': 10, 'max_features': 'sqrt', 'n_estimators': 370, 'criterion': 'gini', 'class_weight1': 8}. Best is trial 17 with value: 0.35860967302368774.\n",
      "[I 2023-11-20 12:10:36,501] Trial 67 finished with value: 0.2485670098871658 and parameters: {'min_samples_leaf': 1756, 'max_depth': 10, 'max_features': 'sqrt', 'n_estimators': 317, 'criterion': 'gini', 'class_weight1': 8}. Best is trial 17 with value: 0.35860967302368774.\n",
      "[I 2023-11-20 12:11:00,164] Trial 68 finished with value: 0.339566242554212 and parameters: {'min_samples_leaf': 152, 'max_depth': 9, 'max_features': 'sqrt', 'n_estimators': 342, 'criterion': 'gini', 'class_weight1': 7}. Best is trial 17 with value: 0.35860967302368774.\n",
      "[I 2023-11-20 12:11:11,455] Trial 69 finished with value: 0.35331701786738656 and parameters: {'min_samples_leaf': 422, 'max_depth': 9, 'max_features': 'sqrt', 'n_estimators': 216, 'criterion': 'log_loss', 'class_weight1': 8}. Best is trial 17 with value: 0.35860967302368774.\n",
      "[I 2023-11-20 12:11:12,404] Trial 70 finished with value: 0.3428164992554287 and parameters: {'min_samples_leaf': 74, 'max_depth': 10, 'max_features': 'log2', 'n_estimators': 10, 'criterion': 'gini', 'class_weight1': 9}. Best is trial 17 with value: 0.35860967302368774.\n",
      "[I 2023-11-20 12:11:24,098] Trial 71 finished with value: 0.35323198197009525 and parameters: {'min_samples_leaf': 613, 'max_depth': 9, 'max_features': 'sqrt', 'n_estimators': 306, 'criterion': 'gini', 'class_weight1': 9}. Best is trial 17 with value: 0.35860967302368774.\n",
      "[I 2023-11-20 12:11:36,574] Trial 72 finished with value: 0.3593413281842196 and parameters: {'min_samples_leaf': 477, 'max_depth': 8, 'max_features': 'sqrt', 'n_estimators': 287, 'criterion': 'gini', 'class_weight1': 9}. Best is trial 72 with value: 0.3593413281842196.\n",
      "[I 2023-11-20 12:11:54,861] Trial 73 finished with value: 0.3379096363539994 and parameters: {'min_samples_leaf': 202, 'max_depth': 9, 'max_features': 'sqrt', 'n_estimators': 290, 'criterion': 'gini', 'class_weight1': 9}. Best is trial 72 with value: 0.3593413281842196.\n",
      "[I 2023-11-20 12:12:08,345] Trial 74 finished with value: 0.34967592965349636 and parameters: {'min_samples_leaf': 350, 'max_depth': 10, 'max_features': 'sqrt', 'n_estimators': 255, 'criterion': 'gini', 'class_weight1': 8}. Best is trial 72 with value: 0.3593413281842196.\n",
      "[I 2023-11-20 12:12:15,223] Trial 75 finished with value: 0.32761869328811843 and parameters: {'min_samples_leaf': 1170, 'max_depth': 9, 'max_features': 'sqrt', 'n_estimators': 233, 'criterion': 'gini', 'class_weight1': 7}. Best is trial 72 with value: 0.3593413281842196.\n",
      "[I 2023-11-20 12:12:30,828] Trial 76 finished with value: 0.35350111061494127 and parameters: {'min_samples_leaf': 466, 'max_depth': 8, 'max_features': 'sqrt', 'n_estimators': 332, 'criterion': 'gini', 'class_weight1': 10}. Best is trial 72 with value: 0.3593413281842196.\n",
      "[I 2023-11-20 12:12:37,450] Trial 77 finished with value: 0.2822036638372586 and parameters: {'min_samples_leaf': 689, 'max_depth': 3, 'max_features': 'log2', 'n_estimators': 285, 'criterion': 'gini', 'class_weight1': 8}. Best is trial 72 with value: 0.3593413281842196.\n",
      "[I 2023-11-20 12:12:46,935] Trial 78 finished with value: 0.3500901593069157 and parameters: {'min_samples_leaf': 822, 'max_depth': 9, 'max_features': 'sqrt', 'n_estimators': 261, 'criterion': 'log_loss', 'class_weight1': 9}. Best is trial 72 with value: 0.3593413281842196.\n",
      "[I 2023-11-20 12:13:06,614] Trial 79 finished with value: 0.3408764769675784 and parameters: {'min_samples_leaf': 269, 'max_depth': 8, 'max_features': 'sqrt', 'n_estimators': 318, 'criterion': 'gini', 'class_weight1': 10}. Best is trial 72 with value: 0.3593413281842196.\n",
      "[I 2023-11-20 12:13:09,422] Trial 80 finished with value: 0.2344875343365765 and parameters: {'min_samples_leaf': 2388, 'max_depth': 10, 'max_features': 'log2', 'n_estimators': 213, 'criterion': 'gini', 'class_weight1': 6}. Best is trial 72 with value: 0.3593413281842196.\n",
      "[I 2023-11-20 12:13:20,320] Trial 81 finished with value: 0.35681605289906804 and parameters: {'min_samples_leaf': 485, 'max_depth': 7, 'max_features': 'sqrt', 'n_estimators': 240, 'criterion': 'gini', 'class_weight1': 9}. Best is trial 72 with value: 0.3593413281842196.\n",
      "[I 2023-11-20 12:13:32,218] Trial 82 finished with value: 0.35268273531320765 and parameters: {'min_samples_leaf': 397, 'max_depth': 7, 'max_features': 'sqrt', 'n_estimators': 242, 'criterion': 'gini', 'class_weight1': 9}. Best is trial 72 with value: 0.3593413281842196.\n",
      "[I 2023-11-20 12:13:39,044] Trial 83 finished with value: 0.3238502669186585 and parameters: {'min_samples_leaf': 1236, 'max_depth': 7, 'max_features': 'sqrt', 'n_estimators': 269, 'criterion': 'gini', 'class_weight1': 9}. Best is trial 72 with value: 0.3593413281842196.\n",
      "[I 2023-11-20 12:13:47,012] Trial 84 finished with value: 0.3571377132728445 and parameters: {'min_samples_leaf': 564, 'max_depth': 8, 'max_features': 'sqrt', 'n_estimators': 198, 'criterion': 'gini', 'class_weight1': 8}. Best is trial 72 with value: 0.3593413281842196.\n",
      "[I 2023-11-20 12:13:54,546] Trial 85 finished with value: 0.3549149878941498 and parameters: {'min_samples_leaf': 682, 'max_depth': 9, 'max_features': 'sqrt', 'n_estimators': 201, 'criterion': 'gini', 'class_weight1': 8}. Best is trial 72 with value: 0.3593413281842196.\n",
      "[I 2023-11-20 12:13:57,064] Trial 86 finished with value: 0.3353326831421627 and parameters: {'min_samples_leaf': 164, 'max_depth': 8, 'max_features': 'sqrt', 'n_estimators': 36, 'criterion': 'gini', 'class_weight1': 7}. Best is trial 72 with value: 0.3593413281842196.\n",
      "[I 2023-11-20 12:14:06,882] Trial 87 finished with value: 0.3514922806056786 and parameters: {'min_samples_leaf': 315, 'max_depth': 9, 'max_features': 'sqrt', 'n_estimators': 186, 'criterion': 'gini', 'class_weight1': 8}. Best is trial 72 with value: 0.3593413281842196.\n",
      "[I 2023-11-20 12:14:13,875] Trial 88 finished with value: 0.34401043716007623 and parameters: {'min_samples_leaf': 946, 'max_depth': 8, 'max_features': 'sqrt', 'n_estimators': 225, 'criterion': 'gini', 'class_weight1': 8}. Best is trial 72 with value: 0.3593413281842196.\n",
      "[I 2023-11-20 12:14:28,697] Trial 89 finished with value: 0.35653298354491325 and parameters: {'min_samples_leaf': 221, 'max_depth': 9, 'max_features': 'log2', 'n_estimators': 283, 'criterion': 'entropy', 'class_weight1': 3}. Best is trial 72 with value: 0.3593413281842196.\n",
      "[I 2023-11-20 12:14:58,626] Trial 90 finished with value: 0.3371140452636247 and parameters: {'min_samples_leaf': 125, 'max_depth': 10, 'max_features': 'sqrt', 'n_estimators': 372, 'criterion': 'gini', 'class_weight1': 10}. Best is trial 72 with value: 0.3593413281842196.\n",
      "[I 2023-11-20 12:15:05,940] Trial 91 finished with value: 0.3560947628638014 and parameters: {'min_samples_leaf': 516, 'max_depth': 6, 'max_features': 'sqrt', 'n_estimators': 165, 'criterion': 'gini', 'class_weight1': 9}. Best is trial 72 with value: 0.3593413281842196.\n",
      "[I 2023-11-20 12:15:19,983] Trial 92 finished with value: 0.3578677530042786 and parameters: {'min_samples_leaf': 503, 'max_depth': 8, 'max_features': 'sqrt', 'n_estimators': 303, 'criterion': 'gini', 'class_weight1': 9}. Best is trial 72 with value: 0.3593413281842196.\n",
      "[I 2023-11-20 12:15:33,182] Trial 93 finished with value: 0.3519478220489126 and parameters: {'min_samples_leaf': 723, 'max_depth': 8, 'max_features': 'sqrt', 'n_estimators': 326, 'criterion': 'gini', 'class_weight1': 9}. Best is trial 72 with value: 0.3593413281842196.\n",
      "[I 2023-11-20 12:15:51,723] Trial 94 finished with value: 0.3474887902524626 and parameters: {'min_samples_leaf': 267, 'max_depth': 9, 'max_features': 'sqrt', 'n_estimators': 307, 'criterion': 'gini', 'class_weight1': 8}. Best is trial 72 with value: 0.3593413281842196.\n",
      "[I 2023-11-20 12:16:09,748] Trial 95 finished with value: 0.35182435055724814 and parameters: {'min_samples_leaf': 363, 'max_depth': 8, 'max_features': 'sqrt', 'n_estimators': 348, 'criterion': 'gini', 'class_weight1': 7}. Best is trial 72 with value: 0.3593413281842196.\n",
      "[I 2023-11-20 12:16:29,701] Trial 96 finished with value: 0.34294374687534546 and parameters: {'min_samples_leaf': 185, 'max_depth': 9, 'max_features': 'sqrt', 'n_estimators': 299, 'criterion': 'gini', 'class_weight1': 8}. Best is trial 72 with value: 0.3593413281842196.\n",
      "[I 2023-11-20 12:16:37,866] Trial 97 finished with value: 0.3358479399084977 and parameters: {'min_samples_leaf': 1032, 'max_depth': 8, 'max_features': 'sqrt', 'n_estimators': 250, 'criterion': 'log_loss', 'class_weight1': 9}. Best is trial 72 with value: 0.3593413281842196.\n",
      "[I 2023-11-20 12:16:50,199] Trial 98 finished with value: 0.34718623714633096 and parameters: {'min_samples_leaf': 506, 'max_depth': 9, 'max_features': 'sqrt', 'n_estimators': 262, 'criterion': 'entropy', 'class_weight1': 10}. Best is trial 72 with value: 0.3593413281842196.\n",
      "[I 2023-11-20 12:16:55,363] Trial 99 finished with value: 0.2557509746787938 and parameters: {'min_samples_leaf': 1340, 'max_depth': 8, 'max_features': 'log2', 'n_estimators': 278, 'criterion': 'gini', 'class_weight1': 4}. Best is trial 72 with value: 0.3593413281842196.\n"
     ]
    }
   ],
   "source": [
    "# старт оптимизации\n",
    "study = optuna.create_study(direction='maximize')\n",
    "study.optimize(objective, n_trials=100)"
   ]
  },
  {
   "cell_type": "code",
   "execution_count": null,
   "metadata": {},
   "outputs": [
    {
     "name": "stderr",
     "output_type": "stream",
     "text": [
      "[I 2023-11-20 12:22:16,533] Trial 100 finished with value: 0.34532199672176916 and parameters: {'min_samples_leaf': 808, 'max_depth': 9, 'max_features': 'sqrt', 'n_estimators': 193, 'criterion': 'gini', 'class_weight1': 9}. Best is trial 72 with value: 0.3593413281842196.\n",
      "[I 2023-11-20 12:22:28,512] Trial 101 finished with value: 0.3555628696860369 and parameters: {'min_samples_leaf': 502, 'max_depth': 7, 'max_features': 'sqrt', 'n_estimators': 244, 'criterion': 'gini', 'class_weight1': 9}. Best is trial 72 with value: 0.3593413281842196.\n",
      "[I 2023-11-20 12:22:39,846] Trial 102 finished with value: 0.3518197818275536 and parameters: {'min_samples_leaf': 368, 'max_depth': 7, 'max_features': 'sqrt', 'n_estimators': 232, 'criterion': 'gini', 'class_weight1': 9}. Best is trial 72 with value: 0.3593413281842196.\n",
      "[I 2023-11-20 12:22:51,294] Trial 103 finished with value: 0.33999455411670076 and parameters: {'min_samples_leaf': 231, 'max_depth': 6, 'max_features': 'sqrt', 'n_estimators': 213, 'criterion': 'gini', 'class_weight1': 8}. Best is trial 72 with value: 0.3593413281842196.\n",
      "[I 2023-11-20 12:23:02,830] Trial 104 finished with value: 0.3531234700097188 and parameters: {'min_samples_leaf': 592, 'max_depth': 8, 'max_features': 'sqrt', 'n_estimators': 293, 'criterion': 'gini', 'class_weight1': 10}. Best is trial 72 with value: 0.3593413281842196.\n",
      "[I 2023-11-20 12:23:11,275] Trial 105 finished with value: 0.35223007340591855 and parameters: {'min_samples_leaf': 409, 'max_depth': 7, 'max_features': 'sqrt', 'n_estimators': 175, 'criterion': 'gini', 'class_weight1': 9}. Best is trial 72 with value: 0.3593413281842196.\n",
      "[I 2023-11-20 12:23:20,521] Trial 106 finished with value: 0.3528020926486691 and parameters: {'min_samples_leaf': 758, 'max_depth': 8, 'max_features': 'sqrt', 'n_estimators': 272, 'criterion': 'gini', 'class_weight1': 8}. Best is trial 72 with value: 0.3593413281842196.\n",
      "[I 2023-11-20 12:23:39,634] Trial 107 finished with value: 0.3492511464723339 and parameters: {'min_samples_leaf': 272, 'max_depth': 9, 'max_features': 'sqrt', 'n_estimators': 312, 'criterion': 'entropy', 'class_weight1': 9}. Best is trial 72 with value: 0.3593413281842196.\n",
      "[I 2023-11-20 12:23:50,008] Trial 108 finished with value: 0.3560552164847453 and parameters: {'min_samples_leaf': 565, 'max_depth': 10, 'max_features': 'sqrt', 'n_estimators': 257, 'criterion': 'gini', 'class_weight1': 9}. Best is trial 72 with value: 0.3593413281842196.\n",
      "[I 2023-11-20 12:24:00,045] Trial 109 finished with value: 0.3550547351172293 and parameters: {'min_samples_leaf': 447, 'max_depth': 8, 'max_features': 'log2', 'n_estimators': 286, 'criterion': 'gini', 'class_weight1': 8}. Best is trial 72 with value: 0.3593413281842196.\n",
      "[I 2023-11-20 12:24:05,280] Trial 110 finished with value: 0.28489586316740134 and parameters: {'min_samples_leaf': 1590, 'max_depth': 9, 'max_features': 'sqrt', 'n_estimators': 235, 'criterion': 'gini', 'class_weight1': 10}. Best is trial 72 with value: 0.3593413281842196.\n",
      "[I 2023-11-20 12:24:19,946] Trial 111 finished with value: 0.3382644817957768 and parameters: {'min_samples_leaf': 195, 'max_depth': 9, 'max_features': 'log2', 'n_estimators': 280, 'criterion': 'entropy', 'class_weight1': 2}. Best is trial 72 with value: 0.3593413281842196.\n",
      "[I 2023-11-20 12:24:33,048] Trial 112 finished with value: 0.35609953638368796 and parameters: {'min_samples_leaf': 313, 'max_depth': 9, 'max_features': 'log2', 'n_estimators': 299, 'criterion': 'entropy', 'class_weight1': 4}. Best is trial 72 with value: 0.3593413281842196.\n",
      "[I 2023-11-20 12:24:49,557] Trial 113 finished with value: 0.35798383773115383 and parameters: {'min_samples_leaf': 213, 'max_depth': 9, 'max_features': 'log2', 'n_estimators': 325, 'criterion': 'entropy', 'class_weight1': 3}. Best is trial 72 with value: 0.3593413281842196.\n",
      "[I 2023-11-20 12:24:57,804] Trial 114 finished with value: 0.22313897112762265 and parameters: {'min_samples_leaf': 955, 'max_depth': 9, 'max_features': 'log2', 'n_estimators': 332, 'criterion': 'entropy', 'class_weight1': 1}. Best is trial 72 with value: 0.3593413281842196.\n",
      "[I 2023-11-20 12:25:19,614] Trial 115 finished with value: 0.3418460289727573 and parameters: {'min_samples_leaf': 120, 'max_depth': 10, 'max_features': 'log2', 'n_estimators': 350, 'criterion': 'entropy', 'class_weight1': 2}. Best is trial 72 with value: 0.3593413281842196.\n",
      "[I 2023-11-20 12:25:45,115] Trial 116 finished with value: 0.3463875190870591 and parameters: {'min_samples_leaf': 77, 'max_depth': 9, 'max_features': 'sqrt', 'n_estimators': 325, 'criterion': 'gini', 'class_weight1': 5}. Best is trial 72 with value: 0.3593413281842196.\n",
      "[I 2023-11-20 12:26:00,445] Trial 117 finished with value: 0.35131627044281544 and parameters: {'min_samples_leaf': 646, 'max_depth': 7, 'max_features': 'log2', 'n_estimators': 490, 'criterion': 'entropy', 'class_weight1': 6}. Best is trial 72 with value: 0.3593413281842196.\n",
      "[I 2023-11-20 12:26:11,465] Trial 118 finished with value: 0.35828089360574544 and parameters: {'min_samples_leaf': 417, 'max_depth': 8, 'max_features': 'sqrt', 'n_estimators': 223, 'criterion': 'log_loss', 'class_weight1': 3}. Best is trial 72 with value: 0.3593413281842196.\n",
      "[I 2023-11-20 12:26:21,586] Trial 119 finished with value: 0.3529243381416547 and parameters: {'min_samples_leaf': 170, 'max_depth': 8, 'max_features': 'sqrt', 'n_estimators': 141, 'criterion': 'log_loss', 'class_weight1': 3}. Best is trial 72 with value: 0.3593413281842196.\n",
      "[I 2023-11-20 12:26:38,504] Trial 120 finished with value: 0.35913720764069834 and parameters: {'min_samples_leaf': 335, 'max_depth': 10, 'max_features': 'sqrt', 'n_estimators': 315, 'criterion': 'log_loss', 'class_weight1': 3}. Best is trial 72 with value: 0.3593413281842196.\n",
      "[I 2023-11-20 12:26:55,550] Trial 121 finished with value: 0.358506077088695 and parameters: {'min_samples_leaf': 321, 'max_depth': 10, 'max_features': 'sqrt', 'n_estimators': 312, 'criterion': 'log_loss', 'class_weight1': 3}. Best is trial 72 with value: 0.3593413281842196.\n",
      "[I 2023-11-20 12:27:07,882] Trial 122 finished with value: 0.35961953181691175 and parameters: {'min_samples_leaf': 319, 'max_depth': 10, 'max_features': 'sqrt', 'n_estimators': 221, 'criterion': 'log_loss', 'class_weight1': 3}. Best is trial 122 with value: 0.35961953181691175.\n",
      "[I 2023-11-20 12:27:20,289] Trial 123 finished with value: 0.3578443195683579 and parameters: {'min_samples_leaf': 308, 'max_depth': 10, 'max_features': 'sqrt', 'n_estimators': 221, 'criterion': 'log_loss', 'class_weight1': 3}. Best is trial 122 with value: 0.35961953181691175.\n",
      "[I 2023-11-20 12:27:32,526] Trial 124 finished with value: 0.3556267644195133 and parameters: {'min_samples_leaf': 302, 'max_depth': 10, 'max_features': 'sqrt', 'n_estimators': 216, 'criterion': 'log_loss', 'class_weight1': 3}. Best is trial 122 with value: 0.35961953181691175.\n",
      "[I 2023-11-20 12:27:50,152] Trial 125 finished with value: 0.35819970247782884 and parameters: {'min_samples_leaf': 355, 'max_depth': 10, 'max_features': 'sqrt', 'n_estimators': 337, 'criterion': 'log_loss', 'class_weight1': 3}. Best is trial 122 with value: 0.35961953181691175.\n",
      "[I 2023-11-20 12:28:16,647] Trial 126 finished with value: 0.35574312952398685 and parameters: {'min_samples_leaf': 132, 'max_depth': 10, 'max_features': 'sqrt', 'n_estimators': 337, 'criterion': 'log_loss', 'class_weight1': 3}. Best is trial 122 with value: 0.35961953181691175.\n",
      "[I 2023-11-20 12:28:36,483] Trial 127 finished with value: 0.35610908421406107 and parameters: {'min_samples_leaf': 235, 'max_depth': 10, 'max_features': 'sqrt', 'n_estimators': 318, 'criterion': 'log_loss', 'class_weight1': 3}. Best is trial 122 with value: 0.35961953181691175.\n",
      "[I 2023-11-20 12:28:48,924] Trial 128 finished with value: 0.3388118712375775 and parameters: {'min_samples_leaf': 346, 'max_depth': 10, 'max_features': 'log2', 'n_estimators': 303, 'criterion': 'log_loss', 'class_weight1': 2}. Best is trial 122 with value: 0.35961953181691175.\n",
      "[I 2023-11-20 12:29:14,992] Trial 129 finished with value: 0.35790747644934395 and parameters: {'min_samples_leaf': 171, 'max_depth': 10, 'max_features': 'sqrt', 'n_estimators': 368, 'criterion': 'log_loss', 'class_weight1': 3}. Best is trial 122 with value: 0.35961953181691175.\n",
      "[I 2023-11-20 12:29:41,126] Trial 130 finished with value: 0.36094202176429235 and parameters: {'min_samples_leaf': 177, 'max_depth': 10, 'max_features': 'sqrt', 'n_estimators': 369, 'criterion': 'log_loss', 'class_weight1': 3}. Best is trial 130 with value: 0.36094202176429235.\n",
      "[I 2023-11-20 12:30:09,264] Trial 131 finished with value: 0.35953329677560664 and parameters: {'min_samples_leaf': 179, 'max_depth': 10, 'max_features': 'sqrt', 'n_estimators': 400, 'criterion': 'log_loss', 'class_weight1': 3}. Best is trial 130 with value: 0.36094202176429235.\n",
      "[I 2023-11-20 12:30:40,983] Trial 132 finished with value: 0.35575264893508135 and parameters: {'min_samples_leaf': 148, 'max_depth': 10, 'max_features': 'sqrt', 'n_estimators': 440, 'criterion': 'log_loss', 'class_weight1': 3}. Best is trial 130 with value: 0.36094202176429235.\n",
      "[I 2023-11-20 12:31:14,104] Trial 133 finished with value: 0.3597213780425376 and parameters: {'min_samples_leaf': 99, 'max_depth': 10, 'max_features': 'sqrt', 'n_estimators': 399, 'criterion': 'log_loss', 'class_weight1': 3}. Best is trial 130 with value: 0.36094202176429235.\n",
      "[I 2023-11-20 12:31:49,499] Trial 134 finished with value: 0.36523380728401944 and parameters: {'min_samples_leaf': 88, 'max_depth': 10, 'max_features': 'sqrt', 'n_estimators': 399, 'criterion': 'log_loss', 'class_weight1': 4}. Best is trial 134 with value: 0.36523380728401944.\n",
      "[I 2023-11-20 12:32:22,210] Trial 135 finished with value: 0.3620000694494324 and parameters: {'min_samples_leaf': 109, 'max_depth': 10, 'max_features': 'sqrt', 'n_estimators': 401, 'criterion': 'log_loss', 'class_weight1': 4}. Best is trial 134 with value: 0.36523380728401944.\n",
      "[I 2023-11-20 12:32:57,352] Trial 136 finished with value: 0.36331431255721114 and parameters: {'min_samples_leaf': 90, 'max_depth': 10, 'max_features': 'sqrt', 'n_estimators': 403, 'criterion': 'log_loss', 'class_weight1': 4}. Best is trial 134 with value: 0.36523380728401944.\n",
      "[I 2023-11-20 12:33:33,620] Trial 137 finished with value: 0.3627902523651954 and parameters: {'min_samples_leaf': 86, 'max_depth': 10, 'max_features': 'sqrt', 'n_estimators': 403, 'criterion': 'log_loss', 'class_weight1': 4}. Best is trial 134 with value: 0.36523380728401944.\n",
      "[I 2023-11-20 12:34:09,573] Trial 138 finished with value: 0.3628931494343637 and parameters: {'min_samples_leaf': 86, 'max_depth': 10, 'max_features': 'sqrt', 'n_estimators': 404, 'criterion': 'log_loss', 'class_weight1': 4}. Best is trial 134 with value: 0.36523380728401944.\n",
      "[I 2023-11-20 12:34:45,767] Trial 139 finished with value: 0.35764050119552515 and parameters: {'min_samples_leaf': 82, 'max_depth': 10, 'max_features': 'sqrt', 'n_estimators': 402, 'criterion': 'log_loss', 'class_weight1': 4}. Best is trial 134 with value: 0.36523380728401944.\n",
      "[I 2023-11-20 12:35:30,702] Trial 140 finished with value: 0.3555270312266138 and parameters: {'min_samples_leaf': 49, 'max_depth': 10, 'max_features': 'sqrt', 'n_estimators': 426, 'criterion': 'log_loss', 'class_weight1': 4}. Best is trial 134 with value: 0.36523380728401944.\n",
      "[I 2023-11-20 12:36:10,266] Trial 141 finished with value: 0.3591590749121844 and parameters: {'min_samples_leaf': 59, 'max_depth': 10, 'max_features': 'sqrt', 'n_estimators': 385, 'criterion': 'log_loss', 'class_weight1': 4}. Best is trial 134 with value: 0.36523380728401944.\n",
      "[I 2023-11-20 12:36:50,773] Trial 142 finished with value: 0.35772824454691393 and parameters: {'min_samples_leaf': 58, 'max_depth': 10, 'max_features': 'sqrt', 'n_estimators': 396, 'criterion': 'log_loss', 'class_weight1': 4}. Best is trial 134 with value: 0.36523380728401944.\n",
      "[I 2023-11-20 12:37:27,839] Trial 143 finished with value: 0.36318861633616584 and parameters: {'min_samples_leaf': 92, 'max_depth': 10, 'max_features': 'sqrt', 'n_estimators': 413, 'criterion': 'log_loss', 'class_weight1': 4}. Best is trial 134 with value: 0.36523380728401944.\n",
      "[I 2023-11-20 12:38:05,185] Trial 144 finished with value: 0.3623649167997433 and parameters: {'min_samples_leaf': 92, 'max_depth': 10, 'max_features': 'sqrt', 'n_estimators': 416, 'criterion': 'log_loss', 'class_weight1': 4}. Best is trial 134 with value: 0.36523380728401944.\n",
      "[I 2023-11-20 12:38:39,608] Trial 145 finished with value: 0.3618951734428917 and parameters: {'min_samples_leaf': 90, 'max_depth': 10, 'max_features': 'sqrt', 'n_estimators': 382, 'criterion': 'log_loss', 'class_weight1': 4}. Best is trial 134 with value: 0.36523380728401944.\n",
      "[I 2023-11-20 12:39:12,650] Trial 146 finished with value: 0.3618291568127753 and parameters: {'min_samples_leaf': 102, 'max_depth': 10, 'max_features': 'sqrt', 'n_estimators': 382, 'criterion': 'log_loss', 'class_weight1': 4}. Best is trial 134 with value: 0.36523380728401944.\n",
      "[I 2023-11-20 12:39:44,931] Trial 147 finished with value: 0.3610542075723802 and parameters: {'min_samples_leaf': 108, 'max_depth': 10, 'max_features': 'sqrt', 'n_estimators': 381, 'criterion': 'log_loss', 'class_weight1': 4}. Best is trial 134 with value: 0.36523380728401944.\n",
      "[I 2023-11-20 12:40:20,216] Trial 148 finished with value: 0.36203879254939236 and parameters: {'min_samples_leaf': 104, 'max_depth': 10, 'max_features': 'sqrt', 'n_estimators': 412, 'criterion': 'log_loss', 'class_weight1': 4}. Best is trial 134 with value: 0.36523380728401944.\n",
      "[I 2023-11-20 12:40:55,852] Trial 149 finished with value: 0.3595786816785558 and parameters: {'min_samples_leaf': 107, 'max_depth': 10, 'max_features': 'sqrt', 'n_estimators': 418, 'criterion': 'log_loss', 'class_weight1': 4}. Best is trial 134 with value: 0.36523380728401944.\n",
      "[I 2023-11-20 12:41:33,577] Trial 150 finished with value: 0.3611123191701037 and parameters: {'min_samples_leaf': 90, 'max_depth': 10, 'max_features': 'sqrt', 'n_estimators': 420, 'criterion': 'log_loss', 'class_weight1': 4}. Best is trial 134 with value: 0.36523380728401944.\n",
      "[I 2023-11-20 12:42:09,496] Trial 151 finished with value: 0.3592898083302237 and parameters: {'min_samples_leaf': 106, 'max_depth': 10, 'max_features': 'sqrt', 'n_estimators': 420, 'criterion': 'log_loss', 'class_weight1': 4}. Best is trial 134 with value: 0.36523380728401944.\n",
      "[I 2023-11-20 12:42:48,117] Trial 152 finished with value: 0.3614119962204957 and parameters: {'min_samples_leaf': 93, 'max_depth': 10, 'max_features': 'sqrt', 'n_estimators': 434, 'criterion': 'log_loss', 'class_weight1': 4}. Best is trial 134 with value: 0.36523380728401944.\n",
      "[I 2023-11-20 12:43:27,465] Trial 153 finished with value: 0.3618110720699244 and parameters: {'min_samples_leaf': 91, 'max_depth': 10, 'max_features': 'sqrt', 'n_estimators': 437, 'criterion': 'log_loss', 'class_weight1': 4}. Best is trial 134 with value: 0.36523380728401944.\n",
      "[I 2023-11-20 12:44:07,664] Trial 154 finished with value: 0.36191835441482956 and parameters: {'min_samples_leaf': 87, 'max_depth': 10, 'max_features': 'sqrt', 'n_estimators': 438, 'criterion': 'log_loss', 'class_weight1': 4}. Best is trial 134 with value: 0.36523380728401944.\n",
      "[I 2023-11-20 12:44:50,461] Trial 155 finished with value: 0.3602090912232644 and parameters: {'min_samples_leaf': 78, 'max_depth': 10, 'max_features': 'sqrt', 'n_estimators': 450, 'criterion': 'log_loss', 'class_weight1': 4}. Best is trial 134 with value: 0.36523380728401944.\n",
      "[I 2023-11-20 12:45:33,397] Trial 156 finished with value: 0.35340543440255817 and parameters: {'min_samples_leaf': 67, 'max_depth': 10, 'max_features': 'sqrt', 'n_estimators': 433, 'criterion': 'log_loss', 'class_weight1': 5}. Best is trial 134 with value: 0.36523380728401944.\n",
      "[I 2023-11-20 12:46:23,690] Trial 157 finished with value: 0.35136976960238187 and parameters: {'min_samples_leaf': 41, 'max_depth': 10, 'max_features': 'sqrt', 'n_estimators': 454, 'criterion': 'log_loss', 'class_weight1': 4}. Best is trial 134 with value: 0.36523380728401944.\n",
      "[I 2023-11-20 12:46:58,241] Trial 158 finished with value: 0.3647953412171625 and parameters: {'min_samples_leaf': 86, 'max_depth': 10, 'max_features': 'sqrt', 'n_estimators': 377, 'criterion': 'log_loss', 'class_weight1': 4}. Best is trial 134 with value: 0.36523380728401944.\n",
      "[I 2023-11-20 12:47:35,204] Trial 159 finished with value: 0.36317281883111663 and parameters: {'min_samples_leaf': 89, 'max_depth': 10, 'max_features': 'sqrt', 'n_estimators': 408, 'criterion': 'log_loss', 'class_weight1': 4}. Best is trial 134 with value: 0.36523380728401944.\n",
      "[I 2023-11-20 12:48:18,394] Trial 160 finished with value: 0.35827816836920895 and parameters: {'min_samples_leaf': 82, 'max_depth': 10, 'max_features': 'sqrt', 'n_estimators': 465, 'criterion': 'log_loss', 'class_weight1': 5}. Best is trial 134 with value: 0.36523380728401944.\n",
      "[I 2023-11-20 12:48:55,600] Trial 161 finished with value: 0.36225268706897656 and parameters: {'min_samples_leaf': 92, 'max_depth': 10, 'max_features': 'sqrt', 'n_estimators': 411, 'criterion': 'log_loss', 'class_weight1': 4}. Best is trial 134 with value: 0.36523380728401944.\n",
      "[I 2023-11-20 12:49:35,425] Trial 162 finished with value: 0.3604022258953192 and parameters: {'min_samples_leaf': 66, 'max_depth': 10, 'max_features': 'sqrt', 'n_estimators': 412, 'criterion': 'log_loss', 'class_weight1': 4}. Best is trial 134 with value: 0.36523380728401944.\n",
      "[I 2023-11-20 12:50:11,154] Trial 163 finished with value: 0.3616349910710078 and parameters: {'min_samples_leaf': 91, 'max_depth': 10, 'max_features': 'sqrt', 'n_estimators': 409, 'criterion': 'log_loss', 'class_weight1': 4}. Best is trial 134 with value: 0.36523380728401944.\n",
      "[I 2023-11-20 12:50:56,249] Trial 164 finished with value: 0.35144647470642454 and parameters: {'min_samples_leaf': 48, 'max_depth': 10, 'max_features': 'sqrt', 'n_estimators': 435, 'criterion': 'log_loss', 'class_weight1': 4}. Best is trial 134 with value: 0.36523380728401944.\n",
      "[I 2023-11-20 12:51:35,451] Trial 165 finished with value: 0.3566572233843792 and parameters: {'min_samples_leaf': 64, 'max_depth': 10, 'max_features': 'sqrt', 'n_estimators': 407, 'criterion': 'log_loss', 'class_weight1': 4}. Best is trial 134 with value: 0.36523380728401944.\n",
      "[I 2023-11-20 12:52:10,565] Trial 166 finished with value: 0.36028042353465173 and parameters: {'min_samples_leaf': 84, 'max_depth': 10, 'max_features': 'sqrt', 'n_estimators': 386, 'criterion': 'log_loss', 'class_weight1': 4}. Best is trial 134 with value: 0.36523380728401944.\n",
      "[W 2023-11-20 12:52:41,431] Trial 167 failed with parameters: {'min_samples_leaf': 38, 'max_depth': 10, 'max_features': 'sqrt', 'n_estimators': 429, 'criterion': 'log_loss', 'class_weight1': 4} because of the following error: KeyboardInterrupt().\n",
      "Traceback (most recent call last):\n",
      "  File \"c:\\Users\\trigubov\\AppData\\Local\\Programs\\Python\\Python311\\Lib\\site-packages\\optuna\\study\\_optimize.py\", line 200, in _run_trial\n",
      "    value_or_values = func(trial)\n",
      "                      ^^^^^^^^^^^\n",
      "  File \"C:\\Users\\trigubov\\AppData\\Local\\Temp\\ipykernel_3680\\383527879.py\", line 31, in objective\n",
      "    metr = model_selection.cross_val_score(model, X_train, y_train, cv=5, scoring=score, n_jobs=-1).mean()\n",
      "           ^^^^^^^^^^^^^^^^^^^^^^^^^^^^^^^^^^^^^^^^^^^^^^^^^^^^^^^^^^^^^^^^^^^^^^^^^^^^^^^^^^^^^^^^\n",
      "  File \"c:\\Users\\trigubov\\AppData\\Local\\Programs\\Python\\Python311\\Lib\\site-packages\\sklearn\\model_selection\\_validation.py\", line 562, in cross_val_score\n",
      "    cv_results = cross_validate(\n",
      "                 ^^^^^^^^^^^^^^^\n",
      "  File \"c:\\Users\\trigubov\\AppData\\Local\\Programs\\Python\\Python311\\Lib\\site-packages\\sklearn\\utils\\_param_validation.py\", line 214, in wrapper\n",
      "    return func(*args, **kwargs)\n",
      "           ^^^^^^^^^^^^^^^^^^^^^\n",
      "  File \"c:\\Users\\trigubov\\AppData\\Local\\Programs\\Python\\Python311\\Lib\\site-packages\\sklearn\\model_selection\\_validation.py\", line 309, in cross_validate\n",
      "    results = parallel(\n",
      "              ^^^^^^^^^\n",
      "  File \"c:\\Users\\trigubov\\AppData\\Local\\Programs\\Python\\Python311\\Lib\\site-packages\\sklearn\\utils\\parallel.py\", line 65, in __call__\n",
      "    return super().__call__(iterable_with_config)\n",
      "           ^^^^^^^^^^^^^^^^^^^^^^^^^^^^^^^^^^^^^^\n",
      "  File \"c:\\Users\\trigubov\\AppData\\Local\\Programs\\Python\\Python311\\Lib\\site-packages\\joblib\\parallel.py\", line 1952, in __call__\n",
      "    return output if self.return_generator else list(output)\n",
      "                                                ^^^^^^^^^^^^\n",
      "  File \"c:\\Users\\trigubov\\AppData\\Local\\Programs\\Python\\Python311\\Lib\\site-packages\\joblib\\parallel.py\", line 1595, in _get_outputs\n",
      "    yield from self._retrieve()\n",
      "  File \"c:\\Users\\trigubov\\AppData\\Local\\Programs\\Python\\Python311\\Lib\\site-packages\\joblib\\parallel.py\", line 1707, in _retrieve\n",
      "    time.sleep(0.01)\n",
      "KeyboardInterrupt\n",
      "[W 2023-11-20 12:52:41,431] Trial 167 failed with value None.\n"
     ]
    },
    {
     "ename": "KeyboardInterrupt",
     "evalue": "",
     "output_type": "error",
     "traceback": [
      "\u001b[1;31m---------------------------------------------------------------------------\u001b[0m",
      "\u001b[1;31mKeyboardInterrupt\u001b[0m                         Traceback (most recent call last)",
      "\u001b[1;32mc:\\IDE\\Skillfactory\\DIPLOM\\Дипломная_работа_Тригубов.ipynb Cell 92\u001b[0m line \u001b[0;36m3\n\u001b[0;32m      <a href='vscode-notebook-cell:/c%3A/IDE/Skillfactory/DIPLOM/%D0%94%D0%B8%D0%BF%D0%BB%D0%BE%D0%BC%D0%BD%D0%B0%D1%8F_%D1%80%D0%B0%D0%B1%D0%BE%D1%82%D0%B0_%D0%A2%D1%80%D0%B8%D0%B3%D1%83%D0%B1%D0%BE%D0%B2.ipynb#Y304sZmlsZQ%3D%3D?line=0'>1</a>\u001b[0m \u001b[39m# время есть. Еще чуть-чуть посчитаем.\u001b[39;00m\n\u001b[0;32m      <a href='vscode-notebook-cell:/c%3A/IDE/Skillfactory/DIPLOM/%D0%94%D0%B8%D0%BF%D0%BB%D0%BE%D0%BC%D0%BD%D0%B0%D1%8F_%D1%80%D0%B0%D0%B1%D0%BE%D1%82%D0%B0_%D0%A2%D1%80%D0%B8%D0%B3%D1%83%D0%B1%D0%BE%D0%B2.ipynb#Y304sZmlsZQ%3D%3D?line=1'>2</a>\u001b[0m \u001b[39m# можем прододжить подбор, указав n_trials(любое число, которое добавится к предыдущим итерациям) \u001b[39;00m\n\u001b[1;32m----> <a href='vscode-notebook-cell:/c%3A/IDE/Skillfactory/DIPLOM/%D0%94%D0%B8%D0%BF%D0%BB%D0%BE%D0%BC%D0%BD%D0%B0%D1%8F_%D1%80%D0%B0%D0%B1%D0%BE%D1%82%D0%B0_%D0%A2%D1%80%D0%B8%D0%B3%D1%83%D0%B1%D0%BE%D0%B2.ipynb#Y304sZmlsZQ%3D%3D?line=2'>3</a>\u001b[0m study\u001b[39m.\u001b[39;49moptimize(objective, n_trials\u001b[39m=\u001b[39;49m\u001b[39m200\u001b[39;49m)\n",
      "File \u001b[1;32mc:\\Users\\trigubov\\AppData\\Local\\Programs\\Python\\Python311\\Lib\\site-packages\\optuna\\study\\study.py:451\u001b[0m, in \u001b[0;36mStudy.optimize\u001b[1;34m(self, func, n_trials, timeout, n_jobs, catch, callbacks, gc_after_trial, show_progress_bar)\u001b[0m\n\u001b[0;32m    348\u001b[0m \u001b[39mdef\u001b[39;00m \u001b[39moptimize\u001b[39m(\n\u001b[0;32m    349\u001b[0m     \u001b[39mself\u001b[39m,\n\u001b[0;32m    350\u001b[0m     func: ObjectiveFuncType,\n\u001b[1;32m   (...)\u001b[0m\n\u001b[0;32m    357\u001b[0m     show_progress_bar: \u001b[39mbool\u001b[39m \u001b[39m=\u001b[39m \u001b[39mFalse\u001b[39;00m,\n\u001b[0;32m    358\u001b[0m ) \u001b[39m-\u001b[39m\u001b[39m>\u001b[39m \u001b[39mNone\u001b[39;00m:\n\u001b[0;32m    359\u001b[0m \u001b[39m    \u001b[39m\u001b[39m\"\"\"Optimize an objective function.\u001b[39;00m\n\u001b[0;32m    360\u001b[0m \n\u001b[0;32m    361\u001b[0m \u001b[39m    Optimization is done by choosing a suitable set of hyperparameter values from a given\u001b[39;00m\n\u001b[1;32m   (...)\u001b[0m\n\u001b[0;32m    449\u001b[0m \u001b[39m            If nested invocation of this method occurs.\u001b[39;00m\n\u001b[0;32m    450\u001b[0m \u001b[39m    \"\"\"\u001b[39;00m\n\u001b[1;32m--> 451\u001b[0m     _optimize(\n\u001b[0;32m    452\u001b[0m         study\u001b[39m=\u001b[39;49m\u001b[39mself\u001b[39;49m,\n\u001b[0;32m    453\u001b[0m         func\u001b[39m=\u001b[39;49mfunc,\n\u001b[0;32m    454\u001b[0m         n_trials\u001b[39m=\u001b[39;49mn_trials,\n\u001b[0;32m    455\u001b[0m         timeout\u001b[39m=\u001b[39;49mtimeout,\n\u001b[0;32m    456\u001b[0m         n_jobs\u001b[39m=\u001b[39;49mn_jobs,\n\u001b[0;32m    457\u001b[0m         catch\u001b[39m=\u001b[39;49m\u001b[39mtuple\u001b[39;49m(catch) \u001b[39mif\u001b[39;49;00m \u001b[39misinstance\u001b[39;49m(catch, Iterable) \u001b[39melse\u001b[39;49;00m (catch,),\n\u001b[0;32m    458\u001b[0m         callbacks\u001b[39m=\u001b[39;49mcallbacks,\n\u001b[0;32m    459\u001b[0m         gc_after_trial\u001b[39m=\u001b[39;49mgc_after_trial,\n\u001b[0;32m    460\u001b[0m         show_progress_bar\u001b[39m=\u001b[39;49mshow_progress_bar,\n\u001b[0;32m    461\u001b[0m     )\n",
      "File \u001b[1;32mc:\\Users\\trigubov\\AppData\\Local\\Programs\\Python\\Python311\\Lib\\site-packages\\optuna\\study\\_optimize.py:66\u001b[0m, in \u001b[0;36m_optimize\u001b[1;34m(study, func, n_trials, timeout, n_jobs, catch, callbacks, gc_after_trial, show_progress_bar)\u001b[0m\n\u001b[0;32m     64\u001b[0m \u001b[39mtry\u001b[39;00m:\n\u001b[0;32m     65\u001b[0m     \u001b[39mif\u001b[39;00m n_jobs \u001b[39m==\u001b[39m \u001b[39m1\u001b[39m:\n\u001b[1;32m---> 66\u001b[0m         _optimize_sequential(\n\u001b[0;32m     67\u001b[0m             study,\n\u001b[0;32m     68\u001b[0m             func,\n\u001b[0;32m     69\u001b[0m             n_trials,\n\u001b[0;32m     70\u001b[0m             timeout,\n\u001b[0;32m     71\u001b[0m             catch,\n\u001b[0;32m     72\u001b[0m             callbacks,\n\u001b[0;32m     73\u001b[0m             gc_after_trial,\n\u001b[0;32m     74\u001b[0m             reseed_sampler_rng\u001b[39m=\u001b[39;49m\u001b[39mFalse\u001b[39;49;00m,\n\u001b[0;32m     75\u001b[0m             time_start\u001b[39m=\u001b[39;49m\u001b[39mNone\u001b[39;49;00m,\n\u001b[0;32m     76\u001b[0m             progress_bar\u001b[39m=\u001b[39;49mprogress_bar,\n\u001b[0;32m     77\u001b[0m         )\n\u001b[0;32m     78\u001b[0m     \u001b[39melse\u001b[39;00m:\n\u001b[0;32m     79\u001b[0m         \u001b[39mif\u001b[39;00m n_jobs \u001b[39m==\u001b[39m \u001b[39m-\u001b[39m\u001b[39m1\u001b[39m:\n",
      "File \u001b[1;32mc:\\Users\\trigubov\\AppData\\Local\\Programs\\Python\\Python311\\Lib\\site-packages\\optuna\\study\\_optimize.py:163\u001b[0m, in \u001b[0;36m_optimize_sequential\u001b[1;34m(study, func, n_trials, timeout, catch, callbacks, gc_after_trial, reseed_sampler_rng, time_start, progress_bar)\u001b[0m\n\u001b[0;32m    160\u001b[0m         \u001b[39mbreak\u001b[39;00m\n\u001b[0;32m    162\u001b[0m \u001b[39mtry\u001b[39;00m:\n\u001b[1;32m--> 163\u001b[0m     frozen_trial \u001b[39m=\u001b[39m _run_trial(study, func, catch)\n\u001b[0;32m    164\u001b[0m \u001b[39mfinally\u001b[39;00m:\n\u001b[0;32m    165\u001b[0m     \u001b[39m# The following line mitigates memory problems that can be occurred in some\u001b[39;00m\n\u001b[0;32m    166\u001b[0m     \u001b[39m# environments (e.g., services that use computing containers such as GitHub Actions).\u001b[39;00m\n\u001b[0;32m    167\u001b[0m     \u001b[39m# Please refer to the following PR for further details:\u001b[39;00m\n\u001b[0;32m    168\u001b[0m     \u001b[39m# https://github.com/optuna/optuna/pull/325.\u001b[39;00m\n\u001b[0;32m    169\u001b[0m     \u001b[39mif\u001b[39;00m gc_after_trial:\n",
      "File \u001b[1;32mc:\\Users\\trigubov\\AppData\\Local\\Programs\\Python\\Python311\\Lib\\site-packages\\optuna\\study\\_optimize.py:251\u001b[0m, in \u001b[0;36m_run_trial\u001b[1;34m(study, func, catch)\u001b[0m\n\u001b[0;32m    244\u001b[0m         \u001b[39massert\u001b[39;00m \u001b[39mFalse\u001b[39;00m, \u001b[39m\"\u001b[39m\u001b[39mShould not reach.\u001b[39m\u001b[39m\"\u001b[39m\n\u001b[0;32m    246\u001b[0m \u001b[39mif\u001b[39;00m (\n\u001b[0;32m    247\u001b[0m     frozen_trial\u001b[39m.\u001b[39mstate \u001b[39m==\u001b[39m TrialState\u001b[39m.\u001b[39mFAIL\n\u001b[0;32m    248\u001b[0m     \u001b[39mand\u001b[39;00m func_err \u001b[39mis\u001b[39;00m \u001b[39mnot\u001b[39;00m \u001b[39mNone\u001b[39;00m\n\u001b[0;32m    249\u001b[0m     \u001b[39mand\u001b[39;00m \u001b[39mnot\u001b[39;00m \u001b[39misinstance\u001b[39m(func_err, catch)\n\u001b[0;32m    250\u001b[0m ):\n\u001b[1;32m--> 251\u001b[0m     \u001b[39mraise\u001b[39;00m func_err\n\u001b[0;32m    252\u001b[0m \u001b[39mreturn\u001b[39;00m frozen_trial\n",
      "File \u001b[1;32mc:\\Users\\trigubov\\AppData\\Local\\Programs\\Python\\Python311\\Lib\\site-packages\\optuna\\study\\_optimize.py:200\u001b[0m, in \u001b[0;36m_run_trial\u001b[1;34m(study, func, catch)\u001b[0m\n\u001b[0;32m    198\u001b[0m \u001b[39mwith\u001b[39;00m get_heartbeat_thread(trial\u001b[39m.\u001b[39m_trial_id, study\u001b[39m.\u001b[39m_storage):\n\u001b[0;32m    199\u001b[0m     \u001b[39mtry\u001b[39;00m:\n\u001b[1;32m--> 200\u001b[0m         value_or_values \u001b[39m=\u001b[39m func(trial)\n\u001b[0;32m    201\u001b[0m     \u001b[39mexcept\u001b[39;00m exceptions\u001b[39m.\u001b[39mTrialPruned \u001b[39mas\u001b[39;00m e:\n\u001b[0;32m    202\u001b[0m         \u001b[39m# TODO(mamu): Handle multi-objective cases.\u001b[39;00m\n\u001b[0;32m    203\u001b[0m         state \u001b[39m=\u001b[39m TrialState\u001b[39m.\u001b[39mPRUNED\n",
      "\u001b[1;32mc:\\IDE\\Skillfactory\\DIPLOM\\Дипломная_работа_Тригубов.ipynb Cell 92\u001b[0m line \u001b[0;36m3\n\u001b[0;32m     <a href='vscode-notebook-cell:/c%3A/IDE/Skillfactory/DIPLOM/%D0%94%D0%B8%D0%BF%D0%BB%D0%BE%D0%BC%D0%BD%D0%B0%D1%8F_%D1%80%D0%B0%D0%B1%D0%BE%D1%82%D0%B0_%D0%A2%D1%80%D0%B8%D0%B3%D1%83%D0%B1%D0%BE%D0%B2.ipynb#Y304sZmlsZQ%3D%3D?line=14'>15</a>\u001b[0m model \u001b[39m=\u001b[39m ensemble\u001b[39m.\u001b[39mRandomForestClassifier(\n\u001b[0;32m     <a href='vscode-notebook-cell:/c%3A/IDE/Skillfactory/DIPLOM/%D0%94%D0%B8%D0%BF%D0%BB%D0%BE%D0%BC%D0%BD%D0%B0%D1%8F_%D1%80%D0%B0%D0%B1%D0%BE%D1%82%D0%B0_%D0%A2%D1%80%D0%B8%D0%B3%D1%83%D0%B1%D0%BE%D0%B2.ipynb#Y304sZmlsZQ%3D%3D?line=15'>16</a>\u001b[0m     min_samples_leaf\u001b[39m=\u001b[39mparams[\u001b[39m'\u001b[39m\u001b[39mmin_samples_leaf\u001b[39m\u001b[39m'\u001b[39m],\n\u001b[0;32m     <a href='vscode-notebook-cell:/c%3A/IDE/Skillfactory/DIPLOM/%D0%94%D0%B8%D0%BF%D0%BB%D0%BE%D0%BC%D0%BD%D0%B0%D1%8F_%D1%80%D0%B0%D0%B1%D0%BE%D1%82%D0%B0_%D0%A2%D1%80%D0%B8%D0%B3%D1%83%D0%B1%D0%BE%D0%B2.ipynb#Y304sZmlsZQ%3D%3D?line=16'>17</a>\u001b[0m     max_depth\u001b[39m=\u001b[39mparams[\u001b[39m'\u001b[39m\u001b[39mmax_depth\u001b[39m\u001b[39m'\u001b[39m],        \n\u001b[1;32m   (...)\u001b[0m\n\u001b[0;32m     <a href='vscode-notebook-cell:/c%3A/IDE/Skillfactory/DIPLOM/%D0%94%D0%B8%D0%BF%D0%BB%D0%BE%D0%BC%D0%BD%D0%B0%D1%8F_%D1%80%D0%B0%D0%B1%D0%BE%D1%82%D0%B0_%D0%A2%D1%80%D0%B8%D0%B3%D1%83%D0%B1%D0%BE%D0%B2.ipynb#Y304sZmlsZQ%3D%3D?line=22'>23</a>\u001b[0m     n_jobs\u001b[39m=\u001b[39m\u001b[39m-\u001b[39m\u001b[39m1\u001b[39m\n\u001b[0;32m     <a href='vscode-notebook-cell:/c%3A/IDE/Skillfactory/DIPLOM/%D0%94%D0%B8%D0%BF%D0%BB%D0%BE%D0%BC%D0%BD%D0%B0%D1%8F_%D1%80%D0%B0%D0%B1%D0%BE%D1%82%D0%B0_%D0%A2%D1%80%D0%B8%D0%B3%D1%83%D0%B1%D0%BE%D0%B2.ipynb#Y304sZmlsZQ%3D%3D?line=23'>24</a>\u001b[0m )\n\u001b[0;32m     <a href='vscode-notebook-cell:/c%3A/IDE/Skillfactory/DIPLOM/%D0%94%D0%B8%D0%BF%D0%BB%D0%BE%D0%BC%D0%BD%D0%B0%D1%8F_%D1%80%D0%B0%D0%B1%D0%BE%D1%82%D0%B0_%D0%A2%D1%80%D0%B8%D0%B3%D1%83%D0%B1%D0%BE%D0%B2.ipynb#Y304sZmlsZQ%3D%3D?line=25'>26</a>\u001b[0m \u001b[39m#model.fit(X_train, y_train)\u001b[39;00m\n\u001b[0;32m     <a href='vscode-notebook-cell:/c%3A/IDE/Skillfactory/DIPLOM/%D0%94%D0%B8%D0%BF%D0%BB%D0%BE%D0%BC%D0%BD%D0%B0%D1%8F_%D1%80%D0%B0%D0%B1%D0%BE%D1%82%D0%B0_%D0%A2%D1%80%D0%B8%D0%B3%D1%83%D0%B1%D0%BE%D0%B2.ipynb#Y304sZmlsZQ%3D%3D?line=26'>27</a>\u001b[0m \u001b[39m#y_pred_test = model.predict(X_test)\u001b[39;00m\n\u001b[0;32m     <a href='vscode-notebook-cell:/c%3A/IDE/Skillfactory/DIPLOM/%D0%94%D0%B8%D0%BF%D0%BB%D0%BE%D0%BC%D0%BD%D0%B0%D1%8F_%D1%80%D0%B0%D0%B1%D0%BE%D1%82%D0%B0_%D0%A2%D1%80%D0%B8%D0%B3%D1%83%D0%B1%D0%BE%D0%B2.ipynb#Y304sZmlsZQ%3D%3D?line=27'>28</a>\u001b[0m \u001b[39m#metr = (metrics.f1_score(y_test, y_pred_test,labels=[-1],average='macro') + metrics.f1_score(y_test, y_pred_test,labels=[1],average='macro')) / 2\u001b[39;00m\n\u001b[0;32m     <a href='vscode-notebook-cell:/c%3A/IDE/Skillfactory/DIPLOM/%D0%94%D0%B8%D0%BF%D0%BB%D0%BE%D0%BC%D0%BD%D0%B0%D1%8F_%D1%80%D0%B0%D0%B1%D0%BE%D1%82%D0%B0_%D0%A2%D1%80%D0%B8%D0%B3%D1%83%D0%B1%D0%BE%D0%B2.ipynb#Y304sZmlsZQ%3D%3D?line=28'>29</a>\u001b[0m \n\u001b[0;32m     <a href='vscode-notebook-cell:/c%3A/IDE/Skillfactory/DIPLOM/%D0%94%D0%B8%D0%BF%D0%BB%D0%BE%D0%BC%D0%BD%D0%B0%D1%8F_%D1%80%D0%B0%D0%B1%D0%BE%D1%82%D0%B0_%D0%A2%D1%80%D0%B8%D0%B3%D1%83%D0%B1%D0%BE%D0%B2.ipynb#Y304sZmlsZQ%3D%3D?line=29'>30</a>\u001b[0m \u001b[39m# используем метод кросс-валидации для подсчета метрики\u001b[39;00m\n\u001b[1;32m---> <a href='vscode-notebook-cell:/c%3A/IDE/Skillfactory/DIPLOM/%D0%94%D0%B8%D0%BF%D0%BB%D0%BE%D0%BC%D0%BD%D0%B0%D1%8F_%D1%80%D0%B0%D0%B1%D0%BE%D1%82%D0%B0_%D0%A2%D1%80%D0%B8%D0%B3%D1%83%D0%B1%D0%BE%D0%B2.ipynb#Y304sZmlsZQ%3D%3D?line=30'>31</a>\u001b[0m metr \u001b[39m=\u001b[39m model_selection\u001b[39m.\u001b[39;49mcross_val_score(model, X_train, y_train, cv\u001b[39m=\u001b[39;49m\u001b[39m5\u001b[39;49m, scoring\u001b[39m=\u001b[39;49mscore, n_jobs\u001b[39m=\u001b[39;49m\u001b[39m-\u001b[39;49m\u001b[39m1\u001b[39;49m)\u001b[39m.\u001b[39mmean()\n\u001b[0;32m     <a href='vscode-notebook-cell:/c%3A/IDE/Skillfactory/DIPLOM/%D0%94%D0%B8%D0%BF%D0%BB%D0%BE%D0%BC%D0%BD%D0%B0%D1%8F_%D1%80%D0%B0%D0%B1%D0%BE%D1%82%D0%B0_%D0%A2%D1%80%D0%B8%D0%B3%D1%83%D0%B1%D0%BE%D0%B2.ipynb#Y304sZmlsZQ%3D%3D?line=32'>33</a>\u001b[0m \u001b[39mreturn\u001b[39;00m metr\n",
      "File \u001b[1;32mc:\\Users\\trigubov\\AppData\\Local\\Programs\\Python\\Python311\\Lib\\site-packages\\sklearn\\model_selection\\_validation.py:562\u001b[0m, in \u001b[0;36mcross_val_score\u001b[1;34m(estimator, X, y, groups, scoring, cv, n_jobs, verbose, fit_params, pre_dispatch, error_score)\u001b[0m\n\u001b[0;32m    559\u001b[0m \u001b[39m# To ensure multimetric format is not supported\u001b[39;00m\n\u001b[0;32m    560\u001b[0m scorer \u001b[39m=\u001b[39m check_scoring(estimator, scoring\u001b[39m=\u001b[39mscoring)\n\u001b[1;32m--> 562\u001b[0m cv_results \u001b[39m=\u001b[39m cross_validate(\n\u001b[0;32m    563\u001b[0m     estimator\u001b[39m=\u001b[39;49mestimator,\n\u001b[0;32m    564\u001b[0m     X\u001b[39m=\u001b[39;49mX,\n\u001b[0;32m    565\u001b[0m     y\u001b[39m=\u001b[39;49my,\n\u001b[0;32m    566\u001b[0m     groups\u001b[39m=\u001b[39;49mgroups,\n\u001b[0;32m    567\u001b[0m     scoring\u001b[39m=\u001b[39;49m{\u001b[39m\"\u001b[39;49m\u001b[39mscore\u001b[39;49m\u001b[39m\"\u001b[39;49m: scorer},\n\u001b[0;32m    568\u001b[0m     cv\u001b[39m=\u001b[39;49mcv,\n\u001b[0;32m    569\u001b[0m     n_jobs\u001b[39m=\u001b[39;49mn_jobs,\n\u001b[0;32m    570\u001b[0m     verbose\u001b[39m=\u001b[39;49mverbose,\n\u001b[0;32m    571\u001b[0m     fit_params\u001b[39m=\u001b[39;49mfit_params,\n\u001b[0;32m    572\u001b[0m     pre_dispatch\u001b[39m=\u001b[39;49mpre_dispatch,\n\u001b[0;32m    573\u001b[0m     error_score\u001b[39m=\u001b[39;49merror_score,\n\u001b[0;32m    574\u001b[0m )\n\u001b[0;32m    575\u001b[0m \u001b[39mreturn\u001b[39;00m cv_results[\u001b[39m\"\u001b[39m\u001b[39mtest_score\u001b[39m\u001b[39m\"\u001b[39m]\n",
      "File \u001b[1;32mc:\\Users\\trigubov\\AppData\\Local\\Programs\\Python\\Python311\\Lib\\site-packages\\sklearn\\utils\\_param_validation.py:214\u001b[0m, in \u001b[0;36mvalidate_params.<locals>.decorator.<locals>.wrapper\u001b[1;34m(*args, **kwargs)\u001b[0m\n\u001b[0;32m    208\u001b[0m \u001b[39mtry\u001b[39;00m:\n\u001b[0;32m    209\u001b[0m     \u001b[39mwith\u001b[39;00m config_context(\n\u001b[0;32m    210\u001b[0m         skip_parameter_validation\u001b[39m=\u001b[39m(\n\u001b[0;32m    211\u001b[0m             prefer_skip_nested_validation \u001b[39mor\u001b[39;00m global_skip_validation\n\u001b[0;32m    212\u001b[0m         )\n\u001b[0;32m    213\u001b[0m     ):\n\u001b[1;32m--> 214\u001b[0m         \u001b[39mreturn\u001b[39;00m func(\u001b[39m*\u001b[39;49margs, \u001b[39m*\u001b[39;49m\u001b[39m*\u001b[39;49mkwargs)\n\u001b[0;32m    215\u001b[0m \u001b[39mexcept\u001b[39;00m InvalidParameterError \u001b[39mas\u001b[39;00m e:\n\u001b[0;32m    216\u001b[0m     \u001b[39m# When the function is just a wrapper around an estimator, we allow\u001b[39;00m\n\u001b[0;32m    217\u001b[0m     \u001b[39m# the function to delegate validation to the estimator, but we replace\u001b[39;00m\n\u001b[0;32m    218\u001b[0m     \u001b[39m# the name of the estimator by the name of the function in the error\u001b[39;00m\n\u001b[0;32m    219\u001b[0m     \u001b[39m# message to avoid confusion.\u001b[39;00m\n\u001b[0;32m    220\u001b[0m     msg \u001b[39m=\u001b[39m re\u001b[39m.\u001b[39msub(\n\u001b[0;32m    221\u001b[0m         \u001b[39mr\u001b[39m\u001b[39m\"\u001b[39m\u001b[39mparameter of \u001b[39m\u001b[39m\\\u001b[39m\u001b[39mw+ must be\u001b[39m\u001b[39m\"\u001b[39m,\n\u001b[0;32m    222\u001b[0m         \u001b[39mf\u001b[39m\u001b[39m\"\u001b[39m\u001b[39mparameter of \u001b[39m\u001b[39m{\u001b[39;00mfunc\u001b[39m.\u001b[39m\u001b[39m__qualname__\u001b[39m\u001b[39m}\u001b[39;00m\u001b[39m must be\u001b[39m\u001b[39m\"\u001b[39m,\n\u001b[0;32m    223\u001b[0m         \u001b[39mstr\u001b[39m(e),\n\u001b[0;32m    224\u001b[0m     )\n",
      "File \u001b[1;32mc:\\Users\\trigubov\\AppData\\Local\\Programs\\Python\\Python311\\Lib\\site-packages\\sklearn\\model_selection\\_validation.py:309\u001b[0m, in \u001b[0;36mcross_validate\u001b[1;34m(estimator, X, y, groups, scoring, cv, n_jobs, verbose, fit_params, pre_dispatch, return_train_score, return_estimator, return_indices, error_score)\u001b[0m\n\u001b[0;32m    306\u001b[0m \u001b[39m# We clone the estimator to make sure that all the folds are\u001b[39;00m\n\u001b[0;32m    307\u001b[0m \u001b[39m# independent, and that it is pickle-able.\u001b[39;00m\n\u001b[0;32m    308\u001b[0m parallel \u001b[39m=\u001b[39m Parallel(n_jobs\u001b[39m=\u001b[39mn_jobs, verbose\u001b[39m=\u001b[39mverbose, pre_dispatch\u001b[39m=\u001b[39mpre_dispatch)\n\u001b[1;32m--> 309\u001b[0m results \u001b[39m=\u001b[39m parallel(\n\u001b[0;32m    310\u001b[0m     delayed(_fit_and_score)(\n\u001b[0;32m    311\u001b[0m         clone(estimator),\n\u001b[0;32m    312\u001b[0m         X,\n\u001b[0;32m    313\u001b[0m         y,\n\u001b[0;32m    314\u001b[0m         scorers,\n\u001b[0;32m    315\u001b[0m         train,\n\u001b[0;32m    316\u001b[0m         test,\n\u001b[0;32m    317\u001b[0m         verbose,\n\u001b[0;32m    318\u001b[0m         \u001b[39mNone\u001b[39;49;00m,\n\u001b[0;32m    319\u001b[0m         fit_params,\n\u001b[0;32m    320\u001b[0m         return_train_score\u001b[39m=\u001b[39;49mreturn_train_score,\n\u001b[0;32m    321\u001b[0m         return_times\u001b[39m=\u001b[39;49m\u001b[39mTrue\u001b[39;49;00m,\n\u001b[0;32m    322\u001b[0m         return_estimator\u001b[39m=\u001b[39;49mreturn_estimator,\n\u001b[0;32m    323\u001b[0m         error_score\u001b[39m=\u001b[39;49merror_score,\n\u001b[0;32m    324\u001b[0m     )\n\u001b[0;32m    325\u001b[0m     \u001b[39mfor\u001b[39;49;00m train, test \u001b[39min\u001b[39;49;00m indices\n\u001b[0;32m    326\u001b[0m )\n\u001b[0;32m    328\u001b[0m _warn_or_raise_about_fit_failures(results, error_score)\n\u001b[0;32m    330\u001b[0m \u001b[39m# For callable scoring, the return type is only know after calling. If the\u001b[39;00m\n\u001b[0;32m    331\u001b[0m \u001b[39m# return type is a dictionary, the error scores can now be inserted with\u001b[39;00m\n\u001b[0;32m    332\u001b[0m \u001b[39m# the correct key.\u001b[39;00m\n",
      "File \u001b[1;32mc:\\Users\\trigubov\\AppData\\Local\\Programs\\Python\\Python311\\Lib\\site-packages\\sklearn\\utils\\parallel.py:65\u001b[0m, in \u001b[0;36mParallel.__call__\u001b[1;34m(self, iterable)\u001b[0m\n\u001b[0;32m     60\u001b[0m config \u001b[39m=\u001b[39m get_config()\n\u001b[0;32m     61\u001b[0m iterable_with_config \u001b[39m=\u001b[39m (\n\u001b[0;32m     62\u001b[0m     (_with_config(delayed_func, config), args, kwargs)\n\u001b[0;32m     63\u001b[0m     \u001b[39mfor\u001b[39;00m delayed_func, args, kwargs \u001b[39min\u001b[39;00m iterable\n\u001b[0;32m     64\u001b[0m )\n\u001b[1;32m---> 65\u001b[0m \u001b[39mreturn\u001b[39;00m \u001b[39msuper\u001b[39;49m()\u001b[39m.\u001b[39;49m\u001b[39m__call__\u001b[39;49m(iterable_with_config)\n",
      "File \u001b[1;32mc:\\Users\\trigubov\\AppData\\Local\\Programs\\Python\\Python311\\Lib\\site-packages\\joblib\\parallel.py:1952\u001b[0m, in \u001b[0;36mParallel.__call__\u001b[1;34m(self, iterable)\u001b[0m\n\u001b[0;32m   1946\u001b[0m \u001b[39m# The first item from the output is blank, but it makes the interpreter\u001b[39;00m\n\u001b[0;32m   1947\u001b[0m \u001b[39m# progress until it enters the Try/Except block of the generator and\u001b[39;00m\n\u001b[0;32m   1948\u001b[0m \u001b[39m# reach the first `yield` statement. This starts the aynchronous\u001b[39;00m\n\u001b[0;32m   1949\u001b[0m \u001b[39m# dispatch of the tasks to the workers.\u001b[39;00m\n\u001b[0;32m   1950\u001b[0m \u001b[39mnext\u001b[39m(output)\n\u001b[1;32m-> 1952\u001b[0m \u001b[39mreturn\u001b[39;00m output \u001b[39mif\u001b[39;00m \u001b[39mself\u001b[39m\u001b[39m.\u001b[39mreturn_generator \u001b[39melse\u001b[39;00m \u001b[39mlist\u001b[39m(output)\n",
      "File \u001b[1;32mc:\\Users\\trigubov\\AppData\\Local\\Programs\\Python\\Python311\\Lib\\site-packages\\joblib\\parallel.py:1595\u001b[0m, in \u001b[0;36mParallel._get_outputs\u001b[1;34m(self, iterator, pre_dispatch)\u001b[0m\n\u001b[0;32m   1592\u001b[0m     \u001b[39myield\u001b[39;00m\n\u001b[0;32m   1594\u001b[0m     \u001b[39mwith\u001b[39;00m \u001b[39mself\u001b[39m\u001b[39m.\u001b[39m_backend\u001b[39m.\u001b[39mretrieval_context():\n\u001b[1;32m-> 1595\u001b[0m         \u001b[39myield from\u001b[39;00m \u001b[39mself\u001b[39m\u001b[39m.\u001b[39m_retrieve()\n\u001b[0;32m   1597\u001b[0m \u001b[39mexcept\u001b[39;00m \u001b[39mGeneratorExit\u001b[39;00m:\n\u001b[0;32m   1598\u001b[0m     \u001b[39m# The generator has been garbage collected before being fully\u001b[39;00m\n\u001b[0;32m   1599\u001b[0m     \u001b[39m# consumed. This aborts the remaining tasks if possible and warn\u001b[39;00m\n\u001b[0;32m   1600\u001b[0m     \u001b[39m# the user if necessary.\u001b[39;00m\n\u001b[0;32m   1601\u001b[0m     \u001b[39mself\u001b[39m\u001b[39m.\u001b[39m_exception \u001b[39m=\u001b[39m \u001b[39mTrue\u001b[39;00m\n",
      "File \u001b[1;32mc:\\Users\\trigubov\\AppData\\Local\\Programs\\Python\\Python311\\Lib\\site-packages\\joblib\\parallel.py:1707\u001b[0m, in \u001b[0;36mParallel._retrieve\u001b[1;34m(self)\u001b[0m\n\u001b[0;32m   1702\u001b[0m \u001b[39m# If the next job is not ready for retrieval yet, we just wait for\u001b[39;00m\n\u001b[0;32m   1703\u001b[0m \u001b[39m# async callbacks to progress.\u001b[39;00m\n\u001b[0;32m   1704\u001b[0m \u001b[39mif\u001b[39;00m ((\u001b[39mlen\u001b[39m(\u001b[39mself\u001b[39m\u001b[39m.\u001b[39m_jobs) \u001b[39m==\u001b[39m \u001b[39m0\u001b[39m) \u001b[39mor\u001b[39;00m\n\u001b[0;32m   1705\u001b[0m     (\u001b[39mself\u001b[39m\u001b[39m.\u001b[39m_jobs[\u001b[39m0\u001b[39m]\u001b[39m.\u001b[39mget_status(\n\u001b[0;32m   1706\u001b[0m         timeout\u001b[39m=\u001b[39m\u001b[39mself\u001b[39m\u001b[39m.\u001b[39mtimeout) \u001b[39m==\u001b[39m TASK_PENDING)):\n\u001b[1;32m-> 1707\u001b[0m     time\u001b[39m.\u001b[39msleep(\u001b[39m0.01\u001b[39m)\n\u001b[0;32m   1708\u001b[0m     \u001b[39mcontinue\u001b[39;00m\n\u001b[0;32m   1710\u001b[0m \u001b[39m# We need to be careful: the job list can be filling up as\u001b[39;00m\n\u001b[0;32m   1711\u001b[0m \u001b[39m# we empty it and Python list are not thread-safe by\u001b[39;00m\n\u001b[0;32m   1712\u001b[0m \u001b[39m# default hence the use of the lock\u001b[39;00m\n",
      "\u001b[1;31mKeyboardInterrupt\u001b[0m: "
     ]
    }
   ],
   "source": [
    "# время есть. Еще чуть-чуть посчитаем.\n",
    "# можем прододжить подбор, указав n_trials(любое число, которое добавится к предыдущим итерациям) \n",
    "study.optimize(objective, n_trials=200)"
   ]
  },
  {
   "cell_type": "code",
   "execution_count": null,
   "metadata": {},
   "outputs": [
    {
     "name": "stdout",
     "output_type": "stream",
     "text": [
      "Наилучшие значения гиперпараметров {'min_samples_leaf': 88, 'max_depth': 10, 'max_features': 'sqrt', 'n_estimators': 399, 'criterion': 'log_loss', 'class_weight1': 4}\n",
      "f1_score на обучающем наборе: 0.37\n"
     ]
    }
   ],
   "source": [
    "# выводим результаты на обучающей выборке\n",
    "print(\"Наилучшие значения гиперпараметров {}\".format(study.best_params))\n",
    "print(\"f1_score на обучающем наборе: {:.2f}\".format(study.best_value))"
   ]
  },
  {
   "cell_type": "markdown",
   "metadata": {},
   "source": [
    "Проверим данные на тестовой выборке, заодно, по необходимости руками попробуем подкрутить некоторые параметры, если необходимо"
   ]
  },
  {
   "cell_type": "code",
   "execution_count": 34,
   "metadata": {},
   "outputs": [
    {
     "name": "stdout",
     "output_type": "stream",
     "text": [
      "---train---\n",
      "              precision    recall  f1-score   support\n",
      "\n",
      "          -1       0.35      0.29      0.32      2462\n",
      "           0       0.94      0.78      0.86     12053\n",
      "           1       0.38      0.74      0.50      2693\n",
      "\n",
      "    accuracy                           0.71     17208\n",
      "   macro avg       0.56      0.60      0.56     17208\n",
      "weighted avg       0.77      0.71      0.72     17208\n",
      "\n",
      "---test---\n",
      "              precision    recall  f1-score   support\n",
      "\n",
      "          -1       0.28      0.42      0.34     88451\n",
      "           0       0.94      0.82      0.88    586354\n",
      "           1       0.35      0.46      0.40     91994\n",
      "\n",
      "    accuracy                           0.73    766799\n",
      "   macro avg       0.52      0.57      0.54    766799\n",
      "weighted avg       0.79      0.73      0.76    766799\n",
      "\n"
     ]
    }
   ],
   "source": [
    "# рассчитаем точность для тестовой выборки\n",
    "\n",
    "model = ensemble.RandomForestClassifier(\n",
    "        min_samples_leaf=88,\n",
    "        max_depth=4, # это значение я снизил вручную. По результатам оптимизации оно было равно 10. Но это приводило к переобучению\n",
    "        max_features='sqrt',\n",
    "        n_estimators=399,\n",
    "        criterion='log_loss',        \n",
    "        class_weight={-1: 4, 0: 1, 1: 4},\n",
    "        n_jobs=-1,\n",
    "        random_state=random_state\n",
    ")    \n",
    "\n",
    "model.fit(X_train, y_train)\n",
    "\n",
    "y_train_pred = model.predict(X_train)\n",
    "y_test_pred = model.predict(X_test)\n",
    "\n",
    "print('---train---')\n",
    "print(metrics.classification_report(y_train, y_train_pred))\n",
    "print('---test---')\n",
    "print(metrics.classification_report(y_test, y_test_pred))"
   ]
  },
  {
   "cell_type": "markdown",
   "metadata": {},
   "source": [
    "Результаты не слишком впечатлящие, но, может быть, нам удасться теперь улучшить результат путём подбора порогового значения?"
   ]
  },
  {
   "cell_type": "code",
   "execution_count": 35,
   "metadata": {},
   "outputs": [],
   "source": [
    "# сохраним модель в файл\n",
    "pickle.dump(model, open('pkl/model.pkl', 'wb'))"
   ]
  },
  {
   "cell_type": "markdown",
   "metadata": {},
   "source": [
    "## 4.4. Подбор порогового значения trashhold"
   ]
  },
  {
   "cell_type": "code",
   "execution_count": null,
   "metadata": {},
   "outputs": [
    {
     "name": "stderr",
     "output_type": "stream",
     "text": [
      " 50%|█████     | 9/18 [00:22<00:22,  2.47s/it]c:\\Users\\trigubov\\AppData\\Local\\Programs\\Python\\Python311\\Lib\\site-packages\\sklearn\\metrics\\_classification.py:1471: UndefinedMetricWarning: Precision is ill-defined and being set to 0.0 due to no predicted samples. Use `zero_division` parameter to control this behavior.\n",
      "  _warn_prf(average, modifier, msg_start, len(result))\n",
      " 56%|█████▌    | 10/18 [00:24<00:19,  2.46s/it]c:\\Users\\trigubov\\AppData\\Local\\Programs\\Python\\Python311\\Lib\\site-packages\\sklearn\\metrics\\_classification.py:1471: UndefinedMetricWarning: Precision is ill-defined and being set to 0.0 due to no predicted samples. Use `zero_division` parameter to control this behavior.\n",
      "  _warn_prf(average, modifier, msg_start, len(result))\n",
      " 61%|██████    | 11/18 [00:27<00:17,  2.45s/it]c:\\Users\\trigubov\\AppData\\Local\\Programs\\Python\\Python311\\Lib\\site-packages\\sklearn\\metrics\\_classification.py:1471: UndefinedMetricWarning: Precision is ill-defined and being set to 0.0 due to no predicted samples. Use `zero_division` parameter to control this behavior.\n",
      "  _warn_prf(average, modifier, msg_start, len(result))\n",
      "c:\\Users\\trigubov\\AppData\\Local\\Programs\\Python\\Python311\\Lib\\site-packages\\sklearn\\metrics\\_classification.py:1471: UndefinedMetricWarning: Precision is ill-defined and being set to 0.0 due to no predicted samples. Use `zero_division` parameter to control this behavior.\n",
      "  _warn_prf(average, modifier, msg_start, len(result))\n",
      " 67%|██████▋   | 12/18 [00:29<00:14,  2.44s/it]c:\\Users\\trigubov\\AppData\\Local\\Programs\\Python\\Python311\\Lib\\site-packages\\sklearn\\metrics\\_classification.py:1471: UndefinedMetricWarning: Precision is ill-defined and being set to 0.0 due to no predicted samples. Use `zero_division` parameter to control this behavior.\n",
      "  _warn_prf(average, modifier, msg_start, len(result))\n",
      "c:\\Users\\trigubov\\AppData\\Local\\Programs\\Python\\Python311\\Lib\\site-packages\\sklearn\\metrics\\_classification.py:1471: UndefinedMetricWarning: Precision is ill-defined and being set to 0.0 due to no predicted samples. Use `zero_division` parameter to control this behavior.\n",
      "  _warn_prf(average, modifier, msg_start, len(result))\n",
      " 72%|███████▏  | 13/18 [00:32<00:12,  2.44s/it]c:\\Users\\trigubov\\AppData\\Local\\Programs\\Python\\Python311\\Lib\\site-packages\\sklearn\\metrics\\_classification.py:1471: UndefinedMetricWarning: Precision is ill-defined and being set to 0.0 due to no predicted samples. Use `zero_division` parameter to control this behavior.\n",
      "  _warn_prf(average, modifier, msg_start, len(result))\n",
      "c:\\Users\\trigubov\\AppData\\Local\\Programs\\Python\\Python311\\Lib\\site-packages\\sklearn\\metrics\\_classification.py:1471: UndefinedMetricWarning: Precision is ill-defined and being set to 0.0 due to no predicted samples. Use `zero_division` parameter to control this behavior.\n",
      "  _warn_prf(average, modifier, msg_start, len(result))\n",
      " 78%|███████▊  | 14/18 [00:34<00:09,  2.46s/it]c:\\Users\\trigubov\\AppData\\Local\\Programs\\Python\\Python311\\Lib\\site-packages\\sklearn\\metrics\\_classification.py:1471: UndefinedMetricWarning: Precision is ill-defined and being set to 0.0 due to no predicted samples. Use `zero_division` parameter to control this behavior.\n",
      "  _warn_prf(average, modifier, msg_start, len(result))\n",
      "c:\\Users\\trigubov\\AppData\\Local\\Programs\\Python\\Python311\\Lib\\site-packages\\sklearn\\metrics\\_classification.py:1471: UndefinedMetricWarning: Precision is ill-defined and being set to 0.0 due to no predicted samples. Use `zero_division` parameter to control this behavior.\n",
      "  _warn_prf(average, modifier, msg_start, len(result))\n",
      " 83%|████████▎ | 15/18 [00:36<00:07,  2.45s/it]c:\\Users\\trigubov\\AppData\\Local\\Programs\\Python\\Python311\\Lib\\site-packages\\sklearn\\metrics\\_classification.py:1471: UndefinedMetricWarning: Precision is ill-defined and being set to 0.0 due to no predicted samples. Use `zero_division` parameter to control this behavior.\n",
      "  _warn_prf(average, modifier, msg_start, len(result))\n",
      "c:\\Users\\trigubov\\AppData\\Local\\Programs\\Python\\Python311\\Lib\\site-packages\\sklearn\\metrics\\_classification.py:1471: UndefinedMetricWarning: Precision is ill-defined and being set to 0.0 due to no predicted samples. Use `zero_division` parameter to control this behavior.\n",
      "  _warn_prf(average, modifier, msg_start, len(result))\n",
      " 89%|████████▉ | 16/18 [00:39<00:04,  2.45s/it]c:\\Users\\trigubov\\AppData\\Local\\Programs\\Python\\Python311\\Lib\\site-packages\\sklearn\\metrics\\_classification.py:1471: UndefinedMetricWarning: Precision is ill-defined and being set to 0.0 due to no predicted samples. Use `zero_division` parameter to control this behavior.\n",
      "  _warn_prf(average, modifier, msg_start, len(result))\n",
      "c:\\Users\\trigubov\\AppData\\Local\\Programs\\Python\\Python311\\Lib\\site-packages\\sklearn\\metrics\\_classification.py:1471: UndefinedMetricWarning: Precision is ill-defined and being set to 0.0 due to no predicted samples. Use `zero_division` parameter to control this behavior.\n",
      "  _warn_prf(average, modifier, msg_start, len(result))\n",
      " 94%|█████████▍| 17/18 [00:41<00:02,  2.44s/it]c:\\Users\\trigubov\\AppData\\Local\\Programs\\Python\\Python311\\Lib\\site-packages\\sklearn\\metrics\\_classification.py:1471: UndefinedMetricWarning: Precision is ill-defined and being set to 0.0 due to no predicted samples. Use `zero_division` parameter to control this behavior.\n",
      "  _warn_prf(average, modifier, msg_start, len(result))\n",
      "c:\\Users\\trigubov\\AppData\\Local\\Programs\\Python\\Python311\\Lib\\site-packages\\sklearn\\metrics\\_classification.py:1471: UndefinedMetricWarning: Precision is ill-defined and being set to 0.0 due to no predicted samples. Use `zero_division` parameter to control this behavior.\n",
      "  _warn_prf(average, modifier, msg_start, len(result))\n",
      "100%|██████████| 18/18 [00:44<00:00,  2.46s/it]\n"
     ]
    },
    {
     "data": {
      "image/png": "[encoded data removed]",
      "text/plain": [
       "<Figure size 1000x400 with 1 Axes>"
      ]
     },
     "metadata": {},
     "output_type": "display_data"
    }
   ],
   "source": [
    "y_test_pred = model.predict(X_test)\n",
    "\n",
    "\n",
    "# Ваш код здесь\n",
    "y_valid_proba_pred_minus1 = pd.Series(model.predict_proba(X_test)[:, 0]) # вероятность класса -1\n",
    "y_valid_proba_pred_zero = pd.Series(model.predict_proba(X_test)[:, 1]) # вероятность класса 0\n",
    "y_valid_proba_pred_class1 = pd.Series(model.predict_proba(X_test)[:, 2]) # вероятность класса 1\n",
    "\n",
    "y_valid_class1 = y_test.apply(lambda x: 1 if x>0 else 0) # класс 1\n",
    "y_valid_minus1 = y_test.apply(lambda x: 1 if x<0 else 0) # класс -1\n",
    "y_valid_zero = y_test.apply(lambda x: 1 if x==0 else 0) # класс 0\n",
    "\n",
    "# Инициализируем список, куда будем сохранять метрики.\n",
    "scores_f1_class1 = []\n",
    "scores_f1_minus1 = []\n",
    "scores_f1_zero = []\n",
    "\n",
    "scores_r_class1 = []\n",
    "scores_r_minus1 = []\n",
    "scores_r_zero = []\n",
    "\n",
    "scores_p_class1 = []\n",
    "scores_p_minus1 = []\n",
    "scores_p_zero = []\n",
    "\n",
    "# Задаём значения порогов вероятности\n",
    "thresholds = np.arange(0.05, 0.95, 0.05)\n",
    "\n",
    "# В цикле перебираем значения порогов вероятности\n",
    "\n",
    "for threshold in tqdm(thresholds):\n",
    "    # Делаем предсказание\n",
    "    y_test_pred_poly_class1 = y_valid_proba_pred_class1.apply(lambda x: 1 if x > threshold else 0)\n",
    "    y_test_pred_poly_minus1 = y_valid_proba_pred_minus1.apply(lambda x: 1 if x > threshold else 0)\n",
    "    y_test_pred_poly_zero = y_valid_proba_pred_zero.apply(lambda x: 1 if x > threshold else 0)\n",
    "\n",
    "    # Рассчитываем метрику\n",
    "    score_f1_class1 = metrics.f1_score(y_valid_class1, y_test_pred_poly_class1)\n",
    "    score_p_class1 = metrics.precision_score(y_valid_class1, y_test_pred_poly_class1)\n",
    "    score_r_class1 = metrics.recall_score(y_valid_class1, y_test_pred_poly_class1)\n",
    "    scores_f1_class1.append(score_f1_class1)\n",
    "    scores_r_class1.append(score_r_class1)\n",
    "    scores_p_class1.append(score_p_class1)\n",
    "\n",
    "    score_f1_zero = metrics.f1_score(y_valid_zero, y_test_pred_poly_zero)\n",
    "    score_p_zero = metrics.precision_score(y_valid_zero, y_test_pred_poly_zero)\n",
    "    score_r_zero = metrics.recall_score(y_valid_zero, y_test_pred_poly_zero)\n",
    "    scores_f1_zero.append(score_f1_zero)\n",
    "    scores_r_zero.append(score_r_zero)\n",
    "    scores_p_zero.append(score_p_zero)\n",
    "    \n",
    "    score_f1_minus1 = metrics.f1_score(y_valid_minus1, y_test_pred_poly_minus1)\n",
    "    score_p_minus1 = metrics.precision_score(y_valid_minus1, y_test_pred_poly_minus1)\n",
    "    score_r_minus1 = metrics.recall_score(y_valid_minus1, y_test_pred_poly_minus1)    \n",
    "    scores_f1_minus1.append(score_f1_minus1)\n",
    "    scores_r_minus1.append(score_r_minus1)\n",
    "    scores_p_minus1.append(score_p_minus1)\n",
    "\n",
    "#Визуализируем метрики при различных threshold\n",
    "\n",
    "fig, ax = plt.subplots(figsize=(10, 4)) #фигура + координатная плоскость\n",
    "\n",
    "\n",
    "# Что-бы не замусоривать график - выведем только класс 1, а остальное закомментируем\n",
    "\n",
    "\n",
    "#Строим линейный график зависимости recall от threshold\n",
    "#ax.plot(thresholds, scores_r_minus1, label='Recall minus1')\n",
    "#Строим линейный график зависимости precision от threshold\n",
    "#ax.plot(thresholds, scores_p_minus1, label='Precision minus1')\n",
    "#Строим линейный график зависимости F1 от threshold\n",
    "#ax.plot(thresholds, scores_f1_minus1, label='F1-score minus1')\n",
    "\n",
    "#Строим линейный график зависимости recall от threshold\n",
    "ax.plot(thresholds, scores_r_class1, label='Recall class1')\n",
    "#Строим линейный график зависимости precision от threshold\n",
    "ax.plot(thresholds, scores_p_class1, label='Precision class1')\n",
    "#Строим линейный график зависимости F1 от threshold\n",
    "ax.plot(thresholds, scores_f1_class1, label='F1-score class1')\n",
    "\n",
    "#Строим линейный график зависимости recall от threshold\n",
    "#ax.plot(thresholds, scores_r_zero, label='Recall zero')\n",
    "#Строим линейный график зависимости precision от threshold\n",
    "#ax.plot(thresholds, scores_p_zero, label='Precision zero')\n",
    "#Строим линейный график зависимости F1 от threshold\n",
    "#ax.plot(thresholds, scores_f1_zero, label='F1-score zero')\n",
    "\n",
    "#Даём названия графику и осям\n",
    "ax.set_title('Recall/Precision/F1 dependence on the threshold')\n",
    "ax.set_xlabel('Probability threshold')\n",
    "ax.set_ylabel('Score')\n",
    "#Устанавливаем отметки по оси x\n",
    "ax.set_xticks(thresholds) \n",
    "#Отображаем легенду\n",
    "ax.legend();"
   ]
  },
  {
   "cell_type": "markdown",
   "metadata": {},
   "source": [
    "Максимальное значение Precision, которое мы получили - это, примерно, 0.6. При этом общий охват модели уже крайне низкий. Я-бы сказал, что оптимальное значение - это при пороговом значении равным в 0.5 (для класса -1 - оптимальное значение я выбрал 0.45). Посмотрим на метрики при этом значении порогового параметра"
   ]
  },
  {
   "cell_type": "code",
   "execution_count": null,
   "metadata": {},
   "outputs": [
    {
     "name": "stdout",
     "output_type": "stream",
     "text": [
      "              precision    recall  f1-score   support\n",
      "\n",
      "          -1       0.35      0.07      0.12     88451\n",
      "           0       0.81      0.98      0.89    586354\n",
      "           1       0.55      0.19      0.28     91994\n",
      "\n",
      "    accuracy                           0.78    766799\n",
      "   macro avg       0.57      0.42      0.43    766799\n",
      "weighted avg       0.72      0.78      0.72    766799\n",
      "\n"
     ]
    }
   ],
   "source": [
    "threshold_class1 = 0.5 # выберем порог 0.5 для класса 1\n",
    "threshold_class_minus1 = 0.45 # выберем порог 0.45 для класса -1\n",
    "\n",
    "# сделаем предсказание на тестовой выборке, учитывая порог\n",
    "y_valid_proba_pred_minus1 = pd.Series(model.predict_proba(X_test)[:, 0])\n",
    "#y_valid_proba_pred_zero = pd.Series(model.predict_proba(X_test)[:, 1])\n",
    "y_valid_proba_pred_class1 = pd.Series(model.predict_proba(X_test)[:, 2])\n",
    "\n",
    "y_valid_class1 = y_test.apply(lambda x: 1 if x>0 else 0)\n",
    "y_valid_minus1 = y_test.apply(lambda x: 1 if x<0 else 0)\n",
    "#y_valid_zero = y_test.apply(lambda x: 1 if x==0 else 0)\n",
    "\n",
    "y_test_pred_poly_class1 = y_valid_proba_pred_class1.apply(lambda x: 1 if x > threshold_class1 else 0)\n",
    "y_test_pred_poly_minus1 = y_valid_proba_pred_minus1.apply(lambda x: 1 if x > threshold_class_minus1 else 0)\n",
    "#y_test_pred_poly_zero = y_valid_proba_pred_zero.apply(lambda x: 1 if x > threshold else 0)\n",
    "\n",
    "#y_test_pred_poly_minus1 = y_valid_proba_pred_minus1.apply(lambda x: 1 if x > threshold else 0)\n",
    "#y_test_pred_poly_zero = y_valid_proba_pred_zero.apply(lambda x: 1 if x > threshold else 0)\n",
    "\n",
    "y_test_pred = y_test_pred_poly_class1 + y_test_pred_poly_minus1 * -1\n",
    "\n",
    "# выведем метрики\n",
    "print(metrics.classification_report(y_test, y_test_pred))\n"
   ]
  },
  {
   "cell_type": "markdown",
   "metadata": {},
   "source": [
    "Изменив пороговое значение, резко снизив охват модели нам удалось серьезно увеличить искомую метрику Precision. Конечно, этого значения (35% для sell-сигнала и 55% для buy-сигнала) недостаточно для экономически успешной модели в данных условиях - но это уже результат, от которого можно отталкиваться."
   ]
  },
  {
   "cell_type": "markdown",
   "metadata": {},
   "source": [
    "## 4.5. Learning Curve"
   ]
  },
  {
   "cell_type": "markdown",
   "metadata": {},
   "source": [
    "Возможно, что данных просто слишком мало для успешного предсказания. Воспользуемся методом Learning Curve, и посмотрим как ведет себя baseline модель в зависимости от количества данных."
   ]
  },
  {
   "cell_type": "code",
   "execution_count": null,
   "metadata": {},
   "outputs": [],
   "source": [
    "def plot_learning_curve(model, X, y, cv, scoring=\"f1\", ax=None, title=\"\"):\n",
    "    # Вычисляем координаты для построения кривой обучения\n",
    "    train_sizes, train_scores, valid_scores = model_selection.learning_curve(\n",
    "        estimator=model,  # модель\n",
    "        X=X,  # матрица наблюдений X\n",
    "        y=y,  # вектор ответов y\n",
    "        cv=cv,  # кросс-валидатор\n",
    "        scoring=scoring,  # метрика\n",
    "    )\n",
    "    # Вычисляем среднее значение по фолдам для каждого набора данных\n",
    "    train_scores_mean = np.mean(train_scores, axis=1)\n",
    "    valid_scores_mean = np.mean(valid_scores, axis=1)\n",
    "    # Если координатной плоскости не было передано, создаём новую\n",
    "    #if ax is None:\n",
    "    #    fig, ax = plt.subplots(figsize=(15, 10))  # фигура + координатная плоскость    \n",
    "    fig, ax = plt.subplots(figsize=(10, 4)) #фигура + координатная плоскость\n",
    "    # Строим кривую обучения по метрикам на тренировочных фолдах\n",
    "    ax.plot(train_sizes, train_scores_mean, label=\"Train\")\n",
    "    # Строим кривую обучения по метрикам на валидационных фолдах\n",
    "    ax.plot(train_sizes, valid_scores_mean, label=\"Valid\")\n",
    "    # Даём название графику и подписи осям\n",
    "    ax.set_title(\"Learning curve: {}\".format(title))\n",
    "    ax.set_xlabel(\"Train data size\")\n",
    "    ax.set_ylabel(\"Score\")\n",
    "    # Устанавливаем отметки по оси абсцисс\n",
    "    ax.xaxis.set_ticks(train_sizes)\n",
    "    # Устанавливаем диапазон оси ординат\n",
    "    ax.set_ylim(0, 0.7)\n",
    "    # Отображаем легенду\n",
    "    ax.legend()"
   ]
  },
  {
   "cell_type": "markdown",
   "metadata": {},
   "source": [
    "Модель у нас уже есть, переходим к построению кривой\n"
   ]
  },
  {
   "cell_type": "code",
   "execution_count": null,
   "metadata": {},
   "outputs": [
    {
     "name": "stderr",
     "output_type": "stream",
     "text": [
      "c:\\Users\\trigubov\\AppData\\Local\\Programs\\Python\\Python311\\Lib\\site-packages\\sklearn\\metrics\\_classification.py:1760: UndefinedMetricWarning: F-score is ill-defined and being set to 0.0 due to no true nor predicted samples. Use `zero_division` parameter to control this behavior.\n",
      "  _warn_prf(average, \"true nor predicted\", \"F-score is\", len(true_sum))\n",
      "c:\\Users\\trigubov\\AppData\\Local\\Programs\\Python\\Python311\\Lib\\site-packages\\sklearn\\metrics\\_classification.py:1760: UndefinedMetricWarning: F-score is ill-defined and being set to 0.0 due to no true nor predicted samples. Use `zero_division` parameter to control this behavior.\n",
      "  _warn_prf(average, \"true nor predicted\", \"F-score is\", len(true_sum))\n",
      "c:\\Users\\trigubov\\AppData\\Local\\Programs\\Python\\Python311\\Lib\\site-packages\\sklearn\\metrics\\_classification.py:1760: UndefinedMetricWarning: F-score is ill-defined and being set to 0.0 due to no true nor predicted samples. Use `zero_division` parameter to control this behavior.\n",
      "  _warn_prf(average, \"true nor predicted\", \"F-score is\", len(true_sum))\n",
      "c:\\Users\\trigubov\\AppData\\Local\\Programs\\Python\\Python311\\Lib\\site-packages\\sklearn\\metrics\\_classification.py:1760: UndefinedMetricWarning: F-score is ill-defined and being set to 0.0 due to no true nor predicted samples. Use `zero_division` parameter to control this behavior.\n",
      "  _warn_prf(average, \"true nor predicted\", \"F-score is\", len(true_sum))\n",
      "c:\\Users\\trigubov\\AppData\\Local\\Programs\\Python\\Python311\\Lib\\site-packages\\sklearn\\metrics\\_classification.py:1760: UndefinedMetricWarning: F-score is ill-defined and being set to 0.0 due to no true nor predicted samples. Use `zero_division` parameter to control this behavior.\n",
      "  _warn_prf(average, \"true nor predicted\", \"F-score is\", len(true_sum))\n",
      "c:\\Users\\trigubov\\AppData\\Local\\Programs\\Python\\Python311\\Lib\\site-packages\\sklearn\\metrics\\_classification.py:1760: UndefinedMetricWarning: F-score is ill-defined and being set to 0.0 due to no true nor predicted samples. Use `zero_division` parameter to control this behavior.\n",
      "  _warn_prf(average, \"true nor predicted\", \"F-score is\", len(true_sum))\n",
      "c:\\Users\\trigubov\\AppData\\Local\\Programs\\Python\\Python311\\Lib\\site-packages\\sklearn\\metrics\\_classification.py:1760: UndefinedMetricWarning: F-score is ill-defined and being set to 0.0 due to no true nor predicted samples. Use `zero_division` parameter to control this behavior.\n",
      "  _warn_prf(average, \"true nor predicted\", \"F-score is\", len(true_sum))\n",
      "c:\\Users\\trigubov\\AppData\\Local\\Programs\\Python\\Python311\\Lib\\site-packages\\sklearn\\metrics\\_classification.py:1760: UndefinedMetricWarning: F-score is ill-defined and being set to 0.0 due to no true nor predicted samples. Use `zero_division` parameter to control this behavior.\n",
      "  _warn_prf(average, \"true nor predicted\", \"F-score is\", len(true_sum))\n",
      "c:\\Users\\trigubov\\AppData\\Local\\Programs\\Python\\Python311\\Lib\\site-packages\\sklearn\\metrics\\_classification.py:1760: UndefinedMetricWarning: F-score is ill-defined and being set to 0.0 due to no true nor predicted samples. Use `zero_division` parameter to control this behavior.\n",
      "  _warn_prf(average, \"true nor predicted\", \"F-score is\", len(true_sum))\n",
      "c:\\Users\\trigubov\\AppData\\Local\\Programs\\Python\\Python311\\Lib\\site-packages\\sklearn\\metrics\\_classification.py:1760: UndefinedMetricWarning: F-score is ill-defined and being set to 0.0 due to no true nor predicted samples. Use `zero_division` parameter to control this behavior.\n",
      "  _warn_prf(average, \"true nor predicted\", \"F-score is\", len(true_sum))\n"
     ]
    },
    {
     "data": {
      "image/png": "[encoded data removed]",
      "text/plain": [
       "<Figure size 1000x400 with 1 Axes>"
      ]
     },
     "metadata": {},
     "output_type": "display_data"
    }
   ],
   "source": [
    "#Создаем объект кросс-валидатора k-fold\n",
    "#skf = model_selection.StratifiedKFold(n_splits=10)\n",
    "kf = model_selection.KFold(n_splits=10, shuffle=False)\n",
    "#Визуализируем кривые обучения\n",
    "#fig, axes = plt.subplots(1, 1, figsize=(15, 4))\n",
    "#Создаем цикл по списку моделей и индексам этого списка\n",
    "\n",
    "plot_learning_curve(\n",
    "    model, X_train, y_train, # x_train, y_train\n",
    "    kf,\n",
    "    #scoring='f1_macro',\n",
    "    scoring=score,\n",
    "    #ax=axes[i],\n",
    "    title=model.__class__.__name__ + '()'\n",
    ")"
   ]
  },
  {
   "cell_type": "markdown",
   "metadata": {},
   "source": [
    "При данной выборке наблюдаем улучшение качества модели в зависимости от количества данных. Но эта выборка у нас уменьшена 1:100. Попробуем сделать тоже самое (без подбора параметров. Их мы пока оставим прежними). Но уменьшив выборку всего в 10 раз, вместо 100"
   ]
  },
  {
   "cell_type": "code",
   "execution_count": null,
   "metadata": {},
   "outputs": [],
   "source": [
    "# загрузим данные из файла\n",
    "X = pd.read_pickle('pkl/X.pkl')"
   ]
  },
  {
   "cell_type": "code",
   "execution_count": null,
   "metadata": {},
   "outputs": [
    {
     "name": "stdout",
     "output_type": "stream",
     "text": [
      "Размер обучающей выборки: (1720800, 65)\n",
      "Размер тестовой выборки: (766799, 65)\n"
     ]
    }
   ],
   "source": [
    "# Удалим признаки ask, bid\n",
    "X.drop(['ask','bid','time'], axis=1, inplace=True)\n",
    "# разобьем данные на 2 части: обучающую и тестовую\n",
    "# обучающая часть - это данные за первые 3 недели\n",
    "# тестовая часть - это данные за последнюю неделю\n",
    "\n",
    "X_train = X.loc['2023-10-01':'2023-10-21']\n",
    "X_test = X.loc['2023-10-22':'2023-10-31']\n",
    "y_train = y.loc['2023-10-01':'2023-10-21']\n",
    "y_test = y.loc['2023-10-22':'2023-10-31']\n",
    "\n",
    "print('Размер обучающей выборки:', X_train.shape)\n",
    "print('Размер тестовой выборки:', X_test.shape)"
   ]
  },
  {
   "cell_type": "code",
   "execution_count": null,
   "metadata": {},
   "outputs": [],
   "source": [
    "# на этот раз уменьшаем не в 100 раз, а в 10\n",
    "X_train = X_train[::10]\n",
    "y_train = y_train[::10]"
   ]
  },
  {
   "cell_type": "code",
   "execution_count": null,
   "metadata": {},
   "outputs": [
    {
     "name": "stdout",
     "output_type": "stream",
     "text": [
      "---train---\n",
      "              precision    recall  f1-score   support\n",
      "\n",
      "          -1       0.36      0.25      0.29     24177\n",
      "           0       0.95      0.78      0.86    120839\n",
      "           1       0.38      0.77      0.51     27064\n",
      "\n",
      "    accuracy                           0.71    172080\n",
      "   macro avg       0.56      0.60      0.55    172080\n",
      "weighted avg       0.77      0.71      0.72    172080\n",
      "\n",
      "---test---\n",
      "              precision    recall  f1-score   support\n",
      "\n",
      "          -1       0.27      0.39      0.32     88451\n",
      "           0       0.94      0.82      0.88    586354\n",
      "           1       0.35      0.49      0.41     91994\n",
      "\n",
      "    accuracy                           0.73    766799\n",
      "   macro avg       0.52      0.57      0.53    766799\n",
      "weighted avg       0.79      0.73      0.76    766799\n",
      "\n"
     ]
    }
   ],
   "source": [
    "# рассчитаем точность для тестовой выборки\n",
    "\n",
    "model = ensemble.RandomForestClassifier(\n",
    "        min_samples_leaf=88,\n",
    "        max_depth=4,\n",
    "        max_features='sqrt',\n",
    "        n_estimators=399,\n",
    "        criterion='log_loss',        \n",
    "        class_weight={-1: 4, 0: 1, 1: 4},\n",
    "        n_jobs=-1,\n",
    "        random_state=random_state\n",
    ")    \n",
    "\n",
    "model.fit(X_train, y_train)\n",
    "\n",
    "y_train_pred = model.predict(X_train)\n",
    "y_test_pred = model.predict(X_test)\n",
    "\n",
    "print('---train---')\n",
    "print(metrics.classification_report(y_train, y_train_pred))\n",
    "print('---test---')\n",
    "print(metrics.classification_report(y_test, y_test_pred))"
   ]
  },
  {
   "cell_type": "code",
   "execution_count": null,
   "metadata": {},
   "outputs": [
    {
     "data": {
      "image/png": "[encoded data removed]",
      "text/plain": [
       "<Figure size 1000x400 with 1 Axes>"
      ]
     },
     "metadata": {},
     "output_type": "display_data"
    }
   ],
   "source": [
    "# снова построим кривую обучения\n",
    "\n",
    "kf = model_selection.KFold(n_splits=5, shuffle=False)\n",
    "#Визуализируем кривые обучения\n",
    "#fig, axes = plt.subplots(1, 1, figsize=(15, 4))\n",
    "#Создаем цикл по списку моделей и индексам этого списка\n",
    "\n",
    "plot_learning_curve(\n",
    "    model, X_train, y_train, # x_train, y_train\n",
    "    kf,\n",
    "    scoring=score,    \n",
    "    title=model.__class__.__name__ + '()'\n",
    ")"
   ]
  },
  {
   "cell_type": "markdown",
   "metadata": {},
   "source": [
    "Хорошо видно, что при увеличении количества данных растёт качество модели и падает переобучение. Но при данных свыше 100 тысяч записей - это уже не так заметно."
   ]
  },
  {
   "cell_type": "markdown",
   "metadata": {},
   "source": [
    "## 4.6. Важность признаков"
   ]
  },
  {
   "cell_type": "markdown",
   "metadata": {},
   "source": [
    "Посмотрим на важность признаков baseline модели."
   ]
  },
  {
   "cell_type": "code",
   "execution_count": null,
   "metadata": {},
   "outputs": [
    {
     "name": "stdout",
     "output_type": "stream",
     "text": [
      "Feature: time_bol1_300, Importance: 14.868\n",
      "Feature: time_bol1_1800, Importance: 12.437\n",
      "Feature: time_std_300, Importance: 12.091\n",
      "Feature: time_std_1800, Importance: 11.5\n",
      "Feature: time_bol1_60, Importance: 6.012\n",
      "Feature: time_std_60, Importance: 5.174\n",
      "Feature: time_bol1_7200, Importance: 4.531\n",
      "Feature: time_std_7200, Importance: 3.66\n",
      "Feature: bid_std_5, Importance: 2.733\n",
      "Feature: ask_std_7200, Importance: 2.714\n",
      "Feature: time_bol1_5, Importance: 2.602\n",
      "Feature: time_std_5, Importance: 2.387\n",
      "Feature: ask_std_5, Importance: 1.927\n",
      "Feature: time_bol2_1800, Importance: 1.657\n",
      "Feature: bid_std_7200, Importance: 1.438\n",
      "Feature: bid_std_1800, Importance: 1.375\n",
      "Feature: time_bol2_300, Importance: 1.338\n",
      "Feature: ask_std_60, Importance: 1.27\n",
      "Feature: bid_std_300, Importance: 1.261\n",
      "Feature: rsi_60, Importance: 1.175\n",
      "Feature: bid_std_60, Importance: 1.132\n",
      "Feature: ask_std_1800, Importance: 0.945\n",
      "Feature: rsi_1800, Importance: 0.815\n",
      "Feature: rsi_300, Importance: 0.719\n",
      "Feature: time_bol2_60, Importance: 0.633\n",
      "Feature: time_bol2_7200, Importance: 0.557\n",
      "Feature: ask_std_300, Importance: 0.541\n",
      "Feature: rsi_7200, Importance: 0.403\n",
      "Feature: rsi_5, Importance: 0.188\n",
      "Feature: ask_bol2_1800, Importance: 0.127\n",
      "Feature: ask_bol1_7200, Importance: 0.109\n",
      "Feature: ask_mean_1800, Importance: 0.091\n",
      "Feature: time_bol2_5, Importance: 0.089\n",
      "Feature: bid_bol1_7200, Importance: 0.087\n",
      "Feature: bid_bol2_300, Importance: 0.082\n",
      "Feature: ask_bol1_1800, Importance: 0.08\n",
      "Feature: bid_bol2_1800, Importance: 0.079\n",
      "Feature: ask_bol2_300, Importance: 0.078\n",
      "Feature: ask_mean_7200, Importance: 0.074\n",
      "Feature: time_mean_1800, Importance: 0.069\n",
      "Feature: ask_bol1_300, Importance: 0.066\n",
      "Feature: bid_bol1_1800, Importance: 0.063\n",
      "Feature: ask_bol1_60, Importance: 0.062\n",
      "Feature: ask_bol2_7200, Importance: 0.06\n",
      "Feature: bid_bol2_7200, Importance: 0.059\n",
      "Feature: ask_bol2_60, Importance: 0.058\n",
      "Feature: ask_bol2_5, Importance: 0.058\n",
      "Feature: bid_bol1_300, Importance: 0.052\n",
      "Feature: bid_bol1_5, Importance: 0.051\n",
      "Feature: bid_bol1_60, Importance: 0.05\n",
      "Feature: bid_mean_1800, Importance: 0.049\n",
      "Feature: bid_bol2_60, Importance: 0.047\n",
      "Feature: ask_bol1_5, Importance: 0.047\n",
      "Feature: bid_mean_7200, Importance: 0.046\n",
      "Feature: time_mean_300, Importance: 0.045\n",
      "Feature: bid_bol2_5, Importance: 0.044\n",
      "Feature: ask_mean_60, Importance: 0.027\n",
      "Feature: ask_mean_300, Importance: 0.021\n",
      "Feature: bid_mean_300, Importance: 0.015\n",
      "Feature: time_mean_60, Importance: 0.013\n",
      "Feature: time_mean_7200, Importance: 0.012\n",
      "Feature: bid_mean_60, Importance: 0.007\n",
      "Feature: bid_mean_5, Importance: 0.0\n",
      "Feature: ask_mean_5, Importance: 0.0\n",
      "Feature: time_mean_5, Importance: 0.0\n"
     ]
    }
   ],
   "source": [
    "# Оценим важность признаков:\n",
    "\n",
    "# Получение важностей признаков\n",
    "feature_importances = model.feature_importances_\n",
    "\n",
    "# Сопоставление признаков с их важностями\n",
    "feature_names = X_train.columns.tolist()  # Список названий ваших признаков\n",
    "feature_importance_dict = dict(zip(feature_names, feature_importances))\n",
    "\n",
    "# Вывод важности признаков в упорядоченном виде\n",
    "sorted_features = sorted(feature_importance_dict.items(), key=lambda x: x[1], reverse=True)\n",
    "for feature, importance in sorted_features:\n",
    "    print(f\"Feature: {feature}, Importance: {round(importance*100,3)}\")"
   ]
  },
  {
   "cell_type": "markdown",
   "metadata": {},
   "source": [
    "Интересно, что самыми важными данными модель считает даже не сами Ask-Bid, а данные о количестве сделок (time). Попробуем, в дальнейшем, учесть эти данные.\n"
   ]
  }
 ],
 "metadata": {
  "kernelspec": {
   "display_name": "Python 3",
   "language": "python",
   "name": "python3"
  },
  "language_info": {
   "codemirror_mode": {
    "name": "ipython",
    "version": 3
   },
   "file_extension": ".py",
   "mimetype": "text/x-python",
   "name": "python",
   "nbconvert_exporter": "python",
   "pygments_lexer": "ipython3",
   "version": "3.11.0"
  }
 },
 "nbformat": 4,
 "nbformat_minor": 2
}
