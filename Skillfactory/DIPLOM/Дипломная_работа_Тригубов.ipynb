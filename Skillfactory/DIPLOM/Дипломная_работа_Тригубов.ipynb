{
 "cells": [
  {
   "cell_type": "markdown",
   "metadata": {},
   "source": [
    "# Введение"
   ]
  },
  {
   "cell_type": "markdown",
   "metadata": {},
   "source": [
    "Наша цель - построить математическую модель предсказания колебания биржевого курса для дальнейшего использования в качестве сигнала для сверх-краткосрочной (пипсовой) биржевой торговли.\n",
    "\n",
    "Для этого я выбрал валютную пару EUR-USD на рынке Форекс. В качестве площадки был выбран Альфа-Банк.\n",
    "\n",
    "Конечно, написание коммерчески-успешного торгового автомата передо мной не стоит. Краткосрочная торговля - одна из самых сложных для предсказания видов биржевой торговли. Слишком много факторов влиет, которые в принципе не могут быть считаны моделью. Однако подобная работа поможет мне лучше разобраться и с работами моделей, и с тонкостями работы биржевых автоматов.\n",
    "\n",
    "А самое главное - тестируя модель в продакте, что-бы увидеть результаты - не надо неделями и месяцами ждать, что-бы собрать достаточную статистику. Достаточно пары часов, а то и нескольких минут для получения результата."
   ]
  },
  {
   "cell_type": "markdown",
   "metadata": {},
   "source": [
    "## 0. Первичная инициализация\n",
    "\n",
    "Импорт библиотек, задание переменных, констант."
   ]
  },
  {
   "cell_type": "code",
   "execution_count": 18,
   "metadata": {},
   "outputs": [],
   "source": [
    "import numpy as np #для матричных вычислений\n",
    "import pandas as pd #для анализа и предобработки данных\n",
    "import matplotlib.pyplot as plt #для визуализации\n",
    "import seaborn as sns #для визуализации\n",
    "\n",
    "plt.style.use('seaborn-v0_8') #стиль отрисовки seaborn\n",
    "%matplotlib inline\n",
    "\n",
    "import MetaTrader5 as mt5 # для работы с торговой платформой\n",
    "\n",
    "import threading # для многопоточности\n",
    "import pickle # сохранение объектов\n",
    "\n",
    "from datetime import datetime\n",
    "\n",
    "from tqdm import tqdm  # для отображения прогресса долгих рассчетов\n",
    "tqdm.pandas()\n",
    "\n",
    "import winsound  # пищим динамиком, когда надо\n",
    "import time"
   ]
  },
  {
   "cell_type": "code",
   "execution_count": 69,
   "metadata": {},
   "outputs": [],
   "source": [
    "# зададим переменные\n",
    "random_state = 42\n",
    "symbol = \"EURUSDrfd\"\n",
    "time_delta = 10 * 60 # 10 минут - время, которое нас интересует в качестве предсказания для пипсовой торговли\n",
    "pips_delta = 0.00025 # 25 пипсов - минимальное изменение цены, которое нас интересует в качестве предсказания для пипсовой торговли"
   ]
  },
  {
   "cell_type": "code",
   "execution_count": 20,
   "metadata": {},
   "outputs": [],
   "source": [
    "# функция, что-бы попищать динамиком. Полезно, что-бы просигналить, что долгий рассчёт окончен\n",
    "\n",
    "def beep():\n",
    "    frequency = 2500  # Set Frequency To 2500 Hertz\n",
    "    duration = 500  # Set Duration To 1000 ms == 1 second\n",
    "    winsound.Beep(frequency, duration)\n",
    "    winsound.Beep(round(frequency/2), duration)\n",
    "    winsound.Beep(round(frequency/4), duration)\n",
    "    winsound.Beep(round(frequency/2), duration)\n",
    "    winsound.Beep(frequency, duration)"
   ]
  },
  {
   "cell_type": "markdown",
   "metadata": {},
   "source": [
    "# 1. Сбор данных"
   ]
  },
  {
   "cell_type": "markdown",
   "metadata": {},
   "source": [
    "### Получение датасета\n",
    "\n",
    "Поскольку результаты, полученные моделью предполагается использовать в работе торгового терминала, логично, что датасет для работы лучше всего получить с этого-же терминала.\n",
    "\n",
    "Терминал (Metatrader 5) уже должен быть установлен на машине, настроен и подключен к торговому счёту"
   ]
  },
  {
   "cell_type": "markdown",
   "metadata": {},
   "source": [
    "Демо-счёт MT5 (с хеджированием)<br>\n",
    "Логин:<br>\n",
    "2000061156<br>\n",
    "Пароль трейдера:<br>\n",
    "{_______________}  # пароль удалён, конечно"
   ]
  },
  {
   "cell_type": "code",
   "execution_count": 21,
   "metadata": {},
   "outputs": [
    {
     "name": "stdout",
     "output_type": "stream",
     "text": [
      "MetaTrader5 package author:  MetaQuotes Ltd.\n",
      "MetaTrader5 package version:  5.0.45\n"
     ]
    }
   ],
   "source": [
    "# выведем данные о пакете MetaTrader5\n",
    "print(\"MetaTrader5 package author: \",mt5.__author__)\n",
    "print(\"MetaTrader5 package version: \",mt5.__version__)"
   ]
  },
  {
   "cell_type": "code",
   "execution_count": 22,
   "metadata": {},
   "outputs": [],
   "source": [
    "# установим подключение к терминалу MetaTrader 5 на указанный торговый счет\n",
    "if not mt5.initialize():\n",
    "    print(\"initialize() failed, error code =\",mt5.last_error())\n",
    "    quit()"
   ]
  },
  {
   "cell_type": "code",
   "execution_count": 23,
   "metadata": {},
   "outputs": [
    {
     "data": {
      "text/plain": [
       "SymbolInfo(custom=False, chart_mode=0, select=True, visible=True, session_deals=0, session_buy_orders=0, session_sell_orders=0, volume=0, volumehigh=0, volumelow=0, time=1700068310, digits=5, spread=14, spread_float=True, ticks_bookdepth=0, trade_calc_mode=0, trade_mode=4, start_time=0, expiration_time=0, trade_stops_level=7, trade_freeze_level=0, trade_exemode=2, swap_mode=1, swap_rollover3days=3, margin_hedged_use_leg=False, expiration_mode=11, filling_mode=1, order_mode=55, order_gtc_mode=0, option_mode=0, option_right=0, bid=1.0848200000000001, bidhigh=1.08847, bidlow=1.08392, ask=1.08496, askhigh=1.08875, asklow=1.08406, last=0.0, lasthigh=0.0, lastlow=0.0, volume_real=0.0, volumehigh_real=0.0, volumelow_real=0.0, option_strike=0.0, point=1e-05, trade_tick_value=1.0, trade_tick_value_profit=1.0, trade_tick_value_loss=1.0, trade_tick_size=1e-05, trade_contract_size=100000.0, trade_accrued_interest=0.0, trade_face_value=0.0, trade_liquidity_rate=0.0, volume_min=0.01, volume_max=100.0, volume_step=0.01, volume_limit=0.0, swap_long=0.0, swap_short=0.0, margin_initial=0.0, margin_maintenance=0.0, session_volume=0.0, session_turnover=0.0, session_interest=0.0, session_buy_orders_volume=0.0, session_sell_orders_volume=0.0, session_open=1.08781, session_close=1.0877, session_aw=0.0, session_price_settlement=0.0, session_price_limit_min=0.0, session_price_limit_max=0.0, margin_hedged=100000.0, price_change=-0.2648, price_volatility=0.0, price_theoretical=0.0, price_greeks_delta=0.0, price_greeks_theta=0.0, price_greeks_gamma=0.0, price_greeks_vega=0.0, price_greeks_rho=0.0, price_greeks_omega=0.0, price_sensitivity=0.0, basis='', category='', currency_base='EUR', currency_profit='USD', currency_margin='EUR', bank='', description='Euro vs US Dollar', exchange='', formula='', isin='', name='EURUSDrfd', page='http://www.google.com/finance?q=EURUSD', path='RFD\\\\Major\\\\EURUSDrfd')"
      ]
     },
     "execution_count": 23,
     "metadata": {},
     "output_type": "execute_result"
    }
   ],
   "source": [
    "# получим данные о нашем выбранном инструменте\n",
    "\n",
    "symbol_info = mt5.symbol_info(symbol)\n",
    "\n",
    "symbol_info"
   ]
  },
  {
   "cell_type": "markdown",
   "metadata": {},
   "source": [
    "Пока неизвестно, сколько нам потребуется данных для работы модели. Может, хватит данных за одну неделю. А, возможно, потребуется информация за несколько лет. Для начала используем данные за один месяц. В дальнейшем - проведем иследование, сколько данных оптимально нужно для обучения модели."
   ]
  },
  {
   "cell_type": "code",
   "execution_count": 24,
   "metadata": {},
   "outputs": [
    {
     "data": {
      "text/html": [
       "<div>\n",
       "<style scoped>\n",
       "    .dataframe tbody tr th:only-of-type {\n",
       "        vertical-align: middle;\n",
       "    }\n",
       "\n",
       "    .dataframe tbody tr th {\n",
       "        vertical-align: top;\n",
       "    }\n",
       "\n",
       "    .dataframe thead th {\n",
       "        text-align: right;\n",
       "    }\n",
       "</style>\n",
       "<table border=\"1\" class=\"dataframe\">\n",
       "  <thead>\n",
       "    <tr style=\"text-align: right;\">\n",
       "      <th></th>\n",
       "      <th>time</th>\n",
       "      <th>bid</th>\n",
       "      <th>ask</th>\n",
       "      <th>last</th>\n",
       "      <th>volume</th>\n",
       "      <th>time_msc</th>\n",
       "      <th>flags</th>\n",
       "      <th>volume_real</th>\n",
       "    </tr>\n",
       "  </thead>\n",
       "  <tbody>\n",
       "    <tr>\n",
       "      <th>0</th>\n",
       "      <td>1696212000</td>\n",
       "      <td>1.05589</td>\n",
       "      <td>1.05604</td>\n",
       "      <td>0.0</td>\n",
       "      <td>0</td>\n",
       "      <td>1696212000222</td>\n",
       "      <td>230</td>\n",
       "      <td>0.0</td>\n",
       "    </tr>\n",
       "    <tr>\n",
       "      <th>1</th>\n",
       "      <td>1696212000</td>\n",
       "      <td>1.05590</td>\n",
       "      <td>1.05604</td>\n",
       "      <td>0.0</td>\n",
       "      <td>0</td>\n",
       "      <td>1696212000494</td>\n",
       "      <td>226</td>\n",
       "      <td>0.0</td>\n",
       "    </tr>\n",
       "    <tr>\n",
       "      <th>2</th>\n",
       "      <td>1696212000</td>\n",
       "      <td>1.05589</td>\n",
       "      <td>1.05604</td>\n",
       "      <td>0.0</td>\n",
       "      <td>0</td>\n",
       "      <td>1696212000688</td>\n",
       "      <td>226</td>\n",
       "      <td>0.0</td>\n",
       "    </tr>\n",
       "    <tr>\n",
       "      <th>3</th>\n",
       "      <td>1696212000</td>\n",
       "      <td>1.05590</td>\n",
       "      <td>1.05604</td>\n",
       "      <td>0.0</td>\n",
       "      <td>0</td>\n",
       "      <td>1696212000725</td>\n",
       "      <td>226</td>\n",
       "      <td>0.0</td>\n",
       "    </tr>\n",
       "    <tr>\n",
       "      <th>4</th>\n",
       "      <td>1696212000</td>\n",
       "      <td>1.05590</td>\n",
       "      <td>1.05604</td>\n",
       "      <td>0.0</td>\n",
       "      <td>0</td>\n",
       "      <td>1696212000947</td>\n",
       "      <td>96</td>\n",
       "      <td>0.0</td>\n",
       "    </tr>\n",
       "    <tr>\n",
       "      <th>...</th>\n",
       "      <td>...</td>\n",
       "      <td>...</td>\n",
       "      <td>...</td>\n",
       "      <td>...</td>\n",
       "      <td>...</td>\n",
       "      <td>...</td>\n",
       "      <td>...</td>\n",
       "      <td>...</td>\n",
       "    </tr>\n",
       "    <tr>\n",
       "      <th>2574616</th>\n",
       "      <td>1698699591</td>\n",
       "      <td>1.06107</td>\n",
       "      <td>1.06121</td>\n",
       "      <td>0.0</td>\n",
       "      <td>0</td>\n",
       "      <td>1698699591590</td>\n",
       "      <td>230</td>\n",
       "      <td>0.0</td>\n",
       "    </tr>\n",
       "    <tr>\n",
       "      <th>2574617</th>\n",
       "      <td>1698699591</td>\n",
       "      <td>1.06108</td>\n",
       "      <td>1.06122</td>\n",
       "      <td>0.0</td>\n",
       "      <td>0</td>\n",
       "      <td>1698699591703</td>\n",
       "      <td>230</td>\n",
       "      <td>0.0</td>\n",
       "    </tr>\n",
       "    <tr>\n",
       "      <th>2574618</th>\n",
       "      <td>1698699592</td>\n",
       "      <td>1.06107</td>\n",
       "      <td>1.06121</td>\n",
       "      <td>0.0</td>\n",
       "      <td>0</td>\n",
       "      <td>1698699592087</td>\n",
       "      <td>230</td>\n",
       "      <td>0.0</td>\n",
       "    </tr>\n",
       "    <tr>\n",
       "      <th>2574619</th>\n",
       "      <td>1698699598</td>\n",
       "      <td>1.06106</td>\n",
       "      <td>1.06120</td>\n",
       "      <td>0.0</td>\n",
       "      <td>0</td>\n",
       "      <td>1698699598075</td>\n",
       "      <td>230</td>\n",
       "      <td>0.0</td>\n",
       "    </tr>\n",
       "    <tr>\n",
       "      <th>2574620</th>\n",
       "      <td>1698699598</td>\n",
       "      <td>1.06107</td>\n",
       "      <td>1.06121</td>\n",
       "      <td>0.0</td>\n",
       "      <td>0</td>\n",
       "      <td>1698699598199</td>\n",
       "      <td>230</td>\n",
       "      <td>0.0</td>\n",
       "    </tr>\n",
       "  </tbody>\n",
       "</table>\n",
       "<p>2574621 rows × 8 columns</p>\n",
       "</div>"
      ],
      "text/plain": [
       "               time      bid      ask  last  volume       time_msc  flags  \\\n",
       "0        1696212000  1.05589  1.05604   0.0       0  1696212000222    230   \n",
       "1        1696212000  1.05590  1.05604   0.0       0  1696212000494    226   \n",
       "2        1696212000  1.05589  1.05604   0.0       0  1696212000688    226   \n",
       "3        1696212000  1.05590  1.05604   0.0       0  1696212000725    226   \n",
       "4        1696212000  1.05590  1.05604   0.0       0  1696212000947     96   \n",
       "...             ...      ...      ...   ...     ...            ...    ...   \n",
       "2574616  1698699591  1.06107  1.06121   0.0       0  1698699591590    230   \n",
       "2574617  1698699591  1.06108  1.06122   0.0       0  1698699591703    230   \n",
       "2574618  1698699592  1.06107  1.06121   0.0       0  1698699592087    230   \n",
       "2574619  1698699598  1.06106  1.06120   0.0       0  1698699598075    230   \n",
       "2574620  1698699598  1.06107  1.06121   0.0       0  1698699598199    230   \n",
       "\n",
       "         volume_real  \n",
       "0                0.0  \n",
       "1                0.0  \n",
       "2                0.0  \n",
       "3                0.0  \n",
       "4                0.0  \n",
       "...              ...  \n",
       "2574616          0.0  \n",
       "2574617          0.0  \n",
       "2574618          0.0  \n",
       "2574619          0.0  \n",
       "2574620          0.0  \n",
       "\n",
       "[2574621 rows x 8 columns]"
      ]
     },
     "execution_count": 24,
     "metadata": {},
     "output_type": "execute_result"
    }
   ],
   "source": [
    "# получим все тики по выбранному инструменту за октябрь 2023 года\n",
    "\n",
    "# создадим структуру DataFrame для хранения тиков\n",
    "ticks_frame = pd.DataFrame(columns=['time', 'bid', 'ask', 'last', 'volume'])\n",
    "\n",
    "# получим тиковые данные за 2020.10.01\n",
    "#ticks = mt5.copy_ticks_from(symbol, datetime(2020,10,1,0,0,0,0), 100000, mt5.COPY_TICKS_ALL)\n",
    "ticks = mt5.copy_ticks_range(symbol, datetime(2023,10,1,0,0,0,0), datetime(2023,10,31,0,0,0,0), mt5.COPY_TICKS_ALL)\n",
    "\n",
    "# заполним DataFrame\n",
    "ticks_frame = pd.DataFrame(ticks)\n",
    "\n",
    "# выведем данные\n",
    "ticks_frame"
   ]
  },
  {
   "cell_type": "markdown",
   "metadata": {},
   "source": [
    "# 2. Подготовка данных"
   ]
  },
  {
   "cell_type": "markdown",
   "metadata": {},
   "source": [
    "## 2.1 Очистка"
   ]
  },
  {
   "cell_type": "code",
   "execution_count": 25,
   "metadata": {},
   "outputs": [
    {
     "name": "stdout",
     "output_type": "stream",
     "text": [
      "<class 'pandas.core.frame.DataFrame'>\n",
      "RangeIndex: 2574621 entries, 0 to 2574620\n",
      "Data columns (total 8 columns):\n",
      " #   Column       Dtype  \n",
      "---  ------       -----  \n",
      " 0   time         int64  \n",
      " 1   bid          float64\n",
      " 2   ask          float64\n",
      " 3   last         float64\n",
      " 4   volume       uint64 \n",
      " 5   time_msc     int64  \n",
      " 6   flags        uint32 \n",
      " 7   volume_real  float64\n",
      "dtypes: float64(4), int64(2), uint32(1), uint64(1)\n",
      "memory usage: 147.3 MB\n"
     ]
    }
   ],
   "source": [
    "# Выведем информацию о DataFrame\n",
    "ticks_frame.info()"
   ]
  },
  {
   "cell_type": "code",
   "execution_count": 26,
   "metadata": {},
   "outputs": [
    {
     "data": {
      "text/html": [
       "<div>\n",
       "<style scoped>\n",
       "    .dataframe tbody tr th:only-of-type {\n",
       "        vertical-align: middle;\n",
       "    }\n",
       "\n",
       "    .dataframe tbody tr th {\n",
       "        vertical-align: top;\n",
       "    }\n",
       "\n",
       "    .dataframe thead th {\n",
       "        text-align: right;\n",
       "    }\n",
       "</style>\n",
       "<table border=\"1\" class=\"dataframe\">\n",
       "  <thead>\n",
       "    <tr style=\"text-align: right;\">\n",
       "      <th></th>\n",
       "      <th>time</th>\n",
       "      <th>bid</th>\n",
       "      <th>ask</th>\n",
       "      <th>last</th>\n",
       "      <th>volume</th>\n",
       "      <th>time_msc</th>\n",
       "      <th>flags</th>\n",
       "      <th>volume_real</th>\n",
       "    </tr>\n",
       "  </thead>\n",
       "  <tbody>\n",
       "    <tr>\n",
       "      <th>count</th>\n",
       "      <td>2.574621e+06</td>\n",
       "      <td>2.574621e+06</td>\n",
       "      <td>2.574621e+06</td>\n",
       "      <td>2574621.0</td>\n",
       "      <td>2574621.0</td>\n",
       "      <td>2.574621e+06</td>\n",
       "      <td>2.574621e+06</td>\n",
       "      <td>2574621.0</td>\n",
       "    </tr>\n",
       "    <tr>\n",
       "      <th>mean</th>\n",
       "      <td>1.697351e+09</td>\n",
       "      <td>1.055751e+00</td>\n",
       "      <td>1.055893e+00</td>\n",
       "      <td>0.0</td>\n",
       "      <td>0.0</td>\n",
       "      <td>1.697351e+12</td>\n",
       "      <td>2.177882e+02</td>\n",
       "      <td>0.0</td>\n",
       "    </tr>\n",
       "    <tr>\n",
       "      <th>std</th>\n",
       "      <td>7.186076e+05</td>\n",
       "      <td>4.358614e-03</td>\n",
       "      <td>4.358339e-03</td>\n",
       "      <td>0.0</td>\n",
       "      <td>0.0</td>\n",
       "      <td>7.186076e+08</td>\n",
       "      <td>3.866391e+01</td>\n",
       "      <td>0.0</td>\n",
       "    </tr>\n",
       "    <tr>\n",
       "      <th>min</th>\n",
       "      <td>1.696212e+09</td>\n",
       "      <td>1.044760e+00</td>\n",
       "      <td>1.044900e+00</td>\n",
       "      <td>0.0</td>\n",
       "      <td>0.0</td>\n",
       "      <td>1.696212e+12</td>\n",
       "      <td>4.000000e+00</td>\n",
       "      <td>0.0</td>\n",
       "    </tr>\n",
       "    <tr>\n",
       "      <th>25%</th>\n",
       "      <td>1.696620e+09</td>\n",
       "      <td>1.053120e+00</td>\n",
       "      <td>1.053260e+00</td>\n",
       "      <td>0.0</td>\n",
       "      <td>0.0</td>\n",
       "      <td>1.696620e+12</td>\n",
       "      <td>2.300000e+02</td>\n",
       "      <td>0.0</td>\n",
       "    </tr>\n",
       "    <tr>\n",
       "      <th>50%</th>\n",
       "      <td>1.697226e+09</td>\n",
       "      <td>1.055790e+00</td>\n",
       "      <td>1.055940e+00</td>\n",
       "      <td>0.0</td>\n",
       "      <td>0.0</td>\n",
       "      <td>1.697226e+12</td>\n",
       "      <td>2.300000e+02</td>\n",
       "      <td>0.0</td>\n",
       "    </tr>\n",
       "    <tr>\n",
       "      <th>75%</th>\n",
       "      <td>1.698056e+09</td>\n",
       "      <td>1.058800e+00</td>\n",
       "      <td>1.058940e+00</td>\n",
       "      <td>0.0</td>\n",
       "      <td>0.0</td>\n",
       "      <td>1.698056e+12</td>\n",
       "      <td>2.300000e+02</td>\n",
       "      <td>0.0</td>\n",
       "    </tr>\n",
       "    <tr>\n",
       "      <th>max</th>\n",
       "      <td>1.698700e+09</td>\n",
       "      <td>1.069370e+00</td>\n",
       "      <td>1.069510e+00</td>\n",
       "      <td>0.0</td>\n",
       "      <td>0.0</td>\n",
       "      <td>1.698700e+12</td>\n",
       "      <td>2.300000e+02</td>\n",
       "      <td>0.0</td>\n",
       "    </tr>\n",
       "  </tbody>\n",
       "</table>\n",
       "</div>"
      ],
      "text/plain": [
       "               time           bid           ask       last     volume  \\\n",
       "count  2.574621e+06  2.574621e+06  2.574621e+06  2574621.0  2574621.0   \n",
       "mean   1.697351e+09  1.055751e+00  1.055893e+00        0.0        0.0   \n",
       "std    7.186076e+05  4.358614e-03  4.358339e-03        0.0        0.0   \n",
       "min    1.696212e+09  1.044760e+00  1.044900e+00        0.0        0.0   \n",
       "25%    1.696620e+09  1.053120e+00  1.053260e+00        0.0        0.0   \n",
       "50%    1.697226e+09  1.055790e+00  1.055940e+00        0.0        0.0   \n",
       "75%    1.698056e+09  1.058800e+00  1.058940e+00        0.0        0.0   \n",
       "max    1.698700e+09  1.069370e+00  1.069510e+00        0.0        0.0   \n",
       "\n",
       "           time_msc         flags  volume_real  \n",
       "count  2.574621e+06  2.574621e+06    2574621.0  \n",
       "mean   1.697351e+12  2.177882e+02          0.0  \n",
       "std    7.186076e+08  3.866391e+01          0.0  \n",
       "min    1.696212e+12  4.000000e+00          0.0  \n",
       "25%    1.696620e+12  2.300000e+02          0.0  \n",
       "50%    1.697226e+12  2.300000e+02          0.0  \n",
       "75%    1.698056e+12  2.300000e+02          0.0  \n",
       "max    1.698700e+12  2.300000e+02          0.0  "
      ]
     },
     "execution_count": 26,
     "metadata": {},
     "output_type": "execute_result"
    }
   ],
   "source": [
    "# выведем статистику по тиковым данным\n",
    "ticks_frame.describe()"
   ]
  },
  {
   "cell_type": "markdown",
   "metadata": {},
   "source": [
    "Как видим - поля last, volume и volume_real - пустые. Их можно удалить.Так-же можно удалить поле time_msk и flags - они нам не пригодятся"
   ]
  },
  {
   "cell_type": "code",
   "execution_count": 27,
   "metadata": {},
   "outputs": [
    {
     "name": "stdout",
     "output_type": "stream",
     "text": [
      "<class 'pandas.core.frame.DataFrame'>\n",
      "RangeIndex: 2574621 entries, 0 to 2574620\n",
      "Data columns (total 3 columns):\n",
      " #   Column  Dtype         \n",
      "---  ------  -----         \n",
      " 0   time    datetime64[ns]\n",
      " 1   bid     float32       \n",
      " 2   ask     float32       \n",
      "dtypes: datetime64[ns](1), float32(2)\n",
      "memory usage: 39.3 MB\n"
     ]
    }
   ],
   "source": [
    "# Удалим поля, которые нам не нужны\n",
    "\n",
    "ticks_frame.drop(['last','volume', 'volume_real', 'time_msc', 'flags'], axis=1, inplace=True)\n",
    "\n",
    "# для сокращения объема данных преобразуем поля bid и ask в тип float32\n",
    "ticks_frame['bid'] = ticks_frame['bid'].astype('float32')\n",
    "ticks_frame['ask'] = ticks_frame['ask'].astype('float32')\n",
    "\n",
    "# преобразуем поле time в тип datetime\n",
    "ticks_frame['time'] = pd.to_datetime(ticks_frame['time'], unit='s')\n",
    "\n",
    "ticks_frame.info()\n",
    "\n"
   ]
  },
  {
   "cell_type": "markdown",
   "metadata": {},
   "source": [
    "Отлично! Датасет уменьшился втрое."
   ]
  },
  {
   "cell_type": "code",
   "execution_count": 28,
   "metadata": {},
   "outputs": [
    {
     "data": {
      "text/html": [
       "<div>\n",
       "<style scoped>\n",
       "    .dataframe tbody tr th:only-of-type {\n",
       "        vertical-align: middle;\n",
       "    }\n",
       "\n",
       "    .dataframe tbody tr th {\n",
       "        vertical-align: top;\n",
       "    }\n",
       "\n",
       "    .dataframe thead th {\n",
       "        text-align: right;\n",
       "    }\n",
       "</style>\n",
       "<table border=\"1\" class=\"dataframe\">\n",
       "  <thead>\n",
       "    <tr style=\"text-align: right;\">\n",
       "      <th></th>\n",
       "      <th>time</th>\n",
       "      <th>bid</th>\n",
       "      <th>ask</th>\n",
       "    </tr>\n",
       "  </thead>\n",
       "  <tbody>\n",
       "    <tr>\n",
       "      <th>0</th>\n",
       "      <td>2023-10-02 02:00:00</td>\n",
       "      <td>1.05589</td>\n",
       "      <td>1.05604</td>\n",
       "    </tr>\n",
       "    <tr>\n",
       "      <th>1</th>\n",
       "      <td>2023-10-02 02:00:00</td>\n",
       "      <td>1.05590</td>\n",
       "      <td>1.05604</td>\n",
       "    </tr>\n",
       "    <tr>\n",
       "      <th>2</th>\n",
       "      <td>2023-10-02 02:00:00</td>\n",
       "      <td>1.05589</td>\n",
       "      <td>1.05604</td>\n",
       "    </tr>\n",
       "    <tr>\n",
       "      <th>3</th>\n",
       "      <td>2023-10-02 02:00:00</td>\n",
       "      <td>1.05590</td>\n",
       "      <td>1.05604</td>\n",
       "    </tr>\n",
       "    <tr>\n",
       "      <th>4</th>\n",
       "      <td>2023-10-02 02:00:00</td>\n",
       "      <td>1.05590</td>\n",
       "      <td>1.05604</td>\n",
       "    </tr>\n",
       "    <tr>\n",
       "      <th>...</th>\n",
       "      <td>...</td>\n",
       "      <td>...</td>\n",
       "      <td>...</td>\n",
       "    </tr>\n",
       "    <tr>\n",
       "      <th>2574616</th>\n",
       "      <td>2023-10-30 20:59:51</td>\n",
       "      <td>1.06107</td>\n",
       "      <td>1.06121</td>\n",
       "    </tr>\n",
       "    <tr>\n",
       "      <th>2574617</th>\n",
       "      <td>2023-10-30 20:59:51</td>\n",
       "      <td>1.06108</td>\n",
       "      <td>1.06122</td>\n",
       "    </tr>\n",
       "    <tr>\n",
       "      <th>2574618</th>\n",
       "      <td>2023-10-30 20:59:52</td>\n",
       "      <td>1.06107</td>\n",
       "      <td>1.06121</td>\n",
       "    </tr>\n",
       "    <tr>\n",
       "      <th>2574619</th>\n",
       "      <td>2023-10-30 20:59:58</td>\n",
       "      <td>1.06106</td>\n",
       "      <td>1.06120</td>\n",
       "    </tr>\n",
       "    <tr>\n",
       "      <th>2574620</th>\n",
       "      <td>2023-10-30 20:59:58</td>\n",
       "      <td>1.06107</td>\n",
       "      <td>1.06121</td>\n",
       "    </tr>\n",
       "  </tbody>\n",
       "</table>\n",
       "<p>2574621 rows × 3 columns</p>\n",
       "</div>"
      ],
      "text/plain": [
       "                       time      bid      ask\n",
       "0       2023-10-02 02:00:00  1.05589  1.05604\n",
       "1       2023-10-02 02:00:00  1.05590  1.05604\n",
       "2       2023-10-02 02:00:00  1.05589  1.05604\n",
       "3       2023-10-02 02:00:00  1.05590  1.05604\n",
       "4       2023-10-02 02:00:00  1.05590  1.05604\n",
       "...                     ...      ...      ...\n",
       "2574616 2023-10-30 20:59:51  1.06107  1.06121\n",
       "2574617 2023-10-30 20:59:51  1.06108  1.06122\n",
       "2574618 2023-10-30 20:59:52  1.06107  1.06121\n",
       "2574619 2023-10-30 20:59:58  1.06106  1.06120\n",
       "2574620 2023-10-30 20:59:58  1.06107  1.06121\n",
       "\n",
       "[2574621 rows x 3 columns]"
      ]
     },
     "execution_count": 28,
     "metadata": {},
     "output_type": "execute_result"
    }
   ],
   "source": [
    "ticks_frame"
   ]
  },
  {
   "cell_type": "markdown",
   "metadata": {},
   "source": [
    "На данный момент у нас есть много тиков, в одной и той-же секунде. А так-же есть секунды, в которых тиков нет вообще. Это, например, выходные или праздничные дни, перерывы в работе биржи. Просто отсутвующие ордера в конкретную секунду, так может быть."
   ]
  },
  {
   "cell_type": "code",
   "execution_count": 29,
   "metadata": {},
   "outputs": [
    {
     "name": "stderr",
     "output_type": "stream",
     "text": [
      "C:\\Users\\trigubov\\AppData\\Local\\Temp\\ipykernel_5828\\2195865129.py:12: FutureWarning: DataFrame.fillna with 'method' is deprecated and will raise in a future version. Use obj.ffill() or obj.bfill() instead.\n",
      "  ticks_frame = ticks_frame.fillna(method='ffill')\n"
     ]
    },
    {
     "data": {
      "text/html": [
       "<div>\n",
       "<style scoped>\n",
       "    .dataframe tbody tr th:only-of-type {\n",
       "        vertical-align: middle;\n",
       "    }\n",
       "\n",
       "    .dataframe tbody tr th {\n",
       "        vertical-align: top;\n",
       "    }\n",
       "\n",
       "    .dataframe thead th {\n",
       "        text-align: right;\n",
       "    }\n",
       "</style>\n",
       "<table border=\"1\" class=\"dataframe\">\n",
       "  <thead>\n",
       "    <tr style=\"text-align: right;\">\n",
       "      <th></th>\n",
       "      <th>bid</th>\n",
       "      <th>ask</th>\n",
       "      <th>time</th>\n",
       "    </tr>\n",
       "    <tr>\n",
       "      <th>time</th>\n",
       "      <th></th>\n",
       "      <th></th>\n",
       "      <th></th>\n",
       "    </tr>\n",
       "  </thead>\n",
       "  <tbody>\n",
       "    <tr>\n",
       "      <th>2023-10-02 02:00:00</th>\n",
       "      <td>1.055896</td>\n",
       "      <td>1.056040</td>\n",
       "      <td>5</td>\n",
       "    </tr>\n",
       "    <tr>\n",
       "      <th>2023-10-02 02:00:01</th>\n",
       "      <td>1.055873</td>\n",
       "      <td>1.056018</td>\n",
       "      <td>12</td>\n",
       "    </tr>\n",
       "    <tr>\n",
       "      <th>2023-10-02 02:00:02</th>\n",
       "      <td>1.055845</td>\n",
       "      <td>1.055990</td>\n",
       "      <td>4</td>\n",
       "    </tr>\n",
       "    <tr>\n",
       "      <th>2023-10-02 02:00:03</th>\n",
       "      <td>1.055855</td>\n",
       "      <td>1.056000</td>\n",
       "      <td>6</td>\n",
       "    </tr>\n",
       "    <tr>\n",
       "      <th>2023-10-02 02:00:04</th>\n",
       "      <td>1.055894</td>\n",
       "      <td>1.056042</td>\n",
       "      <td>5</td>\n",
       "    </tr>\n",
       "    <tr>\n",
       "      <th>...</th>\n",
       "      <td>...</td>\n",
       "      <td>...</td>\n",
       "      <td>...</td>\n",
       "    </tr>\n",
       "    <tr>\n",
       "      <th>2023-10-30 20:59:54</th>\n",
       "      <td>1.061070</td>\n",
       "      <td>1.061210</td>\n",
       "      <td>0</td>\n",
       "    </tr>\n",
       "    <tr>\n",
       "      <th>2023-10-30 20:59:55</th>\n",
       "      <td>1.061070</td>\n",
       "      <td>1.061210</td>\n",
       "      <td>0</td>\n",
       "    </tr>\n",
       "    <tr>\n",
       "      <th>2023-10-30 20:59:56</th>\n",
       "      <td>1.061070</td>\n",
       "      <td>1.061210</td>\n",
       "      <td>0</td>\n",
       "    </tr>\n",
       "    <tr>\n",
       "      <th>2023-10-30 20:59:57</th>\n",
       "      <td>1.061070</td>\n",
       "      <td>1.061210</td>\n",
       "      <td>0</td>\n",
       "    </tr>\n",
       "    <tr>\n",
       "      <th>2023-10-30 20:59:58</th>\n",
       "      <td>1.061065</td>\n",
       "      <td>1.061205</td>\n",
       "      <td>2</td>\n",
       "    </tr>\n",
       "  </tbody>\n",
       "</table>\n",
       "<p>2487599 rows × 3 columns</p>\n",
       "</div>"
      ],
      "text/plain": [
       "                          bid       ask  time\n",
       "time                                         \n",
       "2023-10-02 02:00:00  1.055896  1.056040     5\n",
       "2023-10-02 02:00:01  1.055873  1.056018    12\n",
       "2023-10-02 02:00:02  1.055845  1.055990     4\n",
       "2023-10-02 02:00:03  1.055855  1.056000     6\n",
       "2023-10-02 02:00:04  1.055894  1.056042     5\n",
       "...                       ...       ...   ...\n",
       "2023-10-30 20:59:54  1.061070  1.061210     0\n",
       "2023-10-30 20:59:55  1.061070  1.061210     0\n",
       "2023-10-30 20:59:56  1.061070  1.061210     0\n",
       "2023-10-30 20:59:57  1.061070  1.061210     0\n",
       "2023-10-30 20:59:58  1.061065  1.061205     2\n",
       "\n",
       "[2487599 rows x 3 columns]"
      ]
     },
     "execution_count": 29,
     "metadata": {},
     "output_type": "execute_result"
    }
   ],
   "source": [
    "# проведем ресемплирование тиковых данных в среднее значение с периодом 1 секунда\n",
    "# колебания цены в течении секунды не так важны\n",
    "# так-же добавим в ресемплированные данные колонку с количеством тиков в секунду, возможно, это ценная информация:\n",
    "# если в секунду было много тиков, то это может говорить о том, что в этот момент было много сделок, и это может быть важной информацией\n",
    "\n",
    "ticks_frame = ticks_frame.resample('1S', on='time').agg({'bid':'mean', 'ask':'mean', 'time':'count'})\n",
    "\n",
    "# недостающие значения заполним интерполяцией\n",
    "# ticks_frame = ticks_frame.interpolate(method='time')\n",
    "\n",
    "# недостающие значения заполним предыдущими значениями,\n",
    "ticks_frame = ticks_frame.fillna(method='ffill')\n",
    "\n",
    "# выведем данные\n",
    "ticks_frame"
   ]
  },
  {
   "cell_type": "markdown",
   "metadata": {},
   "source": [
    "Отлично. Мы получили непрерывный последовательный временной ряд."
   ]
  },
  {
   "cell_type": "code",
   "execution_count": 30,
   "metadata": {},
   "outputs": [
    {
     "data": {
      "text/plain": [
       "<Axes: title={'center': 'Средняя цена Bid за секунду (октябрь 2023)'}, xlabel='time'>"
      ]
     },
     "execution_count": 30,
     "metadata": {},
     "output_type": "execute_result"
    },
    {
     "data": {
      "image/png": "[encoded data removed]",
      "text/plain": [
       "<Figure size 1000x500 with 1 Axes>"
      ]
     },
     "metadata": {},
     "output_type": "display_data"
    }
   ],
   "source": [
    "ticks_frame['bid'].plot(figsize=(10,5), grid=True, title='Средняя цена Bid за секунду (октябрь 2023)')"
   ]
  },
  {
   "cell_type": "markdown",
   "metadata": {},
   "source": [
    "# 3. Подготовка даных, исследование"
   ]
  },
  {
   "cell_type": "markdown",
   "metadata": {},
   "source": [
    "Фактически, в конечном итоге, как именно модель предсказала нам колебания курса, насколько точно отразила его изменения - нам совершенно неинтересно. Нас интересует конечный результат: сигнал. Вырастет-ли цена? Или упадёт? Или останется той-же с незначительным отклонением?<br>\n",
    "Поэтому введем, фактически, целевой признак, по которому будем оценивать нашу модель.<br>\n",
    "Он будет принимать значения -1, 0, 1 (цена упадёт/останется неизменной/цена вырастет)<br>\n",
    "Для чего мы автоматически разметим данные на каждую секунду."
   ]
  },
  {
   "cell_type": "markdown",
   "metadata": {},
   "source": [
    "Для начала посмотрим, а как вообще колеблется цена в выбранном нами временном диапазоне в 10 минут"
   ]
  },
  {
   "cell_type": "code",
   "execution_count": 31,
   "metadata": {},
   "outputs": [],
   "source": [
    "# сделаем копию данных, что-бы не портить оригинал\n",
    "ticks_frame_target = ticks_frame.copy()"
   ]
  },
  {
   "cell_type": "markdown",
   "metadata": {},
   "source": [
    "<i> Осторожно! Этот кусок кода на слабых компьютерах, не смотря на мультитрединг, может выполнятся очень долго </i>\n",
    "\n",
    "поэтому я сохраню данные и выполню этот кусок кода на мощном сервере"
   ]
  },
  {
   "cell_type": "code",
   "execution_count": 32,
   "metadata": {},
   "outputs": [],
   "source": [
    "# сохраним данные в файл\n",
    "ticks_frame_target.to_pickle('pkl/ticks_frame_target.pkl')\n",
    "\n",
    "# загрузим данные из файла\n",
    "#ticks_frame_target = pd.read_pickle('pkl/ticks_frame_target.pkl')"
   ]
  },
  {
   "cell_type": "code",
   "execution_count": 36,
   "metadata": {},
   "outputs": [],
   "source": [
    "# напишем функцию, которая будет возращать максимальное и минимальное значение цены указанного фрагмента данных\n",
    "# а так-же время максимального и минимального значения. Это нам пригодится в дальнейшем\n",
    "\n",
    "def get_min_max(df, start, end):\n",
    "    # получим фрагмент данных\n",
    "    df = df[(df.index >= start) & (df.index <= end)]\n",
    "    # найдем минимальное значение\n",
    "    min_value = df['bid'].min()\n",
    "    # найдем максимальное значение\n",
    "    max_value = df['bid'].max()\n",
    "    # найдем время минимального значения\n",
    "    min_time = df[df['bid'] == min_value].index[0]\n",
    "    # найдем время максимального значения\n",
    "    max_time = df[df['bid'] == max_value].index[0]\n",
    "    # вернем результат\n",
    "    return min_value, max_value, min_time, max_time\n",
    "\n",
    "# переберем все данные и найдем на сколько изменялась цена за указанный промежуток времени\n",
    "\n",
    "# рассчёт даже одного месяца будет очень долгим, поэтому разделим данные на несколько частей и посчитаем их разными потоками\n",
    "# для этого используем библиотеку threading\n",
    "\n",
    "# зададим количество потоков\n",
    "threads_count = 32\n",
    "\n",
    "# зададим количество строк в одном потоке\n",
    "threads_rows_count = int(len(ticks_frame_target) / threads_count)\n",
    "\n",
    "# создадим список для хранения потоков\n",
    "threads = []\n",
    "\n",
    "# создадим список для хранения результатов\n",
    "results = []\n",
    "\n",
    "# создадим функцию, которая будет выполняться в потоке\n",
    "def thread_function(i, results):\n",
    "    \n",
    "    # переберем все значени от i до конца фрагмента данных (с шагом в 100 секунд - это ускорит рассчёт на этом компьютере)\n",
    "    for j in range(i * threads_rows_count, i * threads_rows_count + threads_rows_count, 100):\n",
    "        # получим время начала фрагмента данных\n",
    "        start = ticks_frame_target.index[j]    \n",
    "        # получим время конца фрагмента данных\n",
    "        end = start + pd.Timedelta(seconds=time_delta)\n",
    "        # получим минимальное и максимальное значения цены за фрагмент данных\n",
    "        min_value, max_value, min_time, max_time = get_min_max(ticks_frame_target, start, end)\n",
    "        # вычислим разницу между максимальным значением и ценой в начале фрагмента данных\n",
    "        delta_max = max_value - ticks_frame_target.loc[start, 'bid']\n",
    "        # вычислим разницу между минимальным значением и ценой в начале фрагмента данных\n",
    "        delta_min = min_value - ticks_frame_target.loc[start, 'bid']\n",
    "        # запишем результат в список\n",
    "        results.append([start, delta_min, delta_max, min_time, max_time])    \n",
    "  \n",
    "    \n",
    "# создадим цикл для создания потоков\n",
    "for i in range(threads_count):    \n",
    "    # создадим поток\n",
    "    x = threading.Thread(target=thread_function, args=(i, results))\n",
    "    # добавим поток в список\n",
    "    threads.append(x)\n",
    "    # запустим поток\n",
    "    x.start()\n",
    "\n",
    "# дождемся окончания всех потоков\n",
    "for i in threads:\n",
    "    i.join()\n",
    "\n",
    "# создадим DataFrame для хранения результатов\n",
    "results_frame = pd.DataFrame(results, columns=['time', 'min_delta', 'max_delta', 'min_time', 'max_time'])\n",
    "\n",
    "# выведем результаты\n",
    "results_frame\n",
    "\n",
    "beep() # Пищим динамиком, что-бы узнать, что рассчёт окончен"
   ]
  },
  {
   "cell_type": "code",
   "execution_count": 53,
   "metadata": {},
   "outputs": [],
   "source": [
    "# сохраним данные в файл\n",
    "#results_frame.to_pickle('pkl/results_frame.pkl')\n",
    "\n",
    "# загрузим данные из файла\n",
    "results_frame = pd.read_pickle('pkl/results_frame.pkl')"
   ]
  },
  {
   "cell_type": "code",
   "execution_count": 68,
   "metadata": {},
   "outputs": [
    {
     "name": "stderr",
     "output_type": "stream",
     "text": [
      "c:\\Users\\trigubov\\AppData\\Local\\Programs\\Python\\Python311\\Lib\\site-packages\\seaborn\\_oldcore.py:1498: FutureWarning: is_categorical_dtype is deprecated and will be removed in a future version. Use isinstance(dtype, CategoricalDtype) instead\n",
      "  if pd.api.types.is_categorical_dtype(vector):\n",
      "c:\\Users\\trigubov\\AppData\\Local\\Programs\\Python\\Python311\\Lib\\site-packages\\seaborn\\_oldcore.py:1119: FutureWarning: use_inf_as_na option is deprecated and will be removed in a future version. Convert inf values to NaN before operating instead.\n",
      "  with pd.option_context('mode.use_inf_as_na', True):\n",
      "c:\\Users\\trigubov\\AppData\\Local\\Programs\\Python\\Python311\\Lib\\site-packages\\seaborn\\_oldcore.py:1498: FutureWarning: is_categorical_dtype is deprecated and will be removed in a future version. Use isinstance(dtype, CategoricalDtype) instead\n",
      "  if pd.api.types.is_categorical_dtype(vector):\n",
      "c:\\Users\\trigubov\\AppData\\Local\\Programs\\Python\\Python311\\Lib\\site-packages\\seaborn\\_oldcore.py:1119: FutureWarning: use_inf_as_na option is deprecated and will be removed in a future version. Convert inf values to NaN before operating instead.\n",
      "  with pd.option_context('mode.use_inf_as_na', True):\n"
     ]
    },
    {
     "data": {
      "image/png": "[encoded data removed]",
      "text/plain": [
       "<Figure size 1500x500 with 2 Axes>"
      ]
     },
     "metadata": {},
     "output_type": "display_data"
    }
   ],
   "source": [
    "# построим графики распределения изменений цены: значений min_delta и max_delta без значений, которые равны 0 или близки к 0\n",
    "# за значения близкие к нулю будем считать изменения в 10 пипсов, или 0.0001 (это минимальное изменение цены, которое мы будем учитывать)\n",
    "# так-же уберем значения свыше 200 пипсов, это редкие события, но они будут сильно портить график\n",
    "\n",
    "fig, ax = plt.subplots(1, 2, figsize=(15,5))\n",
    "sns.histplot(results_frame['min_delta'][(results_frame['min_delta'] < -0.0001) & (results_frame['min_delta'] > -0.002)], ax=ax[0], bins=100, kde=False)\n",
    "sns.histplot(results_frame['max_delta'][(results_frame['max_delta'] < 0.002) & results_frame['max_delta'] > 0.0001], ax=ax[1], bins=100, kde=False)\n",
    "ax[0].set_title('Распределение значений min_delta')\n",
    "ax[1].set_title('Распределение значений max_delta')\n",
    "plt.show()\n"
   ]
  },
  {
   "cell_type": "markdown",
   "metadata": {},
   "source": [
    "Понятно, что нам хочется ловить большое изменение. В 100 пунктов и выше. Но их количество - ничтожно мало. Я выбрал для дальнейшей работы изменения в 25 пунктов."
   ]
  },
  {
   "cell_type": "code",
   "execution_count": 70,
   "metadata": {},
   "outputs": [],
   "source": [
    "pips_delta = 0.00025 # 25 пипсов"
   ]
  }
 ],
 "metadata": {
  "kernelspec": {
   "display_name": "Python 3",
   "language": "python",
   "name": "python3"
  },
  "language_info": {
   "codemirror_mode": {
    "name": "ipython",
    "version": 3
   },
   "file_extension": ".py",
   "mimetype": "text/x-python",
   "name": "python",
   "nbconvert_exporter": "python",
   "pygments_lexer": "ipython3",
   "version": "3.11.0"
  }
 },
 "nbformat": 4,
 "nbformat_minor": 2
}
