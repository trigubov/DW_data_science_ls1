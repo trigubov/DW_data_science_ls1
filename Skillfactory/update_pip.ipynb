{
 "cells": [
  {
   "cell_type": "code",
   "execution_count": null,
   "metadata": {},
   "outputs": [],
   "source": [
    "import subprocess as sbp\n",
    "import pip\n",
    "pkgs = eval(str(sbp.run(\"pip3 list -o --format=json\", shell=True,\n",
    "                         stdout=sbp.PIPE).stdout, encoding='utf-8'))\n",
    "for pkg in pkgs:\n",
    "    sbp.run(\"pip3 install --upgrade \" + pkg['name'], shell=True)\n",
    "    "
   ]
  }
 ],
 "metadata": {
  "kernelspec": {
   "display_name": "Python 3",
   "language": "python",
   "name": "python3"
  },
  "language_info": {
   "name": "python",
   "version": "3.11.0"
  }
 },
 "nbformat": 4,
 "nbformat_minor": 2
}
