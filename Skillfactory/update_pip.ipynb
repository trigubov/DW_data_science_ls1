{
 "cells": [
  {
   "cell_type": "code",
   "execution_count": null,
   "metadata": {},
   "outputs": [],
   "source": [
    "import subprocess as sbp\n",
    "import pip\n",
    "pkgs = eval(str(sbp.run(\"pip3 list -o --format=json\", shell=True,\n",
    "                         stdout=sbp.PIPE).stdout, encoding='utf-8'))\n",
    "for pkg in pkgs:\n",
    "    sbp.run(\"pip3 install --upgrade \" + pkg['name'], shell=True)\n"
   ]
  }
 ],
 "metadata": {
  "language_info": {
   "name": "python"
  }
 },
 "nbformat": 4,
 "nbformat_minor": 2
}
