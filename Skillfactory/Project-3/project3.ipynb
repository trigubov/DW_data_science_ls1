{
 "cells": [
  {
   "cell_type": "code",
   "execution_count": 4,
   "metadata": {},
   "outputs": [
    {
     "data": {
      "text/html": [
       "<div>\n",
       "<style scoped>\n",
       "    .dataframe tbody tr th:only-of-type {\n",
       "        vertical-align: middle;\n",
       "    }\n",
       "\n",
       "    .dataframe tbody tr th {\n",
       "        vertical-align: top;\n",
       "    }\n",
       "\n",
       "    .dataframe thead th {\n",
       "        text-align: right;\n",
       "    }\n",
       "</style>\n",
       "<table border=\"1\" class=\"dataframe\">\n",
       "  <thead>\n",
       "    <tr style=\"text-align: right;\">\n",
       "      <th></th>\n",
       "      <th>hotel_address</th>\n",
       "      <th>additional_number_of_scoring</th>\n",
       "      <th>review_date</th>\n",
       "      <th>average_score</th>\n",
       "      <th>hotel_name</th>\n",
       "      <th>reviewer_nationality</th>\n",
       "      <th>negative_review</th>\n",
       "      <th>review_total_negative_word_counts</th>\n",
       "      <th>total_number_of_reviews</th>\n",
       "      <th>positive_review</th>\n",
       "      <th>review_total_positive_word_counts</th>\n",
       "      <th>total_number_of_reviews_reviewer_has_given</th>\n",
       "      <th>reviewer_score</th>\n",
       "      <th>tags</th>\n",
       "      <th>days_since_review</th>\n",
       "      <th>lat</th>\n",
       "      <th>lng</th>\n",
       "    </tr>\n",
       "  </thead>\n",
       "  <tbody>\n",
       "    <tr>\n",
       "      <th>0</th>\n",
       "      <td>Stratton Street Mayfair Westminster Borough Lo...</td>\n",
       "      <td>581</td>\n",
       "      <td>2/19/2016</td>\n",
       "      <td>8.4</td>\n",
       "      <td>The May Fair Hotel</td>\n",
       "      <td>United Kingdom</td>\n",
       "      <td>Leaving</td>\n",
       "      <td>3</td>\n",
       "      <td>1994</td>\n",
       "      <td>Staff were amazing</td>\n",
       "      <td>4</td>\n",
       "      <td>7</td>\n",
       "      <td>10.0</td>\n",
       "      <td>[' Leisure trip ', ' Couple ', ' Studio Suite ...</td>\n",
       "      <td>531 day</td>\n",
       "      <td>51.507894</td>\n",
       "      <td>-0.143671</td>\n",
       "    </tr>\n",
       "    <tr>\n",
       "      <th>1</th>\n",
       "      <td>130 134 Southampton Row Camden London WC1B 5AF...</td>\n",
       "      <td>299</td>\n",
       "      <td>1/12/2017</td>\n",
       "      <td>8.3</td>\n",
       "      <td>Mercure London Bloomsbury Hotel</td>\n",
       "      <td>United Kingdom</td>\n",
       "      <td>poor breakfast</td>\n",
       "      <td>3</td>\n",
       "      <td>1361</td>\n",
       "      <td>location</td>\n",
       "      <td>2</td>\n",
       "      <td>14</td>\n",
       "      <td>6.3</td>\n",
       "      <td>[' Business trip ', ' Couple ', ' Standard Dou...</td>\n",
       "      <td>203 day</td>\n",
       "      <td>51.521009</td>\n",
       "      <td>-0.123097</td>\n",
       "    </tr>\n",
       "    <tr>\n",
       "      <th>2</th>\n",
       "      <td>151 bis Rue de Rennes 6th arr 75006 Paris France</td>\n",
       "      <td>32</td>\n",
       "      <td>10/18/2016</td>\n",
       "      <td>8.9</td>\n",
       "      <td>Legend Saint Germain by Elegancia</td>\n",
       "      <td>China</td>\n",
       "      <td>No kettle in room</td>\n",
       "      <td>6</td>\n",
       "      <td>406</td>\n",
       "      <td>No Positive</td>\n",
       "      <td>0</td>\n",
       "      <td>14</td>\n",
       "      <td>7.5</td>\n",
       "      <td>[' Leisure trip ', ' Solo traveler ', ' Modern...</td>\n",
       "      <td>289 day</td>\n",
       "      <td>48.845377</td>\n",
       "      <td>2.325643</td>\n",
       "    </tr>\n",
       "    <tr>\n",
       "      <th>3</th>\n",
       "      <td>216 Avenue Jean Jaures 19th arr 75019 Paris Fr...</td>\n",
       "      <td>34</td>\n",
       "      <td>9/22/2015</td>\n",
       "      <td>7.5</td>\n",
       "      <td>Mercure Paris 19 Philharmonie La Villette</td>\n",
       "      <td>United Kingdom</td>\n",
       "      <td>No Negative</td>\n",
       "      <td>0</td>\n",
       "      <td>607</td>\n",
       "      <td>Friendly staff quiet comfortable room spotles...</td>\n",
       "      <td>11</td>\n",
       "      <td>8</td>\n",
       "      <td>10.0</td>\n",
       "      <td>[' Leisure trip ', ' Solo traveler ', ' Standa...</td>\n",
       "      <td>681 day</td>\n",
       "      <td>48.888697</td>\n",
       "      <td>2.394540</td>\n",
       "    </tr>\n",
       "    <tr>\n",
       "      <th>4</th>\n",
       "      <td>Molenwerf 1 1014 AG Amsterdam Netherlands</td>\n",
       "      <td>914</td>\n",
       "      <td>3/5/2016</td>\n",
       "      <td>8.5</td>\n",
       "      <td>Golden Tulip Amsterdam West</td>\n",
       "      <td>Poland</td>\n",
       "      <td>Torn sheets</td>\n",
       "      <td>4</td>\n",
       "      <td>7586</td>\n",
       "      <td>The staff was very friendly and helpful Break...</td>\n",
       "      <td>20</td>\n",
       "      <td>10</td>\n",
       "      <td>9.6</td>\n",
       "      <td>[' Business trip ', ' Couple ', ' Standard Dou...</td>\n",
       "      <td>516 day</td>\n",
       "      <td>52.385601</td>\n",
       "      <td>4.847060</td>\n",
       "    </tr>\n",
       "  </tbody>\n",
       "</table>\n",
       "</div>"
      ],
      "text/plain": [
       "                                       hotel_address  \\\n",
       "0  Stratton Street Mayfair Westminster Borough Lo...   \n",
       "1  130 134 Southampton Row Camden London WC1B 5AF...   \n",
       "2   151 bis Rue de Rennes 6th arr 75006 Paris France   \n",
       "3  216 Avenue Jean Jaures 19th arr 75019 Paris Fr...   \n",
       "4          Molenwerf 1 1014 AG Amsterdam Netherlands   \n",
       "\n",
       "   additional_number_of_scoring review_date  average_score  \\\n",
       "0                           581   2/19/2016            8.4   \n",
       "1                           299   1/12/2017            8.3   \n",
       "2                            32  10/18/2016            8.9   \n",
       "3                            34   9/22/2015            7.5   \n",
       "4                           914    3/5/2016            8.5   \n",
       "\n",
       "                                  hotel_name reviewer_nationality  \\\n",
       "0                         The May Fair Hotel      United Kingdom    \n",
       "1            Mercure London Bloomsbury Hotel      United Kingdom    \n",
       "2          Legend Saint Germain by Elegancia               China    \n",
       "3  Mercure Paris 19 Philharmonie La Villette      United Kingdom    \n",
       "4                Golden Tulip Amsterdam West              Poland    \n",
       "\n",
       "       negative_review  review_total_negative_word_counts  \\\n",
       "0             Leaving                                   3   \n",
       "1       poor breakfast                                  3   \n",
       "2   No kettle in room                                   6   \n",
       "3          No Negative                                  0   \n",
       "4         Torn sheets                                   4   \n",
       "\n",
       "   total_number_of_reviews                                    positive_review  \\\n",
       "0                     1994                                 Staff were amazing   \n",
       "1                     1361                                           location   \n",
       "2                      406                                        No Positive   \n",
       "3                      607   Friendly staff quiet comfortable room spotles...   \n",
       "4                     7586   The staff was very friendly and helpful Break...   \n",
       "\n",
       "   review_total_positive_word_counts  \\\n",
       "0                                  4   \n",
       "1                                  2   \n",
       "2                                  0   \n",
       "3                                 11   \n",
       "4                                 20   \n",
       "\n",
       "   total_number_of_reviews_reviewer_has_given  reviewer_score  \\\n",
       "0                                           7            10.0   \n",
       "1                                          14             6.3   \n",
       "2                                          14             7.5   \n",
       "3                                           8            10.0   \n",
       "4                                          10             9.6   \n",
       "\n",
       "                                                tags days_since_review  \\\n",
       "0  [' Leisure trip ', ' Couple ', ' Studio Suite ...           531 day   \n",
       "1  [' Business trip ', ' Couple ', ' Standard Dou...           203 day   \n",
       "2  [' Leisure trip ', ' Solo traveler ', ' Modern...           289 day   \n",
       "3  [' Leisure trip ', ' Solo traveler ', ' Standa...           681 day   \n",
       "4  [' Business trip ', ' Couple ', ' Standard Dou...           516 day   \n",
       "\n",
       "         lat       lng  \n",
       "0  51.507894 -0.143671  \n",
       "1  51.521009 -0.123097  \n",
       "2  48.845377  2.325643  \n",
       "3  48.888697  2.394540  \n",
       "4  52.385601  4.847060  "
      ]
     },
     "execution_count": 4,
     "metadata": {},
     "output_type": "execute_result"
    }
   ],
   "source": [
    "import pandas as pd\n",
    "from textblob import TextBlob\n",
    "\n",
    "hotels = pd.read_csv('hotels.zip')\n",
    "hotels.head()"
   ]
  },
  {
   "cell_type": "code",
   "execution_count": 166,
   "metadata": {},
   "outputs": [
    {
     "name": "stdout",
     "output_type": "stream",
     "text": [
      "<class 'pandas.core.frame.DataFrame'>\n",
      "RangeIndex: 386803 entries, 0 to 386802\n",
      "Data columns (total 17 columns):\n",
      " #   Column                                      Non-Null Count   Dtype  \n",
      "---  ------                                      --------------   -----  \n",
      " 0   hotel_address                               386803 non-null  object \n",
      " 1   additional_number_of_scoring                386803 non-null  int64  \n",
      " 2   review_date                                 386803 non-null  object \n",
      " 3   average_score                               386803 non-null  float64\n",
      " 4   hotel_name                                  386803 non-null  object \n",
      " 5   reviewer_nationality                        386803 non-null  object \n",
      " 6   negative_review                             386803 non-null  object \n",
      " 7   review_total_negative_word_counts           386803 non-null  int64  \n",
      " 8   total_number_of_reviews                     386803 non-null  int64  \n",
      " 9   positive_review                             386803 non-null  object \n",
      " 10  review_total_positive_word_counts           386803 non-null  int64  \n",
      " 11  total_number_of_reviews_reviewer_has_given  386803 non-null  int64  \n",
      " 12  reviewer_score                              386803 non-null  float64\n",
      " 13  tags                                        386803 non-null  object \n",
      " 14  days_since_review                           386803 non-null  object \n",
      " 15  lat                                         384355 non-null  float64\n",
      " 16  lng                                         384355 non-null  float64\n",
      "dtypes: float64(4), int64(5), object(8)\n",
      "memory usage: 50.2+ MB\n"
     ]
    }
   ],
   "source": [
    "hotels.info()"
   ]
  },
  {
   "cell_type": "code",
   "execution_count": 3,
   "metadata": {},
   "outputs": [
    {
     "data": {
      "text/plain": [
       "['additional_number_of_scoring',\n",
       " 'average_score',\n",
       " 'review_total_negative_word_counts',\n",
       " 'total_number_of_reviews',\n",
       " 'review_total_positive_word_counts',\n",
       " 'total_number_of_reviews_reviewer_has_given',\n",
       " 'reviewer_score',\n",
       " 'lat',\n",
       " 'lng']"
      ]
     },
     "execution_count": 3,
     "metadata": {},
     "output_type": "execute_result"
    }
   ],
   "source": [
    "list(hotels.select_dtypes(['int64','float64']).columns)"
   ]
  },
  {
   "attachments": {},
   "cell_type": "markdown",
   "metadata": {},
   "source": [
    "В этом ноутбуке я попробую пойти по пути минимизации входных данных - безжалостно выкидывая то, что мне кажется несущественным и не сильно влияющим на результат. И первыми под нож пойдут lat и lng. Первые тесты показали, что их влияние на результат - крайне мало, в их данных есть пропуски, которые надо чем-то заполнить. Мне кажется, что усилия, затраченные на то, что-бы выудить какую-то полезную информацию из географических координат - не стоят того незначительного улучшения модели, которое возможно произойдёт."
   ]
  },
  {
   "cell_type": "code",
   "execution_count": 5,
   "metadata": {},
   "outputs": [],
   "source": [
    "def text_sentiment(text):\n",
    "    blob = TextBlob(text)\n",
    "    sentiment = blob.sentiment\n",
    "    polarity = sentiment.polarity\n",
    "    subjectivity = sentiment.subjectivity\n",
    "    return polarity,subjectivity\n"
   ]
  },
  {
   "cell_type": "code",
   "execution_count": 38,
   "metadata": {},
   "outputs": [
    {
     "data": {
      "text/plain": [
       "0.95"
      ]
     },
     "execution_count": 38,
     "metadata": {},
     "output_type": "execute_result"
    }
   ],
   "source": [
    "a,b = text_sentiment('Perfect amazing hotel')\n",
    "b\n"
   ]
  },
  {
   "cell_type": "code",
   "execution_count": 40,
   "metadata": {},
   "outputs": [
    {
     "ename": "ValueError",
     "evalue": "too many values to unpack (expected 2)",
     "output_type": "error",
     "traceback": [
      "\u001b[1;31m---------------------------------------------------------------------------\u001b[0m",
      "\u001b[1;31mValueError\u001b[0m                                Traceback (most recent call last)",
      "Cell \u001b[1;32mIn[40], line 2\u001b[0m\n\u001b[0;32m      1\u001b[0m \u001b[39m#polarity_subjectivity = hotels['positive_review'].apply(text_sentiment)\u001b[39;00m\n\u001b[1;32m----> 2\u001b[0m hotels[\u001b[39m'\u001b[39m\u001b[39mpositive_review_polarity\u001b[39m\u001b[39m'\u001b[39m],hotels[\u001b[39m'\u001b[39m\u001b[39mpositive_review_subjectivity\u001b[39m\u001b[39m'\u001b[39m] \u001b[39m=\u001b[39m hotels[\u001b[39m'\u001b[39m\u001b[39mpositive_review\u001b[39m\u001b[39m'\u001b[39m]\u001b[39m.\u001b[39mapply(text_sentiment)\n\u001b[0;32m      3\u001b[0m \u001b[39m#polarity_subjectivity\u001b[39;00m\n\u001b[0;32m      4\u001b[0m hotels[[\u001b[39m'\u001b[39m\u001b[39mpositive_review_polarity\u001b[39m\u001b[39m'\u001b[39m,\u001b[39m'\u001b[39m\u001b[39mpositive_review_subjectivity\u001b[39m\u001b[39m'\u001b[39m]]\n",
      "\u001b[1;31mValueError\u001b[0m: too many values to unpack (expected 2)"
     ]
    }
   ],
   "source": [
    "polarity_subjectivity = hotels['positive_review'].apply(text_sentiment)\n",
    "hotels['positive_review_polarity'],hotels['positive_review_subjectivity'] = hotels['positive_review'].apply(text_sentiment)\n",
    "#polarity_subjectivity\n",
    "hotels['negative_review']\n",
    "hotels[['positive_review_polarity','positive_review_subjectivity']]"
   ]
  },
  {
   "cell_type": "code",
   "execution_count": 42,
   "metadata": {},
   "outputs": [
    {
     "data": {
      "text/plain": [
       "0                          (0.6000000000000001, 0.9)\n",
       "1                                         (0.0, 0.0)\n",
       "2         (-0.11363636363636363, 0.5454545454545454)\n",
       "3          (0.42833333333333334, 0.6666666666666667)\n",
       "4          (0.27749999999999997, 0.5966666666666667)\n",
       "                             ...                    \n",
       "386798                                    (0.0, 0.0)\n",
       "386799     (0.2474891774891775, 0.47521645021645026)\n",
       "386800      (0.4666666666666666, 0.7023809523809524)\n",
       "386801                                    (0.2, 0.3)\n",
       "386802      (0.4508333333333333, 0.7000000000000001)\n",
       "Name: positive_review, Length: 386803, dtype: object"
      ]
     },
     "execution_count": 42,
     "metadata": {},
     "output_type": "execute_result"
    }
   ],
   "source": [
    "polarity_subjectivity"
   ]
  },
  {
   "cell_type": "code",
   "execution_count": 35,
   "metadata": {},
   "outputs": [
    {
     "data": {
      "text/html": [
       "<div>\n",
       "<style scoped>\n",
       "    .dataframe tbody tr th:only-of-type {\n",
       "        vertical-align: middle;\n",
       "    }\n",
       "\n",
       "    .dataframe tbody tr th {\n",
       "        vertical-align: top;\n",
       "    }\n",
       "\n",
       "    .dataframe thead th {\n",
       "        text-align: right;\n",
       "    }\n",
       "</style>\n",
       "<table border=\"1\" class=\"dataframe\">\n",
       "  <thead>\n",
       "    <tr style=\"text-align: right;\">\n",
       "      <th></th>\n",
       "      <th>first_value</th>\n",
       "      <th>second_value</th>\n",
       "    </tr>\n",
       "  </thead>\n",
       "  <tbody>\n",
       "    <tr>\n",
       "      <th>0</th>\n",
       "      <td>0.600000</td>\n",
       "      <td>0.900000</td>\n",
       "    </tr>\n",
       "    <tr>\n",
       "      <th>1</th>\n",
       "      <td>0.000000</td>\n",
       "      <td>0.000000</td>\n",
       "    </tr>\n",
       "    <tr>\n",
       "      <th>2</th>\n",
       "      <td>-0.113636</td>\n",
       "      <td>0.545455</td>\n",
       "    </tr>\n",
       "    <tr>\n",
       "      <th>3</th>\n",
       "      <td>0.428333</td>\n",
       "      <td>0.666667</td>\n",
       "    </tr>\n",
       "    <tr>\n",
       "      <th>4</th>\n",
       "      <td>0.277500</td>\n",
       "      <td>0.596667</td>\n",
       "    </tr>\n",
       "    <tr>\n",
       "      <th>...</th>\n",
       "      <td>...</td>\n",
       "      <td>...</td>\n",
       "    </tr>\n",
       "    <tr>\n",
       "      <th>386798</th>\n",
       "      <td>0.000000</td>\n",
       "      <td>0.000000</td>\n",
       "    </tr>\n",
       "    <tr>\n",
       "      <th>386799</th>\n",
       "      <td>0.247489</td>\n",
       "      <td>0.475216</td>\n",
       "    </tr>\n",
       "    <tr>\n",
       "      <th>386800</th>\n",
       "      <td>0.466667</td>\n",
       "      <td>0.702381</td>\n",
       "    </tr>\n",
       "    <tr>\n",
       "      <th>386801</th>\n",
       "      <td>0.200000</td>\n",
       "      <td>0.300000</td>\n",
       "    </tr>\n",
       "    <tr>\n",
       "      <th>386802</th>\n",
       "      <td>0.450833</td>\n",
       "      <td>0.700000</td>\n",
       "    </tr>\n",
       "  </tbody>\n",
       "</table>\n",
       "<p>386803 rows × 2 columns</p>\n",
       "</div>"
      ],
      "text/plain": [
       "        first_value  second_value\n",
       "0          0.600000      0.900000\n",
       "1          0.000000      0.000000\n",
       "2         -0.113636      0.545455\n",
       "3          0.428333      0.666667\n",
       "4          0.277500      0.596667\n",
       "...             ...           ...\n",
       "386798     0.000000      0.000000\n",
       "386799     0.247489      0.475216\n",
       "386800     0.466667      0.702381\n",
       "386801     0.200000      0.300000\n",
       "386802     0.450833      0.700000\n",
       "\n",
       "[386803 rows x 2 columns]"
      ]
     },
     "execution_count": 35,
     "metadata": {},
     "output_type": "execute_result"
    }
   ],
   "source": [
    "#hotels[['first_value', 'second_value']] = polarity_subjectivity.apply(lambda x: pd.Series(eval(x)))\n",
    "#hotels[['first_value', 'second_value']] = polarity_subjectivity.apply(lambda x: pd.Series(x.strip('()').split(', ')).astype(float))\n",
    "hotels[['first_value', 'second_value']] = polarity_subjectivity.apply(lambda x: pd.Series(x))\n",
    "#hotels[['first_value', 'second_value']] = hotels['positive_review'].apply(lambda x: pd.Series(list(zip(*x))[0]), pd.Series(list(zip(*x))[1]))\n",
    "\n",
    "\n",
    "hotels[['first_value', 'second_value']]\n"
   ]
  },
  {
   "cell_type": "code",
   "execution_count": 167,
   "metadata": {},
   "outputs": [
    {
     "name": "stdout",
     "output_type": "stream",
     "text": [
      "<class 'pandas.core.frame.DataFrame'>\n",
      "RangeIndex: 386803 entries, 0 to 386802\n",
      "Data columns (total 17 columns):\n",
      " #   Column                                      Non-Null Count   Dtype  \n",
      "---  ------                                      --------------   -----  \n",
      " 0   hotel_address                               386803 non-null  object \n",
      " 1   additional_number_of_scoring                386803 non-null  int64  \n",
      " 2   review_date                                 386803 non-null  object \n",
      " 3   average_score                               386803 non-null  float64\n",
      " 4   hotel_name                                  386803 non-null  object \n",
      " 5   reviewer_nationality                        386803 non-null  object \n",
      " 6   negative_review                             386803 non-null  object \n",
      " 7   review_total_negative_word_counts           386803 non-null  int64  \n",
      " 8   total_number_of_reviews                     386803 non-null  int64  \n",
      " 9   positive_review                             386803 non-null  object \n",
      " 10  review_total_positive_word_counts           386803 non-null  int64  \n",
      " 11  total_number_of_reviews_reviewer_has_given  386803 non-null  int64  \n",
      " 12  reviewer_score                              386803 non-null  float64\n",
      " 13  tags                                        386803 non-null  object \n",
      " 14  days_since_review                           386803 non-null  object \n",
      " 15  lat                                         384355 non-null  float64\n",
      " 16  lng                                         384355 non-null  float64\n",
      "dtypes: float64(4), int64(5), object(8)\n",
      "memory usage: 50.2+ MB\n"
     ]
    }
   ],
   "source": [
    "#hotels = hotels.drop(['lat','lng'], axis=1)\n",
    "hotels.info()"
   ]
  },
  {
   "attachments": {},
   "cell_type": "markdown",
   "metadata": {},
   "source": [
    "Далее - сами обзоры текстом нам ничем не помогут. А вот количество слов - может. Причем, как мне кажется, важны не абсолютные цифры слов, а их отнощение. Создадим два новых признака - отношение количества позитивных слов к негативным. Два - потому-что одно будет арифметическое отличие, второе - деление. Пока не знаю, какое будет сильней влиять - посмотрим потом."
   ]
  },
  {
   "cell_type": "code",
   "execution_count": 168,
   "metadata": {},
   "outputs": [],
   "source": [
    "#hotels = hotels.drop(['positive_review','negative_review'], axis=1)"
   ]
  },
  {
   "cell_type": "code",
   "execution_count": 169,
   "metadata": {},
   "outputs": [
    {
     "data": {
      "text/plain": [
       "1.000000    11898\n",
       "7.000000     5462\n",
       "0.500000     5329\n",
       "6.000000     5315\n",
       "5.000000     5068\n",
       "            ...  \n",
       "3.633333        1\n",
       "0.110701        1\n",
       "0.781022        1\n",
       "0.013263        1\n",
       "0.484127        1\n",
       "Name: review_word_counts_related_divide, Length: 10127, dtype: int64"
      ]
     },
     "execution_count": 169,
     "metadata": {},
     "output_type": "execute_result"
    }
   ],
   "source": [
    "hotels['review_word_counts_related'] = hotels['review_total_positive_word_counts'] - hotels['review_total_negative_word_counts']\n",
    "hotels['review_word_counts_related_divide'] = (hotels['review_total_positive_word_counts'] + 1) / (hotels['review_total_negative_word_counts'] + 1)\n",
    "hotels['review_word_counts_related_divide'].value_counts()"
   ]
  },
  {
   "cell_type": "code",
   "execution_count": 176,
   "metadata": {},
   "outputs": [],
   "source": [
    "num_cols = ['review_total_negative_word_counts', 'review_total_positive_word_counts','review_word_counts_related','review_word_counts_related_divide']\n",
    "# категориальные признаки\n",
    "cat_cols = ['average_score']"
   ]
  },
  {
   "cell_type": "code",
   "execution_count": 177,
   "metadata": {},
   "outputs": [
    {
     "data": {
      "text/plain": [
       "<AxesSubplot: >"
      ]
     },
     "execution_count": 177,
     "metadata": {},
     "output_type": "execute_result"
    },
    {
     "data": {
      "image/png": "[encoded data removed]",
      "text/plain": [
       "<Figure size 640x480 with 1 Axes>"
      ]
     },
     "metadata": {},
     "output_type": "display_data"
    }
   ],
   "source": [
    "X = hotels.drop(['reviewer_score'], axis = 1)  \n",
    "y = hotels['reviewer_score'] \n",
    "y=y.astype('int')\n",
    "\n",
    "from sklearn.feature_selection import chi2 # хи-квадрат\n",
    "\n",
    "imp_cat = pd.Series(chi2(X[cat_cols], y)[0], index=cat_cols)\n",
    "imp_cat.sort_values(inplace = True)\n",
    "imp_cat.plot(kind = 'barh')"
   ]
  },
  {
   "cell_type": "code",
   "execution_count": 175,
   "metadata": {},
   "outputs": [
    {
     "data": {
      "text/plain": [
       "<AxesSubplot: >"
      ]
     },
     "execution_count": 175,
     "metadata": {},
     "output_type": "execute_result"
    },
    {
     "data": {
      "image/png": "[encoded data removed]",
      "text/plain": [
       "<Figure size 640x480 with 1 Axes>"
      ]
     },
     "metadata": {},
     "output_type": "display_data"
    }
   ],
   "source": [
    "from sklearn.feature_selection import f_classif # anova\n",
    "\n",
    "imp_num = pd.Series(f_classif(X[num_cols], y)[0], index = num_cols)\n",
    "imp_num.sort_values(inplace = True)\n",
    "imp_num.plot(kind = 'barh')"
   ]
  },
  {
   "cell_type": "code",
   "execution_count": 119,
   "metadata": {},
   "outputs": [
    {
     "name": "stdout",
     "output_type": "stream",
     "text": [
      "<class 'pandas.core.frame.DataFrame'>\n",
      "RangeIndex: 386803 entries, 0 to 386802\n",
      "Data columns (total 13 columns):\n",
      " #   Column                                      Non-Null Count   Dtype  \n",
      "---  ------                                      --------------   -----  \n",
      " 0   hotel_address                               386803 non-null  object \n",
      " 1   additional_number_of_scoring                386803 non-null  int64  \n",
      " 2   review_date                                 386803 non-null  object \n",
      " 3   average_score                               386803 non-null  float64\n",
      " 4   hotel_name                                  386803 non-null  object \n",
      " 5   reviewer_nationality                        386803 non-null  object \n",
      " 6   total_number_of_reviews                     386803 non-null  int64  \n",
      " 7   total_number_of_reviews_reviewer_has_given  386803 non-null  int64  \n",
      " 8   reviewer_score                              386803 non-null  float64\n",
      " 9   tags                                        386803 non-null  object \n",
      " 10  days_since_review                           386803 non-null  object \n",
      " 11  review_word_counts_related                  386803 non-null  int64  \n",
      " 12  review_word_counts_related_divide           386803 non-null  float64\n",
      "dtypes: float64(3), int64(4), object(6)\n",
      "memory usage: 38.4+ MB\n"
     ]
    }
   ],
   "source": [
    "hotels = hotels.drop(['review_total_positive_word_counts','review_total_negative_word_counts'], axis=1)\n",
    "hotels.info()"
   ]
  },
  {
   "attachments": {},
   "cell_type": "markdown",
   "metadata": {},
   "source": [
    "Следущими под нож пустим те данные, из которых я или не представляю, как получить что-то полезное, или считаю, что их влияние слишком незначительное, как нам показали предварительные непараметрические тесты. От адреса отеля тоже пока избавимся, оставим его на другие варианты. Из него можно выудить полезную информацию, но в рамках этого конкретного ноутбука с минимизацией затрат и данных - его пока выкинем. Имя отеля - в этом ноутбуке пока тоже отбросим. В конце концов, нам не столько важно имя, сколько оценка, которую ставили этому отелю другие пользователи. А именно этот параметр мы-юы рассматривали, если-б стали учитывать имя."
   ]
  },
  {
   "cell_type": "code",
   "execution_count": 120,
   "metadata": {},
   "outputs": [
    {
     "name": "stdout",
     "output_type": "stream",
     "text": [
      "<class 'pandas.core.frame.DataFrame'>\n",
      "RangeIndex: 386803 entries, 0 to 386802\n",
      "Data columns (total 9 columns):\n",
      " #   Column                                      Non-Null Count   Dtype  \n",
      "---  ------                                      --------------   -----  \n",
      " 0   review_date                                 386803 non-null  object \n",
      " 1   average_score                               386803 non-null  float64\n",
      " 2   reviewer_nationality                        386803 non-null  object \n",
      " 3   total_number_of_reviews                     386803 non-null  int64  \n",
      " 4   total_number_of_reviews_reviewer_has_given  386803 non-null  int64  \n",
      " 5   reviewer_score                              386803 non-null  float64\n",
      " 6   tags                                        386803 non-null  object \n",
      " 7   review_word_counts_related                  386803 non-null  int64  \n",
      " 8   review_word_counts_related_divide           386803 non-null  float64\n",
      "dtypes: float64(3), int64(3), object(3)\n",
      "memory usage: 26.6+ MB\n"
     ]
    }
   ],
   "source": [
    "hotels = hotels.drop(['days_since_review','additional_number_of_scoring','days_since_review'], axis=1)\n",
    "hotels = hotels.drop(['hotel_address'], axis=1)\n",
    "hotels = hotels.drop(['hotel_name'], axis=1)\n",
    "hotels.info()"
   ]
  },
  {
   "attachments": {},
   "cell_type": "markdown",
   "metadata": {},
   "source": [
    "Побудем немного националистами, и предположим, что национальность человека влияет на то, как он, в целом, оценивает. Превратим графу \"национальность\" в категорию"
   ]
  },
  {
   "cell_type": "code",
   "execution_count": 121,
   "metadata": {},
   "outputs": [
    {
     "data": {
      "text/plain": [
       " United Kingdom               184033\n",
       " United States of America      26541\n",
       " Australia                     16239\n",
       " Ireland                       11126\n",
       " United Arab Emirates           7617\n",
       "                               ...  \n",
       " Cook Islands                      1\n",
       " Guinea                            1\n",
       " Comoros                           1\n",
       " Anguilla                          1\n",
       " Grenada                           1\n",
       "Name: reviewer_nationality, Length: 225, dtype: int64"
      ]
     },
     "execution_count": 121,
     "metadata": {},
     "output_type": "execute_result"
    }
   ],
   "source": [
    "hotels['reviewer_nationality'].value_counts()\n"
   ]
  },
  {
   "cell_type": "code",
   "execution_count": 122,
   "metadata": {},
   "outputs": [
    {
     "data": {
      "text/plain": [
       " United Kingdom               184033\n",
       "other                          46116\n",
       " United States of America      26541\n",
       " Australia                     16239\n",
       " Ireland                       11126\n",
       " United Arab Emirates           7617\n",
       " Saudi Arabia                   6722\n",
       " Netherlands                    6608\n",
       " Switzerland                    6498\n",
       " Canada                         5984\n",
       " Germany                        5956\n",
       " France                         5543\n",
       " Israel                         4918\n",
       " Italy                          4562\n",
       " Belgium                        4529\n",
       " Turkey                         4105\n",
       " Kuwait                         3702\n",
       " Spain                          3529\n",
       " Romania                        3425\n",
       " Russia                         2953\n",
       " South Africa                   2888\n",
       " China                          2564\n",
       " Sweden                         2562\n",
       " India                          2559\n",
       " Greece                         2536\n",
       " New Zealand                    2445\n",
       " Singapore                      2311\n",
       " Hong Kong                      2262\n",
       " Poland                         2106\n",
       " Qatar                          2047\n",
       " Austria                        1817\n",
       "Name: reviewer_nationality, dtype: int64"
      ]
     },
     "execution_count": 122,
     "metadata": {},
     "output_type": "execute_result"
    }
   ],
   "source": [
    "nationality=hotels['reviewer_nationality'].value_counts().nlargest(30).index\n",
    "hotels['reviewer_nationality']=hotels['reviewer_nationality'].apply(lambda x: x if x in nationality else 'other')\n",
    "hotels['reviewer_nationality'].value_counts()"
   ]
  },
  {
   "cell_type": "code",
   "execution_count": 123,
   "metadata": {},
   "outputs": [
    {
     "name": "stdout",
     "output_type": "stream",
     "text": [
      "<class 'pandas.core.frame.DataFrame'>\n",
      "RangeIndex: 386803 entries, 0 to 386802\n",
      "Data columns (total 9 columns):\n",
      " #   Column                                      Non-Null Count   Dtype   \n",
      "---  ------                                      --------------   -----   \n",
      " 0   review_date                                 386803 non-null  object  \n",
      " 1   average_score                               386803 non-null  float64 \n",
      " 2   reviewer_nationality                        386803 non-null  category\n",
      " 3   total_number_of_reviews                     386803 non-null  int64   \n",
      " 4   total_number_of_reviews_reviewer_has_given  386803 non-null  int64   \n",
      " 5   reviewer_score                              386803 non-null  float64 \n",
      " 6   tags                                        386803 non-null  object  \n",
      " 7   review_word_counts_related                  386803 non-null  int64   \n",
      " 8   review_word_counts_related_divide           386803 non-null  float64 \n",
      "dtypes: category(1), float64(3), int64(3), object(2)\n",
      "memory usage: 24.0+ MB\n"
     ]
    }
   ],
   "source": [
    "hotels['reviewer_nationality'] = hotels['reviewer_nationality'].astype('category') # преобразуем тип столбца\n",
    "hotels.info()"
   ]
  },
  {
   "attachments": {},
   "cell_type": "markdown",
   "metadata": {},
   "source": [
    "Далее - дата. Не думаю, что год, или число, как-то может повлиять на оценку, а вот время года - вполне может. Месяца будет достаточно."
   ]
  },
  {
   "cell_type": "code",
   "execution_count": 124,
   "metadata": {},
   "outputs": [
    {
     "name": "stdout",
     "output_type": "stream",
     "text": [
      "<class 'pandas.core.frame.DataFrame'>\n",
      "RangeIndex: 386803 entries, 0 to 386802\n",
      "Data columns (total 9 columns):\n",
      " #   Column                                      Non-Null Count   Dtype   \n",
      "---  ------                                      --------------   -----   \n",
      " 0   average_score                               386803 non-null  float64 \n",
      " 1   reviewer_nationality                        386803 non-null  category\n",
      " 2   total_number_of_reviews                     386803 non-null  int64   \n",
      " 3   total_number_of_reviews_reviewer_has_given  386803 non-null  int64   \n",
      " 4   reviewer_score                              386803 non-null  float64 \n",
      " 5   tags                                        386803 non-null  object  \n",
      " 6   review_word_counts_related                  386803 non-null  int64   \n",
      " 7   review_word_counts_related_divide           386803 non-null  float64 \n",
      " 8   review_month                                386803 non-null  int64   \n",
      "dtypes: category(1), float64(3), int64(4), object(1)\n",
      "memory usage: 24.0+ MB\n"
     ]
    }
   ],
   "source": [
    "hotels['review_month']= pd.DatetimeIndex(pd.to_datetime(hotels['review_date'])).month\n",
    "hotels = hotels.drop(['review_date'], axis=1)\n",
    "hotels.info()"
   ]
  },
  {
   "attachments": {},
   "cell_type": "markdown",
   "metadata": {},
   "source": [
    "Последними остались теги. С ними повозиться придётся, но в них множество информации"
   ]
  },
  {
   "cell_type": "code",
   "execution_count": 125,
   "metadata": {},
   "outputs": [],
   "source": [
    "tags = hotels['tags'].str.lower()"
   ]
  },
  {
   "cell_type": "code",
   "execution_count": 126,
   "metadata": {},
   "outputs": [
    {
     "name": "stderr",
     "output_type": "stream",
     "text": [
      "C:\\Users\\trigubov\\AppData\\Local\\Temp\\ipykernel_17244\\2048240499.py:4: FutureWarning: The default value of regex will change from True to False in a future version. In addition, single character regular expressions will *not* be treated as literal strings when regex=True.\n",
      "  tag = tags.str.replace('[','').str.replace(']','').str.replace('\"','').str.replace(\"'\",'').str.replace(' ','').str.split(',').explode()\n"
     ]
    },
    {
     "data": {
      "text/plain": [
       "leisuretrip                            313593\n",
       "submittedfromamobiledevice             230778\n",
       "couple                                 189212\n",
       "stayed1night                           145373\n",
       "stayed2nights                          100263\n",
       "                                        ...  \n",
       "suitewithgardenviewandparking               1\n",
       "familyroomtwoconnectingrooms3adults         1\n",
       "twoadjacentdoubleroom                       1\n",
       "greenparksuite                              1\n",
       "executivedoubleroomnonsmoking               1\n",
       "Name: tags, Length: 2352, dtype: int64"
      ]
     },
     "execution_count": 126,
     "metadata": {},
     "output_type": "execute_result"
    }
   ],
   "source": [
    "tag = tags.str.replace('[','').str.replace(']','').str.replace('\"','').str.replace(\"'\",'').str.replace(' ','').str.split(',').explode()\n",
    "tag.value_counts()"
   ]
  },
  {
   "attachments": {},
   "cell_type": "markdown",
   "metadata": {},
   "source": [
    "Итого, у нас 2352 уникальных тега. Это слишком много. Мне кажется, важным будет только количество тегов в оценке, и первые 20-30 тегов."
   ]
  },
  {
   "cell_type": "code",
   "execution_count": 134,
   "metadata": {},
   "outputs": [
    {
     "data": {
      "text/plain": [
       "0         4\n",
       "1         3\n",
       "2         4\n",
       "3         3\n",
       "4         3\n",
       "         ..\n",
       "386798    4\n",
       "386799    4\n",
       "386800    3\n",
       "386801    3\n",
       "386802    3\n",
       "Name: tags_count, Length: 386803, dtype: int64"
      ]
     },
     "execution_count": 134,
     "metadata": {},
     "output_type": "execute_result"
    }
   ],
   "source": [
    "hotels['tags_count'] = hotels['tags'].str.count(',')\n",
    "hotels['tags_count']"
   ]
  },
  {
   "cell_type": "code",
   "execution_count": 140,
   "metadata": {},
   "outputs": [
    {
     "data": {
      "text/plain": [
       "4    223455\n",
       "3    158589\n",
       "2      4126\n",
       "5       563\n",
       "1        65\n",
       "0         5\n",
       "Name: tags_count, dtype: int64"
      ]
     },
     "execution_count": 140,
     "metadata": {},
     "output_type": "execute_result"
    }
   ],
   "source": [
    "hotels['tags_count'].value_counts()"
   ]
  },
  {
   "cell_type": "code",
   "execution_count": 158,
   "metadata": {},
   "outputs": [
    {
     "name": "stderr",
     "output_type": "stream",
     "text": [
      "C:\\Users\\trigubov\\AppData\\Local\\Temp\\ipykernel_17244\\3511597507.py:1: FutureWarning: The default value of regex will change from True to False in a future version. In addition, single character regular expressions will *not* be treated as literal strings when regex=True.\n",
      "  tags = hotels['tags'].str.lower().str.replace('[','').str.replace(']','').str.replace('\"','').str.replace(\"'\",'').str.replace(' ','').str.split(',')\n"
     ]
    },
    {
     "data": {
      "text/plain": [
       "0         [leisuretrip, couple, studiosuite, stayed2nigh...\n",
       "1         [businesstrip, couple, standarddoubleroom, sta...\n",
       "2         [leisuretrip, solotraveler, moderndoubleroomec...\n",
       "3         [leisuretrip, solotraveler, standardroomwith1d...\n",
       "4         [businesstrip, couple, standarddoubleortwinroo...\n",
       "                                ...                        \n",
       "386798    [leisuretrip, group, clubdoubleortwinroom, sta...\n",
       "386799    [leisuretrip, couple, standarddoubleroom, stay...\n",
       "386800    [businesstrip, solotraveler, singleroom, staye...\n",
       "386801    [leisuretrip, solotraveler, deluxedoubleroom, ...\n",
       "386802    [leisuretrip, couple, bunkbedroom, stayed4nights]\n",
       "Name: tags, Length: 386803, dtype: object"
      ]
     },
     "execution_count": 158,
     "metadata": {},
     "output_type": "execute_result"
    }
   ],
   "source": [
    "tags = hotels['tags'].str.lower().str.replace('[','').str.replace(']','').str.replace('\"','').str.replace(\"'\",'').str.replace(' ','').str.split(',')\n",
    "hotels['tags'] = tags\n",
    "hotels['tags']\n"
   ]
  },
  {
   "cell_type": "code",
   "execution_count": 153,
   "metadata": {},
   "outputs": [
    {
     "data": {
      "text/plain": [
       "Index(['leisuretrip', 'submittedfromamobiledevice', 'couple', 'stayed1night',\n",
       "       'stayed2nights', 'solotraveler', 'stayed3nights', 'businesstrip',\n",
       "       'group', 'familywithyoungchildren', 'stayed4nights', 'doubleroom',\n",
       "       'standarddoubleroom', 'superiordoubleroom', 'familywitholderchildren',\n",
       "       'deluxedoubleroom', 'doubleortwinroom', 'stayed5nights',\n",
       "       'standarddoubleortwinroom', 'classicdoubleroom',\n",
       "       'superiordoubleortwinroom', '2rooms', 'stayed6nights',\n",
       "       'standardtwinroom', 'singleroom', 'twinroom', 'stayed7nights',\n",
       "       'executivedoubleroom', 'classicdoubleortwinroom', 'superiortwinroom'],\n",
       "      dtype='object')"
      ]
     },
     "execution_count": 153,
     "metadata": {},
     "output_type": "execute_result"
    }
   ],
   "source": [
    "# выделим 30 наиболее часто встречающизся тегов\n",
    "tag_top30=tag.value_counts().nlargest(30).index\n",
    "tag_top30"
   ]
  },
  {
   "attachments": {},
   "cell_type": "markdown",
   "metadata": {},
   "source": [
    "Делать 30 лишних бинарных столбцов"
   ]
  },
  {
   "cell_type": "code",
   "execution_count": 160,
   "metadata": {},
   "outputs": [
    {
     "name": "stdout",
     "output_type": "stream",
     "text": [
      "<class 'pandas.core.frame.DataFrame'>\n",
      "RangeIndex: 386803 entries, 0 to 386802\n",
      "Data columns (total 40 columns):\n",
      " #   Column                                      Non-Null Count   Dtype   \n",
      "---  ------                                      --------------   -----   \n",
      " 0   average_score                               386803 non-null  float64 \n",
      " 1   reviewer_nationality                        386803 non-null  category\n",
      " 2   total_number_of_reviews                     386803 non-null  int64   \n",
      " 3   total_number_of_reviews_reviewer_has_given  386803 non-null  int64   \n",
      " 4   reviewer_score                              386803 non-null  float64 \n",
      " 5   tags                                        386803 non-null  object  \n",
      " 6   review_word_counts_related                  386803 non-null  int64   \n",
      " 7   review_word_counts_related_divide           386803 non-null  float64 \n",
      " 8   review_month                                386803 non-null  int64   \n",
      " 9   tags_count                                  386803 non-null  int64   \n",
      " 10  tag_leisuretrip                             386803 non-null  int64   \n",
      " 11  tag_submittedfromamobiledevice              386803 non-null  int64   \n",
      " 12  tag_couple                                  386803 non-null  int64   \n",
      " 13  tag_stayed1night                            386803 non-null  int64   \n",
      " 14  tag_stayed2nights                           386803 non-null  int64   \n",
      " 15  tag_solotraveler                            386803 non-null  int64   \n",
      " 16  tag_stayed3nights                           386803 non-null  int64   \n",
      " 17  tag_businesstrip                            386803 non-null  int64   \n",
      " 18  tag_group                                   386803 non-null  int64   \n",
      " 19  tag_familywithyoungchildren                 386803 non-null  int64   \n",
      " 20  tag_stayed4nights                           386803 non-null  int64   \n",
      " 21  tag_doubleroom                              386803 non-null  int64   \n",
      " 22  tag_standarddoubleroom                      386803 non-null  int64   \n",
      " 23  tag_superiordoubleroom                      386803 non-null  int64   \n",
      " 24  tag_familywitholderchildren                 386803 non-null  int64   \n",
      " 25  tag_deluxedoubleroom                        386803 non-null  int64   \n",
      " 26  tag_doubleortwinroom                        386803 non-null  int64   \n",
      " 27  tag_stayed5nights                           386803 non-null  int64   \n",
      " 28  tag_standarddoubleortwinroom                386803 non-null  int64   \n",
      " 29  tag_classicdoubleroom                       386803 non-null  int64   \n",
      " 30  tag_superiordoubleortwinroom                386803 non-null  int64   \n",
      " 31  tag_2rooms                                  386803 non-null  int64   \n",
      " 32  tag_stayed6nights                           386803 non-null  int64   \n",
      " 33  tag_standardtwinroom                        386803 non-null  int64   \n",
      " 34  tag_singleroom                              386803 non-null  int64   \n",
      " 35  tag_twinroom                                386803 non-null  int64   \n",
      " 36  tag_stayed7nights                           386803 non-null  int64   \n",
      " 37  tag_executivedoubleroom                     386803 non-null  int64   \n",
      " 38  tag_classicdoubleortwinroom                 386803 non-null  int64   \n",
      " 39  tag_superiortwinroom                        386803 non-null  int64   \n",
      "dtypes: category(1), float64(3), int64(35), object(1)\n",
      "memory usage: 115.5+ MB\n"
     ]
    }
   ],
   "source": [
    "for i in tag_top30:\n",
    "    name = 'tag_' + i\n",
    "    hotels[name] = hotels['tags'].apply(lambda x: 1 if i in x else 0)\n",
    "\n",
    "hotels.info()\n"
   ]
  },
  {
   "cell_type": "code",
   "execution_count": 155,
   "metadata": {},
   "outputs": [
    {
     "data": {
      "text/html": [
       "<div>\n",
       "<style scoped>\n",
       "    .dataframe tbody tr th:only-of-type {\n",
       "        vertical-align: middle;\n",
       "    }\n",
       "\n",
       "    .dataframe tbody tr th {\n",
       "        vertical-align: top;\n",
       "    }\n",
       "\n",
       "    .dataframe thead th {\n",
       "        text-align: right;\n",
       "    }\n",
       "</style>\n",
       "<table border=\"1\" class=\"dataframe\">\n",
       "  <thead>\n",
       "    <tr style=\"text-align: right;\">\n",
       "      <th></th>\n",
       "      <th>average_score</th>\n",
       "      <th>reviewer_nationality</th>\n",
       "      <th>total_number_of_reviews</th>\n",
       "      <th>total_number_of_reviews_reviewer_has_given</th>\n",
       "      <th>reviewer_score</th>\n",
       "      <th>tags</th>\n",
       "      <th>review_word_counts_related</th>\n",
       "      <th>review_word_counts_related_divide</th>\n",
       "      <th>review_month</th>\n",
       "      <th>tags_count</th>\n",
       "    </tr>\n",
       "  </thead>\n",
       "  <tbody>\n",
       "    <tr>\n",
       "      <th>0</th>\n",
       "      <td>8.4</td>\n",
       "      <td>United Kingdom</td>\n",
       "      <td>1994</td>\n",
       "      <td>7</td>\n",
       "      <td>10.0</td>\n",
       "      <td>[' Leisure trip ', ' Couple ', ' Studio Suite ...</td>\n",
       "      <td>1</td>\n",
       "      <td>1.250000</td>\n",
       "      <td>2</td>\n",
       "      <td>4</td>\n",
       "    </tr>\n",
       "    <tr>\n",
       "      <th>1</th>\n",
       "      <td>8.3</td>\n",
       "      <td>United Kingdom</td>\n",
       "      <td>1361</td>\n",
       "      <td>14</td>\n",
       "      <td>6.3</td>\n",
       "      <td>[' Business trip ', ' Couple ', ' Standard Dou...</td>\n",
       "      <td>-1</td>\n",
       "      <td>0.750000</td>\n",
       "      <td>1</td>\n",
       "      <td>3</td>\n",
       "    </tr>\n",
       "    <tr>\n",
       "      <th>2</th>\n",
       "      <td>8.9</td>\n",
       "      <td>China</td>\n",
       "      <td>406</td>\n",
       "      <td>14</td>\n",
       "      <td>7.5</td>\n",
       "      <td>[' Leisure trip ', ' Solo traveler ', ' Modern...</td>\n",
       "      <td>-6</td>\n",
       "      <td>0.142857</td>\n",
       "      <td>10</td>\n",
       "      <td>4</td>\n",
       "    </tr>\n",
       "    <tr>\n",
       "      <th>3</th>\n",
       "      <td>7.5</td>\n",
       "      <td>United Kingdom</td>\n",
       "      <td>607</td>\n",
       "      <td>8</td>\n",
       "      <td>10.0</td>\n",
       "      <td>[' Leisure trip ', ' Solo traveler ', ' Standa...</td>\n",
       "      <td>11</td>\n",
       "      <td>12.000000</td>\n",
       "      <td>9</td>\n",
       "      <td>3</td>\n",
       "    </tr>\n",
       "    <tr>\n",
       "      <th>4</th>\n",
       "      <td>8.5</td>\n",
       "      <td>Poland</td>\n",
       "      <td>7586</td>\n",
       "      <td>10</td>\n",
       "      <td>9.6</td>\n",
       "      <td>[' Business trip ', ' Couple ', ' Standard Dou...</td>\n",
       "      <td>16</td>\n",
       "      <td>4.200000</td>\n",
       "      <td>3</td>\n",
       "      <td>3</td>\n",
       "    </tr>\n",
       "    <tr>\n",
       "      <th>...</th>\n",
       "      <td>...</td>\n",
       "      <td>...</td>\n",
       "      <td>...</td>\n",
       "      <td>...</td>\n",
       "      <td>...</td>\n",
       "      <td>...</td>\n",
       "      <td>...</td>\n",
       "      <td>...</td>\n",
       "      <td>...</td>\n",
       "      <td>...</td>\n",
       "    </tr>\n",
       "    <tr>\n",
       "      <th>386798</th>\n",
       "      <td>9.0</td>\n",
       "      <td>France</td>\n",
       "      <td>617</td>\n",
       "      <td>10</td>\n",
       "      <td>8.8</td>\n",
       "      <td>[' Leisure trip ', ' Group ', ' Club Double or...</td>\n",
       "      <td>10</td>\n",
       "      <td>11.000000</td>\n",
       "      <td>4</td>\n",
       "      <td>4</td>\n",
       "    </tr>\n",
       "    <tr>\n",
       "      <th>386799</th>\n",
       "      <td>8.4</td>\n",
       "      <td>Turkey</td>\n",
       "      <td>3224</td>\n",
       "      <td>1</td>\n",
       "      <td>9.2</td>\n",
       "      <td>[' Leisure trip ', ' Couple ', ' Standard Doub...</td>\n",
       "      <td>93</td>\n",
       "      <td>94.000000</td>\n",
       "      <td>2</td>\n",
       "      <td>4</td>\n",
       "    </tr>\n",
       "    <tr>\n",
       "      <th>386800</th>\n",
       "      <td>6.8</td>\n",
       "      <td>Netherlands</td>\n",
       "      <td>2751</td>\n",
       "      <td>21</td>\n",
       "      <td>8.3</td>\n",
       "      <td>[' Business trip ', ' Solo traveler ', ' Singl...</td>\n",
       "      <td>-3</td>\n",
       "      <td>0.769231</td>\n",
       "      <td>2</td>\n",
       "      <td>3</td>\n",
       "    </tr>\n",
       "    <tr>\n",
       "      <th>386801</th>\n",
       "      <td>8.1</td>\n",
       "      <td>United Arab Emirates</td>\n",
       "      <td>1567</td>\n",
       "      <td>28</td>\n",
       "      <td>9.2</td>\n",
       "      <td>[' Leisure trip ', ' Solo traveler ', ' Deluxe...</td>\n",
       "      <td>6</td>\n",
       "      <td>7.000000</td>\n",
       "      <td>5</td>\n",
       "      <td>3</td>\n",
       "    </tr>\n",
       "    <tr>\n",
       "      <th>386802</th>\n",
       "      <td>9.0</td>\n",
       "      <td>Australia</td>\n",
       "      <td>1209</td>\n",
       "      <td>2</td>\n",
       "      <td>8.8</td>\n",
       "      <td>[' Leisure trip ', ' Couple ', ' Bunk Bed Room...</td>\n",
       "      <td>0</td>\n",
       "      <td>1.000000</td>\n",
       "      <td>8</td>\n",
       "      <td>3</td>\n",
       "    </tr>\n",
       "  </tbody>\n",
       "</table>\n",
       "<p>386803 rows × 10 columns</p>\n",
       "</div>"
      ],
      "text/plain": [
       "        average_score    reviewer_nationality  total_number_of_reviews  \\\n",
       "0                 8.4         United Kingdom                      1994   \n",
       "1                 8.3         United Kingdom                      1361   \n",
       "2                 8.9                  China                       406   \n",
       "3                 7.5         United Kingdom                       607   \n",
       "4                 8.5                 Poland                      7586   \n",
       "...               ...                     ...                      ...   \n",
       "386798            9.0                 France                       617   \n",
       "386799            8.4                 Turkey                      3224   \n",
       "386800            6.8            Netherlands                      2751   \n",
       "386801            8.1   United Arab Emirates                      1567   \n",
       "386802            9.0              Australia                      1209   \n",
       "\n",
       "        total_number_of_reviews_reviewer_has_given  reviewer_score  \\\n",
       "0                                                7            10.0   \n",
       "1                                               14             6.3   \n",
       "2                                               14             7.5   \n",
       "3                                                8            10.0   \n",
       "4                                               10             9.6   \n",
       "...                                            ...             ...   \n",
       "386798                                          10             8.8   \n",
       "386799                                           1             9.2   \n",
       "386800                                          21             8.3   \n",
       "386801                                          28             9.2   \n",
       "386802                                           2             8.8   \n",
       "\n",
       "                                                     tags  \\\n",
       "0       [' Leisure trip ', ' Couple ', ' Studio Suite ...   \n",
       "1       [' Business trip ', ' Couple ', ' Standard Dou...   \n",
       "2       [' Leisure trip ', ' Solo traveler ', ' Modern...   \n",
       "3       [' Leisure trip ', ' Solo traveler ', ' Standa...   \n",
       "4       [' Business trip ', ' Couple ', ' Standard Dou...   \n",
       "...                                                   ...   \n",
       "386798  [' Leisure trip ', ' Group ', ' Club Double or...   \n",
       "386799  [' Leisure trip ', ' Couple ', ' Standard Doub...   \n",
       "386800  [' Business trip ', ' Solo traveler ', ' Singl...   \n",
       "386801  [' Leisure trip ', ' Solo traveler ', ' Deluxe...   \n",
       "386802  [' Leisure trip ', ' Couple ', ' Bunk Bed Room...   \n",
       "\n",
       "        review_word_counts_related  review_word_counts_related_divide  \\\n",
       "0                                1                           1.250000   \n",
       "1                               -1                           0.750000   \n",
       "2                               -6                           0.142857   \n",
       "3                               11                          12.000000   \n",
       "4                               16                           4.200000   \n",
       "...                            ...                                ...   \n",
       "386798                          10                          11.000000   \n",
       "386799                          93                          94.000000   \n",
       "386800                          -3                           0.769231   \n",
       "386801                           6                           7.000000   \n",
       "386802                           0                           1.000000   \n",
       "\n",
       "        review_month  tags_count  \n",
       "0                  2           4  \n",
       "1                  1           3  \n",
       "2                 10           4  \n",
       "3                  9           3  \n",
       "4                  3           3  \n",
       "...              ...         ...  \n",
       "386798             4           4  \n",
       "386799             2           4  \n",
       "386800             2           3  \n",
       "386801             5           3  \n",
       "386802             8           3  \n",
       "\n",
       "[386803 rows x 10 columns]"
      ]
     },
     "execution_count": 155,
     "metadata": {},
     "output_type": "execute_result"
    }
   ],
   "source": [
    "hotels"
   ]
  },
  {
   "cell_type": "code",
   "execution_count": null,
   "metadata": {},
   "outputs": [],
   "source": [
    "# непрерывные признаки\n",
    "num_cols = ['total_number_of_reviews', 'review_total_negative_word_counts', 'review_total_positive_word_counts']"
   ]
  },
  {
   "cell_type": "code",
   "execution_count": 178,
   "metadata": {},
   "outputs": [
    {
     "name": "stdout",
     "output_type": "stream",
     "text": [
      "<class 'pandas.core.frame.DataFrame'>\n",
      "RangeIndex: 386803 entries, 0 to 386802\n",
      "Data columns (total 19 columns):\n",
      " #   Column                                      Non-Null Count   Dtype  \n",
      "---  ------                                      --------------   -----  \n",
      " 0   hotel_address                               386803 non-null  object \n",
      " 1   additional_number_of_scoring                386803 non-null  int64  \n",
      " 2   review_date                                 386803 non-null  object \n",
      " 3   average_score                               386803 non-null  float64\n",
      " 4   hotel_name                                  386803 non-null  object \n",
      " 5   reviewer_nationality                        386803 non-null  object \n",
      " 6   negative_review                             386803 non-null  object \n",
      " 7   review_total_negative_word_counts           386803 non-null  int64  \n",
      " 8   total_number_of_reviews                     386803 non-null  int64  \n",
      " 9   positive_review                             386803 non-null  object \n",
      " 10  review_total_positive_word_counts           386803 non-null  int64  \n",
      " 11  total_number_of_reviews_reviewer_has_given  386803 non-null  int64  \n",
      " 12  reviewer_score                              386803 non-null  float64\n",
      " 13  tags                                        386803 non-null  object \n",
      " 14  days_since_review                           386803 non-null  object \n",
      " 15  lat                                         384355 non-null  float64\n",
      " 16  lng                                         384355 non-null  float64\n",
      " 17  review_word_counts_related                  386803 non-null  int64  \n",
      " 18  review_word_counts_related_divide           386803 non-null  float64\n",
      "dtypes: float64(5), int64(6), object(8)\n",
      "memory usage: 56.1+ MB\n"
     ]
    }
   ],
   "source": [
    "hotels.info()"
   ]
  }
 ],
 "metadata": {
  "kernelspec": {
   "display_name": "Python 3",
   "language": "python",
   "name": "python3"
  },
  "language_info": {
   "codemirror_mode": {
    "name": "ipython",
    "version": 3
   },
   "file_extension": ".py",
   "mimetype": "text/x-python",
   "name": "python",
   "nbconvert_exporter": "python",
   "pygments_lexer": "ipython3",
   "version": "3.11.0"
  },
  "orig_nbformat": 4
 },
 "nbformat": 4,
 "nbformat_minor": 2
}
