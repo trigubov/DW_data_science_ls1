{
 "cells": [
  {
   "cell_type": "code",
   "execution_count": 7,
   "metadata": {},
   "outputs": [],
   "source": [
    "#!pip install sweetviz"
   ]
  },
  {
   "attachments": {},
   "cell_type": "markdown",
   "metadata": {},
   "source": [
    "## SWEETVIZ"
   ]
  },
  {
   "cell_type": "code",
   "execution_count": 1,
   "metadata": {},
   "outputs": [],
   "source": [
    "import pandas as pd\n",
    "import sweetviz as sv\n",
    "\n",
    "df = pd.read_csv('wine.csv')"
   ]
  },
  {
   "cell_type": "code",
   "execution_count": 2,
   "metadata": {},
   "outputs": [
    {
     "name": "stderr",
     "output_type": "stream",
     "text": [
      "c:\\Users\\trigubov\\AppData\\Local\\Programs\\Python\\Python311\\Lib\\site-packages\\sweetviz\\dataframe_report.py:74: FutureWarning: iteritems is deprecated and will be removed in a future version. Use .items instead.\n",
      "  all_source_names = [cur_name for cur_name, cur_series in source_df.iteritems()]\n",
      "c:\\Users\\trigubov\\AppData\\Local\\Programs\\Python\\Python311\\Lib\\site-packages\\sweetviz\\dataframe_report.py:109: FutureWarning: iteritems is deprecated and will be removed in a future version. Use .items instead.\n",
      "  filtered_series_names_in_source = [cur_name for cur_name, cur_series in source_df.iteritems()\n"
     ]
    },
    {
     "data": {
      "application/vnd.jupyter.widget-view+json": {
       "model_id": "ecb04810131d476ba940512a38b0a6e0",
       "version_major": 2,
       "version_minor": 0
      },
      "text/plain": [
       "                                             |          | [  0%]   00:00 -> (? left)"
      ]
     },
     "metadata": {},
     "output_type": "display_data"
    },
    {
     "name": "stderr",
     "output_type": "stream",
     "text": [
      "c:\\Users\\trigubov\\AppData\\Local\\Programs\\Python\\Python311\\Lib\\site-packages\\sweetviz\\series_analyzer_cat.py:28: FutureWarning: iteritems is deprecated and will be removed in a future version. Use .items instead.\n",
      "  for item in category_counts.iteritems():\n",
      "c:\\Users\\trigubov\\AppData\\Local\\Programs\\Python\\Python311\\Lib\\site-packages\\sweetviz\\series_analyzer_text.py:19: FutureWarning: iteritems is deprecated and will be removed in a future version. Use .items instead.\n",
      "  for item in to_process.source_counts[\"value_counts_without_nan\"].iteritems():\n",
      "c:\\Users\\trigubov\\AppData\\Local\\Programs\\Python\\Python311\\Lib\\site-packages\\sweetviz\\series_analyzer_text.py:19: FutureWarning: iteritems is deprecated and will be removed in a future version. Use .items instead.\n",
      "  for item in to_process.source_counts[\"value_counts_without_nan\"].iteritems():\n",
      "c:\\Users\\trigubov\\AppData\\Local\\Programs\\Python\\Python311\\Lib\\site-packages\\sweetviz\\series_analyzer_numeric.py:25: FutureWarning: The 'mad' method is deprecated and will be removed in a future version. To compute the same result, you may do `(df - df.mean()).abs().mean()`.\n",
      "  stats[\"mad\"] = series.mad()\n",
      "c:\\Users\\trigubov\\AppData\\Local\\Programs\\Python\\Python311\\Lib\\site-packages\\sweetviz\\series_analyzer_numeric.py:25: FutureWarning: The 'mad' method is deprecated and will be removed in a future version. To compute the same result, you may do `(df - df.mean()).abs().mean()`.\n",
      "  stats[\"mad\"] = series.mad()\n",
      "c:\\Users\\trigubov\\AppData\\Local\\Programs\\Python\\Python311\\Lib\\site-packages\\sweetviz\\series_analyzer_text.py:19: FutureWarning: iteritems is deprecated and will be removed in a future version. Use .items instead.\n",
      "  for item in to_process.source_counts[\"value_counts_without_nan\"].iteritems():\n",
      "c:\\Users\\trigubov\\AppData\\Local\\Programs\\Python\\Python311\\Lib\\site-packages\\sweetviz\\series_analyzer_text.py:19: FutureWarning: iteritems is deprecated and will be removed in a future version. Use .items instead.\n",
      "  for item in to_process.source_counts[\"value_counts_without_nan\"].iteritems():\n",
      "c:\\Users\\trigubov\\AppData\\Local\\Programs\\Python\\Python311\\Lib\\site-packages\\sweetviz\\series_analyzer_cat.py:28: FutureWarning: iteritems is deprecated and will be removed in a future version. Use .items instead.\n",
      "  for item in category_counts.iteritems():\n",
      "c:\\Users\\trigubov\\AppData\\Local\\Programs\\Python\\Python311\\Lib\\site-packages\\sweetviz\\series_analyzer_cat.py:28: FutureWarning: iteritems is deprecated and will be removed in a future version. Use .items instead.\n",
      "  for item in category_counts.iteritems():\n",
      "c:\\Users\\trigubov\\AppData\\Local\\Programs\\Python\\Python311\\Lib\\site-packages\\sweetviz\\series_analyzer_cat.py:28: FutureWarning: iteritems is deprecated and will be removed in a future version. Use .items instead.\n",
      "  for item in category_counts.iteritems():\n",
      "c:\\Users\\trigubov\\AppData\\Local\\Programs\\Python\\Python311\\Lib\\site-packages\\sweetviz\\series_analyzer_text.py:19: FutureWarning: iteritems is deprecated and will be removed in a future version. Use .items instead.\n",
      "  for item in to_process.source_counts[\"value_counts_without_nan\"].iteritems():\n",
      "c:\\Users\\trigubov\\AppData\\Local\\Programs\\Python\\Python311\\Lib\\site-packages\\sweetviz\\series_analyzer_text.py:19: FutureWarning: iteritems is deprecated and will be removed in a future version. Use .items instead.\n",
      "  for item in to_process.source_counts[\"value_counts_without_nan\"].iteritems():\n",
      "c:\\Users\\trigubov\\AppData\\Local\\Programs\\Python\\Python311\\Lib\\site-packages\\sweetviz\\series_analyzer_text.py:19: FutureWarning: iteritems is deprecated and will be removed in a future version. Use .items instead.\n",
      "  for item in to_process.source_counts[\"value_counts_without_nan\"].iteritems():\n"
     ]
    },
    {
     "name": "stdout",
     "output_type": "stream",
     "text": [
      "Report SWEETVIZ_REPORT.html was generated! NOTEBOOK/COLAB USERS: the web browser MAY not pop up, regardless, the report IS saved in your notebook/colab files.\n"
     ]
    }
   ],
   "source": [
    "report = sv.analyze(df)\n",
    "report.show_html()"
   ]
  }
 ],
 "metadata": {
  "kernelspec": {
   "display_name": "Python 3",
   "language": "python",
   "name": "python3"
  },
  "language_info": {
   "codemirror_mode": {
    "name": "ipython",
    "version": 3
   },
   "file_extension": ".py",
   "mimetype": "text/x-python",
   "name": "python",
   "nbconvert_exporter": "python",
   "pygments_lexer": "ipython3",
   "version": "3.11.0"
  },
  "orig_nbformat": 4,
  "vscode": {
   "interpreter": {
    "hash": "a3928f246a083475ced1efabd59546987b0916536de4a1f794c4949e18b9c171"
   }
  }
 },
 "nbformat": 4,
 "nbformat_minor": 2
}
