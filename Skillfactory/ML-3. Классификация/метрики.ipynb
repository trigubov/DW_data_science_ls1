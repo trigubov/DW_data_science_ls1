{
 "cells": [
  {
   "cell_type": "code",
   "execution_count": 2,
   "metadata": {},
   "outputs": [],
   "source": [
    "TP = 15-9\n",
    "TN = 20-6\n",
    "FP = 9\n",
    "FN = 6"
   ]
  },
  {
   "attachments": {},
   "cell_type": "markdown",
   "metadata": {},
   "source": [
    "В процессе решения задачи классификации мы имеем следующую нулевую и альтернативную ей гипотезы:\n",
    "\n",
    "H0: y=0 — растение здоровое;<br>\n",
    "H1: y=1 — растение больное.<br>\n",
    "При этом ошибки I и II рода будут иметь следующие формулировки:\n",
    "\n",
    "Ошибка I рода — принять здоровое растение за больное, опрыскать его химикатами и убить здоровое растение (ложноположительное срабатывание, FP);<br>\n",
    "Ошибка II рода — принять больное растение за здоровое и пройти мимо него (ложноотрицательное срабатывание FN).<br>"
   ]
  },
  {
   "cell_type": "code",
   "execution_count": 3,
   "metadata": {},
   "outputs": [],
   "source": [
    "# y0 = не спам\n",
    "# y1 = спам\n",
    "\n",
    "accuracy = (TP + TN) / (TP + TN + FP + FN) # Доля правильных ответов среди всех ответов модели. \n",
    "precision = TP / (TP + FP) # Способность модели отделять класс 1 от класса 0. Т.е. как много предсказанных 1, на самом деле 1\n",
    "# 1=минимальное количество ложноположительных срабатываний модели. не принимать y0 за y1\n",
    "\n",
    "recall = TP / (TP + FN) # Способность модели находить класс 1 среди реальных 1.  1=уменьшить количество ложноотрицательных срабатываний.  найти как можно больше y1, не пропускать y1 в y0\n",
    "f1 = 2 * (precision * recall) / (precision + recall) # нет интерпретации"
   ]
  },
  {
   "cell_type": "code",
   "execution_count": 4,
   "metadata": {},
   "outputs": [
    {
     "name": "stdout",
     "output_type": "stream",
     "text": [
      "accuracy= 0.57\n",
      "precision= 0.4\n",
      "recall= 0.5\n",
      "f1= 0.4444444444444445\n"
     ]
    }
   ],
   "source": [
    "print ('accuracy=',round(accuracy,2))\n",
    "print ('precision=',precision)\n",
    "print ('recall=',recall)\n",
    "print ('f1=',f1)"
   ]
  },
  {
   "cell_type": "code",
   "execution_count": 10,
   "metadata": {},
   "outputs": [
    {
     "name": "stdout",
     "output_type": "stream",
     "text": [
      "RMSE score: 5.746 thou. $\n"
     ]
    }
   ],
   "source": [
    "#Рассчитываем RMSE\n",
    "import numpy as np\n",
    "import sklearn.metrics as metrics\n",
    "print('RMSE score: {:.3f} thou. $'.format(round(np.sqrt(metrics.mean_squared_error([1.23, 2.35, 2.75], [1.01, 12.3, 2.74])),4)))"
   ]
  }
 ],
 "metadata": {
  "kernelspec": {
   "display_name": "Python 3",
   "language": "python",
   "name": "python3"
  },
  "language_info": {
   "codemirror_mode": {
    "name": "ipython",
    "version": 3
   },
   "file_extension": ".py",
   "mimetype": "text/x-python",
   "name": "python",
   "nbconvert_exporter": "python",
   "pygments_lexer": "ipython3",
   "version": "3.11.0"
  },
  "orig_nbformat": 4
 },
 "nbformat": 4,
 "nbformat_minor": 2
}
