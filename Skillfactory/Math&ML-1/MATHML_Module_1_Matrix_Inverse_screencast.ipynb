{
  "cells": [
    {
      "cell_type": "code",
      "execution_count": 18,
      "metadata": {
        "collapsed": true
      },
      "outputs": [],
      "source": [
        "import numpy as np"
      ]
    },
    {
      "cell_type": "code",
      "execution_count": 19,
      "metadata": {
        "collapsed": false
      },
      "outputs": [
        {
          "name": "stdout",
          "output_type": "stream",
          "text": [
            "A1:\n",
            " [[ 1  2  3]\n",
            " [ 4  5  6]\n",
            " [ 7  8 10]]\n"
          ]
        }
      ],
      "source": [
        "# обратная матрица - все ок\n",
        "A1=np.array([[1,2,3],[4,5,6],[7,8,10]])\n",
        "print('A1:\\n',A1)"
      ]
    },
    {
      "cell_type": "code",
      "execution_count": 20,
      "metadata": {
        "collapsed": false
      },
      "outputs": [
        {
          "name": "stdout",
          "output_type": "stream",
          "text": [
            "rk(A3):\n",
            " 3\n"
          ]
        }
      ],
      "source": [
        "print('rk(A3):\\n',np.linalg.matrix_rank(A1))"
      ]
    },
    {
      "cell_type": "code",
      "execution_count": 21,
      "metadata": {
        "collapsed": false
      },
      "outputs": [
        {
          "name": "stdout",
          "output_type": "stream",
          "text": [
            "A1 inversed:\n",
            " [[-0.66666667 -1.33333333  1.        ]\n",
            " [-0.66666667  3.66666667 -2.        ]\n",
            " [ 1.         -2.          1.        ]]\n"
          ]
        }
      ],
      "source": [
        "# обратная матрица - все ок\n",
        "A1_inv=np.linalg.inv(A1)\n",
        "print('A1 inversed:\\n',A1_inv)\n"
      ]
    },
    {
      "cell_type": "code",
      "execution_count": 22,
      "metadata": {
        "collapsed": false
      },
      "outputs": [
        {
          "name": "stdout",
          "output_type": "stream",
          "text": [
            "A1 @ A1 inversed=E check:\n",
            " [[1.00000000e+00 0.00000000e+00 1.11022302e-16]\n",
            " [0.00000000e+00 1.00000000e+00 2.22044605e-16]\n",
            " [8.88178420e-16 0.00000000e+00 1.00000000e+00]] 1\n",
            "[[1. 0. 0.]\n",
            " [0. 1. 0.]\n",
            " [0. 0. 1.]]\n",
            "check OK\n"
          ]
        }
      ],
      "source": [
        "# обратная матрица - все ок\n",
        "print('A1 @ A1 inversed=E check:\\n',A1@A1_inv,1)\n",
        "print(np.round(A1@A1_inv,1))\n",
        "print('check OK')"
      ]
    },
    {
      "cell_type": "code",
      "execution_count": 10,
      "metadata": {
        "collapsed": false
      },
      "outputs": [
        {
          "name": "stdout",
          "output_type": "stream",
          "text": [
            "A2:\n",
            " [[1 2 3]\n",
            " [4 5 6]\n",
            " [1 2 3]]\n"
          ]
        }
      ],
      "source": [
        "# обратная матрица - вырожденный случай\n",
        "A2=np.array([[1,2,3],[4,5,6],[1,2,3]])\n",
        "print('A2:\\n',A2)"
      ]
    },
    {
      "cell_type": "code",
      "execution_count": 23,
      "metadata": {
        "collapsed": false
      },
      "outputs": [
        {
          "name": "stdout",
          "output_type": "stream",
          "text": [
            "rk(A3):\n",
            " 2\n"
          ]
        }
      ],
      "source": [
        "# обратная матрица - вырожденный случай\n",
        "print('rk(A3):\\n',np.linalg.matrix_rank(A2))"
      ]
    },
    {
      "cell_type": "code",
      "execution_count": 12,
      "metadata": {
        "collapsed": false
      },
      "outputs": [
        {
          "ename": "LinAlgError",
          "evalue": "Singular matrix",
          "output_type": "error",
          "traceback": [
            "\u001b[1;31m---------------------------------------------------------------------------\u001b[0m",
            "\u001b[1;31mLinAlgError\u001b[0m                               Traceback (most recent call last)",
            "\u001b[1;32mc:\\IDE\\Skillfactory\\Math&ML-1\\MATHML_Module_1_Matrix_Inverse_screencast.ipynb Cell 8\u001b[0m line \u001b[0;36m2\n\u001b[0;32m      <a href='vscode-notebook-cell:/c%3A/IDE/Skillfactory/Math%26ML-1/MATHML_Module_1_Matrix_Inverse_screencast.ipynb#X10sZmlsZQ%3D%3D?line=0'>1</a>\u001b[0m \u001b[39m# обратная матрица - вырожденный случай\u001b[39;00m\n\u001b[1;32m----> <a href='vscode-notebook-cell:/c%3A/IDE/Skillfactory/Math%26ML-1/MATHML_Module_1_Matrix_Inverse_screencast.ipynb#X10sZmlsZQ%3D%3D?line=1'>2</a>\u001b[0m np\u001b[39m.\u001b[39;49mlinalg\u001b[39m.\u001b[39;49minv(A2)\n",
            "File \u001b[1;32m<__array_function__ internals>:180\u001b[0m, in \u001b[0;36minv\u001b[1;34m(*args, **kwargs)\u001b[0m\n",
            "File \u001b[1;32mc:\\Users\\trigubov\\AppData\\Local\\Programs\\Python\\Python311\\Lib\\site-packages\\numpy\\linalg\\linalg.py:552\u001b[0m, in \u001b[0;36minv\u001b[1;34m(a)\u001b[0m\n\u001b[0;32m    550\u001b[0m signature \u001b[39m=\u001b[39m \u001b[39m'\u001b[39m\u001b[39mD->D\u001b[39m\u001b[39m'\u001b[39m \u001b[39mif\u001b[39;00m isComplexType(t) \u001b[39melse\u001b[39;00m \u001b[39m'\u001b[39m\u001b[39md->d\u001b[39m\u001b[39m'\u001b[39m\n\u001b[0;32m    551\u001b[0m extobj \u001b[39m=\u001b[39m get_linalg_error_extobj(_raise_linalgerror_singular)\n\u001b[1;32m--> 552\u001b[0m ainv \u001b[39m=\u001b[39m _umath_linalg\u001b[39m.\u001b[39;49minv(a, signature\u001b[39m=\u001b[39;49msignature, extobj\u001b[39m=\u001b[39;49mextobj)\n\u001b[0;32m    553\u001b[0m \u001b[39mreturn\u001b[39;00m wrap(ainv\u001b[39m.\u001b[39mastype(result_t, copy\u001b[39m=\u001b[39m\u001b[39mFalse\u001b[39;00m))\n",
            "File \u001b[1;32mc:\\Users\\trigubov\\AppData\\Local\\Programs\\Python\\Python311\\Lib\\site-packages\\numpy\\linalg\\linalg.py:89\u001b[0m, in \u001b[0;36m_raise_linalgerror_singular\u001b[1;34m(err, flag)\u001b[0m\n\u001b[0;32m     88\u001b[0m \u001b[39mdef\u001b[39;00m \u001b[39m_raise_linalgerror_singular\u001b[39m(err, flag):\n\u001b[1;32m---> 89\u001b[0m     \u001b[39mraise\u001b[39;00m LinAlgError(\u001b[39m\"\u001b[39m\u001b[39mSingular matrix\u001b[39m\u001b[39m\"\u001b[39m)\n",
            "\u001b[1;31mLinAlgError\u001b[0m: Singular matrix"
          ]
        }
      ],
      "source": [
        "# обратная матрица - вырожденный случай\n",
        "np.linalg.inv(A2)"
      ]
    },
    {
      "cell_type": "code",
      "execution_count": 24,
      "metadata": {
        "collapsed": false
      },
      "outputs": [
        {
          "name": "stdout",
          "output_type": "stream",
          "text": [
            "A3:\n",
            " [[1 2 3]\n",
            " [4 5 6]\n",
            " [7 8 9]]\n"
          ]
        }
      ],
      "source": [
        "# обратная матрица - magic\n",
        "A3=np.array([[1,2,3],[4,5,6],[7,8,9]])\n",
        "print('A3:\\n',A3)"
      ]
    },
    {
      "cell_type": "code",
      "execution_count": 25,
      "metadata": {
        "collapsed": false
      },
      "outputs": [
        {
          "name": "stdout",
          "output_type": "stream",
          "text": [
            "rk(A3):\n",
            " 2\n"
          ]
        }
      ],
      "source": [
        "# обратная матрица - magic\n",
        "print('rk(A3):\\n',np.linalg.matrix_rank(A3))"
      ]
    },
    {
      "cell_type": "code",
      "execution_count": 26,
      "metadata": {
        "collapsed": false
      },
      "outputs": [
        {
          "ename": "LinAlgError",
          "evalue": "Singular matrix",
          "output_type": "error",
          "traceback": [
            "\u001b[1;31m---------------------------------------------------------------------------\u001b[0m",
            "\u001b[1;31mLinAlgError\u001b[0m                               Traceback (most recent call last)",
            "\u001b[1;32mc:\\IDE\\Skillfactory\\Math&ML-1\\MATHML_Module_1_Matrix_Inverse_screencast.ipynb Cell 11\u001b[0m line \u001b[0;36m2\n\u001b[0;32m      <a href='vscode-notebook-cell:/c%3A/IDE/Skillfactory/Math%26ML-1/MATHML_Module_1_Matrix_Inverse_screencast.ipynb#X13sZmlsZQ%3D%3D?line=0'>1</a>\u001b[0m \u001b[39m# обратная матрица - magic\u001b[39;00m\n\u001b[1;32m----> <a href='vscode-notebook-cell:/c%3A/IDE/Skillfactory/Math%26ML-1/MATHML_Module_1_Matrix_Inverse_screencast.ipynb#X13sZmlsZQ%3D%3D?line=1'>2</a>\u001b[0m \u001b[39mprint\u001b[39m(\u001b[39m'\u001b[39m\u001b[39mA3 inversed:\u001b[39m\u001b[39m\\n\u001b[39;00m\u001b[39m'\u001b[39m,np\u001b[39m.\u001b[39;49mlinalg\u001b[39m.\u001b[39;49minv(A3))\n",
            "File \u001b[1;32m<__array_function__ internals>:180\u001b[0m, in \u001b[0;36minv\u001b[1;34m(*args, **kwargs)\u001b[0m\n",
            "File \u001b[1;32mc:\\Users\\trigubov\\AppData\\Local\\Programs\\Python\\Python311\\Lib\\site-packages\\numpy\\linalg\\linalg.py:552\u001b[0m, in \u001b[0;36minv\u001b[1;34m(a)\u001b[0m\n\u001b[0;32m    550\u001b[0m signature \u001b[39m=\u001b[39m \u001b[39m'\u001b[39m\u001b[39mD->D\u001b[39m\u001b[39m'\u001b[39m \u001b[39mif\u001b[39;00m isComplexType(t) \u001b[39melse\u001b[39;00m \u001b[39m'\u001b[39m\u001b[39md->d\u001b[39m\u001b[39m'\u001b[39m\n\u001b[0;32m    551\u001b[0m extobj \u001b[39m=\u001b[39m get_linalg_error_extobj(_raise_linalgerror_singular)\n\u001b[1;32m--> 552\u001b[0m ainv \u001b[39m=\u001b[39m _umath_linalg\u001b[39m.\u001b[39;49minv(a, signature\u001b[39m=\u001b[39;49msignature, extobj\u001b[39m=\u001b[39;49mextobj)\n\u001b[0;32m    553\u001b[0m \u001b[39mreturn\u001b[39;00m wrap(ainv\u001b[39m.\u001b[39mastype(result_t, copy\u001b[39m=\u001b[39m\u001b[39mFalse\u001b[39;00m))\n",
            "File \u001b[1;32mc:\\Users\\trigubov\\AppData\\Local\\Programs\\Python\\Python311\\Lib\\site-packages\\numpy\\linalg\\linalg.py:89\u001b[0m, in \u001b[0;36m_raise_linalgerror_singular\u001b[1;34m(err, flag)\u001b[0m\n\u001b[0;32m     88\u001b[0m \u001b[39mdef\u001b[39;00m \u001b[39m_raise_linalgerror_singular\u001b[39m(err, flag):\n\u001b[1;32m---> 89\u001b[0m     \u001b[39mraise\u001b[39;00m LinAlgError(\u001b[39m\"\u001b[39m\u001b[39mSingular matrix\u001b[39m\u001b[39m\"\u001b[39m)\n",
            "\u001b[1;31mLinAlgError\u001b[0m: Singular matrix"
          ]
        }
      ],
      "source": [
        "# обратная матрица - magic\n",
        "print('A3 inversed:\\n',np.linalg.inv(A3))"
      ]
    },
    {
      "cell_type": "code",
      "execution_count": 28,
      "metadata": {
        "collapsed": false
      },
      "outputs": [
        {
          "ename": "LinAlgError",
          "evalue": "Singular matrix",
          "output_type": "error",
          "traceback": [
            "\u001b[1;31m---------------------------------------------------------------------------\u001b[0m",
            "\u001b[1;31mLinAlgError\u001b[0m                               Traceback (most recent call last)",
            "\u001b[1;32mc:\\IDE\\Skillfactory\\Math&ML-1\\MATHML_Module_1_Matrix_Inverse_screencast.ipynb Cell 12\u001b[0m line \u001b[0;36m2\n\u001b[0;32m      <a href='vscode-notebook-cell:/c%3A/IDE/Skillfactory/Math%26ML-1/MATHML_Module_1_Matrix_Inverse_screencast.ipynb#X14sZmlsZQ%3D%3D?line=0'>1</a>\u001b[0m \u001b[39m# обратная матрица - magic\u001b[39;00m\n\u001b[1;32m----> <a href='vscode-notebook-cell:/c%3A/IDE/Skillfactory/Math%26ML-1/MATHML_Module_1_Matrix_Inverse_screencast.ipynb#X14sZmlsZQ%3D%3D?line=1'>2</a>\u001b[0m \u001b[39mprint\u001b[39m(\u001b[39m'\u001b[39m\u001b[39mA3 @ A3 inversed = E check:\u001b[39m\u001b[39m\\n\u001b[39;00m\u001b[39m'\u001b[39m,A3\u001b[39m@np\u001b[39m\u001b[39m.\u001b[39;49mlinalg\u001b[39m.\u001b[39;49minv(A3))\n\u001b[0;32m      <a href='vscode-notebook-cell:/c%3A/IDE/Skillfactory/Math%26ML-1/MATHML_Module_1_Matrix_Inverse_screencast.ipynb#X14sZmlsZQ%3D%3D?line=2'>3</a>\u001b[0m \u001b[39mprint\u001b[39m(\u001b[39m'\u001b[39m\u001b[39mcheck failed\u001b[39m\u001b[39m'\u001b[39m)\n",
            "File \u001b[1;32m<__array_function__ internals>:180\u001b[0m, in \u001b[0;36minv\u001b[1;34m(*args, **kwargs)\u001b[0m\n",
            "File \u001b[1;32mc:\\Users\\trigubov\\AppData\\Local\\Programs\\Python\\Python311\\Lib\\site-packages\\numpy\\linalg\\linalg.py:552\u001b[0m, in \u001b[0;36minv\u001b[1;34m(a)\u001b[0m\n\u001b[0;32m    550\u001b[0m signature \u001b[39m=\u001b[39m \u001b[39m'\u001b[39m\u001b[39mD->D\u001b[39m\u001b[39m'\u001b[39m \u001b[39mif\u001b[39;00m isComplexType(t) \u001b[39melse\u001b[39;00m \u001b[39m'\u001b[39m\u001b[39md->d\u001b[39m\u001b[39m'\u001b[39m\n\u001b[0;32m    551\u001b[0m extobj \u001b[39m=\u001b[39m get_linalg_error_extobj(_raise_linalgerror_singular)\n\u001b[1;32m--> 552\u001b[0m ainv \u001b[39m=\u001b[39m _umath_linalg\u001b[39m.\u001b[39;49minv(a, signature\u001b[39m=\u001b[39;49msignature, extobj\u001b[39m=\u001b[39;49mextobj)\n\u001b[0;32m    553\u001b[0m \u001b[39mreturn\u001b[39;00m wrap(ainv\u001b[39m.\u001b[39mastype(result_t, copy\u001b[39m=\u001b[39m\u001b[39mFalse\u001b[39;00m))\n",
            "File \u001b[1;32mc:\\Users\\trigubov\\AppData\\Local\\Programs\\Python\\Python311\\Lib\\site-packages\\numpy\\linalg\\linalg.py:89\u001b[0m, in \u001b[0;36m_raise_linalgerror_singular\u001b[1;34m(err, flag)\u001b[0m\n\u001b[0;32m     88\u001b[0m \u001b[39mdef\u001b[39;00m \u001b[39m_raise_linalgerror_singular\u001b[39m(err, flag):\n\u001b[1;32m---> 89\u001b[0m     \u001b[39mraise\u001b[39;00m LinAlgError(\u001b[39m\"\u001b[39m\u001b[39mSingular matrix\u001b[39m\u001b[39m\"\u001b[39m)\n",
            "\u001b[1;31mLinAlgError\u001b[0m: Singular matrix"
          ]
        }
      ],
      "source": [
        "# обратная матрица - magic\n",
        "print('A3 @ A3 inversed = E check:\\n',A3@np.linalg.inv(A3))\n",
        "print('check failed')"
      ]
    },
    {
      "cell_type": "code",
      "execution_count": 29,
      "metadata": {
        "collapsed": false
      },
      "outputs": [
        {
          "name": "stdout",
          "output_type": "stream",
          "text": [
            "det(A1)):\n",
            " -2.9999999999999996\n"
          ]
        }
      ],
      "source": [
        "print('det(A1)):\\n',np.linalg.det(A1))"
      ]
    },
    {
      "cell_type": "code",
      "execution_count": 30,
      "metadata": {
        "collapsed": false
      },
      "outputs": [
        {
          "name": "stdout",
          "output_type": "stream",
          "text": [
            "det(A2)):\n",
            " 0.0\n"
          ]
        }
      ],
      "source": [
        "print('det(A2)):\\n',np.linalg.det(A2))"
      ]
    },
    {
      "cell_type": "code",
      "execution_count": 31,
      "metadata": {
        "collapsed": false
      },
      "outputs": [
        {
          "name": "stdout",
          "output_type": "stream",
          "text": [
            "det(A3)):\n",
            " 0.0\n"
          ]
        }
      ],
      "source": [
        "print('det(A3)):\\n',np.linalg.det(A3))"
      ]
    },
    {
      "cell_type": "code",
      "execution_count": null,
      "metadata": {
        "collapsed": false
      },
      "outputs": [],
      "source": [
        "# обратная матрица - неустойчивость\n",
        "A4=np.array([[1,2,3],[4,5,6],[1,2,3.00005]])\n",
        "print('A4:\\n',A4)\n",
        "print('rk(A4):\\n',np.linalg.matrix_rank(A4))\n",
        "print('det(A4):\\n',np.linalg.det(A4))\n",
        "print('A4 inverse:\\n',np.linalg.inv(A4))"
      ]
    },
    {
      "cell_type": "code",
      "execution_count": null,
      "metadata": {
        "collapsed": false
      },
      "outputs": [],
      "source": [
        "# обратная матрица - неустойчивость вблизи нулевого определителя\n",
        "A5=np.array([[1,2,3],[4,5,6],[1,2,3.00000005]])\n",
        "print('A5:\\n',A5)\n",
        "print('rk(A5):\\n',np.linalg.matrix_rank(A5))\n",
        "print('det(A5):\\n',np.linalg.det(A5))\n",
        "print('A5 inverse:\\n',np.linalg.inv(A5))"
      ]
    },
    {
      "cell_type": "code",
      "execution_count": 32,
      "metadata": {
        "collapsed": false
      },
      "outputs": [
        {
          "name": "stdout",
          "output_type": "stream",
          "text": [
            "A:\n",
            " [[1 1]\n",
            " [2 1]\n",
            " [1 1]]\n",
            "Матрица Грама:\n",
            " [[6 4]\n",
            " [4 3]]\n"
          ]
        }
      ],
      "source": [
        "# обратимость матрицы Грама линейно независимой системы векторов\n",
        "v1=np.array([1,2,1])\n",
        "v2=np.array([1,1,1])\n",
        "A=np.array([v1,v2]).T\n",
        "print('A:\\n',A)\n",
        "print('Матрица Грама:\\n',A.T@A)"
      ]
    },
    {
      "cell_type": "code",
      "execution_count": 33,
      "metadata": {
        "collapsed": false
      },
      "outputs": [
        {
          "name": "stdout",
          "output_type": "stream",
          "text": [
            "Ранг матрицы Грама:\n",
            " 2\n"
          ]
        }
      ],
      "source": [
        "print('Ранг матрицы Грама:\\n',np.linalg.matrix_rank(A.T@A))"
      ]
    },
    {
      "cell_type": "code",
      "execution_count": 34,
      "metadata": {
        "collapsed": false
      },
      "outputs": [
        {
          "name": "stdout",
          "output_type": "stream",
          "text": [
            "Определитель матрицы Грама:\n",
            " 2.0000000000000004\n"
          ]
        }
      ],
      "source": [
        "print('Определитель матрицы Грама:\\n',np.linalg.det(A.T@A))"
      ]
    },
    {
      "cell_type": "code",
      "execution_count": 35,
      "metadata": {
        "collapsed": false
      },
      "outputs": [
        {
          "name": "stdout",
          "output_type": "stream",
          "text": [
            "Обратная к матрице Грама:\n",
            " [[ 1.5 -2. ]\n",
            " [-2.   3. ]]\n"
          ]
        }
      ],
      "source": [
        "print('Обратная к матрице Грама:\\n',np.linalg.inv(A.T@A))"
      ]
    },
    {
      "cell_type": "code",
      "execution_count": 40,
      "metadata": {
        "collapsed": true
      },
      "outputs": [
        {
          "name": "stdout",
          "output_type": "stream",
          "text": [
            "0.3750000000000005\n"
          ]
        }
      ],
      "source": [
        "A = np.array([[8, 6, 11], [7, 5, 9],[6, 10, 6]])\n",
        "# найдём обратную матрицу\n",
        "A_inv = np.linalg.inv(A)\n",
        "A_inv\n",
        "print(A_inv[1,0])"
      ]
    },
    {
      "cell_type": "code",
      "execution_count": 41,
      "metadata": {},
      "outputs": [
        {
          "name": "stdout",
          "output_type": "stream",
          "text": [
            "Матрица A:\n",
            " [[ 9  2  4  3]\n",
            " [10  0  0 -4]\n",
            " [ 7  5  0  3]\n",
            " [ 7  1  4 -1]\n",
            " [ 9  4  1 -4]]\n"
          ]
        }
      ],
      "source": [
        "# Дана система векторов:\n",
        "\n",
        "v1 = np.array([9, 10, 7, 7, 9])\n",
        "v2 = np.array([2, 0, 5, 1, 4])\n",
        "v3 = np.array([4, 0, 0, 4, 1])\n",
        "v4 = np.array([3, -4, 3, -1, -4])\n",
        "\n",
        "# построим матрицу из векторов\n",
        "A = np.array([v1, v2, v3, v4]).T\n",
        "print('Матрица A:\\n',A)"
      ]
    },
    {
      "cell_type": "code",
      "execution_count": 43,
      "metadata": {},
      "outputs": [
        {
          "name": "stdout",
          "output_type": "stream",
          "text": [
            "Ранг матрицы A:\n",
            " 4\n"
          ]
        }
      ],
      "source": [
        "# найдём ранг матрицы A\n",
        "print('Ранг матрицы A:\\n',np.linalg.matrix_rank(A))"
      ]
    },
    {
      "cell_type": "code",
      "execution_count": 45,
      "metadata": {},
      "outputs": [
        {
          "name": "stdout",
          "output_type": "stream",
          "text": [
            "Матрица Грама:\n",
            " [[360  96  73 -35]\n",
            " [ 96  46  16   4]\n",
            " [ 73  16  33   4]\n",
            " [-35   4   4  51]]\n"
          ]
        }
      ],
      "source": [
        "# найдём матрицу Грама\n",
        "G = A.T@A\n",
        "print('Матрица Грама:\\n',G)\n"
      ]
    },
    {
      "cell_type": "code",
      "execution_count": 47,
      "metadata": {},
      "outputs": [
        {
          "name": "stdout",
          "output_type": "stream",
          "text": [
            "Определитель матрицы Грама:\n",
            " 3716647.9999999995\n"
          ]
        }
      ],
      "source": [
        "# найдём определитель матрицы Грама\n",
        "print('Определитель матрицы Грама:\\n',np.linalg.det(G))\n"
      ]
    },
    {
      "cell_type": "code",
      "execution_count": 48,
      "metadata": {},
      "outputs": [
        {
          "name": "stdout",
          "output_type": "stream",
          "text": [
            "Обратная к матрице Грама:\n",
            " [[ 0.01711488 -0.02798543 -0.02623063  0.01599775]\n",
            " [-0.02798543  0.071967    0.03031441 -0.02722776]\n",
            " [-0.02623063  0.03031441  0.07683106 -0.02640498]\n",
            " [ 0.01599775 -0.02722776 -0.02640498  0.03479318]]\n"
          ]
        }
      ],
      "source": [
        "# найдём обратную матрицу к матрице Грама\n",
        "G_inv = np.linalg.inv(G)\n",
        "print('Обратная к матрице Грама:\\n',G_inv)\n"
      ]
    },
    {
      "cell_type": "code",
      "execution_count": 56,
      "metadata": {},
      "outputs": [
        {
          "name": "stdout",
          "output_type": "stream",
          "text": [
            "Среднее значение: 41.166666666666664\n",
            "Медиана: 10.0\n"
          ]
        }
      ],
      "source": [
        "\n",
        "k = [10,11,8,8,10,200]\n",
        "# находим среднее значение\n",
        "k_mean = np.mean(k)\n",
        "k_median = np.median(k)\n",
        "print('Среднее значение:', k_mean)\n",
        "print('Медиана:', k_median)\n",
        "\n",
        "\n"
      ]
    },
    {
      "cell_type": "code",
      "execution_count": 61,
      "metadata": {},
      "outputs": [
        {
          "name": "stdout",
          "output_type": "stream",
          "text": [
            "k_shift: [5. 1. 2. 3. 4.]\n"
          ]
        }
      ],
      "source": [
        "k=np.empty(5)\n",
        "k[0]=1\n",
        "k[1]=2\n",
        "k[2]=3\n",
        "k[3]=4\n",
        "k[4]=5\n",
        "\n",
        "# сдвинем все значения на 1 вправо\n",
        "k_shift = np.roll(k, 1)\n",
        "print('k_shift:', k_shift)"
      ]
    },
    {
      "cell_type": "code",
      "execution_count": 62,
      "metadata": {},
      "outputs": [
        {
          "name": "stdout",
          "output_type": "stream",
          "text": [
            "Скалярное произведение векторов: -9\n"
          ]
        }
      ],
      "source": [
        "v1 = np.array([-1, 2, -7, 9])\n",
        "v2 = np.array([2, 8, 2, -1])\n",
        "\n",
        "#найдём скалярное произведение векторов\n",
        "print('Скалярное произведение векторов:', v1@v2)"
      ]
    },
    {
      "cell_type": "code",
      "execution_count": 63,
      "metadata": {},
      "outputs": [
        {
          "name": "stdout",
          "output_type": "stream",
          "text": [
            "Матрица Грама:\n",
            " [[2 3]\n",
            " [3 5]]\n"
          ]
        }
      ],
      "source": [
        "A = np.array([[1, 1], [1, 2]])\n",
        "\n",
        "# найдём матрицу Грама\n",
        "G = A.T@A\n",
        "print('Матрица Грама:\\n',G)"
      ]
    },
    {
      "cell_type": "code",
      "execution_count": 65,
      "metadata": {},
      "outputs": [
        {
          "name": "stdout",
          "output_type": "stream",
          "text": [
            "Матрица A:\n",
            " [[ 2  3  8]\n",
            " [10  2 14]\n",
            " [-2 -2 -6]]\n",
            "Ранг матрицы A:\n",
            " 2\n"
          ]
        }
      ],
      "source": [
        "v1 = np.array([2, 10, -2])\n",
        "v2 = np.array([3, 2, -2])\n",
        "v3 = np.array([8, 14, -6])\n",
        "\n",
        "# построим матрицу из векторов\n",
        "A = np.array([v1, v2, v3]).T\n",
        "print('Матрица A:\\n',A)\n",
        "\n",
        "# найдём ранг матрицы A\n",
        "print('Ранг матрицы A:\\n',np.linalg.matrix_rank(A))"
      ]
    },
    {
      "cell_type": "code",
      "execution_count": 66,
      "metadata": {},
      "outputs": [
        {
          "name": "stdout",
          "output_type": "stream",
          "text": [
            "Матрица A:\n",
            " [[ 5 10]\n",
            " [ 1  2]]\n",
            "Ранг матрицы A:\n",
            " 1\n"
          ]
        }
      ],
      "source": [
        "v1 = np.array([5, 1])\n",
        "v2 = np.array([10, 2])\n",
        "\n",
        "# построим матрицу из векторов\n",
        "A = np.array([v1, v2]).T\n",
        "print('Матрица A:\\n',A)\n",
        "\n",
        "# найдём ранг матрицы A\n",
        "print('Ранг матрицы A:\\n',np.linalg.matrix_rank(A))"
      ]
    },
    {
      "cell_type": "code",
      "execution_count": null,
      "metadata": {},
      "outputs": [],
      "source": [
        "# запишем СЛАУ в матричном виде 5w1 + w2 + 3w3 = 1\n",
        "# 2w2 + 8w3 = 10\n",
        "# 10w1 + 2w3 = 0\n",
        "A = np.array([[5, 1, 3], [0, 2, 8], [10, 0, 2]])\n",
        "\n",
        "\n"
      ]
    },
    {
      "cell_type": "code",
      "execution_count": 70,
      "metadata": {},
      "outputs": [
        {
          "name": "stdout",
          "output_type": "stream",
          "text": [
            "Ранг матрицы A:\n",
            " 2\n"
          ]
        }
      ],
      "source": [
        "A = np.array([[4, 7, 20], [5, 10, 30]])\n",
        "\n",
        "# найдём ранг матрицы A\n",
        "print('Ранг матрицы A:\\n',np.linalg.matrix_rank(A))\n",
        "\n"
      ]
    },
    {
      "cell_type": "code",
      "execution_count": 71,
      "metadata": {},
      "outputs": [
        {
          "name": "stdout",
          "output_type": "stream",
          "text": [
            "Обратная к матрице A:\n",
            " [[ 2.  -1.4]\n",
            " [-1.   0.8]]\n"
          ]
        }
      ],
      "source": [
        "A = np.array([[4, 7], [5, 10]])\n",
        "B = np.array([20, 30])\n",
        "# найдём обратную матрицу к матрице A\n",
        "A_inv = np.linalg.inv(A)\n",
        "print('Обратная к матрице A:\\n',A_inv)"
      ]
    },
    {
      "cell_type": "code",
      "execution_count": 72,
      "metadata": {},
      "outputs": [
        {
          "data": {
            "text/plain": [
              "array([-2.,  4.])"
            ]
          },
          "execution_count": 72,
          "metadata": {},
          "output_type": "execute_result"
        }
      ],
      "source": [
        "A_inv@B"
      ]
    },
    {
      "cell_type": "code",
      "execution_count": 73,
      "metadata": {},
      "outputs": [
        {
          "name": "stdout",
          "output_type": "stream",
          "text": [
            "Ранг матрицы A:\n",
            " 2\n"
          ]
        }
      ],
      "source": [
        "A = np.array([[4, 7, -1], [-4, 2, 5],[0,9,4]])\n",
        "\n",
        "# найдём ранг матрицы A\n",
        "print('Ранг матрицы A:\\n',np.linalg.matrix_rank(A))"
      ]
    },
    {
      "cell_type": "code",
      "execution_count": 92,
      "metadata": {},
      "outputs": [
        {
          "name": "stdout",
          "output_type": "stream",
          "text": [
            "Линейная комбинация столбцов матрицы A:\n",
            " [[-4]\n",
            " [ 3]\n",
            " [ 2]]\n",
            "Вектор ошибок:\n",
            " [[ 5]\n",
            " [-1]\n",
            " [ 0]]\n"
          ]
        }
      ],
      "source": [
        "A = np.array([[1, -5], [2, 1],[1,1]])\n",
        "B = np.array([[1], [2], [2]])\n",
        "l = np.array([[1, 1]])\n",
        "# B = B.T\n",
        "\n",
        "# найдём линейную комбинацию столбцов матрицы A (b с крышкой)\n",
        "print('Линейная комбинация столбцов матрицы A:\\n',A@l.T)\n",
        "\n",
        "# вектор ошибок e = b - b с крышкой\n",
        "e = B - A@l.T\n",
        "print('Вектор ошибок:\\n',e)\n",
        "\n"
      ]
    },
    {
      "cell_type": "markdown",
      "metadata": {},
      "source": [
        "### Задание 2.11\n",
        "\n",
        "Найдите -оценку для коэффициентов ,  СЛАУ:"
      ]
    },
    {
      "cell_type": "code",
      "execution_count": 93,
      "metadata": {},
      "outputs": [
        {
          "name": "stdout",
          "output_type": "stream",
          "text": [
            "Матрица Грама:\n",
            " [[12  0]\n",
            " [ 0 10]]\n"
          ]
        }
      ],
      "source": [
        "A = np.array([[1, 2], [-3, 1],[1,2],[1,-1]])\n",
        "B = np.array([[1], [4], [5],[0]])\n",
        "# вычислим матрицу Грама\n",
        "G = A.T@A\n",
        "print('Матрица Грама:\\n',G)"
      ]
    },
    {
      "cell_type": "code",
      "execution_count": 96,
      "metadata": {},
      "outputs": [
        {
          "name": "stdout",
          "output_type": "stream",
          "text": [
            "Обратная к матрице Грама:\n",
            " [[0.08333333 0.        ]\n",
            " [0.         0.1       ]]\n"
          ]
        }
      ],
      "source": [
        "# вычислим обратную матрицу к матрице Грама\n",
        "G_inv = np.linalg.inv(G)\n",
        "print('Обратная к матрице Грама:\\n',G_inv)"
      ]
    },
    {
      "cell_type": "code",
      "execution_count": 97,
      "metadata": {},
      "outputs": [
        {
          "name": "stdout",
          "output_type": "stream",
          "text": [
            "Коэффициенты линейной комбинации:\n",
            " [[-0.5]\n",
            " [ 1.6]]\n"
          ]
        }
      ],
      "source": [
        "# вычислим коэффициенты линейной комбинации \n",
        "l = G_inv@A.T@B\n",
        "print('Коэффициенты линейной комбинации:\\n',l)"
      ]
    },
    {
      "cell_type": "code",
      "execution_count": null,
      "metadata": {},
      "outputs": [],
      "source": [
        "# найдём вектор коэффициентов линейной комбинации\n",
        "l = np.array([[1, 1]])\n",
        "\n"
      ]
    },
    {
      "cell_type": "code",
      "execution_count": 98,
      "metadata": {},
      "outputs": [
        {
          "name": "stdout",
          "output_type": "stream",
          "text": [
            "Вектор ошибок:\n",
            " [[-1.7]\n",
            " [ 0.9]\n",
            " [ 2.3]\n",
            " [ 2.1]]\n"
          ]
        }
      ],
      "source": [
        "# найдём вектор ошибок\n",
        "e = B - A@l\n",
        "print('Вектор ошибок:\\n',e)"
      ]
    },
    {
      "cell_type": "code",
      "execution_count": 99,
      "metadata": {},
      "outputs": [
        {
          "name": "stdout",
          "output_type": "stream",
          "text": [
            "Обратная к матрице A:\n",
            " [[ 7. -2.]\n",
            " [-3.  1.]]\n"
          ]
        }
      ],
      "source": [
        "A = np.array([[1, 2], [3, 7]])\n",
        "# найдём обратную матрицу к матрице A\n",
        "A_inv = np.linalg.inv(A)\n",
        "print('Обратная к матрице A:\\n',A_inv)\n"
      ]
    }
  ],
  "metadata": {
    "kernelspec": {
      "display_name": "Python 3",
      "language": "python",
      "name": "python3"
    },
    "language_info": {
      "codemirror_mode": {
        "name": "ipython",
        "version": 3
      },
      "file_extension": ".py",
      "mimetype": "text/x-python",
      "name": "python",
      "nbconvert_exporter": "python",
      "pygments_lexer": "ipython3",
      "version": "3.11.0"
    },
    "nteract": {
      "version": "0.26.0"
    }
  },
  "nbformat": 4,
  "nbformat_minor": 2
}
