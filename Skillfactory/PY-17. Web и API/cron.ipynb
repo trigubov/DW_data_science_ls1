{
 "cells": [
  {
   "cell_type": "code",
   "execution_count": 1,
   "metadata": {},
   "outputs": [
    {
     "name": "stdout",
     "output_type": "stream",
     "text": [
      "Collecting schedule\n",
      "  Downloading schedule-1.1.0-py2.py3-none-any.whl (10 kB)\n",
      "Installing collected packages: schedule\n",
      "Successfully installed schedule-1.1.0\n"
     ]
    },
    {
     "name": "stderr",
     "output_type": "stream",
     "text": [
      "\n",
      "[notice] A new release of pip available: 22.3.1 -> 23.0\n",
      "[notice] To update, run: python.exe -m pip install --upgrade pip\n"
     ]
    }
   ],
   "source": [
    "# Устанавливаем библиотеку schedule\n",
    "!pip install schedule "
   ]
  },
  {
   "cell_type": "code",
   "execution_count": 2,
   "metadata": {},
   "outputs": [],
   "source": [
    "import schedule # Импортируем модуль schedule"
   ]
  },
  {
   "cell_type": "code",
   "execution_count": 3,
   "metadata": {},
   "outputs": [],
   "source": [
    "def task(): \n",
    "    print('Hello! I am a task!') \n",
    "    return "
   ]
  },
  {
   "cell_type": "code",
   "execution_count": 4,
   "metadata": {},
   "outputs": [
    {
     "data": {
      "text/plain": [
       "Every 15 minutes do task() (last run: [never], next run: 2023-02-10 16:40:22)"
      ]
     },
     "execution_count": 4,
     "metadata": {},
     "output_type": "execute_result"
    }
   ],
   "source": [
    "# Далее вызывается метод, определяющий единицы измерения промежутков времени, через которые будет выполняться функция.\n",
    "# В нашем примере это минуты. Вот как будет выглядеть итоговый код:\n",
    "\n",
    "schedule.every(15).minutes.do(task)"
   ]
  },
  {
   "cell_type": "code",
   "execution_count": 5,
   "metadata": {},
   "outputs": [
    {
     "data": {
      "text/plain": [
       "Every 1 hour do task() (last run: [never], next run: 2023-02-10 17:25:36)"
      ]
     },
     "execution_count": 5,
     "metadata": {},
     "output_type": "execute_result"
    }
   ],
   "source": [
    "# Если бы мы хотели запускать задачу, например, каждый час, то могли бы написать:\n",
    "\n",
    "schedule.every(1).hour.do(task) "
   ]
  },
  {
   "cell_type": "code",
   "execution_count": 6,
   "metadata": {},
   "outputs": [
    {
     "ename": "KeyboardInterrupt",
     "evalue": "",
     "output_type": "error",
     "traceback": [
      "\u001b[1;31m---------------------------------------------------------------------------\u001b[0m",
      "\u001b[1;31mKeyboardInterrupt\u001b[0m                         Traceback (most recent call last)",
      "Cell \u001b[1;32mIn[6], line 4\u001b[0m\n\u001b[0;32m      2\u001b[0m \u001b[39mwhile\u001b[39;00m \u001b[39mTrue\u001b[39;00m: \n\u001b[0;32m      3\u001b[0m     schedule\u001b[39m.\u001b[39mrun_pending() \n\u001b[1;32m----> 4\u001b[0m     time\u001b[39m.\u001b[39msleep(\u001b[39m1\u001b[39m) \n",
      "\u001b[1;31mKeyboardInterrupt\u001b[0m: "
     ]
    }
   ],
   "source": [
    "import time \n",
    "while True: \n",
    "    schedule.run_pending() \n",
    "    time.sleep(1) "
   ]
  }
 ],
 "metadata": {
  "kernelspec": {
   "display_name": "Python 3",
   "language": "python",
   "name": "python3"
  },
  "language_info": {
   "codemirror_mode": {
    "name": "ipython",
    "version": 3
   },
   "file_extension": ".py",
   "mimetype": "text/x-python",
   "name": "python",
   "nbconvert_exporter": "python",
   "pygments_lexer": "ipython3",
   "version": "3.11.0"
  },
  "orig_nbformat": 4,
  "vscode": {
   "interpreter": {
    "hash": "a3928f246a083475ced1efabd59546987b0916536de4a1f794c4949e18b9c171"
   }
  }
 },
 "nbformat": 4,
 "nbformat_minor": 2
}
