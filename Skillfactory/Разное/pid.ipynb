{
 "cells": [
  {
   "cell_type": "code",
   "execution_count": 1,
   "metadata": {},
   "outputs": [
    {
     "data": {
      "application/vnd.jupyter.widget-view+json": {
       "model_id": "e30ae8cab545415599e49d25712ac4a3",
       "version_major": 2,
       "version_minor": 0
      },
      "text/plain": [
       "interactive(children=(FloatSlider(value=3.0, description='Kc', max=50.0, step=1.0), FloatSlider(value=120.0, d…"
      ]
     },
     "metadata": {},
     "output_type": "display_data"
    },
    {
     "name": "stdout",
     "output_type": "stream",
     "text": [
      "PID with Feedforward Simulator: Adjust Kc, tauI, tauD, and Kff to achieve lowest Integral Abs Error\n"
     ]
    }
   ],
   "source": [
    "import numpy as np\n",
    "%matplotlib inline\n",
    "import matplotlib.pyplot as plt\n",
    "from scipy.integrate import odeint\n",
    "import ipywidgets as wg\n",
    "from IPython.display import display\n",
    "\n",
    "n = 601 # time points to plot\n",
    "tf = 600.0 # final time\n",
    "\n",
    "# TCLab FOPDT\n",
    "Kp = 0.9\n",
    "Kd = 0.34\n",
    "taup = 175.0\n",
    "thetap = 15.0\n",
    "y0 = [23.0,23.0]\n",
    "\n",
    "def process(y,t,u1,u2):\n",
    "    y1,y2 = y\n",
    "    dy1dt = (1.0/taup) * (-(y1-y0[0]) + Kp * u1 + Kd * (y2-y1))\n",
    "    dy2dt = (1.0/taup) * (-(y2-y0[1]) + (Kp/2.0) * u2 + Kd * (y1-y2))\n",
    "    return [dy1dt,dy2dt]\n",
    "\n",
    "def pidPlot(Kc,tauI,tauD,Kff):\n",
    "    y0 = [23.0,23.0]\n",
    "    t = np.linspace(0,tf,n) # create time vector\n",
    "    P = np.zeros(n)         # initialize proportional term\n",
    "    I = np.zeros(n)         # initialize integral term\n",
    "    D = np.zeros(n)         # initialize derivative term\n",
    "    FF = np.zeros(n)        # initialize feedforward term\n",
    "    e = np.zeros(n)         # initialize error\n",
    "    OP1 = np.zeros(n)       # initialize controller output\n",
    "    OP2 = np.zeros(n)       # initialize disturbance\n",
    "    OP2[200:401] = 100      # step up in heater 2\n",
    "    PV1 = np.ones(n)*y0[0]  # initialize process variable\n",
    "    PV2 = np.ones(n)*y0[1]  # initialize process variable\n",
    "    SP = np.ones(n)*y0[0]   # initialize setpoint\n",
    "    SP[10:] = 40.0          # step up\n",
    "    iae = 0.0\n",
    "    # loop through all time steps\n",
    "    for i in range(1,n):\n",
    "        # simulate process for one time step\n",
    "        ts = [t[i-1],t[i]]         # time interval\n",
    "        heaters = (OP1[max(0,i-int(thetap))],OP2[max(0,i-int(thetap))])\n",
    "        y = odeint(process,y0,ts,args=heaters)\n",
    "        y0 = y[1]                  # record new initial condition\n",
    "        # calculate new OP with PID\n",
    "        PV1[i] = y[1][0]              # record T1 PV\n",
    "        PV2[i] = y[1][1]              # record T2 PV\n",
    "        iae += np.abs(SP[i]-PV1[i])\n",
    "        e[i] = SP[i] - PV1[i]       # calculate error = SP - PV\n",
    "        dt = t[i] - t[i-1]         # calculate time step\n",
    "        P[i] = Kc * e[i]           # calculate proportional term\n",
    "        I[i] = I[i-1] + (Kc/tauI) * e[i] * dt  # calculate integral term\n",
    "        D[i] = -Kc * tauD * (PV1[i]-PV1[i-1])/dt # calculate derivative\n",
    "        FF[i] = Kff * (PV2[i]-PV1[i])\n",
    "        OP1[i] = P[i] + I[i] + D[i] + FF[i] # calculate new output\n",
    "        if OP1[i]>=100:\n",
    "            OP1[i] = 100.0\n",
    "            I[i] = I[i-1] # reset integral\n",
    "        if OP1[i]<=0:\n",
    "            OP1[i] = 0.0\n",
    "            I[i] = I[i-1] # reset integral            \n",
    "\n",
    "    # plot PID response\n",
    "    plt.figure(1,figsize=(15,7))\n",
    "    plt.subplot(2,2,1)\n",
    "    plt.plot(t,SP,'k-',linewidth=2,label='Setpoint (SP)')\n",
    "    plt.plot(t,PV1,'r:',linewidth=2,label='Temperature 1 (PV)')\n",
    "    plt.plot(t,PV2,'b:',linewidth=2,label='Temperature 2 (PV)')\n",
    "    plt.ylabel(r'T $(^oC)$')\n",
    "    plt.text(100,33,'Integral Abs Error: ' + str(np.round(iae,2)))\n",
    "    plt.text(400,33,r'$K_c$: ' + str(np.round(Kc,0)))  \n",
    "    plt.text(400,30,r'$\\tau_I$: ' + str(np.round(tauI,0)) + ' sec')  \n",
    "    plt.text(400,27,r'$\\tau_D$: ' + str(np.round(tauD,0)) + ' sec')  \n",
    "    plt.text(400,23,r'$K_{ff}$: ' + str(np.round(Kff,0)))  \n",
    "    plt.legend(loc=2)\n",
    "    plt.subplot(2,2,2)\n",
    "    plt.plot(t,P,'g.-',linewidth=2,label=r'Proportional = $K_c \\; e(t)$')\n",
    "    plt.plot(t,I,'b-',linewidth=2,label=r'Integral = ' + \\\n",
    "             r'$\\frac{K_c}{\\tau_I} \\int_{i=0}^{n_t} e(t) \\; dt $')\n",
    "    plt.plot(t,D,'r--',linewidth=2,label=r'Derivative = ' + \\\n",
    "             r'$-K_c \\tau_D \\frac{d(PV)}{dt}$')  \n",
    "    plt.plot(t,FF,'k:',linewidth=2,label=r'Feedforward = ' + \\\n",
    "             r'$+K_{ff} d$')  \n",
    "    plt.legend(loc='best')\n",
    "    plt.subplot(2,2,3)\n",
    "    plt.plot(t,e,'m--',linewidth=2,label='Error (e=SP-PV)')\n",
    "    plt.ylabel(r'$\\Delta T$ $(^oC)$')\n",
    "    plt.legend(loc='best')\n",
    "    plt.xlabel('time (sec)')\n",
    "    plt.subplot(2,2,4)\n",
    "    plt.plot(t,OP1,'b--',linewidth=2,label='Heater 1 (OP)')\n",
    "    plt.plot(t,OP2,'r:',linewidth=2,label='Heater 2 (OP)')\n",
    "    plt.legend(loc='best')\n",
    "    plt.xlabel('time (sec)')\n",
    "\n",
    "Kc_slide = wg.FloatSlider(value=3.0,min=0.0,max=50.0,step=1.0)\n",
    "tauI_slide = wg.FloatSlider(value=120.0,min=20.0,max=180.0,step=5.0)\n",
    "tauD_slide = wg.FloatSlider(value=0.0,min=0.0,max=20.0,step=1.0)\n",
    "Kff_slide = wg.FloatSlider(value=0.0,min=-0.5,max=0.5,step=0.1)\n",
    "wg.interact(pidPlot, Kc=Kc_slide, tauI=tauI_slide, tauD=tauD_slide,Kff=Kff_slide)\n",
    "print('PID with Feedforward Simulator: Adjust Kc, tauI, tauD, and Kff ' + \\\n",
    "      'to achieve lowest Integral Abs Error')"
   ]
  }
 ],
 "metadata": {
  "kernelspec": {
   "display_name": "Python 3",
   "language": "python",
   "name": "python3"
  },
  "language_info": {
   "codemirror_mode": {
    "name": "ipython",
    "version": 3
   },
   "file_extension": ".py",
   "mimetype": "text/x-python",
   "name": "python",
   "nbconvert_exporter": "python",
   "pygments_lexer": "ipython3",
   "version": "3.11.0"
  },
  "orig_nbformat": 4,
  "vscode": {
   "interpreter": {
    "hash": "a3928f246a083475ced1efabd59546987b0916536de4a1f794c4949e18b9c171"
   }
  }
 },
 "nbformat": 4,
 "nbformat_minor": 2
}
