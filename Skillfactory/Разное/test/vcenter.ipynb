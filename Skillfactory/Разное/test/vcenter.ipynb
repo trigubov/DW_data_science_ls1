{
 "cells": [
  {
   "cell_type": "code",
   "execution_count": 44,
   "metadata": {},
   "outputs": [],
   "source": [
    "from pyVmomi import vim\n",
    "from pyVim.connect import SmartConnect\n",
    "from tools import cli"
   ]
  },
  {
   "cell_type": "code",
   "execution_count": 45,
   "metadata": {},
   "outputs": [
    {
     "data": {
      "text/plain": [
       "['config2.txt']"
      ]
     },
     "execution_count": 45,
     "metadata": {},
     "output_type": "execute_result"
    }
   ],
   "source": [
    "import configparser\n",
    "config = configparser.ConfigParser()\n",
    "config.read(\"config2.txt\")"
   ]
  },
  {
   "cell_type": "code",
   "execution_count": 46,
   "metadata": {},
   "outputs": [],
   "source": [
    "si = SmartConnect(**config[\"VSphere\"])\n",
    "#connection.content\n",
    "# http://pubs.vmware.com/vsphere-55/topic/com.vmware.wssdk.apiref.doc/vim.SearchIndex.html\n",
    "search_index = si.content.searchIndex\n",
    "\n",
    "#content = si.content\n",
    "#container = content.viewManager.CreateContainerView(content.rootFolder, [vim.VirtualMachine], True)\n",
    "#container.view"
   ]
  },
  {
   "cell_type": "code",
   "execution_count": 47,
   "metadata": {},
   "outputs": [
    {
     "ename": "TypeError",
     "evalue": "Required field \"datastore\" not provided (not @optional)",
     "output_type": "error",
     "traceback": [
      "\u001b[1;31m---------------------------------------------------------------------------\u001b[0m",
      "\u001b[1;31mTypeError\u001b[0m                                 Traceback (most recent call last)",
      "Cell \u001b[1;32mIn[47], line 35\u001b[0m\n\u001b[0;32m     33\u001b[0m spec\u001b[39m.\u001b[39mlocation \u001b[39m=\u001b[39m vim\u001b[39m.\u001b[39mvm\u001b[39m.\u001b[39mRelocateSpec()\n\u001b[0;32m     34\u001b[0m spec_location_disk_0 \u001b[39m=\u001b[39m vim\u001b[39m.\u001b[39mvm\u001b[39m.\u001b[39mRelocateSpec\u001b[39m.\u001b[39mDiskLocator()\n\u001b[1;32m---> 35\u001b[0m spec_location_disk_0\u001b[39m.\u001b[39;49mdatastore \u001b[39m=\u001b[39m search_index\u001b[39m.\u001b[39mFindByUuid(\u001b[39mNone\u001b[39;00m, \u001b[39m\"\u001b[39m\u001b[39mdatastore-1022\u001b[39m\u001b[39m\"\u001b[39m, \u001b[39mTrue\u001b[39;00m, \u001b[39mTrue\u001b[39;00m)   \u001b[39m#SearchIndex\u001b[39;00m\n\u001b[0;32m     36\u001b[0m spec_location_disk_0\u001b[39m.\u001b[39mdiskId \u001b[39m=\u001b[39m \u001b[39m2000\u001b[39m\n\u001b[0;32m     37\u001b[0m spec_location_disk_1 \u001b[39m=\u001b[39m vim\u001b[39m.\u001b[39mvm\u001b[39m.\u001b[39mRelocateSpec\u001b[39m.\u001b[39mDiskLocator()\n",
      "File \u001b[1;32mc:\\Users\\trigubov\\AppData\\Local\\Programs\\Python\\Python311\\Lib\\site-packages\\pyVmomi\\VmomiSupport.py:557\u001b[0m, in \u001b[0;36mDataObject.__setattr__\u001b[1;34m(self, name, val)\u001b[0m\n\u001b[0;32m    556\u001b[0m \u001b[39mdef\u001b[39;00m \u001b[39m__setattr__\u001b[39m(\u001b[39mself\u001b[39m, name, val):\n\u001b[1;32m--> 557\u001b[0m     CheckField(\u001b[39mself\u001b[39;49m\u001b[39m.\u001b[39;49m_GetPropertyInfo(name), val)\n\u001b[0;32m    558\u001b[0m     \u001b[39mobject\u001b[39m\u001b[39m.\u001b[39m\u001b[39m__setattr__\u001b[39m(\u001b[39mself\u001b[39m, name, val)\n",
      "File \u001b[1;32mc:\\Users\\trigubov\\AppData\\Local\\Programs\\Python\\Python311\\Lib\\site-packages\\pyVmomi\\VmomiSupport.py:1053\u001b[0m, in \u001b[0;36mCheckField\u001b[1;34m(info, val)\u001b[0m\n\u001b[0;32m   1049\u001b[0m \u001b[39mif\u001b[39;00m val \u001b[39mis\u001b[39;00m \u001b[39mNone\u001b[39;00m \u001b[39mor\u001b[39;00m (\u001b[39misinstance\u001b[39m(val, \u001b[39mlist\u001b[39m) \u001b[39mand\u001b[39;00m \u001b[39mlen\u001b[39m(val) \u001b[39m==\u001b[39m \u001b[39m0\u001b[39m):\n\u001b[0;32m   1050\u001b[0m     \u001b[39m# If type of the property is an Any. We should allow this to have\u001b[39;00m\n\u001b[0;32m   1051\u001b[0m     \u001b[39m# unset items\u001b[39;00m\n\u001b[0;32m   1052\u001b[0m     \u001b[39mif\u001b[39;00m \u001b[39mnot\u001b[39;00m (info\u001b[39m.\u001b[39mflags \u001b[39m&\u001b[39m F_OPTIONAL) \u001b[39mand\u001b[39;00m info\u001b[39m.\u001b[39mtype \u001b[39mis\u001b[39;00m \u001b[39mnot\u001b[39;00m \u001b[39mobject\u001b[39m:\n\u001b[1;32m-> 1053\u001b[0m         \u001b[39mraise\u001b[39;00m \u001b[39mTypeError\u001b[39;00m(\n\u001b[0;32m   1054\u001b[0m             \u001b[39m'\u001b[39m\u001b[39mRequired field \u001b[39m\u001b[39m\"\u001b[39m\u001b[39m%s\u001b[39;00m\u001b[39m\"\u001b[39m\u001b[39m not provided (not @optional)\u001b[39m\u001b[39m'\u001b[39m \u001b[39m%\u001b[39m\n\u001b[0;32m   1055\u001b[0m             info\u001b[39m.\u001b[39mname)\n\u001b[0;32m   1056\u001b[0m     \u001b[39mreturn\u001b[39;00m\n\u001b[0;32m   1057\u001b[0m \u001b[39melif\u001b[39;00m info\u001b[39m.\u001b[39mtype \u001b[39mis\u001b[39;00m \u001b[39mobject\u001b[39m:\n",
      "\u001b[1;31mTypeError\u001b[0m: Required field \"datastore\" not provided (not @optional)"
     ]
    }
   ],
   "source": [
    "vm = search_index.FindByUuid(None, \"vm-32292025\", True, True)   #SearchIndex\n",
    "folder = search_index.FindByUuid(None, \"group-v1002\", True, True)   #SearchIndex\n",
    "name = 'netbackup-clone-test'\n",
    "spec = vim.vm.CloneSpec()\n",
    "spec.template = False\n",
    "spec.powerOn = False\n",
    "spec.location = vim.vm.RelocateSpec()\n",
    "spec.location.folder = search_index.FindByUuid(None, \"group-v1002\", True, True)   #SearchIndex\n",
    "spec.location.service = vim.ServiceLocator()\n",
    "spec.location.service.credential = vim.ServiceLocator.SAMLCredential()\n",
    "spec.location.service.credential.token = 'Sensitive data is not recorded'\n",
    "spec.location.service.sslThumbprint = 'C7:D6:5D:2B:69:39:69:68:8F:7F:23:C8:DA:E3:BC:BB:47:FF:FD:2F'\n",
    "spec.location.service.instanceUuid = '6a2099f8-c6c2-4fe7-b7f7-7299259375a3'\n",
    "spec.location.service.url = 'https://splc-vc02.plc.rshb.ru:443/sdk'\n",
    "spec.location.pool = search_index.FindByUuid(None, \"resgroup-1007\", True, True)   #SearchIndex\n",
    "testType_0 = 'sourceTests'\n",
    "testType_1 = 'resourcePoolTests'\n",
    "testType_2 = 'hostTests'\n",
    "testType_3 = 'networkTests'\n",
    "testType = [testType_0,\n",
    "testType_1,\n",
    "testType_2,\n",
    "testType_3]\n",
    "#managedObject.CheckClone_Task(vm, folder, name, spec, testType)   # VirtualMachineProvisioningChecker-ProvChecker\n",
    "\n",
    "#---------------CheckClone_Task---------------\n",
    "vm = search_index.FindByUuid(None, \"vm-32292025\", True, True)   #SearchIndex\n",
    "folder = search_index.FindByUuid(None, \"group-v1002\", True, True)   #SearchIndex\n",
    "name = 'netbackup-clone-test'\n",
    "spec = vim.vm.CloneSpec()\n",
    "spec.template = False\n",
    "spec.powerOn = False\n",
    "spec.location = vim.vm.RelocateSpec()\n",
    "spec_location_disk_0 = vim.vm.RelocateSpec.DiskLocator()\n",
    "spec_location_disk_0.datastore = search_index.FindByUuid(None, \"datastore-1022\", True, True)   #SearchIndex\n",
    "spec_location_disk_0.diskId = 2000\n",
    "spec_location_disk_1 = vim.vm.RelocateSpec.DiskLocator()\n",
    "spec_location_disk_1.datastore = search_index.FindByUuid(None, \"datastore-1022\", True, True)   #SearchIndex\n",
    "spec_location_disk_1.diskId = 2002\n",
    "spec_location_disk_2 = vim.vm.RelocateSpec.DiskLocator()\n",
    "spec_location_disk_2.datastore = search_index.FindByUuid(None, \"datastore-1022\", True, True)   #SearchIndex\n",
    "spec_location_disk_2.diskId = 2001\n",
    "spec.location.disk = [spec_location_disk_0,\n",
    "spec_location_disk_1,\n",
    "spec_location_disk_2]\n",
    "spec.location.folder = search_index.FindByUuid(None, \"group-v1002\", True, True)   #SearchIndex\n",
    "spec.location.datastore = search_index.FindByUuid(None, \"datastore-1022\", True, True)   #SearchIndex\n",
    "spec.location.service = vim.ServiceLocator()\n",
    "spec.location.service.credential = vim.ServiceLocator.SAMLCredential()\n",
    "spec.location.service.credential.token = 'Sensitive data is not recorded'\n",
    "spec.location.service.sslThumbprint = 'C7:D6:5D:2B:69:39:69:68:8F:7F:23:C8:DA:E3:BC:BB:47:FF:FD:2F'\n",
    "spec.location.service.instanceUuid = '6a2099f8-c6c2-4fe7-b7f7-7299259375a3'\n",
    "spec.location.service.url = 'https://splc-vc02.plc.rshb.ru:443/sdk'\n",
    "spec.location.pool = search_index.FindByUuid(None, \"resgroup-1007\", True, True)   #SearchIndex\n",
    "testType_0 = 'datastoreTests'\n",
    "testType = [testType_0]\n"
   ]
  },
  {
   "cell_type": "code",
   "execution_count": 35,
   "metadata": {},
   "outputs": [],
   "source": [
    "from pyVmomi.VmomiSupport import ManagedObject\n",
    "\n",
    "#ManagedObject.ListKmipServers(None)"
   ]
  },
  {
   "cell_type": "code",
   "execution_count": 36,
   "metadata": {},
   "outputs": [
    {
     "ename": "TypeError",
     "evalue": "Required field \"datastore\" not provided (not @optional)",
     "output_type": "error",
     "traceback": [
      "\u001b[1;31m---------------------------------------------------------------------------\u001b[0m",
      "\u001b[1;31mTypeError\u001b[0m                                 Traceback (most recent call last)",
      "Cell \u001b[1;32mIn[36], line 3\u001b[0m\n\u001b[0;32m      1\u001b[0m spec\u001b[39m.\u001b[39mlocation \u001b[39m=\u001b[39m vim\u001b[39m.\u001b[39mvm\u001b[39m.\u001b[39mRelocateSpec()\n\u001b[0;32m      2\u001b[0m spec_location_disk_0 \u001b[39m=\u001b[39m vim\u001b[39m.\u001b[39mvm\u001b[39m.\u001b[39mRelocateSpec\u001b[39m.\u001b[39mDiskLocator()\n\u001b[1;32m----> 3\u001b[0m spec_location_disk_0\u001b[39m.\u001b[39;49mdatastore \u001b[39m=\u001b[39m search_index\u001b[39m.\u001b[39mFindByUuid(\u001b[39mNone\u001b[39;00m, \u001b[39m\"\u001b[39m\u001b[39mdatastore-1019\u001b[39m\u001b[39m\"\u001b[39m, \u001b[39mTrue\u001b[39;00m, \u001b[39mTrue\u001b[39;00m)   \u001b[39m#SearchIndex\u001b[39;00m\n",
      "File \u001b[1;32mc:\\Users\\trigubov\\AppData\\Local\\Programs\\Python\\Python311\\Lib\\site-packages\\pyVmomi\\VmomiSupport.py:557\u001b[0m, in \u001b[0;36mDataObject.__setattr__\u001b[1;34m(self, name, val)\u001b[0m\n\u001b[0;32m    556\u001b[0m \u001b[39mdef\u001b[39;00m \u001b[39m__setattr__\u001b[39m(\u001b[39mself\u001b[39m, name, val):\n\u001b[1;32m--> 557\u001b[0m     CheckField(\u001b[39mself\u001b[39;49m\u001b[39m.\u001b[39;49m_GetPropertyInfo(name), val)\n\u001b[0;32m    558\u001b[0m     \u001b[39mobject\u001b[39m\u001b[39m.\u001b[39m\u001b[39m__setattr__\u001b[39m(\u001b[39mself\u001b[39m, name, val)\n",
      "File \u001b[1;32mc:\\Users\\trigubov\\AppData\\Local\\Programs\\Python\\Python311\\Lib\\site-packages\\pyVmomi\\VmomiSupport.py:1053\u001b[0m, in \u001b[0;36mCheckField\u001b[1;34m(info, val)\u001b[0m\n\u001b[0;32m   1049\u001b[0m \u001b[39mif\u001b[39;00m val \u001b[39mis\u001b[39;00m \u001b[39mNone\u001b[39;00m \u001b[39mor\u001b[39;00m (\u001b[39misinstance\u001b[39m(val, \u001b[39mlist\u001b[39m) \u001b[39mand\u001b[39;00m \u001b[39mlen\u001b[39m(val) \u001b[39m==\u001b[39m \u001b[39m0\u001b[39m):\n\u001b[0;32m   1050\u001b[0m     \u001b[39m# If type of the property is an Any. We should allow this to have\u001b[39;00m\n\u001b[0;32m   1051\u001b[0m     \u001b[39m# unset items\u001b[39;00m\n\u001b[0;32m   1052\u001b[0m     \u001b[39mif\u001b[39;00m \u001b[39mnot\u001b[39;00m (info\u001b[39m.\u001b[39mflags \u001b[39m&\u001b[39m F_OPTIONAL) \u001b[39mand\u001b[39;00m info\u001b[39m.\u001b[39mtype \u001b[39mis\u001b[39;00m \u001b[39mnot\u001b[39;00m \u001b[39mobject\u001b[39m:\n\u001b[1;32m-> 1053\u001b[0m         \u001b[39mraise\u001b[39;00m \u001b[39mTypeError\u001b[39;00m(\n\u001b[0;32m   1054\u001b[0m             \u001b[39m'\u001b[39m\u001b[39mRequired field \u001b[39m\u001b[39m\"\u001b[39m\u001b[39m%s\u001b[39;00m\u001b[39m\"\u001b[39m\u001b[39m not provided (not @optional)\u001b[39m\u001b[39m'\u001b[39m \u001b[39m%\u001b[39m\n\u001b[0;32m   1055\u001b[0m             info\u001b[39m.\u001b[39mname)\n\u001b[0;32m   1056\u001b[0m     \u001b[39mreturn\u001b[39;00m\n\u001b[0;32m   1057\u001b[0m \u001b[39melif\u001b[39;00m info\u001b[39m.\u001b[39mtype \u001b[39mis\u001b[39;00m \u001b[39mobject\u001b[39m:\n",
      "\u001b[1;31mTypeError\u001b[0m: Required field \"datastore\" not provided (not @optional)"
     ]
    }
   ],
   "source": [
    "spec.location = vim.vm.RelocateSpec()\n",
    "spec_location_disk_0 = vim.vm.RelocateSpec.DiskLocator()\n",
    "spec_location_disk_0.datastore = search_index.FindByUuid(None, \"datastore-1019\", True, True)   #SearchIndex\n"
   ]
  },
  {
   "cell_type": "code",
   "execution_count": null,
   "metadata": {},
   "outputs": [],
   "source": [
    "\n",
    "spec_location_disk_0.diskId = 2000\n",
    "spec_location_disk_1 = vim.vm.RelocateSpec.DiskLocator()\n",
    "spec_location_disk_1.datastore = search_index.FindByUuid(None, \"datastore-1019\", True, True)   #SearchIndex\n",
    "spec_location_disk_1.diskId = 2002\n",
    "spec_location_disk_2 = vim.vm.RelocateSpec.DiskLocator()\n",
    "spec_location_disk_2.datastore = search_index.FindByUuid(None, \"datastore-1019\", True, True)   #SearchIndex\n",
    "spec_location_disk_2.diskId = 2001\n",
    "spec.location.disk = [spec_location_disk_0,\n",
    "spec_location_disk_1,\n",
    "spec_location_disk_2]\n"
   ]
  },
  {
   "cell_type": "code",
   "execution_count": null,
   "metadata": {},
   "outputs": [],
   "source": [
    "spec.location.folder = search_index.FindByUuid(None, \"group-v1002\", True, True)   #SearchIndex\n",
    "spec.location.datastore = search_index.FindByUuid(None, \"datastore-1019\", True, True)   #SearchIndex\n",
    "spec.location.deviceChange = []\n",
    "spec.location.service = vim.ServiceLocator()\n",
    "spec.location.service.credential = vim.ServiceLocator.SAMLCredential()\n",
    "spec.location.service.credential.token = 'Sensitive data is not recorded'\n",
    "spec.location.service.sslThumbprint = 'C7:D6:5D:2B:69:39:69:68:8F:7F:23:C8:DA:E3:BC:BB:47:FF:FD:2F'\n",
    "spec.location.service.instanceUuid = '6a2099f8-c6c2-4fe7-b7f7-7299259375a3'\n",
    "spec.location.service.url = 'https://splc-vc02.plc.rshb.ru:443/sdk'\n",
    "spec.location.host = search_index.FindByUuid(None, \"host-1012\", True, True)   #SearchIndex\n",
    "spec.location.pool = search_index.FindByUuid(None, \"resgroup-1007\", True, True)   #SearchIndex\n"
   ]
  },
  {
   "cell_type": "code",
   "execution_count": 38,
   "metadata": {},
   "outputs": [
    {
     "ename": "AttributeError",
     "evalue": "type object 'ManagedObject' has no attribute 'CheckClone_Task'",
     "output_type": "error",
     "traceback": [
      "\u001b[1;31m---------------------------------------------------------------------------\u001b[0m",
      "\u001b[1;31mAttributeError\u001b[0m                            Traceback (most recent call last)",
      "Cell \u001b[1;32mIn[38], line 1\u001b[0m\n\u001b[1;32m----> 1\u001b[0m ManagedObject\u001b[39m.\u001b[39;49mCheckClone_Task(vm, folder, name, spec, \u001b[39mNone\u001b[39;00m)   \u001b[39m# VirtualMachineProvisioningChecker-ProvChecker\u001b[39;00m\n",
      "\u001b[1;31mAttributeError\u001b[0m: type object 'ManagedObject' has no attribute 'CheckClone_Task'"
     ]
    }
   ],
   "source": [
    "ManagedObject.CheckClone_Task(vm, folder, name, spec, None)   # VirtualMachineProvisioningChecker-ProvChecker"
   ]
  },
  {
   "cell_type": "code",
   "execution_count": 4,
   "metadata": {},
   "outputs": [],
   "source": [
    "def get_all_vms():\n",
    "    content = connection.content\n",
    "    container = content.viewManager.CreateContainerView(content.rootFolder, [vim.VirtualMachine], True)\n",
    "    return [VirtualMachine(managed_object_ref) for managed_object_ref in container.view]"
   ]
  },
  {
   "cell_type": "code",
   "execution_count": 5,
   "metadata": {},
   "outputs": [],
   "source": [
    "class VirtualMachine:\n",
    "    def __init__(self, machine_object):\n",
    "        self.vm = machine_object\n",
    "\n",
    "    @property\n",
    "    def name(self):\n",
    "        return self.vm.name\n",
    "\n",
    "    @property\n",
    "    def provisioned_space(self):\n",
    "        return int(self.vm.summary.storage.committed + self.vm.summary.storage.uncommitted) / 1024**3\n",
    "\n",
    "    @property\n",
    "    def usage_storage(self):\n",
    "        return int(self.vm.summary.storage.committed) / 1024**3\n",
    "\n",
    "    def __repr__(self):\n",
    "        return \"{}  {:.2f}  {:.2f}\".format(self.name, self.provisioned_space, self.usage_storage)\n",
    "    "
   ]
  },
  {
   "cell_type": "code",
   "execution_count": 6,
   "metadata": {},
   "outputs": [],
   "source": [
    "#for virtual_machine in sorted(get_all_vms(), key=lambda vm: vm.usage_storage, reverse=True):\n",
    "#VirtualMachine()"
   ]
  },
  {
   "cell_type": "code",
   "execution_count": 7,
   "metadata": {},
   "outputs": [
    {
     "data": {
      "text/plain": [
       "(ManagedObject) [\n",
       "   'vim.VirtualMachine:vm-32291991',\n",
       "   'vim.VirtualMachine:vm-32291999',\n",
       "   'vim.VirtualMachine:vm-32291913',\n",
       "   'vim.VirtualMachine:vm-32291915',\n",
       "   'vim.VirtualMachine:vm-32291916',\n",
       "   'vim.VirtualMachine:vm-32297393',\n",
       "   'vim.VirtualMachine:vm-32291973',\n",
       "   'vim.VirtualMachine:vm-32292023',\n",
       "   'vim.VirtualMachine:vm-32292030',\n",
       "   'vim.VirtualMachine:vm-32298591',\n",
       "   'vim.VirtualMachine:vm-32291990',\n",
       "   'vim.VirtualMachine:vm-32292065',\n",
       "   'vim.VirtualMachine:vm-32292022',\n",
       "   'vim.VirtualMachine:vm-32292066',\n",
       "   'vim.VirtualMachine:vm-32292048',\n",
       "   'vim.VirtualMachine:vm-32291987',\n",
       "   'vim.VirtualMachine:vm-32298520',\n",
       "   'vim.VirtualMachine:vm-32292025',\n",
       "   'vim.VirtualMachine:vm-32292011',\n",
       "   'vim.VirtualMachine:vm-32292004',\n",
       "   'vim.VirtualMachine:vm-32292026',\n",
       "   'vim.VirtualMachine:vm-278',\n",
       "   'vim.VirtualMachine:vm-32292012',\n",
       "   'vim.VirtualMachine:vm-32292057',\n",
       "   'vim.VirtualMachine:vm-32291989',\n",
       "   'vim.VirtualMachine:vm-32291998',\n",
       "   'vim.VirtualMachine:vm-32298621',\n",
       "   'vim.VirtualMachine:vm-32292024',\n",
       "   'vim.VirtualMachine:vm-32292020',\n",
       "   'vim.VirtualMachine:vm-32299216',\n",
       "   'vim.VirtualMachine:vm-32298450',\n",
       "   'vim.VirtualMachine:vm-32298702',\n",
       "   'vim.VirtualMachine:vm-32302419',\n",
       "   'vim.VirtualMachine:vm-32292021',\n",
       "   'vim.VirtualMachine:vm-32292054',\n",
       "   'vim.VirtualMachine:vm-32292068',\n",
       "   'vim.VirtualMachine:vm-32291974',\n",
       "   'vim.VirtualMachine:vm-32298521',\n",
       "   'vim.VirtualMachine:vm-32292029',\n",
       "   'vim.VirtualMachine:vm-32292055',\n",
       "   'vim.VirtualMachine:vm-32299215',\n",
       "   'vim.VirtualMachine:vm-32292019',\n",
       "   'vim.VirtualMachine:vm-32297111',\n",
       "   'vim.VirtualMachine:vm-32291975',\n",
       "   'vim.VirtualMachine:vm-32299276',\n",
       "   'vim.VirtualMachine:vm-32292028',\n",
       "   'vim.VirtualMachine:vm-32292063',\n",
       "   'vim.VirtualMachine:vm-32291980',\n",
       "   'vim.VirtualMachine:vm-32291981',\n",
       "   'vim.VirtualMachine:vm-2999',\n",
       "   'vim.VirtualMachine:vm-32300718',\n",
       "   'vim.VirtualMachine:vm-32292013',\n",
       "   'vim.VirtualMachine:vm-32292064',\n",
       "   'vim.VirtualMachine:vm-32292046',\n",
       "   'vim.VirtualMachine:vm-32292047',\n",
       "   'vim.VirtualMachine:vm-32296029',\n",
       "   'vim.VirtualMachine:vm-2926',\n",
       "   'vim.VirtualMachine:vm-32298592',\n",
       "   'vim.VirtualMachine:vm-32292045',\n",
       "   'vim.VirtualMachine:vm-32292049',\n",
       "   'vim.VirtualMachine:vm-32292044',\n",
       "   'vim.VirtualMachine:vm-32291952',\n",
       "   'vim.VirtualMachine:vm-32291962',\n",
       "   'vim.VirtualMachine:vm-32297884',\n",
       "   'vim.VirtualMachine:vm-32306324',\n",
       "   'vim.VirtualMachine:vm-32302435',\n",
       "   'vim.VirtualMachine:vm-32291967',\n",
       "   'vim.VirtualMachine:vm-32291968',\n",
       "   'vim.VirtualMachine:vm-32306402',\n",
       "   'vim.VirtualMachine:vm-32291931',\n",
       "   'vim.VirtualMachine:vm-4279',\n",
       "   'vim.VirtualMachine:vm-23259',\n",
       "   'vim.VirtualMachine:vm-7248',\n",
       "   'vim.VirtualMachine:vm-3981',\n",
       "   'vim.VirtualMachine:vm-123',\n",
       "   'vim.VirtualMachine:vm-1681',\n",
       "   'vim.VirtualMachine:vm-32298540',\n",
       "   'vim.VirtualMachine:vm-13467',\n",
       "   'vim.VirtualMachine:vm-122',\n",
       "   'vim.VirtualMachine:vm-21088',\n",
       "   'vim.VirtualMachine:vm-140',\n",
       "   'vim.VirtualMachine:vm-137',\n",
       "   'vim.VirtualMachine:vm-19511',\n",
       "   'vim.VirtualMachine:vm-13455',\n",
       "   'vim.VirtualMachine:vm-3979',\n",
       "   'vim.VirtualMachine:vm-1682',\n",
       "   'vim.VirtualMachine:vm-4688',\n",
       "   'vim.VirtualMachine:vm-135',\n",
       "   'vim.VirtualMachine:vm-32291898',\n",
       "   'vim.VirtualMachine:vm-32297555',\n",
       "   'vim.VirtualMachine:vm-32291896',\n",
       "   'vim.VirtualMachine:vm-32291895',\n",
       "   'vim.VirtualMachine:vm-32291904',\n",
       "   'vim.VirtualMachine:vm-32292079',\n",
       "   'vim.VirtualMachine:vm-32292074',\n",
       "   'vim.VirtualMachine:vm-32299826',\n",
       "   'vim.VirtualMachine:vm-32300087',\n",
       "   'vim.VirtualMachine:vm-32291945',\n",
       "   'vim.VirtualMachine:vm-32296982',\n",
       "   'vim.VirtualMachine:vm-32296980',\n",
       "   'vim.VirtualMachine:vm-32296984',\n",
       "   'vim.VirtualMachine:vm-32296978',\n",
       "   'vim.VirtualMachine:vm-32301179',\n",
       "   'vim.VirtualMachine:vm-32296976',\n",
       "   'vim.VirtualMachine:vm-32296979',\n",
       "   'vim.VirtualMachine:vm-32296985',\n",
       "   'vim.VirtualMachine:vm-32296981',\n",
       "   'vim.VirtualMachine:vm-32296983',\n",
       "   'vim.VirtualMachine:vm-32296975',\n",
       "   'vim.VirtualMachine:vm-32296977',\n",
       "   'vim.VirtualMachine:vm-32298922'\n",
       "]"
      ]
     },
     "execution_count": 7,
     "metadata": {},
     "output_type": "execute_result"
    }
   ],
   "source": [
    "content = connection.content\n",
    "container = content.viewManager.CreateContainerView(content.rootFolder, [vim.VirtualMachine], True)\n",
    "container.view"
   ]
  },
  {
   "cell_type": "code",
   "execution_count": 8,
   "metadata": {},
   "outputs": [],
   "source": [
    "def get_vms(part_of_name):\n",
    "    content = connection.content\n",
    "    container = content.viewManager.CreateContainerView(content.rootFolder, [vim.VirtualMachine], True)\n",
    "    return [managed_object_ref for managed_object_ref in container.view if part_of_name in managed_object_ref.name]"
   ]
  },
  {
   "cell_type": "code",
   "execution_count": 9,
   "metadata": {},
   "outputs": [
    {
     "data": {
      "text/plain": [
       "['vim.VirtualMachine:vm-32292025']"
      ]
     },
     "execution_count": 9,
     "metadata": {},
     "output_type": "execute_result"
    }
   ],
   "source": [
    "get_vms('netbackup1')"
   ]
  },
  {
   "cell_type": "code",
   "execution_count": 12,
   "metadata": {},
   "outputs": [
    {
     "ename": "TypeError",
     "evalue": "For \"datastore\" expected type vim.Datastore, but got str",
     "output_type": "error",
     "traceback": [
      "\u001b[1;31m---------------------------------------------------------------------------\u001b[0m",
      "\u001b[1;31mTypeError\u001b[0m                                 Traceback (most recent call last)",
      "Cell \u001b[1;32mIn[12], line 15\u001b[0m\n\u001b[0;32m     13\u001b[0m spec_location_disk_0 \u001b[39m=\u001b[39m vim\u001b[39m.\u001b[39mvm\u001b[39m.\u001b[39mRelocateSpec\u001b[39m.\u001b[39mDiskLocator()\n\u001b[0;32m     14\u001b[0m \u001b[39m#spec_location_disk_0.datastore = search_index.FindByUuid(None, \"datastore-1019\", True, True)   #SearchIndex\u001b[39;00m\n\u001b[1;32m---> 15\u001b[0m spec_location_disk_0\u001b[39m.\u001b[39;49mdatastore \u001b[39m=\u001b[39m \u001b[39m\"\u001b[39m\u001b[39mdatastore-1019\u001b[39m\u001b[39m\"\u001b[39m\n\u001b[0;32m     17\u001b[0m spec_location_disk_0\u001b[39m.\u001b[39mdiskId \u001b[39m=\u001b[39m \u001b[39m2000\u001b[39m\n\u001b[0;32m     18\u001b[0m spec_location_disk_1 \u001b[39m=\u001b[39m vim\u001b[39m.\u001b[39mvm\u001b[39m.\u001b[39mRelocateSpec\u001b[39m.\u001b[39mDiskLocator()\n",
      "File \u001b[1;32mc:\\Users\\trigubov\\AppData\\Local\\Programs\\Python\\Python311\\Lib\\site-packages\\pyVmomi\\VmomiSupport.py:557\u001b[0m, in \u001b[0;36mDataObject.__setattr__\u001b[1;34m(self, name, val)\u001b[0m\n\u001b[0;32m    556\u001b[0m \u001b[39mdef\u001b[39;00m \u001b[39m__setattr__\u001b[39m(\u001b[39mself\u001b[39m, name, val):\n\u001b[1;32m--> 557\u001b[0m     CheckField(\u001b[39mself\u001b[39;49m\u001b[39m.\u001b[39;49m_GetPropertyInfo(name), val)\n\u001b[0;32m    558\u001b[0m     \u001b[39mobject\u001b[39m\u001b[39m.\u001b[39m\u001b[39m__setattr__\u001b[39m(\u001b[39mself\u001b[39m, name, val)\n",
      "File \u001b[1;32mc:\\Users\\trigubov\\AppData\\Local\\Programs\\Python\\Python311\\Lib\\site-packages\\pyVmomi\\VmomiSupport.py:1118\u001b[0m, in \u001b[0;36mCheckField\u001b[1;34m(info, val)\u001b[0m\n\u001b[0;32m   1116\u001b[0m     \u001b[39mif\u001b[39;00m \u001b[39missubclass\u001b[39m(valType, GetVmodlType(info\u001b[39m.\u001b[39mexpectedType)):\n\u001b[0;32m   1117\u001b[0m         \u001b[39mreturn\u001b[39;00m\n\u001b[1;32m-> 1118\u001b[0m \u001b[39mraise\u001b[39;00m \u001b[39mTypeError\u001b[39;00m(\u001b[39m'\u001b[39m\u001b[39mFor \u001b[39m\u001b[39m\"\u001b[39m\u001b[39m%s\u001b[39;00m\u001b[39m\"\u001b[39m\u001b[39m expected type \u001b[39m\u001b[39m%s\u001b[39;00m\u001b[39m, but got \u001b[39m\u001b[39m%s\u001b[39;00m\u001b[39m'\u001b[39m \u001b[39m%\u001b[39m\n\u001b[0;32m   1119\u001b[0m                 (info\u001b[39m.\u001b[39mname, info\u001b[39m.\u001b[39mtype\u001b[39m.\u001b[39m\u001b[39m__name__\u001b[39m, valType\u001b[39m.\u001b[39m\u001b[39m__name__\u001b[39m))\n",
      "\u001b[1;31mTypeError\u001b[0m: For \"datastore\" expected type vim.Datastore, but got str"
     ]
    }
   ],
   "source": [
    "#vm = search_index.FindByUuid(None, \"vm-32292025\", True, True)   #SearchIndex\n",
    "vm = \"vm-32292025\"\n",
    "\n",
    "#folder = search_index.FindByUuid(None, \"group-v1002\", True, True)   #SearchIndex\n",
    "folder = \"group-v1002\"\n",
    "\n",
    "\n",
    "name = 'netbackup-clone-test'\n",
    "spec = vim.vm.CloneSpec()\n",
    "spec.template = False\n",
    "spec.powerOn = False\n",
    "spec.location = vim.vm.RelocateSpec()\n",
    "spec_location_disk_0 = vim.vm.RelocateSpec.DiskLocator()\n",
    "#spec_location_disk_0.datastore = search_index.FindByUuid(None, \"datastore-1019\", True, True)   #SearchIndex\n",
    "spec_location_disk_0.datastore = \"datastore-1019\"\n",
    "\n",
    "spec_location_disk_0.diskId = 2000\n",
    "spec_location_disk_1 = vim.vm.RelocateSpec.DiskLocator()\n",
    "#spec_location_disk_1.datastore = search_index.FindByUuid(None, \"datastore-1019\", True, True)   #SearchIndex\n",
    "spec_location_disk_1.datastore = \"datastore-1019\"\n",
    "\n",
    "spec_location_disk_1.diskId = 2002\n",
    "spec_location_disk_2 = vim.vm.RelocateSpec.DiskLocator()\n",
    "#spec_location_disk_2.datastore = search_index.FindByUuid(None, \"datastore-1019\", True, True)   #SearchIndex\n",
    "spec_location_disk_2.datastore = \"datastore-1019\"\n",
    "\n",
    "spec_location_disk_2.diskId = 2001\n",
    "spec.location.disk = [spec_location_disk_0,\n",
    "spec_location_disk_1,\n",
    "spec_location_disk_2]\n",
    "#spec.location.folder = search_index.FindByUuid(None, \"group-v1002\", True, True)   #SearchIndex\n",
    "spec.location.folder = \"group-v1002\"\n",
    "\n",
    "#spec.location.datastore = search_index.FindByUuid(None, \"datastore-1019\", True, True)   #SearchIndex\n",
    "spec.location.datastore = \"datastore-1019\"\n",
    "\n",
    "spec.location.deviceChange = []\n",
    "spec.location.service = vim.ServiceLocator()\n",
    "spec.location.service.credential = vim.ServiceLocator.SAMLCredential()\n",
    "spec.location.service.credential.token = 'Sensitive data is not recorded'\n",
    "spec.location.service.sslThumbprint = 'C7:D6:5D:2B:69:39:69:68:8F:7F:23:C8:DA:E3:BC:BB:47:FF:FD:2F'\n",
    "spec.location.service.instanceUuid = '6a2099f8-c6c2-4fe7-b7f7-7299259375a3'\n",
    "spec.location.service.url = 'https://splc-vc02.plc.rshb.ru:443/sdk'\n",
    "spec.location.host = search_index.FindByUuid(None, \"host-1012\", True, True)   #SearchIndex\n",
    "spec.location.pool = search_index.FindByUuid(None, \"resgroup-1007\", True, True)   #SearchIndex\n",
    "managedObject.CheckClone_Task(vm, folder, name, spec, None)   # VirtualMachineProvisioningChecker-ProvChecker"
   ]
  }
 ],
 "metadata": {
  "kernelspec": {
   "display_name": "Python 3",
   "language": "python",
   "name": "python3"
  },
  "language_info": {
   "codemirror_mode": {
    "name": "ipython",
    "version": 3
   },
   "file_extension": ".py",
   "mimetype": "text/x-python",
   "name": "python",
   "nbconvert_exporter": "python",
   "pygments_lexer": "ipython3",
   "version": "3.11.0"
  },
  "orig_nbformat": 4,
  "vscode": {
   "interpreter": {
    "hash": "a3928f246a083475ced1efabd59546987b0916536de4a1f794c4949e18b9c171"
   }
  }
 },
 "nbformat": 4,
 "nbformat_minor": 2
}
