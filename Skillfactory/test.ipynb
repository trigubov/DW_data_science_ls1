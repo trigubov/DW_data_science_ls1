{
 "cells": [
  {
   "cell_type": "code",
   "execution_count": 1,
   "metadata": {},
   "outputs": [
    {
     "name": "stdout",
     "output_type": "stream",
     "text": [
      "False\n"
     ]
    }
   ],
   "source": [
    "string_1 = 'abc'\n",
    "string_2 = 'ABC'\n",
    "\n",
    "print(string_1 == string_2)"
   ]
  },
  {
   "cell_type": "code",
   "execution_count": 19,
   "metadata": {},
   "outputs": [
    {
     "data": {
      "text/plain": [
       "True"
      ]
     },
     "execution_count": 19,
     "metadata": {},
     "output_type": "execute_result"
    }
   ],
   "source": [
    "target_string = 'Шалаш'\n",
    "target_string = target_string.lower()\n",
    "if target_string == target_string[::-1] :\n",
    "        result = True\n",
    "else:\n",
    "        result = False\n",
    "        \n",
    "result"
   ]
  },
  {
   "cell_type": "code",
   "execution_count": 8,
   "metadata": {},
   "outputs": [
    {
     "data": {
      "text/plain": [
       "(True, True, False)"
      ]
     },
     "execution_count": 8,
     "metadata": {},
     "output_type": "execute_result"
    }
   ],
   "source": [
    "x = 10\n",
    "y = 100\n",
    "z = (x % 2 == 0) and (y >= 100)\n",
    "v = (x % 2 == 0) or (y >= 100)\n",
    "w = not(x % 2 == 0) or not(y >= 100)\n",
    "z,v,w"
   ]
  },
  {
   "cell_type": "code",
   "execution_count": 9,
   "metadata": {},
   "outputs": [
    {
     "name": "stdout",
     "output_type": "stream",
     "text": [
      "True True True False\n"
     ]
    }
   ],
   "source": [
    "a = [1, 2, 3]\n",
    "b = a\n",
    "c = [1, 2, 3]\n",
    "print(a == b, a == c, a is b, a is c)"
   ]
  },
  {
   "cell_type": "code",
   "execution_count": null,
   "metadata": {},
   "outputs": [],
   "source": [
    "x, y = 'F', 7 \n",
    "\n",
    "move_is_correct = False\n",
    "if x in ['A','B','C','D','E','F','G','H'] and y in [1,2,3,4,5,6,7,8]:\n",
    "    move_is_correct = True"
   ]
  },
  {
   "cell_type": "code",
   "execution_count": 12,
   "metadata": {},
   "outputs": [
    {
     "name": "stdout",
     "output_type": "stream",
     "text": [
      "15\n"
     ]
    }
   ],
   "source": [
    "s = 5\n",
    "a = 10\n",
    "if a > 0:\n",
    "   s = s + a\n",
    "else:\n",
    "   s = s - a\n",
    " \n",
    "print(s)\n"
   ]
  },
  {
   "cell_type": "code",
   "execution_count": 13,
   "metadata": {},
   "outputs": [
    {
     "name": "stdout",
     "output_type": "stream",
     "text": [
      "11\n"
     ]
    }
   ],
   "source": [
    "result = 10\n",
    "my_dict = {'key_1': 10}\n",
    "item = my_dict.pop('key_1')\n",
    "if my_dict:\n",
    "    result = result + item\n",
    "else:\n",
    "    result = result + 1\n",
    " \n",
    "print(result)"
   ]
  },
  {
   "cell_type": "code",
   "execution_count": null,
   "metadata": {},
   "outputs": [],
   "source": [
    "lst = ['a', 'b', 'c']\n",
    "\n",
    "if 'f' in lst:\n",
    "    x = 5\n",
    "else:\n",
    "    x = None\n",
    "    "
   ]
  },
  {
   "cell_type": "code",
   "execution_count": 16,
   "metadata": {},
   "outputs": [
    {
     "name": "stdout",
     "output_type": "stream",
     "text": [
      "2\n"
     ]
    }
   ],
   "source": [
    "date = '16.04.2019 15:59'\n",
    "# category = 2\n",
    "\n",
    "#date = '12.05.2019 08:42'\n",
    "# category = 1\n",
    "\n",
    "#date = '05.07.2018 20:15'\n",
    "# category = 3\n",
    "\n",
    "\n",
    "# Разделяем строку на части по пробелу и берем первую из них\n",
    "day_month_year = date.split(' ')[0]\n",
    "# Разделяем строку по символу '.' и создаем соответствующие переменные\n",
    "day, month, year = day_month_year.split('.')\n",
    "# Проверяем, что резюме обновлено в 2019 году\n",
    "#print (year)\n",
    "#print (month)\n",
    "if int(year) == 2019:\n",
    "    # Проверяем, что резюме обновлено в мае\n",
    "    if month == 5:\n",
    "        # Присваиваем 1-ую категорию\n",
    "        category = 1\n",
    "    else:\n",
    "        # Присваиваем 2-ую категорию\n",
    "        category = 2\n",
    "else:\n",
    "    # Присваиваем 3-ью категорию\n",
    "    category = 3\n",
    "    #print (day,month,year,category)\n",
    "print(category)"
   ]
  }
 ],
 "metadata": {
  "kernelspec": {
   "display_name": "Python 3",
   "language": "python",
   "name": "python3"
  },
  "language_info": {
   "codemirror_mode": {
    "name": "ipython",
    "version": 3
   },
   "file_extension": ".py",
   "mimetype": "text/x-python",
   "name": "python",
   "nbconvert_exporter": "python",
   "pygments_lexer": "ipython3",
   "version": "3.11.0"
  },
  "orig_nbformat": 4,
  "vscode": {
   "interpreter": {
    "hash": "a3928f246a083475ced1efabd59546987b0916536de4a1f794c4949e18b9c171"
   }
  }
 },
 "nbformat": 4,
 "nbformat_minor": 2
}
