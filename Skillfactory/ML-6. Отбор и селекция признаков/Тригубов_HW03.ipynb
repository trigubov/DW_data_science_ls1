{
 "cells": [
  {
   "cell_type": "markdown",
   "metadata": {},
   "source": [
    "## Задание 9.5. Модуль ML-6 (HW-03)\n",
    "\n",
    "Обучите модель линейной регрессии на найденных двумя способами трёх важных признаках и сравните полученные результаты."
   ]
  },
  {
   "cell_type": "code",
   "execution_count": 1,
   "metadata": {},
   "outputs": [],
   "source": [
    "import pandas as pd\n",
    "import numpy as np\n",
    "\n",
    "from sklearn.model_selection import train_test_split\n",
    "from sklearn.linear_model import LinearRegression, LogisticRegression\n",
    "\n",
    "from sklearn.preprocessing import OneHotEncoder\n",
    "\n",
    "from sklearn.feature_selection import RFE, SelectKBest\n",
    "\n",
    "from sklearn import metrics #метрики"
   ]
  },
  {
   "cell_type": "code",
   "execution_count": 2,
   "metadata": {},
   "outputs": [],
   "source": [
    "data = pd.read_excel('data/data_ford_price.xlsx') "
   ]
  },
  {
   "cell_type": "code",
   "execution_count": 3,
   "metadata": {},
   "outputs": [
    {
     "name": "stdout",
     "output_type": "stream",
     "text": [
      "<class 'pandas.core.frame.DataFrame'>\n",
      "RangeIndex: 7017 entries, 0 to 7016\n",
      "Data columns (total 12 columns):\n",
      " #   Column        Non-Null Count  Dtype  \n",
      "---  ------        --------------  -----  \n",
      " 0   price         7017 non-null   int64  \n",
      " 1   year          7017 non-null   int64  \n",
      " 2   condition     7017 non-null   int64  \n",
      " 3   cylinders     7017 non-null   int64  \n",
      " 4   odometer      7017 non-null   int64  \n",
      " 5   title_status  7017 non-null   object \n",
      " 6   transmission  7017 non-null   object \n",
      " 7   drive         6626 non-null   object \n",
      " 8   size          5453 non-null   object \n",
      " 9   lat           7017 non-null   float64\n",
      " 10  long          7017 non-null   float64\n",
      " 11  weather       6837 non-null   float64\n",
      "dtypes: float64(3), int64(5), object(4)\n",
      "memory usage: 658.0+ KB\n"
     ]
    }
   ],
   "source": [
    "data.info()"
   ]
  },
  {
   "cell_type": "code",
   "execution_count": 4,
   "metadata": {},
   "outputs": [],
   "source": [
    "y = data['price']\n",
    "X = data.drop(columns='price')"
   ]
  },
  {
   "cell_type": "markdown",
   "metadata": {},
   "source": [
    "## Предобработка. Заполнение пропусков\n",
    "Попробуем заполнить пропуски колонок drive, size и weather, используя ML"
   ]
  },
  {
   "cell_type": "code",
   "execution_count": 5,
   "metadata": {},
   "outputs": [
    {
     "name": "stdout",
     "output_type": "stream",
     "text": [
      "<class 'pandas.core.frame.DataFrame'>\n",
      "RangeIndex: 7017 entries, 0 to 7016\n",
      "Data columns (total 22 columns):\n",
      " #   Column                  Non-Null Count  Dtype  \n",
      "---  ------                  --------------  -----  \n",
      " 0   year                    7017 non-null   int64  \n",
      " 1   condition               7017 non-null   int64  \n",
      " 2   odometer                7017 non-null   int64  \n",
      " 3   drive                   6626 non-null   object \n",
      " 4   size                    5453 non-null   object \n",
      " 5   lat                     7017 non-null   float64\n",
      " 6   long                    7017 non-null   float64\n",
      " 7   weather                 6837 non-null   float64\n",
      " 8   cylinders_3             7017 non-null   uint8  \n",
      " 9   cylinders_4             7017 non-null   uint8  \n",
      " 10  cylinders_5             7017 non-null   uint8  \n",
      " 11  cylinders_6             7017 non-null   uint8  \n",
      " 12  cylinders_8             7017 non-null   uint8  \n",
      " 13  cylinders_10            7017 non-null   uint8  \n",
      " 14  title_status_clean      7017 non-null   uint8  \n",
      " 15  title_status_lien       7017 non-null   uint8  \n",
      " 16  title_status_missing    7017 non-null   uint8  \n",
      " 17  title_status_rebuilt    7017 non-null   uint8  \n",
      " 18  title_status_salvage    7017 non-null   uint8  \n",
      " 19  transmission_automatic  7017 non-null   uint8  \n",
      " 20  transmission_manual     7017 non-null   uint8  \n",
      " 21  transmission_other      7017 non-null   uint8  \n",
      "dtypes: float64(3), int64(3), object(2), uint8(14)\n",
      "memory usage: 534.6+ KB\n"
     ]
    }
   ],
   "source": [
    "# для начала закодируем категориальные признаки\n",
    "categorial_cols = ['cylinders', 'title_status', 'transmission']\n",
    "X = pd.get_dummies(X, columns=categorial_cols)\n",
    "X.info()"
   ]
  },
  {
   "cell_type": "markdown",
   "metadata": {},
   "source": [
    "Для начала заполним колонку weather"
   ]
  },
  {
   "cell_type": "code",
   "execution_count": 6,
   "metadata": {},
   "outputs": [],
   "source": [
    "data = X.copy()\n",
    " \n",
    "weather_data = data[data['weather'].isnull()] # получим таблицу, со всеми пустыми значениями weather, сохранив индексы\n",
    "size_data = data[data['size'].isnull()] # эти таблицы будут нашими \"тестовыми\", а индексы будут нужны, что-бы по ним вставить\n",
    "drive_data = data[data['drive'].isnull()] # предсказанные значения\n",
    "\n",
    "data.dropna(inplace=True) # получим таблицу, где нет пустых значений вообще. Никаких\n",
    " \n",
    "y_train_weather = data['weather']  # наш целевой признак weather\n",
    "y_train_size = data['size']\n",
    "y_train_drive = data['drive']\n",
    "\n",
    "X_train = data.drop(['size','weather','drive'], axis=1) # тренировочная таблица одна на всех\n",
    "\n",
    "X_test_weather = weather_data.drop(['size','weather','drive'], axis=1)\n",
    "X_test_size = size_data.drop(['size','weather','drive'], axis=1)\n",
    "X_test_drive = drive_data.drop(['size','weather','drive'], axis=1)"
   ]
  },
  {
   "cell_type": "code",
   "execution_count": 7,
   "metadata": {},
   "outputs": [],
   "source": [
    "# Предскажем Weather с помощью линейной регрессии\n",
    "model = LinearRegression()\n",
    "\n",
    "model.fit(X_train, y_train_weather)\n",
    "y_pred_weather = model.predict(X_test_weather) # получим предсказания пропущенных значений\n",
    "\n",
    "# Предскажем drive и size с помощью логистической регрессии\n",
    "\n",
    "model = LogisticRegression(max_iter=1000)\n",
    "\n",
    "model.fit(X_train, y_train_drive)\n",
    "y_pred_drive = model.predict(X_test_drive)\n",
    "\n",
    "model.fit(X_train, y_train_size)\n",
    "y_pred_size = model.predict(X_test_size)"
   ]
  },
  {
   "cell_type": "code",
   "execution_count": 8,
   "metadata": {},
   "outputs": [],
   "source": [
    "# Заполняем пропуски\n",
    "for i, ni in enumerate(weather_data.index):\n",
    "    #print (i,ni)\n",
    "    X.loc[ni, 'weather'] = y_pred_weather[i]\n",
    "\n",
    "for i, ni in enumerate(size_data.index):\n",
    "    X.loc[ni, 'size'] = y_pred_size[i]\n",
    "\n",
    "for i, ni in enumerate(drive_data.index):\n",
    "    X.loc[ni, 'drive'] = y_pred_drive[i]"
   ]
  },
  {
   "cell_type": "code",
   "execution_count": 9,
   "metadata": {},
   "outputs": [
    {
     "name": "stdout",
     "output_type": "stream",
     "text": [
      "<class 'pandas.core.frame.DataFrame'>\n",
      "RangeIndex: 7017 entries, 0 to 7016\n",
      "Data columns (total 22 columns):\n",
      " #   Column                  Non-Null Count  Dtype  \n",
      "---  ------                  --------------  -----  \n",
      " 0   year                    7017 non-null   int64  \n",
      " 1   condition               7017 non-null   int64  \n",
      " 2   odometer                7017 non-null   int64  \n",
      " 3   drive                   7017 non-null   object \n",
      " 4   size                    7017 non-null   object \n",
      " 5   lat                     7017 non-null   float64\n",
      " 6   long                    7017 non-null   float64\n",
      " 7   weather                 7017 non-null   float64\n",
      " 8   cylinders_3             7017 non-null   uint8  \n",
      " 9   cylinders_4             7017 non-null   uint8  \n",
      " 10  cylinders_5             7017 non-null   uint8  \n",
      " 11  cylinders_6             7017 non-null   uint8  \n",
      " 12  cylinders_8             7017 non-null   uint8  \n",
      " 13  cylinders_10            7017 non-null   uint8  \n",
      " 14  title_status_clean      7017 non-null   uint8  \n",
      " 15  title_status_lien       7017 non-null   uint8  \n",
      " 16  title_status_missing    7017 non-null   uint8  \n",
      " 17  title_status_rebuilt    7017 non-null   uint8  \n",
      " 18  title_status_salvage    7017 non-null   uint8  \n",
      " 19  transmission_automatic  7017 non-null   uint8  \n",
      " 20  transmission_manual     7017 non-null   uint8  \n",
      " 21  transmission_other      7017 non-null   uint8  \n",
      "dtypes: float64(3), int64(3), object(2), uint8(14)\n",
      "memory usage: 534.6+ KB\n"
     ]
    }
   ],
   "source": [
    "# Проверяем\n",
    "X.info()"
   ]
  },
  {
   "cell_type": "markdown",
   "metadata": {},
   "source": [
    "### Теперь закодируем drive и size"
   ]
  },
  {
   "cell_type": "code",
   "execution_count": 10,
   "metadata": {},
   "outputs": [
    {
     "name": "stdout",
     "output_type": "stream",
     "text": [
      "<class 'pandas.core.frame.DataFrame'>\n",
      "RangeIndex: 7017 entries, 0 to 7016\n",
      "Data columns (total 27 columns):\n",
      " #   Column                  Non-Null Count  Dtype  \n",
      "---  ------                  --------------  -----  \n",
      " 0   year                    7017 non-null   int64  \n",
      " 1   condition               7017 non-null   int64  \n",
      " 2   odometer                7017 non-null   int64  \n",
      " 3   lat                     7017 non-null   float64\n",
      " 4   long                    7017 non-null   float64\n",
      " 5   weather                 7017 non-null   float64\n",
      " 6   cylinders_3             7017 non-null   uint8  \n",
      " 7   cylinders_4             7017 non-null   uint8  \n",
      " 8   cylinders_5             7017 non-null   uint8  \n",
      " 9   cylinders_6             7017 non-null   uint8  \n",
      " 10  cylinders_8             7017 non-null   uint8  \n",
      " 11  cylinders_10            7017 non-null   uint8  \n",
      " 12  title_status_clean      7017 non-null   uint8  \n",
      " 13  title_status_lien       7017 non-null   uint8  \n",
      " 14  title_status_missing    7017 non-null   uint8  \n",
      " 15  title_status_rebuilt    7017 non-null   uint8  \n",
      " 16  title_status_salvage    7017 non-null   uint8  \n",
      " 17  transmission_automatic  7017 non-null   uint8  \n",
      " 18  transmission_manual     7017 non-null   uint8  \n",
      " 19  transmission_other      7017 non-null   uint8  \n",
      " 20  drive_4wd               7017 non-null   uint8  \n",
      " 21  drive_fwd               7017 non-null   uint8  \n",
      " 22  drive_rwd               7017 non-null   uint8  \n",
      " 23  size_compact            7017 non-null   uint8  \n",
      " 24  size_full-size          7017 non-null   uint8  \n",
      " 25  size_mid-size           7017 non-null   uint8  \n",
      " 26  size_sub-compact        7017 non-null   uint8  \n",
      "dtypes: float64(3), int64(3), uint8(21)\n",
      "memory usage: 473.0 KB\n"
     ]
    }
   ],
   "source": [
    "categorial_cols = ['drive', 'size']\n",
    "X = pd.get_dummies(X, columns=categorial_cols)\n",
    "X.info()"
   ]
  },
  {
   "cell_type": "markdown",
   "metadata": {},
   "source": [
    "## Отбор признаков\n"
   ]
  },
  {
   "cell_type": "code",
   "execution_count": 11,
   "metadata": {},
   "outputs": [],
   "source": [
    "X_train, X_test, y_train, y_test = train_test_split(X, y, test_size=0.2, random_state=42)"
   ]
  },
  {
   "cell_type": "markdown",
   "metadata": {},
   "source": [
    "### По методу RFE"
   ]
  },
  {
   "cell_type": "code",
   "execution_count": 12,
   "metadata": {},
   "outputs": [
    {
     "data": {
      "text/plain": [
       "array(['size_compact', 'size_full-size', 'size_sub-compact'], dtype=object)"
      ]
     },
     "execution_count": 12,
     "metadata": {},
     "output_type": "execute_result"
    }
   ],
   "source": [
    "estimator = LinearRegression()\n",
    "selector = RFE(estimator, n_features_to_select=3, step=1)\n",
    "selector = selector.fit(X_train, y_train)\n",
    " \n",
    "selector.get_feature_names_out()"
   ]
  },
  {
   "cell_type": "markdown",
   "metadata": {},
   "source": [
    "Размер - является \"сильным\" признаком. Но в отбор попали 3 столбца одного признака. Увеличим размер n_features_to_select, что-бы увидеть 3 основных признака."
   ]
  },
  {
   "cell_type": "code",
   "execution_count": 13,
   "metadata": {},
   "outputs": [
    {
     "data": {
      "text/plain": [
       "array(['cylinders_3', 'cylinders_6', 'cylinders_10',\n",
       "       'transmission_manual', 'size_compact', 'size_full-size',\n",
       "       'size_mid-size', 'size_sub-compact'], dtype=object)"
      ]
     },
     "execution_count": 13,
     "metadata": {},
     "output_type": "execute_result"
    }
   ],
   "source": [
    "estimator = LinearRegression()\n",
    "selector = RFE(estimator, n_features_to_select=8, step=1)\n",
    "selector = selector.fit(X_train, y_train)\n",
    " \n",
    "selector.get_feature_names_out()"
   ]
  },
  {
   "cell_type": "markdown",
   "metadata": {},
   "source": [
    "Итак, по факту, по этому методу у нас 3 важных признака это: cylinders, transmission, size"
   ]
  },
  {
   "cell_type": "markdown",
   "metadata": {},
   "source": [
    "### По методу SelectKBest"
   ]
  },
  {
   "cell_type": "markdown",
   "metadata": {},
   "source": [
    "Поскольку искомый признак - числовой, значит нам подойдёт метод на основе коэффициента корреляции Пирсона"
   ]
  },
  {
   "cell_type": "code",
   "execution_count": 14,
   "metadata": {},
   "outputs": [],
   "source": [
    "from sklearn.feature_selection import f_regression"
   ]
  },
  {
   "cell_type": "code",
   "execution_count": 15,
   "metadata": {},
   "outputs": [
    {
     "data": {
      "text/plain": [
       "array(['year', 'condition', 'odometer'], dtype=object)"
      ]
     },
     "execution_count": 15,
     "metadata": {},
     "output_type": "execute_result"
    }
   ],
   "source": [
    "selector = SelectKBest(f_regression, k=3)\n",
    "selector.fit(X_train, y_train)\n",
    " \n",
    "selector.get_feature_names_out()"
   ]
  },
  {
   "cell_type": "markdown",
   "metadata": {},
   "source": [
    "В этом случае наиболее важными оказались признаки year, condition и odometer"
   ]
  },
  {
   "cell_type": "markdown",
   "metadata": {},
   "source": [
    "## Обучение модели"
   ]
  },
  {
   "cell_type": "code",
   "execution_count": 16,
   "metadata": {},
   "outputs": [],
   "source": [
    "X_train, X_test, y_train, y_test = train_test_split(X, y, test_size=0.2, random_state=42)"
   ]
  },
  {
   "cell_type": "code",
   "execution_count": 17,
   "metadata": {},
   "outputs": [
    {
     "data": {
      "text/plain": [
       "Index(['year', 'condition', 'odometer', 'lat', 'long', 'weather',\n",
       "       'cylinders_3', 'cylinders_4', 'cylinders_5', 'cylinders_6',\n",
       "       'cylinders_8', 'cylinders_10', 'title_status_clean',\n",
       "       'title_status_lien', 'title_status_missing', 'title_status_rebuilt',\n",
       "       'title_status_salvage', 'transmission_automatic', 'transmission_manual',\n",
       "       'transmission_other', 'drive_4wd', 'drive_fwd', 'drive_rwd',\n",
       "       'size_compact', 'size_full-size', 'size_mid-size', 'size_sub-compact'],\n",
       "      dtype='object')"
      ]
     },
     "execution_count": 17,
     "metadata": {},
     "output_type": "execute_result"
    }
   ],
   "source": [
    "X.columns"
   ]
  },
  {
   "cell_type": "markdown",
   "metadata": {},
   "source": [
    "### C отобранными признаками по методу RFE"
   ]
  },
  {
   "cell_type": "code",
   "execution_count": 18,
   "metadata": {},
   "outputs": [],
   "source": [
    "name_col_RFE = ['cylinders_3', 'cylinders_4', 'cylinders_5', 'cylinders_6',\n",
    "       'cylinders_8', 'cylinders_10','transmission_automatic', 'transmission_manual',\n",
    "       'transmission_other','size_compact', 'size_full-size', 'size_mid-size', 'size_sub-compact']"
   ]
  },
  {
   "cell_type": "code",
   "execution_count": 19,
   "metadata": {},
   "outputs": [
    {
     "name": "stdout",
     "output_type": "stream",
     "text": [
      "MAE: 8060.058\n",
      "R2: 0.132\n"
     ]
    }
   ],
   "source": [
    "model = LinearRegression()\n",
    "model.fit(X_train[name_col_RFE], y_train)\n",
    "y_predicted_RFE = model.predict(X_test[name_col_RFE])\n",
    " \n",
    "mae = metrics.mean_absolute_error(y_test, y_predicted_RFE)\n",
    "r2 = metrics.r2_score(y_test, y_predicted_RFE)\n",
    "print('MAE: %.3f' % mae)\n",
    "print('R2: %.3f' % r2)"
   ]
  },
  {
   "cell_type": "markdown",
   "metadata": {},
   "source": [
    "### C отобранными признаками по методу SelectKBest"
   ]
  },
  {
   "cell_type": "code",
   "execution_count": 20,
   "metadata": {},
   "outputs": [],
   "source": [
    "name_col_KB = ['year', 'condition', 'odometer']"
   ]
  },
  {
   "cell_type": "code",
   "execution_count": 21,
   "metadata": {},
   "outputs": [
    {
     "name": "stdout",
     "output_type": "stream",
     "text": [
      "MAE: 5187.812\n",
      "R2: 0.417\n"
     ]
    }
   ],
   "source": [
    "model = LinearRegression()\n",
    "model.fit(X_train[name_col_KB], y_train)\n",
    "y_predicted_KB = model.predict(X_test[name_col_KB])\n",
    " \n",
    "mae = metrics.mean_absolute_error(y_test, y_predicted_KB)\n",
    "r2 = metrics.r2_score(y_test, y_predicted_KB)\n",
    "print('MAE: %.3f' % mae)\n",
    "print('R2: %.3f' % r2)"
   ]
  },
  {
   "cell_type": "markdown",
   "metadata": {},
   "source": [
    "Итак, мы видим, что по метрикам (и МАЕ и R2) более лучший результат (причем значительно) показал отбор признаков по методу SelectKBest"
   ]
  }
 ],
 "metadata": {
  "kernelspec": {
   "display_name": "Python 3",
   "language": "python",
   "name": "python3"
  },
  "language_info": {
   "codemirror_mode": {
    "name": "ipython",
    "version": 3
   },
   "file_extension": ".py",
   "mimetype": "text/x-python",
   "name": "python",
   "nbconvert_exporter": "python",
   "pygments_lexer": "ipython3",
   "version": "3.11.0"
  },
  "orig_nbformat": 4
 },
 "nbformat": 4,
 "nbformat_minor": 2
}
